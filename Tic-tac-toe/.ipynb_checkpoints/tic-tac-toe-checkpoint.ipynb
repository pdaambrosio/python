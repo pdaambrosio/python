{
 "cells": [
  {
   "cell_type": "code",
   "execution_count": 1,
   "metadata": {},
   "outputs": [],
   "source": [
    "from IPython.display import clear_output\n",
    "\n",
    "def display_board(board):\n",
    "   clear_output()\n",
    "   print('   |   |')\n",
    "   print(' ' + board[7] + ' | ' + board[8] + ' | ' + board[9])\n",
    "   print('   |   |')\n",
    "   print('-----------')\n",
    "   print('   |   |')\n",
    "   print(' ' + board[4] + ' | ' + board[5] + ' | ' + board[6])\n",
    "   print('   |   |')\n",
    "   print('-----------')\n",
    "   print('   |   |')\n",
    "   print(' ' + board[1] + ' | ' + board[2] + ' | ' + board[3])\n",
    "   print('   |   |')\n"
   ]
  },
  {
   "cell_type": "code",
   "execution_count": 20,
   "metadata": {},
   "outputs": [
    {
     "name": "stdout",
     "output_type": "stream",
     "text": [
      "   |   |\n",
      "   |   |  \n",
      "   |   |\n",
      "-----------\n",
      "   |   |\n",
      "   |   |  \n",
      "   |   |\n",
      "-----------\n",
      "   |   |\n",
      "   |   |  \n",
      "   |   |\n"
     ]
    }
   ],
   "source": [
    "display_board([\" \", \" \", \" \", \" \", \" \", \" \", \" \", \" \", \" \", \" \"])"
   ]
  },
  {
   "cell_type": "code",
   "execution_count": null,
   "metadata": {},
   "outputs": [],
   "source": []
  }
 ],
 "metadata": {
  "kernelspec": {
   "display_name": "Python 2",
   "language": "python",
   "name": "python2"
  },
  "language_info": {
   "codemirror_mode": {
    "name": "ipython",
    "version": 2
   },
   "file_extension": ".py",
   "mimetype": "text/x-python",
   "name": "python",
   "nbconvert_exporter": "python",
   "pygments_lexer": "ipython2",
   "version": "2.7.12"
  }
 },
 "nbformat": 4,
 "nbformat_minor": 2
}
