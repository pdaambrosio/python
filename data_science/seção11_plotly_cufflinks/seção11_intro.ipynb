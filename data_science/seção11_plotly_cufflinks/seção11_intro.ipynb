{
 "metadata": {
  "language_info": {
   "codemirror_mode": {
    "name": "ipython",
    "version": 3
   },
   "file_extension": ".py",
   "mimetype": "text/x-python",
   "name": "python",
   "nbconvert_exporter": "python",
   "pygments_lexer": "ipython3",
   "version": "3.9.1-final"
  },
  "orig_nbformat": 2,
  "kernelspec": {
   "name": "python3",
   "display_name": "Python 3",
   "language": "python"
  }
 },
 "nbformat": 4,
 "nbformat_minor": 2,
 "cells": [
  {
   "cell_type": "code",
   "execution_count": 10,
   "metadata": {},
   "outputs": [],
   "source": [
    "import pandas as pd\n",
    "import numpy as np\n",
    "import matplotlib.pyplot as plt\n",
    "%matplotlib inline"
   ]
  },
  {
   "cell_type": "code",
   "execution_count": 2,
   "metadata": {},
   "outputs": [],
   "source": [
    "from plotly import __version__"
   ]
  },
  {
   "cell_type": "code",
   "execution_count": 3,
   "metadata": {},
   "outputs": [
    {
     "output_type": "stream",
     "name": "stdout",
     "text": [
      "4.14.3\n"
     ]
    }
   ],
   "source": [
    "print(__version__)"
   ]
  },
  {
   "cell_type": "code",
   "execution_count": 5,
   "metadata": {},
   "outputs": [],
   "source": [
    "from plotly.offline import download_plotlyjs, init_notebook_mode, plot, iplot"
   ]
  },
  {
   "cell_type": "code",
   "execution_count": 6,
   "metadata": {},
   "outputs": [],
   "source": [
    "import cufflinks as cf"
   ]
  },
  {
   "cell_type": "code",
   "execution_count": 7,
   "metadata": {},
   "outputs": [
    {
     "output_type": "display_data",
     "data": {
      "text/html": "        <script type=\"text/javascript\">\n        window.PlotlyConfig = {MathJaxConfig: 'local'};\n        if (window.MathJax) {MathJax.Hub.Config({SVG: {font: \"STIX-Web\"}});}\n        if (typeof require !== 'undefined') {\n        require.undef(\"plotly\");\n        requirejs.config({\n            paths: {\n                'plotly': ['https://cdn.plot.ly/plotly-latest.min']\n            }\n        });\n        require(['plotly'], function(Plotly) {\n            window._Plotly = Plotly;\n        });\n        }\n        </script>\n        "
     },
     "metadata": {}
    }
   ],
   "source": [
    "init_notebook_mode(connected=True)"
   ]
  },
  {
   "cell_type": "code",
   "execution_count": 8,
   "metadata": {},
   "outputs": [
    {
     "output_type": "display_data",
     "data": {
      "text/html": "        <script type=\"text/javascript\">\n        window.PlotlyConfig = {MathJaxConfig: 'local'};\n        if (window.MathJax) {MathJax.Hub.Config({SVG: {font: \"STIX-Web\"}});}\n        if (typeof require !== 'undefined') {\n        require.undef(\"plotly\");\n        requirejs.config({\n            paths: {\n                'plotly': ['https://cdn.plot.ly/plotly-latest.min']\n            }\n        });\n        require(['plotly'], function(Plotly) {\n            window._Plotly = Plotly;\n        });\n        }\n        </script>\n        "
     },
     "metadata": {}
    }
   ],
   "source": [
    "cf.go_offline()"
   ]
  },
  {
   "cell_type": "code",
   "execution_count": 12,
   "metadata": {},
   "outputs": [],
   "source": [
    "df = pd.DataFrame(np.random.randn(100, 4), columns='A B C D'.split())"
   ]
  },
  {
   "cell_type": "code",
   "execution_count": 14,
   "metadata": {},
   "outputs": [
    {
     "output_type": "execute_result",
     "data": {
      "text/plain": [
       "          A         B         C         D\n",
       "0  0.546578 -0.321062 -1.574664  1.391528\n",
       "1 -0.292667  0.014731 -0.820852  0.518513\n",
       "2  0.623187  0.536694  0.134118 -1.060625\n",
       "3 -0.834384 -0.283472 -1.073406 -0.244608\n",
       "4  0.072671  0.045452  0.849288  0.820224"
      ],
      "text/html": "<div>\n<style scoped>\n    .dataframe tbody tr th:only-of-type {\n        vertical-align: middle;\n    }\n\n    .dataframe tbody tr th {\n        vertical-align: top;\n    }\n\n    .dataframe thead th {\n        text-align: right;\n    }\n</style>\n<table border=\"1\" class=\"dataframe\">\n  <thead>\n    <tr style=\"text-align: right;\">\n      <th></th>\n      <th>A</th>\n      <th>B</th>\n      <th>C</th>\n      <th>D</th>\n    </tr>\n  </thead>\n  <tbody>\n    <tr>\n      <th>0</th>\n      <td>0.546578</td>\n      <td>-0.321062</td>\n      <td>-1.574664</td>\n      <td>1.391528</td>\n    </tr>\n    <tr>\n      <th>1</th>\n      <td>-0.292667</td>\n      <td>0.014731</td>\n      <td>-0.820852</td>\n      <td>0.518513</td>\n    </tr>\n    <tr>\n      <th>2</th>\n      <td>0.623187</td>\n      <td>0.536694</td>\n      <td>0.134118</td>\n      <td>-1.060625</td>\n    </tr>\n    <tr>\n      <th>3</th>\n      <td>-0.834384</td>\n      <td>-0.283472</td>\n      <td>-1.073406</td>\n      <td>-0.244608</td>\n    </tr>\n    <tr>\n      <th>4</th>\n      <td>0.072671</td>\n      <td>0.045452</td>\n      <td>0.849288</td>\n      <td>0.820224</td>\n    </tr>\n  </tbody>\n</table>\n</div>"
     },
     "metadata": {},
     "execution_count": 14
    }
   ],
   "source": [
    "df.head()"
   ]
  },
  {
   "cell_type": "code",
   "execution_count": 15,
   "metadata": {},
   "outputs": [],
   "source": [
    "df2 = pd.DataFrame({'Categoria':['A', 'B', 'C'], 'Valores':[32, 43, 50]})"
   ]
  },
  {
   "cell_type": "code",
   "execution_count": 16,
   "metadata": {},
   "outputs": [
    {
     "output_type": "execute_result",
     "data": {
      "text/plain": [
       "  Categoria  Valores\n",
       "0         A       32\n",
       "1         B       43\n",
       "2         C       50"
      ],
      "text/html": "<div>\n<style scoped>\n    .dataframe tbody tr th:only-of-type {\n        vertical-align: middle;\n    }\n\n    .dataframe tbody tr th {\n        vertical-align: top;\n    }\n\n    .dataframe thead th {\n        text-align: right;\n    }\n</style>\n<table border=\"1\" class=\"dataframe\">\n  <thead>\n    <tr style=\"text-align: right;\">\n      <th></th>\n      <th>Categoria</th>\n      <th>Valores</th>\n    </tr>\n  </thead>\n  <tbody>\n    <tr>\n      <th>0</th>\n      <td>A</td>\n      <td>32</td>\n    </tr>\n    <tr>\n      <th>1</th>\n      <td>B</td>\n      <td>43</td>\n    </tr>\n    <tr>\n      <th>2</th>\n      <td>C</td>\n      <td>50</td>\n    </tr>\n  </tbody>\n</table>\n</div>"
     },
     "metadata": {},
     "execution_count": 16
    }
   ],
   "source": [
    "df2"
   ]
  },
  {
   "cell_type": "code",
   "execution_count": 17,
   "metadata": {},
   "outputs": [
    {
     "output_type": "execute_result",
     "data": {
      "text/plain": [
       "<AxesSubplot:xlabel='A', ylabel='B'>"
      ]
     },
     "metadata": {},
     "execution_count": 17
    },
    {
     "output_type": "display_data",
     "data": {
      "text/plain": "<Figure size 432x288 with 1 Axes>",
      "image/svg+xml": "<?xml version=\"1.0\" encoding=\"utf-8\" standalone=\"no\"?>\n<!DOCTYPE svg PUBLIC \"-//W3C//DTD SVG 1.1//EN\"\n  \"http://www.w3.org/Graphics/SVG/1.1/DTD/svg11.dtd\">\n<!-- Created with matplotlib (https://matplotlib.org/) -->\n<svg height=\"262.19625pt\" version=\"1.1\" viewBox=\"0 0 384.620312 262.19625\" width=\"384.620312pt\" xmlns=\"http://www.w3.org/2000/svg\" xmlns:xlink=\"http://www.w3.org/1999/xlink\">\n <metadata>\n  <rdf:RDF xmlns:cc=\"http://creativecommons.org/ns#\" xmlns:dc=\"http://purl.org/dc/elements/1.1/\" xmlns:rdf=\"http://www.w3.org/1999/02/22-rdf-syntax-ns#\">\n   <cc:Work>\n    <dc:type rdf:resource=\"http://purl.org/dc/dcmitype/StillImage\"/>\n    <dc:date>2021-01-21T22:25:11.417570</dc:date>\n    <dc:format>image/svg+xml</dc:format>\n    <dc:creator>\n     <cc:Agent>\n      <dc:title>Matplotlib v3.3.3, https://matplotlib.org/</dc:title>\n     </cc:Agent>\n    </dc:creator>\n   </cc:Work>\n  </rdf:RDF>\n </metadata>\n <defs>\n  <style type=\"text/css\">*{stroke-linecap:butt;stroke-linejoin:round;}</style>\n </defs>\n <g id=\"figure_1\">\n  <g id=\"patch_1\">\n   <path d=\"M 0 262.19625 \nL 384.620312 262.19625 \nL 384.620312 0 \nL 0 0 \nz\n\" style=\"fill:none;\"/>\n  </g>\n  <g id=\"axes_1\">\n   <g id=\"patch_2\">\n    <path d=\"M 42.620313 224.64 \nL 377.420313 224.64 \nL 377.420313 7.2 \nL 42.620313 7.2 \nz\n\" style=\"fill:#ffffff;\"/>\n   </g>\n   <g id=\"PathCollection_1\">\n    <defs>\n     <path d=\"M 0 2.236068 \nC 0.593012 2.236068 1.161816 2.000462 1.581139 1.581139 \nC 2.000462 1.161816 2.236068 0.593012 2.236068 0 \nC 2.236068 -0.593012 2.000462 -1.161816 1.581139 -1.581139 \nC 1.161816 -2.000462 0.593012 -2.236068 0 -2.236068 \nC -0.593012 -2.236068 -1.161816 -2.000462 -1.581139 -1.581139 \nC -2.000462 -1.161816 -2.236068 -0.593012 -2.236068 0 \nC -2.236068 0.593012 -2.000462 1.161816 -1.581139 1.581139 \nC -1.161816 2.000462 -0.593012 2.236068 0 2.236068 \nz\n\" id=\"me89cdf2813\" style=\"stroke:#1f77b4;\"/>\n    </defs>\n    <g clip-path=\"url(#p33bc3169c9)\">\n     <use style=\"fill:#1f77b4;stroke:#1f77b4;\" x=\"240.554835\" xlink:href=\"#me89cdf2813\" y=\"129.01606\"/>\n     <use style=\"fill:#1f77b4;stroke:#1f77b4;\" x=\"196.345823\" xlink:href=\"#me89cdf2813\" y=\"113.562702\"/>\n     <use style=\"fill:#1f77b4;stroke:#1f77b4;\" x=\"244.590365\" xlink:href=\"#me89cdf2813\" y=\"89.541735\"/>\n     <use style=\"fill:#1f77b4;stroke:#1f77b4;\" x=\"167.80974\" xlink:href=\"#me89cdf2813\" y=\"127.286159\"/>\n     <use style=\"fill:#1f77b4;stroke:#1f77b4;\" x=\"215.590778\" xlink:href=\"#me89cdf2813\" y=\"112.148943\"/>\n     <use style=\"fill:#1f77b4;stroke:#1f77b4;\" x=\"240.556467\" xlink:href=\"#me89cdf2813\" y=\"108.046731\"/>\n     <use style=\"fill:#1f77b4;stroke:#1f77b4;\" x=\"152.169639\" xlink:href=\"#me89cdf2813\" y=\"78.892782\"/>\n     <use style=\"fill:#1f77b4;stroke:#1f77b4;\" x=\"262.997902\" xlink:href=\"#me89cdf2813\" y=\"140.037891\"/>\n     <use style=\"fill:#1f77b4;stroke:#1f77b4;\" x=\"280.435038\" xlink:href=\"#me89cdf2813\" y=\"37.983868\"/>\n     <use style=\"fill:#1f77b4;stroke:#1f77b4;\" x=\"216.744203\" xlink:href=\"#me89cdf2813\" y=\"84.860493\"/>\n     <use style=\"fill:#1f77b4;stroke:#1f77b4;\" x=\"133.221344\" xlink:href=\"#me89cdf2813\" y=\"50.330921\"/>\n     <use style=\"fill:#1f77b4;stroke:#1f77b4;\" x=\"224.862459\" xlink:href=\"#me89cdf2813\" y=\"118.615113\"/>\n     <use style=\"fill:#1f77b4;stroke:#1f77b4;\" x=\"185.203103\" xlink:href=\"#me89cdf2813\" y=\"96.781063\"/>\n     <use style=\"fill:#1f77b4;stroke:#1f77b4;\" x=\"269.197241\" xlink:href=\"#me89cdf2813\" y=\"69.68645\"/>\n     <use style=\"fill:#1f77b4;stroke:#1f77b4;\" x=\"239.529117\" xlink:href=\"#me89cdf2813\" y=\"88.602766\"/>\n     <use style=\"fill:#1f77b4;stroke:#1f77b4;\" x=\"250.21501\" xlink:href=\"#me89cdf2813\" y=\"119.773601\"/>\n     <use style=\"fill:#1f77b4;stroke:#1f77b4;\" x=\"181.590931\" xlink:href=\"#me89cdf2813\" y=\"57.830235\"/>\n     <use style=\"fill:#1f77b4;stroke:#1f77b4;\" x=\"248.539055\" xlink:href=\"#me89cdf2813\" y=\"136.378147\"/>\n     <use style=\"fill:#1f77b4;stroke:#1f77b4;\" x=\"234.227478\" xlink:href=\"#me89cdf2813\" y=\"99.865141\"/>\n     <use style=\"fill:#1f77b4;stroke:#1f77b4;\" x=\"223.647557\" xlink:href=\"#me89cdf2813\" y=\"185.764034\"/>\n     <use style=\"fill:#1f77b4;stroke:#1f77b4;\" x=\"285.324339\" xlink:href=\"#me89cdf2813\" y=\"118.408869\"/>\n     <use style=\"fill:#1f77b4;stroke:#1f77b4;\" x=\"157.60655\" xlink:href=\"#me89cdf2813\" y=\"147.014815\"/>\n     <use style=\"fill:#1f77b4;stroke:#1f77b4;\" x=\"170.050041\" xlink:href=\"#me89cdf2813\" y=\"155.569613\"/>\n     <use style=\"fill:#1f77b4;stroke:#1f77b4;\" x=\"245.607654\" xlink:href=\"#me89cdf2813\" y=\"79.697909\"/>\n     <use style=\"fill:#1f77b4;stroke:#1f77b4;\" x=\"215.818854\" xlink:href=\"#me89cdf2813\" y=\"118.264367\"/>\n     <use style=\"fill:#1f77b4;stroke:#1f77b4;\" x=\"225.666669\" xlink:href=\"#me89cdf2813\" y=\"80.270304\"/>\n     <use style=\"fill:#1f77b4;stroke:#1f77b4;\" x=\"138.3354\" xlink:href=\"#me89cdf2813\" y=\"65.556006\"/>\n     <use style=\"fill:#1f77b4;stroke:#1f77b4;\" x=\"254.02046\" xlink:href=\"#me89cdf2813\" y=\"86.213688\"/>\n     <use style=\"fill:#1f77b4;stroke:#1f77b4;\" x=\"187.31343\" xlink:href=\"#me89cdf2813\" y=\"117.918563\"/>\n     <use style=\"fill:#1f77b4;stroke:#1f77b4;\" x=\"223.458675\" xlink:href=\"#me89cdf2813\" y=\"159.382424\"/>\n     <use style=\"fill:#1f77b4;stroke:#1f77b4;\" x=\"261.030572\" xlink:href=\"#me89cdf2813\" y=\"132.315501\"/>\n     <use style=\"fill:#1f77b4;stroke:#1f77b4;\" x=\"170.673699\" xlink:href=\"#me89cdf2813\" y=\"60.030862\"/>\n     <use style=\"fill:#1f77b4;stroke:#1f77b4;\" x=\"189.842227\" xlink:href=\"#me89cdf2813\" y=\"87.266563\"/>\n     <use style=\"fill:#1f77b4;stroke:#1f77b4;\" x=\"281.222526\" xlink:href=\"#me89cdf2813\" y=\"204.377052\"/>\n     <use style=\"fill:#1f77b4;stroke:#1f77b4;\" x=\"162.0348\" xlink:href=\"#me89cdf2813\" y=\"148.769932\"/>\n     <use style=\"fill:#1f77b4;stroke:#1f77b4;\" x=\"178.22548\" xlink:href=\"#me89cdf2813\" y=\"17.083636\"/>\n     <use style=\"fill:#1f77b4;stroke:#1f77b4;\" x=\"235.225378\" xlink:href=\"#me89cdf2813\" y=\"60.283084\"/>\n     <use style=\"fill:#1f77b4;stroke:#1f77b4;\" x=\"92.485887\" xlink:href=\"#me89cdf2813\" y=\"95.314924\"/>\n     <use style=\"fill:#1f77b4;stroke:#1f77b4;\" x=\"196.746713\" xlink:href=\"#me89cdf2813\" y=\"151.393398\"/>\n     <use style=\"fill:#1f77b4;stroke:#1f77b4;\" x=\"267.105479\" xlink:href=\"#me89cdf2813\" y=\"141.860761\"/>\n     <use style=\"fill:#1f77b4;stroke:#1f77b4;\" x=\"255.898337\" xlink:href=\"#me89cdf2813\" y=\"71.672027\"/>\n     <use style=\"fill:#1f77b4;stroke:#1f77b4;\" x=\"204.983673\" xlink:href=\"#me89cdf2813\" y=\"88.24353\"/>\n     <use style=\"fill:#1f77b4;stroke:#1f77b4;\" x=\"193.958334\" xlink:href=\"#me89cdf2813\" y=\"175.424224\"/>\n     <use style=\"fill:#1f77b4;stroke:#1f77b4;\" x=\"220.608169\" xlink:href=\"#me89cdf2813\" y=\"155.856512\"/>\n     <use style=\"fill:#1f77b4;stroke:#1f77b4;\" x=\"162.729552\" xlink:href=\"#me89cdf2813\" y=\"79.972739\"/>\n     <use style=\"fill:#1f77b4;stroke:#1f77b4;\" x=\"215.722673\" xlink:href=\"#me89cdf2813\" y=\"144.910517\"/>\n     <use style=\"fill:#1f77b4;stroke:#1f77b4;\" x=\"240.888576\" xlink:href=\"#me89cdf2813\" y=\"31.834449\"/>\n     <use style=\"fill:#1f77b4;stroke:#1f77b4;\" x=\"177.258806\" xlink:href=\"#me89cdf2813\" y=\"146.457324\"/>\n     <use style=\"fill:#1f77b4;stroke:#1f77b4;\" x=\"299.322952\" xlink:href=\"#me89cdf2813\" y=\"211.989346\"/>\n     <use style=\"fill:#1f77b4;stroke:#1f77b4;\" x=\"161.383652\" xlink:href=\"#me89cdf2813\" y=\"48.553795\"/>\n     <use style=\"fill:#1f77b4;stroke:#1f77b4;\" x=\"164.143073\" xlink:href=\"#me89cdf2813\" y=\"115.319092\"/>\n     <use style=\"fill:#1f77b4;stroke:#1f77b4;\" x=\"163.172206\" xlink:href=\"#me89cdf2813\" y=\"214.756364\"/>\n     <use style=\"fill:#1f77b4;stroke:#1f77b4;\" x=\"253.130114\" xlink:href=\"#me89cdf2813\" y=\"126.867457\"/>\n     <use style=\"fill:#1f77b4;stroke:#1f77b4;\" x=\"163.938982\" xlink:href=\"#me89cdf2813\" y=\"110.258511\"/>\n     <use style=\"fill:#1f77b4;stroke:#1f77b4;\" x=\"158.739069\" xlink:href=\"#me89cdf2813\" y=\"81.687436\"/>\n     <use style=\"fill:#1f77b4;stroke:#1f77b4;\" x=\"177.452216\" xlink:href=\"#me89cdf2813\" y=\"89.71996\"/>\n     <use style=\"fill:#1f77b4;stroke:#1f77b4;\" x=\"243.784959\" xlink:href=\"#me89cdf2813\" y=\"27.251418\"/>\n     <use style=\"fill:#1f77b4;stroke:#1f77b4;\" x=\"174.248028\" xlink:href=\"#me89cdf2813\" y=\"104.333571\"/>\n     <use style=\"fill:#1f77b4;stroke:#1f77b4;\" x=\"158.754731\" xlink:href=\"#me89cdf2813\" y=\"196.326732\"/>\n     <use style=\"fill:#1f77b4;stroke:#1f77b4;\" x=\"233.633857\" xlink:href=\"#me89cdf2813\" y=\"129.674484\"/>\n     <use style=\"fill:#1f77b4;stroke:#1f77b4;\" x=\"234.356307\" xlink:href=\"#me89cdf2813\" y=\"164.873767\"/>\n     <use style=\"fill:#1f77b4;stroke:#1f77b4;\" x=\"135.564724\" xlink:href=\"#me89cdf2813\" y=\"145.920925\"/>\n     <use style=\"fill:#1f77b4;stroke:#1f77b4;\" x=\"302.469136\" xlink:href=\"#me89cdf2813\" y=\"186.791296\"/>\n     <use style=\"fill:#1f77b4;stroke:#1f77b4;\" x=\"132.467261\" xlink:href=\"#me89cdf2813\" y=\"143.848649\"/>\n     <use style=\"fill:#1f77b4;stroke:#1f77b4;\" x=\"130.320283\" xlink:href=\"#me89cdf2813\" y=\"63.729628\"/>\n     <use style=\"fill:#1f77b4;stroke:#1f77b4;\" x=\"141.466618\" xlink:href=\"#me89cdf2813\" y=\"115.326863\"/>\n     <use style=\"fill:#1f77b4;stroke:#1f77b4;\" x=\"284.566154\" xlink:href=\"#me89cdf2813\" y=\"115.596579\"/>\n     <use style=\"fill:#1f77b4;stroke:#1f77b4;\" x=\"272.338614\" xlink:href=\"#me89cdf2813\" y=\"103.384489\"/>\n     <use style=\"fill:#1f77b4;stroke:#1f77b4;\" x=\"237.353769\" xlink:href=\"#me89cdf2813\" y=\"101.403396\"/>\n     <use style=\"fill:#1f77b4;stroke:#1f77b4;\" x=\"57.838494\" xlink:href=\"#me89cdf2813\" y=\"100.181335\"/>\n     <use style=\"fill:#1f77b4;stroke:#1f77b4;\" x=\"262.798729\" xlink:href=\"#me89cdf2813\" y=\"73.431257\"/>\n     <use style=\"fill:#1f77b4;stroke:#1f77b4;\" x=\"232.86399\" xlink:href=\"#me89cdf2813\" y=\"71.352662\"/>\n     <use style=\"fill:#1f77b4;stroke:#1f77b4;\" x=\"118.36802\" xlink:href=\"#me89cdf2813\" y=\"115.006715\"/>\n     <use style=\"fill:#1f77b4;stroke:#1f77b4;\" x=\"93.005012\" xlink:href=\"#me89cdf2813\" y=\"137.283359\"/>\n     <use style=\"fill:#1f77b4;stroke:#1f77b4;\" x=\"362.202131\" xlink:href=\"#me89cdf2813\" y=\"42.658135\"/>\n     <use style=\"fill:#1f77b4;stroke:#1f77b4;\" x=\"217.917655\" xlink:href=\"#me89cdf2813\" y=\"95.901073\"/>\n     <use style=\"fill:#1f77b4;stroke:#1f77b4;\" x=\"180.569048\" xlink:href=\"#me89cdf2813\" y=\"197.025641\"/>\n     <use style=\"fill:#1f77b4;stroke:#1f77b4;\" x=\"171.360505\" xlink:href=\"#me89cdf2813\" y=\"98.828369\"/>\n     <use style=\"fill:#1f77b4;stroke:#1f77b4;\" x=\"232.543513\" xlink:href=\"#me89cdf2813\" y=\"128.898489\"/>\n     <use style=\"fill:#1f77b4;stroke:#1f77b4;\" x=\"221.229185\" xlink:href=\"#me89cdf2813\" y=\"119.284779\"/>\n     <use style=\"fill:#1f77b4;stroke:#1f77b4;\" x=\"250.322778\" xlink:href=\"#me89cdf2813\" y=\"88.112731\"/>\n     <use style=\"fill:#1f77b4;stroke:#1f77b4;\" x=\"192.172076\" xlink:href=\"#me89cdf2813\" y=\"157.711098\"/>\n     <use style=\"fill:#1f77b4;stroke:#1f77b4;\" x=\"245.951881\" xlink:href=\"#me89cdf2813\" y=\"144.865233\"/>\n     <use style=\"fill:#1f77b4;stroke:#1f77b4;\" x=\"296.810802\" xlink:href=\"#me89cdf2813\" y=\"52.882385\"/>\n     <use style=\"fill:#1f77b4;stroke:#1f77b4;\" x=\"328.707503\" xlink:href=\"#me89cdf2813\" y=\"69.966532\"/>\n     <use style=\"fill:#1f77b4;stroke:#1f77b4;\" x=\"225.737295\" xlink:href=\"#me89cdf2813\" y=\"111.353912\"/>\n     <use style=\"fill:#1f77b4;stroke:#1f77b4;\" x=\"151.800695\" xlink:href=\"#me89cdf2813\" y=\"184.282651\"/>\n     <use style=\"fill:#1f77b4;stroke:#1f77b4;\" x=\"154.257899\" xlink:href=\"#me89cdf2813\" y=\"29.304207\"/>\n     <use style=\"fill:#1f77b4;stroke:#1f77b4;\" x=\"177.248609\" xlink:href=\"#me89cdf2813\" y=\"98.044444\"/>\n     <use style=\"fill:#1f77b4;stroke:#1f77b4;\" x=\"202.505229\" xlink:href=\"#me89cdf2813\" y=\"146.04929\"/>\n     <use style=\"fill:#1f77b4;stroke:#1f77b4;\" x=\"222.196452\" xlink:href=\"#me89cdf2813\" y=\"203.438052\"/>\n     <use style=\"fill:#1f77b4;stroke:#1f77b4;\" x=\"195.243446\" xlink:href=\"#me89cdf2813\" y=\"90.762733\"/>\n     <use style=\"fill:#1f77b4;stroke:#1f77b4;\" x=\"259.701962\" xlink:href=\"#me89cdf2813\" y=\"112.334609\"/>\n     <use style=\"fill:#1f77b4;stroke:#1f77b4;\" x=\"284.9675\" xlink:href=\"#me89cdf2813\" y=\"80.424108\"/>\n     <use style=\"fill:#1f77b4;stroke:#1f77b4;\" x=\"235.8452\" xlink:href=\"#me89cdf2813\" y=\"110.155596\"/>\n     <use style=\"fill:#1f77b4;stroke:#1f77b4;\" x=\"151.314981\" xlink:href=\"#me89cdf2813\" y=\"123.723543\"/>\n     <use style=\"fill:#1f77b4;stroke:#1f77b4;\" x=\"197.848613\" xlink:href=\"#me89cdf2813\" y=\"140.914764\"/>\n     <use style=\"fill:#1f77b4;stroke:#1f77b4;\" x=\"81.382021\" xlink:href=\"#me89cdf2813\" y=\"126.902211\"/>\n     <use style=\"fill:#1f77b4;stroke:#1f77b4;\" x=\"195.682687\" xlink:href=\"#me89cdf2813\" y=\"165.257219\"/>\n     <use style=\"fill:#1f77b4;stroke:#1f77b4;\" x=\"238.766595\" xlink:href=\"#me89cdf2813\" y=\"75.787662\"/>\n    </g>\n   </g>\n   <g id=\"matplotlib.axis_1\">\n    <g id=\"xtick_1\">\n     <g id=\"line2d_1\">\n      <defs>\n       <path d=\"M 0 0 \nL 0 3.5 \n\" id=\"m1297025d29\" style=\"stroke:#000000;stroke-width:0.8;\"/>\n      </defs>\n      <g>\n       <use style=\"stroke:#000000;stroke-width:0.8;\" x=\"53.731324\" xlink:href=\"#m1297025d29\" y=\"224.64\"/>\n      </g>\n     </g>\n     <g id=\"text_1\">\n      <!-- −3 -->\n      <g transform=\"translate(46.36023 239.238437)scale(0.1 -0.1)\">\n       <defs>\n        <path d=\"M 10.59375 35.5 \nL 73.1875 35.5 \nL 73.1875 27.203125 \nL 10.59375 27.203125 \nz\n\" id=\"DejaVuSans-8722\"/>\n        <path d=\"M 40.578125 39.3125 \nQ 47.65625 37.796875 51.625 33 \nQ 55.609375 28.21875 55.609375 21.1875 \nQ 55.609375 10.40625 48.1875 4.484375 \nQ 40.765625 -1.421875 27.09375 -1.421875 \nQ 22.515625 -1.421875 17.65625 -0.515625 \nQ 12.796875 0.390625 7.625 2.203125 \nL 7.625 11.71875 \nQ 11.71875 9.328125 16.59375 8.109375 \nQ 21.484375 6.890625 26.8125 6.890625 \nQ 36.078125 6.890625 40.9375 10.546875 \nQ 45.796875 14.203125 45.796875 21.1875 \nQ 45.796875 27.640625 41.28125 31.265625 \nQ 36.765625 34.90625 28.71875 34.90625 \nL 20.21875 34.90625 \nL 20.21875 43.015625 \nL 29.109375 43.015625 \nQ 36.375 43.015625 40.234375 45.921875 \nQ 44.09375 48.828125 44.09375 54.296875 \nQ 44.09375 59.90625 40.109375 62.90625 \nQ 36.140625 65.921875 28.71875 65.921875 \nQ 24.65625 65.921875 20.015625 65.03125 \nQ 15.375 64.15625 9.8125 62.3125 \nL 9.8125 71.09375 \nQ 15.4375 72.65625 20.34375 73.4375 \nQ 25.25 74.21875 29.59375 74.21875 \nQ 40.828125 74.21875 47.359375 69.109375 \nQ 53.90625 64.015625 53.90625 55.328125 \nQ 53.90625 49.265625 50.4375 45.09375 \nQ 46.96875 40.921875 40.578125 39.3125 \nz\n\" id=\"DejaVuSans-51\"/>\n       </defs>\n       <use xlink:href=\"#DejaVuSans-8722\"/>\n       <use x=\"83.789062\" xlink:href=\"#DejaVuSans-51\"/>\n      </g>\n     </g>\n    </g>\n    <g id=\"xtick_2\">\n     <g id=\"line2d_2\">\n      <g>\n       <use style=\"stroke:#000000;stroke-width:0.8;\" x=\"106.408438\" xlink:href=\"#m1297025d29\" y=\"224.64\"/>\n      </g>\n     </g>\n     <g id=\"text_2\">\n      <!-- −2 -->\n      <g transform=\"translate(99.037345 239.238437)scale(0.1 -0.1)\">\n       <defs>\n        <path d=\"M 19.1875 8.296875 \nL 53.609375 8.296875 \nL 53.609375 0 \nL 7.328125 0 \nL 7.328125 8.296875 \nQ 12.9375 14.109375 22.625 23.890625 \nQ 32.328125 33.6875 34.8125 36.53125 \nQ 39.546875 41.84375 41.421875 45.53125 \nQ 43.3125 49.21875 43.3125 52.78125 \nQ 43.3125 58.59375 39.234375 62.25 \nQ 35.15625 65.921875 28.609375 65.921875 \nQ 23.96875 65.921875 18.8125 64.3125 \nQ 13.671875 62.703125 7.8125 59.421875 \nL 7.8125 69.390625 \nQ 13.765625 71.78125 18.9375 73 \nQ 24.125 74.21875 28.421875 74.21875 \nQ 39.75 74.21875 46.484375 68.546875 \nQ 53.21875 62.890625 53.21875 53.421875 \nQ 53.21875 48.921875 51.53125 44.890625 \nQ 49.859375 40.875 45.40625 35.40625 \nQ 44.1875 33.984375 37.640625 27.21875 \nQ 31.109375 20.453125 19.1875 8.296875 \nz\n\" id=\"DejaVuSans-50\"/>\n       </defs>\n       <use xlink:href=\"#DejaVuSans-8722\"/>\n       <use x=\"83.789062\" xlink:href=\"#DejaVuSans-50\"/>\n      </g>\n     </g>\n    </g>\n    <g id=\"xtick_3\">\n     <g id=\"line2d_3\">\n      <g>\n       <use style=\"stroke:#000000;stroke-width:0.8;\" x=\"159.085553\" xlink:href=\"#m1297025d29\" y=\"224.64\"/>\n      </g>\n     </g>\n     <g id=\"text_3\">\n      <!-- −1 -->\n      <g transform=\"translate(151.714459 239.238437)scale(0.1 -0.1)\">\n       <defs>\n        <path d=\"M 12.40625 8.296875 \nL 28.515625 8.296875 \nL 28.515625 63.921875 \nL 10.984375 60.40625 \nL 10.984375 69.390625 \nL 28.421875 72.90625 \nL 38.28125 72.90625 \nL 38.28125 8.296875 \nL 54.390625 8.296875 \nL 54.390625 0 \nL 12.40625 0 \nz\n\" id=\"DejaVuSans-49\"/>\n       </defs>\n       <use xlink:href=\"#DejaVuSans-8722\"/>\n       <use x=\"83.789062\" xlink:href=\"#DejaVuSans-49\"/>\n      </g>\n     </g>\n    </g>\n    <g id=\"xtick_4\">\n     <g id=\"line2d_4\">\n      <g>\n       <use style=\"stroke:#000000;stroke-width:0.8;\" x=\"211.762667\" xlink:href=\"#m1297025d29\" y=\"224.64\"/>\n      </g>\n     </g>\n     <g id=\"text_4\">\n      <!-- 0 -->\n      <g transform=\"translate(208.581417 239.238437)scale(0.1 -0.1)\">\n       <defs>\n        <path d=\"M 31.78125 66.40625 \nQ 24.171875 66.40625 20.328125 58.90625 \nQ 16.5 51.421875 16.5 36.375 \nQ 16.5 21.390625 20.328125 13.890625 \nQ 24.171875 6.390625 31.78125 6.390625 \nQ 39.453125 6.390625 43.28125 13.890625 \nQ 47.125 21.390625 47.125 36.375 \nQ 47.125 51.421875 43.28125 58.90625 \nQ 39.453125 66.40625 31.78125 66.40625 \nz\nM 31.78125 74.21875 \nQ 44.046875 74.21875 50.515625 64.515625 \nQ 56.984375 54.828125 56.984375 36.375 \nQ 56.984375 17.96875 50.515625 8.265625 \nQ 44.046875 -1.421875 31.78125 -1.421875 \nQ 19.53125 -1.421875 13.0625 8.265625 \nQ 6.59375 17.96875 6.59375 36.375 \nQ 6.59375 54.828125 13.0625 64.515625 \nQ 19.53125 74.21875 31.78125 74.21875 \nz\n\" id=\"DejaVuSans-48\"/>\n       </defs>\n       <use xlink:href=\"#DejaVuSans-48\"/>\n      </g>\n     </g>\n    </g>\n    <g id=\"xtick_5\">\n     <g id=\"line2d_5\">\n      <g>\n       <use style=\"stroke:#000000;stroke-width:0.8;\" x=\"264.439781\" xlink:href=\"#m1297025d29\" y=\"224.64\"/>\n      </g>\n     </g>\n     <g id=\"text_5\">\n      <!-- 1 -->\n      <g transform=\"translate(261.258531 239.238437)scale(0.1 -0.1)\">\n       <use xlink:href=\"#DejaVuSans-49\"/>\n      </g>\n     </g>\n    </g>\n    <g id=\"xtick_6\">\n     <g id=\"line2d_6\">\n      <g>\n       <use style=\"stroke:#000000;stroke-width:0.8;\" x=\"317.116895\" xlink:href=\"#m1297025d29\" y=\"224.64\"/>\n      </g>\n     </g>\n     <g id=\"text_6\">\n      <!-- 2 -->\n      <g transform=\"translate(313.935645 239.238437)scale(0.1 -0.1)\">\n       <use xlink:href=\"#DejaVuSans-50\"/>\n      </g>\n     </g>\n    </g>\n    <g id=\"xtick_7\">\n     <g id=\"line2d_7\">\n      <g>\n       <use style=\"stroke:#000000;stroke-width:0.8;\" x=\"369.79401\" xlink:href=\"#m1297025d29\" y=\"224.64\"/>\n      </g>\n     </g>\n     <g id=\"text_7\">\n      <!-- 3 -->\n      <g transform=\"translate(366.61276 239.238437)scale(0.1 -0.1)\">\n       <use xlink:href=\"#DejaVuSans-51\"/>\n      </g>\n     </g>\n    </g>\n    <g id=\"text_8\">\n     <!-- A -->\n     <g transform=\"translate(206.6 252.916562)scale(0.1 -0.1)\">\n      <defs>\n       <path d=\"M 34.1875 63.1875 \nL 20.796875 26.90625 \nL 47.609375 26.90625 \nz\nM 28.609375 72.90625 \nL 39.796875 72.90625 \nL 67.578125 0 \nL 57.328125 0 \nL 50.6875 18.703125 \nL 17.828125 18.703125 \nL 11.1875 0 \nL 0.78125 0 \nz\n\" id=\"DejaVuSans-65\"/>\n      </defs>\n      <use xlink:href=\"#DejaVuSans-65\"/>\n     </g>\n    </g>\n   </g>\n   <g id=\"matplotlib.axis_2\">\n    <g id=\"ytick_1\">\n     <g id=\"line2d_8\">\n      <defs>\n       <path d=\"M 0 0 \nL -3.5 0 \n\" id=\"me78075e5e5\" style=\"stroke:#000000;stroke-width:0.8;\"/>\n      </defs>\n      <g>\n       <use style=\"stroke:#000000;stroke-width:0.8;\" x=\"42.620313\" xlink:href=\"#me78075e5e5\" y=\"206.281612\"/>\n      </g>\n     </g>\n     <g id=\"text_9\">\n      <!-- −2 -->\n      <g transform=\"translate(20.878125 210.080831)scale(0.1 -0.1)\">\n       <use xlink:href=\"#DejaVuSans-8722\"/>\n       <use x=\"83.789062\" xlink:href=\"#DejaVuSans-50\"/>\n      </g>\n     </g>\n    </g>\n    <g id=\"ytick_2\">\n     <g id=\"line2d_9\">\n      <g>\n       <use style=\"stroke:#000000;stroke-width:0.8;\" x=\"42.620313\" xlink:href=\"#me78075e5e5\" y=\"160.261129\"/>\n      </g>\n     </g>\n     <g id=\"text_10\">\n      <!-- −1 -->\n      <g transform=\"translate(20.878125 164.060347)scale(0.1 -0.1)\">\n       <use xlink:href=\"#DejaVuSans-8722\"/>\n       <use x=\"83.789062\" xlink:href=\"#DejaVuSans-49\"/>\n      </g>\n     </g>\n    </g>\n    <g id=\"ytick_3\">\n     <g id=\"line2d_10\">\n      <g>\n       <use style=\"stroke:#000000;stroke-width:0.8;\" x=\"42.620313\" xlink:href=\"#me78075e5e5\" y=\"114.240645\"/>\n      </g>\n     </g>\n     <g id=\"text_11\">\n      <!-- 0 -->\n      <g transform=\"translate(29.257813 118.039864)scale(0.1 -0.1)\">\n       <use xlink:href=\"#DejaVuSans-48\"/>\n      </g>\n     </g>\n    </g>\n    <g id=\"ytick_4\">\n     <g id=\"line2d_11\">\n      <g>\n       <use style=\"stroke:#000000;stroke-width:0.8;\" x=\"42.620313\" xlink:href=\"#me78075e5e5\" y=\"68.220162\"/>\n      </g>\n     </g>\n     <g id=\"text_12\">\n      <!-- 1 -->\n      <g transform=\"translate(29.257813 72.019381)scale(0.1 -0.1)\">\n       <use xlink:href=\"#DejaVuSans-49\"/>\n      </g>\n     </g>\n    </g>\n    <g id=\"ytick_5\">\n     <g id=\"line2d_12\">\n      <g>\n       <use style=\"stroke:#000000;stroke-width:0.8;\" x=\"42.620313\" xlink:href=\"#me78075e5e5\" y=\"22.199679\"/>\n      </g>\n     </g>\n     <g id=\"text_13\">\n      <!-- 2 -->\n      <g transform=\"translate(29.257813 25.998898)scale(0.1 -0.1)\">\n       <use xlink:href=\"#DejaVuSans-50\"/>\n      </g>\n     </g>\n    </g>\n    <g id=\"text_14\">\n     <!-- B -->\n     <g transform=\"translate(14.798438 119.350469)rotate(-90)scale(0.1 -0.1)\">\n      <defs>\n       <path d=\"M 19.671875 34.8125 \nL 19.671875 8.109375 \nL 35.5 8.109375 \nQ 43.453125 8.109375 47.28125 11.40625 \nQ 51.125 14.703125 51.125 21.484375 \nQ 51.125 28.328125 47.28125 31.5625 \nQ 43.453125 34.8125 35.5 34.8125 \nz\nM 19.671875 64.796875 \nL 19.671875 42.828125 \nL 34.28125 42.828125 \nQ 41.5 42.828125 45.03125 45.53125 \nQ 48.578125 48.25 48.578125 53.8125 \nQ 48.578125 59.328125 45.03125 62.0625 \nQ 41.5 64.796875 34.28125 64.796875 \nz\nM 9.8125 72.90625 \nL 35.015625 72.90625 \nQ 46.296875 72.90625 52.390625 68.21875 \nQ 58.5 63.53125 58.5 54.890625 \nQ 58.5 48.1875 55.375 44.234375 \nQ 52.25 40.28125 46.1875 39.3125 \nQ 53.46875 37.75 57.5 32.78125 \nQ 61.53125 27.828125 61.53125 20.40625 \nQ 61.53125 10.640625 54.890625 5.3125 \nQ 48.25 0 35.984375 0 \nL 9.8125 0 \nz\n\" id=\"DejaVuSans-66\"/>\n      </defs>\n      <use xlink:href=\"#DejaVuSans-66\"/>\n     </g>\n    </g>\n   </g>\n   <g id=\"patch_3\">\n    <path d=\"M 42.620313 224.64 \nL 42.620313 7.2 \n\" style=\"fill:none;stroke:#000000;stroke-linecap:square;stroke-linejoin:miter;stroke-width:0.8;\"/>\n   </g>\n   <g id=\"patch_4\">\n    <path d=\"M 377.420313 224.64 \nL 377.420313 7.2 \n\" style=\"fill:none;stroke:#000000;stroke-linecap:square;stroke-linejoin:miter;stroke-width:0.8;\"/>\n   </g>\n   <g id=\"patch_5\">\n    <path d=\"M 42.620313 224.64 \nL 377.420313 224.64 \n\" style=\"fill:none;stroke:#000000;stroke-linecap:square;stroke-linejoin:miter;stroke-width:0.8;\"/>\n   </g>\n   <g id=\"patch_6\">\n    <path d=\"M 42.620313 7.2 \nL 377.420313 7.2 \n\" style=\"fill:none;stroke:#000000;stroke-linecap:square;stroke-linejoin:miter;stroke-width:0.8;\"/>\n   </g>\n  </g>\n </g>\n <defs>\n  <clipPath id=\"p33bc3169c9\">\n   <rect height=\"217.44\" width=\"334.8\" x=\"42.620313\" y=\"7.2\"/>\n  </clipPath>\n </defs>\n</svg>\n",
      "image/png": "[encoded data removed]"
     },
     "metadata": {
      "needs_background": "light"
     }
    }
   ],
   "source": [
    "df.plot(kind='scatter', x='A', y='B')"
   ]
  },
  {
   "cell_type": "code",
   "execution_count": 21,
   "metadata": {},
   "outputs": [
    {
     "output_type": "display_data",
     "data": {
      "application/vnd.plotly.v1+json": {
       "config": {
        "linkText": "Export to plot.ly",
        "plotlyServerURL": "https://plot.ly",
        "showLink": true
       },
       "data": [
        {
         "line": {
          "color": "rgba(255, 153, 51, 1.0)",
          "dash": "solid",
          "shape": "linear",
          "width": 1.3
         },
         "marker": {
          "size": 12,
          "symbol": "circle"
         },
         "mode": "markers",
         "name": "B",
         "text": "",
         "type": "scatter",
         "x": [
          0.5465783073064772,
          -0.29266683075288924,
          0.6231870996745854,
          -0.834383727710256,
          0.07267124236383367,
          0.546609283854429,
          -1.131288781160773,
          0.9726279769132807,
          1.3036471779533993,
          0.09456737726953622,
          -1.4909951751412387,
          0.2486809006031248,
          -0.5041954963214929,
          1.090313604126461,
          0.5271065162022843,
          0.72996298455288,
          -0.5727674434124677,
          0.6981473528513243,
          0.42646244691734936,
          0.22561770627475097,
          1.3964635891379957,
          -1.028076763783862,
          -0.7918548050193706,
          0.6424988861128034,
          0.07700092744047617,
          0.2639476843988694,
          -1.3939121056913943,
          0.8022040203343273,
          -0.46413394434136784,
          0.2220320510302532,
          0.935281027468148,
          -0.7800155400860896,
          -0.416128340694564,
          1.3185965143422556,
          -0.9440127360391387,
          -0.6366557329525351,
          0.44540615728871885,
          -2.2642998115862225,
          -0.2850565034199015,
          1.0506044703218136,
          0.8378528542175177,
          -0.12868954137371466,
          -0.33798990823686026,
          0.1679192582551076,
          -0.9308238698161303,
          0.07517507846869902,
          0.5529139051581751,
          -0.6550066638750623,
          1.6622073144790908,
          -0.9563738629799234,
          -0.9039901786142885,
          -0.9224207152656744,
          0.7853020720624344,
          -0.9078645469319825,
          -1.0065774903612925,
          -0.6513350487302739,
          0.607897606343382,
          -0.7121619992871777,
          -1.0062801835740622,
          0.4151934066896479,
          0.42890807858108176,
          -1.4465094346493927,
          1.7219331417962913,
          -1.5053103553567573,
          -1.5460676762516719,
          -1.334470385973534,
          1.3820705239206281,
          1.149948100182805,
          0.48581062454288443,
          -2.9220312235168104,
          0.9688469690572168,
          0.4005785671067927,
          -1.7729643682929506,
          -2.254444960561575,
          2.8558789888409377,
          0.11684368509114042,
          -0.5921664352451752,
          -0.7669775175253448,
          0.3944947793185067,
          0.17970836550271987,
          0.7320087898796422,
          -0.3718994683294069,
          0.6490335347378919,
          1.61451773742073,
          2.2200311879880092,
          0.2652884204844432,
          -1.138292642211443,
          -1.0916461301727252,
          -0.6552002466498384,
          -0.17573927465249542,
          0.19807054658965803,
          -0.3135938770961247,
          0.9100592564889136,
          1.389689501439636,
          0.4571725986883691,
          -1.147513235584393,
          -0.2641384924636912,
          -2.4750908872422532,
          -0.3052555238066782,
          0.5126311294281619
         ],
         "y": [
          -0.3210616890439768,
          0.014731334124076999,
          0.5366938623242867,
          -0.28347189457944116,
          0.045451557025280365,
          0.13459038631390496,
          0.7680897864672134,
          -0.5605600823698804,
          1.6570181797969776,
          0.6384146948817033,
          1.3887234430034054,
          -0.09505479464596212,
          0.3793871989929514,
          0.968138373003798,
          0.5570971336800378,
          -0.12022809907427562,
          1.225767443374642,
          -0.48103582404950523,
          0.31237187179067677,
          -1.5541642248570275,
          -0.0905732283356259,
          -0.7121648301099559,
          -0.8980559307398618,
          0.7505948170765744,
          -0.08743327787437438,
          0.7381569910231944,
          1.0578906584070804,
          0.609010499655325,
          -0.07991913941469375,
          -0.9809062194854374,
          -0.3927567552348754,
          1.1779490224473685,
          0.5861320936097942,
          -1.9586149587331063,
          -0.7503025630835873,
          2.111168813334928,
          1.1724683723332443,
          0.41124561482519084,
          -0.8073090559661715,
          -0.6001700359496503,
          0.924992852207575,
          0.564903133816479,
          -1.329485783727274,
          -0.9042900886398983,
          0.7446229259164912,
          -0.6664395834381821,
          1.790641696870415,
          -0.7000508417729924,
          -2.124025946845946,
          1.427339440341842,
          -0.023434047825694505,
          -2.184151730277451,
          -0.2743737245978753,
          0.08652959980978199,
          0.7073634897595449,
          0.5328211228340343,
          1.8902284648569976,
          0.21527531979477196,
          -1.7836858947922036,
          -0.3353688964873548,
          -1.1002301192684039,
          -0.6883952001486617,
          -1.5764860675414936,
          -0.6433657782077495,
          1.097576865535247,
          -0.023602921622034694,
          -0.029463692580862483,
          0.2358983482389432,
          0.27894641922849245,
          0.30550114510394016,
          0.8867657472418506,
          0.9319324919522,
          -0.01664626305233927,
          -0.5007055914851937,
          1.5554489026110867,
          0.3985089102148669,
          -1.7988728013549453,
          0.33490036387429,
          -0.3185069447544962,
          -0.10960628009446838,
          0.5677453220093496,
          -0.9445892255243346,
          -0.6654555763718258,
          1.3332815274819332,
          0.9620523328660819,
          0.0627271471645771,
          -1.5219745869359935,
          1.8456224867766633,
          0.35193461333641635,
          -0.6911844965770978,
          -1.9382109908973897,
          0.5101622352180557,
          0.04141713857864906,
          0.7348149162733385,
          0.08876588617886874,
          -0.20605819017878488,
          -0.5796140389078577,
          -0.27512891936251505,
          -1.108562305937151,
          0.83556234684711
         ]
        }
       ],
       "layout": {
        "legend": {
         "bgcolor": "#F5F6F9",
         "font": {
          "color": "#4D5663"
         }
        },
        "paper_bgcolor": "#F5F6F9",
        "plot_bgcolor": "#F5F6F9",
        "template": {
         "data": {
          "bar": [
           {
            "error_x": {
             "color": "#2a3f5f"
            },
            "error_y": {
             "color": "#2a3f5f"
            },
            "marker": {
             "line": {
              "color": "#E5ECF6",
              "width": 0.5
             }
            },
            "type": "bar"
           }
          ],
          "barpolar": [
           {
            "marker": {
             "line": {
              "color": "#E5ECF6",
              "width": 0.5
             }
            },
            "type": "barpolar"
           }
          ],
          "carpet": [
           {
            "aaxis": {
             "endlinecolor": "#2a3f5f",
             "gridcolor": "white",
             "linecolor": "white",
             "minorgridcolor": "white",
             "startlinecolor": "#2a3f5f"
            },
            "baxis": {
             "endlinecolor": "#2a3f5f",
             "gridcolor": "white",
             "linecolor": "white",
             "minorgridcolor": "white",
             "startlinecolor": "#2a3f5f"
            },
            "type": "carpet"
           }
          ],
          "choropleth": [
           {
            "colorbar": {
             "outlinewidth": 0,
             "ticks": ""
            },
            "type": "choropleth"
           }
          ],
          "contour": [
           {
            "colorbar": {
             "outlinewidth": 0,
             "ticks": ""
            },
            "colorscale": [
             [
              0,
              "#0d0887"
             ],
             [
              0.1111111111111111,
              "#46039f"
             ],
             [
              0.2222222222222222,
              "#7201a8"
             ],
             [
              0.3333333333333333,
              "#9c179e"
             ],
             [
              0.4444444444444444,
              "#bd3786"
             ],
             [
              0.5555555555555556,
              "#d8576b"
             ],
             [
              0.6666666666666666,
              "#ed7953"
             ],
             [
              0.7777777777777778,
              "#fb9f3a"
             ],
             [
              0.8888888888888888,
              "#fdca26"
             ],
             [
              1,
              "#f0f921"
             ]
            ],
            "type": "contour"
           }
          ],
          "contourcarpet": [
           {
            "colorbar": {
             "outlinewidth": 0,
             "ticks": ""
            },
            "type": "contourcarpet"
           }
          ],
          "heatmap": [
           {
            "colorbar": {
             "outlinewidth": 0,
             "ticks": ""
            },
            "colorscale": [
             [
              0,
              "#0d0887"
             ],
             [
              0.1111111111111111,
              "#46039f"
             ],
             [
              0.2222222222222222,
              "#7201a8"
             ],
             [
              0.3333333333333333,
              "#9c179e"
             ],
             [
              0.4444444444444444,
              "#bd3786"
             ],
             [
              0.5555555555555556,
              "#d8576b"
             ],
             [
              0.6666666666666666,
              "#ed7953"
             ],
             [
              0.7777777777777778,
              "#fb9f3a"
             ],
             [
              0.8888888888888888,
              "#fdca26"
             ],
             [
              1,
              "#f0f921"
             ]
            ],
            "type": "heatmap"
           }
          ],
          "heatmapgl": [
           {
            "colorbar": {
             "outlinewidth": 0,
             "ticks": ""
            },
            "colorscale": [
             [
              0,
              "#0d0887"
             ],
             [
              0.1111111111111111,
              "#46039f"
             ],
             [
              0.2222222222222222,
              "#7201a8"
             ],
             [
              0.3333333333333333,
              "#9c179e"
             ],
             [
              0.4444444444444444,
              "#bd3786"
             ],
             [
              0.5555555555555556,
              "#d8576b"
             ],
             [
              0.6666666666666666,
              "#ed7953"
             ],
             [
              0.7777777777777778,
              "#fb9f3a"
             ],
             [
              0.8888888888888888,
              "#fdca26"
             ],
             [
              1,
              "#f0f921"
             ]
            ],
            "type": "heatmapgl"
           }
          ],
          "histogram": [
           {
            "marker": {
             "colorbar": {
              "outlinewidth": 0,
              "ticks": ""
             }
            },
            "type": "histogram"
           }
          ],
          "histogram2d": [
           {
            "colorbar": {
             "outlinewidth": 0,
             "ticks": ""
            },
            "colorscale": [
             [
              0,
              "#0d0887"
             ],
             [
              0.1111111111111111,
              "#46039f"
             ],
             [
              0.2222222222222222,
              "#7201a8"
             ],
             [
              0.3333333333333333,
              "#9c179e"
             ],
             [
              0.4444444444444444,
              "#bd3786"
             ],
             [
              0.5555555555555556,
              "#d8576b"
             ],
             [
              0.6666666666666666,
              "#ed7953"
             ],
             [
              0.7777777777777778,
              "#fb9f3a"
             ],
             [
              0.8888888888888888,
              "#fdca26"
             ],
             [
              1,
              "#f0f921"
             ]
            ],
            "type": "histogram2d"
           }
          ],
          "histogram2dcontour": [
           {
            "colorbar": {
             "outlinewidth": 0,
             "ticks": ""
            },
            "colorscale": [
             [
              0,
              "#0d0887"
             ],
             [
              0.1111111111111111,
              "#46039f"
             ],
             [
              0.2222222222222222,
              "#7201a8"
             ],
             [
              0.3333333333333333,
              "#9c179e"
             ],
             [
              0.4444444444444444,
              "#bd3786"
             ],
             [
              0.5555555555555556,
              "#d8576b"
             ],
             [
              0.6666666666666666,
              "#ed7953"
             ],
             [
              0.7777777777777778,
              "#fb9f3a"
             ],
             [
              0.8888888888888888,
              "#fdca26"
             ],
             [
              1,
              "#f0f921"
             ]
            ],
            "type": "histogram2dcontour"
           }
          ],
          "mesh3d": [
           {
            "colorbar": {
             "outlinewidth": 0,
             "ticks": ""
            },
            "type": "mesh3d"
           }
          ],
          "parcoords": [
           {
            "line": {
             "colorbar": {
              "outlinewidth": 0,
              "ticks": ""
             }
            },
            "type": "parcoords"
           }
          ],
          "pie": [
           {
            "automargin": true,
            "type": "pie"
           }
          ],
          "scatter": [
           {
            "marker": {
             "colorbar": {
              "outlinewidth": 0,
              "ticks": ""
             }
            },
            "type": "scatter"
           }
          ],
          "scatter3d": [
           {
            "line": {
             "colorbar": {
              "outlinewidth": 0,
              "ticks": ""
             }
            },
            "marker": {
             "colorbar": {
              "outlinewidth": 0,
              "ticks": ""
             }
            },
            "type": "scatter3d"
           }
          ],
          "scattercarpet": [
           {
            "marker": {
             "colorbar": {
              "outlinewidth": 0,
              "ticks": ""
             }
            },
            "type": "scattercarpet"
           }
          ],
          "scattergeo": [
           {
            "marker": {
             "colorbar": {
              "outlinewidth": 0,
              "ticks": ""
             }
            },
            "type": "scattergeo"
           }
          ],
          "scattergl": [
           {
            "marker": {
             "colorbar": {
              "outlinewidth": 0,
              "ticks": ""
             }
            },
            "type": "scattergl"
           }
          ],
          "scattermapbox": [
           {
            "marker": {
             "colorbar": {
              "outlinewidth": 0,
              "ticks": ""
             }
            },
            "type": "scattermapbox"
           }
          ],
          "scatterpolar": [
           {
            "marker": {
             "colorbar": {
              "outlinewidth": 0,
              "ticks": ""
             }
            },
            "type": "scatterpolar"
           }
          ],
          "scatterpolargl": [
           {
            "marker": {
             "colorbar": {
              "outlinewidth": 0,
              "ticks": ""
             }
            },
            "type": "scatterpolargl"
           }
          ],
          "scatterternary": [
           {
            "marker": {
             "colorbar": {
              "outlinewidth": 0,
              "ticks": ""
             }
            },
            "type": "scatterternary"
           }
          ],
          "surface": [
           {
            "colorbar": {
             "outlinewidth": 0,
             "ticks": ""
            },
            "colorscale": [
             [
              0,
              "#0d0887"
             ],
             [
              0.1111111111111111,
              "#46039f"
             ],
             [
              0.2222222222222222,
              "#7201a8"
             ],
             [
              0.3333333333333333,
              "#9c179e"
             ],
             [
              0.4444444444444444,
              "#bd3786"
             ],
             [
              0.5555555555555556,
              "#d8576b"
             ],
             [
              0.6666666666666666,
              "#ed7953"
             ],
             [
              0.7777777777777778,
              "#fb9f3a"
             ],
             [
              0.8888888888888888,
              "#fdca26"
             ],
             [
              1,
              "#f0f921"
             ]
            ],
            "type": "surface"
           }
          ],
          "table": [
           {
            "cells": {
             "fill": {
              "color": "#EBF0F8"
             },
             "line": {
              "color": "white"
             }
            },
            "header": {
             "fill": {
              "color": "#C8D4E3"
             },
             "line": {
              "color": "white"
             }
            },
            "type": "table"
           }
          ]
         },
         "layout": {
          "annotationdefaults": {
           "arrowcolor": "#2a3f5f",
           "arrowhead": 0,
           "arrowwidth": 1
          },
          "autotypenumbers": "strict",
          "coloraxis": {
           "colorbar": {
            "outlinewidth": 0,
            "ticks": ""
           }
          },
          "colorscale": {
           "diverging": [
            [
             0,
             "#8e0152"
            ],
            [
             0.1,
             "#c51b7d"
            ],
            [
             0.2,
             "#de77ae"
            ],
            [
             0.3,
             "#f1b6da"
            ],
            [
             0.4,
             "#fde0ef"
            ],
            [
             0.5,
             "#f7f7f7"
            ],
            [
             0.6,
             "#e6f5d0"
            ],
            [
             0.7,
             "#b8e186"
            ],
            [
             0.8,
             "#7fbc41"
            ],
            [
             0.9,
             "#4d9221"
            ],
            [
             1,
             "#276419"
            ]
           ],
           "sequential": [
            [
             0,
             "#0d0887"
            ],
            [
             0.1111111111111111,
             "#46039f"
            ],
            [
             0.2222222222222222,
             "#7201a8"
            ],
            [
             0.3333333333333333,
             "#9c179e"
            ],
            [
             0.4444444444444444,
             "#bd3786"
            ],
            [
             0.5555555555555556,
             "#d8576b"
            ],
            [
             0.6666666666666666,
             "#ed7953"
            ],
            [
             0.7777777777777778,
             "#fb9f3a"
            ],
            [
             0.8888888888888888,
             "#fdca26"
            ],
            [
             1,
             "#f0f921"
            ]
           ],
           "sequentialminus": [
            [
             0,
             "#0d0887"
            ],
            [
             0.1111111111111111,
             "#46039f"
            ],
            [
             0.2222222222222222,
             "#7201a8"
            ],
            [
             0.3333333333333333,
             "#9c179e"
            ],
            [
             0.4444444444444444,
             "#bd3786"
            ],
            [
             0.5555555555555556,
             "#d8576b"
            ],
            [
             0.6666666666666666,
             "#ed7953"
            ],
            [
             0.7777777777777778,
             "#fb9f3a"
            ],
            [
             0.8888888888888888,
             "#fdca26"
            ],
            [
             1,
             "#f0f921"
            ]
           ]
          },
          "colorway": [
           "#636efa",
           "#EF553B",
           "#00cc96",
           "#ab63fa",
           "#FFA15A",
           "#19d3f3",
           "#FF6692",
           "#B6E880",
           "#FF97FF",
           "#FECB52"
          ],
          "font": {
           "color": "#2a3f5f"
          },
          "geo": {
           "bgcolor": "white",
           "lakecolor": "white",
           "landcolor": "#E5ECF6",
           "showlakes": true,
           "showland": true,
           "subunitcolor": "white"
          },
          "hoverlabel": {
           "align": "left"
          },
          "hovermode": "closest",
          "mapbox": {
           "style": "light"
          },
          "paper_bgcolor": "white",
          "plot_bgcolor": "#E5ECF6",
          "polar": {
           "angularaxis": {
            "gridcolor": "white",
            "linecolor": "white",
            "ticks": ""
           },
           "bgcolor": "#E5ECF6",
           "radialaxis": {
            "gridcolor": "white",
            "linecolor": "white",
            "ticks": ""
           }
          },
          "scene": {
           "xaxis": {
            "backgroundcolor": "#E5ECF6",
            "gridcolor": "white",
            "gridwidth": 2,
            "linecolor": "white",
            "showbackground": true,
            "ticks": "",
            "zerolinecolor": "white"
           },
           "yaxis": {
            "backgroundcolor": "#E5ECF6",
            "gridcolor": "white",
            "gridwidth": 2,
            "linecolor": "white",
            "showbackground": true,
            "ticks": "",
            "zerolinecolor": "white"
           },
           "zaxis": {
            "backgroundcolor": "#E5ECF6",
            "gridcolor": "white",
            "gridwidth": 2,
            "linecolor": "white",
            "showbackground": true,
            "ticks": "",
            "zerolinecolor": "white"
           }
          },
          "shapedefaults": {
           "line": {
            "color": "#2a3f5f"
           }
          },
          "ternary": {
           "aaxis": {
            "gridcolor": "white",
            "linecolor": "white",
            "ticks": ""
           },
           "baxis": {
            "gridcolor": "white",
            "linecolor": "white",
            "ticks": ""
           },
           "bgcolor": "#E5ECF6",
           "caxis": {
            "gridcolor": "white",
            "linecolor": "white",
            "ticks": ""
           }
          },
          "title": {
           "x": 0.05
          },
          "xaxis": {
           "automargin": true,
           "gridcolor": "white",
           "linecolor": "white",
           "ticks": "",
           "title": {
            "standoff": 15
           },
           "zerolinecolor": "white",
           "zerolinewidth": 2
          },
          "yaxis": {
           "automargin": true,
           "gridcolor": "white",
           "linecolor": "white",
           "ticks": "",
           "title": {
            "standoff": 15
           },
           "zerolinecolor": "white",
           "zerolinewidth": 2
          }
         }
        },
        "title": {
         "font": {
          "color": "#4D5663"
         }
        },
        "xaxis": {
         "gridcolor": "#E1E5ED",
         "showgrid": true,
         "tickfont": {
          "color": "#4D5663"
         },
         "title": {
          "font": {
           "color": "#4D5663"
          },
          "text": ""
         },
         "zerolinecolor": "#E1E5ED"
        },
        "yaxis": {
         "gridcolor": "#E1E5ED",
         "showgrid": true,
         "tickfont": {
          "color": "#4D5663"
         },
         "title": {
          "font": {
           "color": "#4D5663"
          },
          "text": ""
         },
         "zerolinecolor": "#E1E5ED"
        }
       }
      },
      "text/html": "<div>                            <div id=\"0e2ad0bc-68ea-497b-9e98-551a416134ad\" class=\"plotly-graph-div\" style=\"height:525px; width:100%;\"></div>            <script type=\"text/javascript\">                require([\"plotly\"], function(Plotly) {                    window.PLOTLYENV=window.PLOTLYENV || {};\n                    window.PLOTLYENV.BASE_URL='https://plot.ly';                                    if (document.getElementById(\"0e2ad0bc-68ea-497b-9e98-551a416134ad\")) {                    Plotly.newPlot(                        \"0e2ad0bc-68ea-497b-9e98-551a416134ad\",                        [{\"line\": {\"color\": \"rgba(255, 153, 51, 1.0)\", \"dash\": \"solid\", \"shape\": \"linear\", \"width\": 1.3}, \"marker\": {\"size\": 12, \"symbol\": \"circle\"}, \"mode\": \"markers\", \"name\": \"B\", \"text\": \"\", \"type\": \"scatter\", \"x\": [0.5465783073064772, -0.29266683075288924, 0.6231870996745854, -0.834383727710256, 0.07267124236383367, 0.546609283854429, -1.131288781160773, 0.9726279769132807, 1.3036471779533993, 0.09456737726953622, -1.4909951751412387, 0.2486809006031248, -0.5041954963214929, 1.090313604126461, 0.5271065162022843, 0.72996298455288, -0.5727674434124677, 0.6981473528513243, 0.42646244691734936, 0.22561770627475097, 1.3964635891379957, -1.028076763783862, -0.7918548050193706, 0.6424988861128034, 0.07700092744047617, 0.2639476843988694, -1.3939121056913943, 0.8022040203343273, -0.46413394434136784, 0.2220320510302532, 0.935281027468148, -0.7800155400860896, -0.416128340694564, 1.3185965143422556, -0.9440127360391387, -0.6366557329525351, 0.44540615728871885, -2.2642998115862225, -0.2850565034199015, 1.0506044703218136, 0.8378528542175177, -0.12868954137371466, -0.33798990823686026, 0.1679192582551076, -0.9308238698161303, 0.07517507846869902, 0.5529139051581751, -0.6550066638750623, 1.6622073144790908, -0.9563738629799234, -0.9039901786142885, -0.9224207152656744, 0.7853020720624344, -0.9078645469319825, -1.0065774903612925, -0.6513350487302739, 0.607897606343382, -0.7121619992871777, -1.0062801835740622, 0.4151934066896479, 0.42890807858108176, -1.4465094346493927, 1.7219331417962913, -1.5053103553567573, -1.5460676762516719, -1.334470385973534, 1.3820705239206281, 1.149948100182805, 0.48581062454288443, -2.9220312235168104, 0.9688469690572168, 0.4005785671067927, -1.7729643682929506, -2.254444960561575, 2.8558789888409377, 0.11684368509114042, -0.5921664352451752, -0.7669775175253448, 0.3944947793185067, 0.17970836550271987, 0.7320087898796422, -0.3718994683294069, 0.6490335347378919, 1.61451773742073, 2.2200311879880092, 0.2652884204844432, -1.138292642211443, -1.0916461301727252, -0.6552002466498384, -0.17573927465249542, 0.19807054658965803, -0.3135938770961247, 0.9100592564889136, 1.389689501439636, 0.4571725986883691, -1.147513235584393, -0.2641384924636912, -2.4750908872422532, -0.3052555238066782, 0.5126311294281619], \"y\": [-0.3210616890439768, 0.014731334124076999, 0.5366938623242867, -0.28347189457944116, 0.045451557025280365, 0.13459038631390496, 0.7680897864672134, -0.5605600823698804, 1.6570181797969776, 0.6384146948817033, 1.3887234430034054, -0.09505479464596212, 0.3793871989929514, 0.968138373003798, 0.5570971336800378, -0.12022809907427562, 1.225767443374642, -0.48103582404950523, 0.31237187179067677, -1.5541642248570275, -0.0905732283356259, -0.7121648301099559, -0.8980559307398618, 0.7505948170765744, -0.08743327787437438, 0.7381569910231944, 1.0578906584070804, 0.609010499655325, -0.07991913941469375, -0.9809062194854374, -0.3927567552348754, 1.1779490224473685, 0.5861320936097942, -1.9586149587331063, -0.7503025630835873, 2.111168813334928, 1.1724683723332443, 0.41124561482519084, -0.8073090559661715, -0.6001700359496503, 0.924992852207575, 0.564903133816479, -1.329485783727274, -0.9042900886398983, 0.7446229259164912, -0.6664395834381821, 1.790641696870415, -0.7000508417729924, -2.124025946845946, 1.427339440341842, -0.023434047825694505, -2.184151730277451, -0.2743737245978753, 0.08652959980978199, 0.7073634897595449, 0.5328211228340343, 1.8902284648569976, 0.21527531979477196, -1.7836858947922036, -0.3353688964873548, -1.1002301192684039, -0.6883952001486617, -1.5764860675414936, -0.6433657782077495, 1.097576865535247, -0.023602921622034694, -0.029463692580862483, 0.2358983482389432, 0.27894641922849245, 0.30550114510394016, 0.8867657472418506, 0.9319324919522, -0.01664626305233927, -0.5007055914851937, 1.5554489026110867, 0.3985089102148669, -1.7988728013549453, 0.33490036387429, -0.3185069447544962, -0.10960628009446838, 0.5677453220093496, -0.9445892255243346, -0.6654555763718258, 1.3332815274819332, 0.9620523328660819, 0.0627271471645771, -1.5219745869359935, 1.8456224867766633, 0.35193461333641635, -0.6911844965770978, -1.9382109908973897, 0.5101622352180557, 0.04141713857864906, 0.7348149162733385, 0.08876588617886874, -0.20605819017878488, -0.5796140389078577, -0.27512891936251505, -1.108562305937151, 0.83556234684711]}],                        {\"legend\": {\"bgcolor\": \"#F5F6F9\", \"font\": {\"color\": \"#4D5663\"}}, \"paper_bgcolor\": \"#F5F6F9\", \"plot_bgcolor\": \"#F5F6F9\", \"template\": {\"data\": {\"bar\": [{\"error_x\": {\"color\": \"#2a3f5f\"}, \"error_y\": {\"color\": \"#2a3f5f\"}, \"marker\": {\"line\": {\"color\": \"#E5ECF6\", \"width\": 0.5}}, \"type\": \"bar\"}], \"barpolar\": [{\"marker\": {\"line\": {\"color\": \"#E5ECF6\", \"width\": 0.5}}, \"type\": \"barpolar\"}], \"carpet\": [{\"aaxis\": {\"endlinecolor\": \"#2a3f5f\", \"gridcolor\": \"white\", \"linecolor\": \"white\", \"minorgridcolor\": \"white\", \"startlinecolor\": \"#2a3f5f\"}, \"baxis\": {\"endlinecolor\": \"#2a3f5f\", \"gridcolor\": \"white\", \"linecolor\": \"white\", \"minorgridcolor\": \"white\", \"startlinecolor\": \"#2a3f5f\"}, \"type\": \"carpet\"}], \"choropleth\": [{\"colorbar\": {\"outlinewidth\": 0, \"ticks\": \"\"}, \"type\": \"choropleth\"}], \"contour\": [{\"colorbar\": {\"outlinewidth\": 0, \"ticks\": \"\"}, \"colorscale\": [[0.0, \"#0d0887\"], [0.1111111111111111, \"#46039f\"], [0.2222222222222222, \"#7201a8\"], [0.3333333333333333, \"#9c179e\"], [0.4444444444444444, \"#bd3786\"], [0.5555555555555556, \"#d8576b\"], [0.6666666666666666, \"#ed7953\"], [0.7777777777777778, \"#fb9f3a\"], [0.8888888888888888, \"#fdca26\"], [1.0, \"#f0f921\"]], \"type\": \"contour\"}], \"contourcarpet\": [{\"colorbar\": {\"outlinewidth\": 0, \"ticks\": \"\"}, \"type\": \"contourcarpet\"}], \"heatmap\": [{\"colorbar\": {\"outlinewidth\": 0, \"ticks\": \"\"}, \"colorscale\": [[0.0, \"#0d0887\"], [0.1111111111111111, \"#46039f\"], [0.2222222222222222, \"#7201a8\"], [0.3333333333333333, \"#9c179e\"], [0.4444444444444444, \"#bd3786\"], [0.5555555555555556, \"#d8576b\"], [0.6666666666666666, \"#ed7953\"], [0.7777777777777778, \"#fb9f3a\"], [0.8888888888888888, \"#fdca26\"], [1.0, \"#f0f921\"]], \"type\": \"heatmap\"}], \"heatmapgl\": [{\"colorbar\": {\"outlinewidth\": 0, \"ticks\": \"\"}, \"colorscale\": [[0.0, \"#0d0887\"], [0.1111111111111111, \"#46039f\"], [0.2222222222222222, \"#7201a8\"], [0.3333333333333333, \"#9c179e\"], [0.4444444444444444, \"#bd3786\"], [0.5555555555555556, \"#d8576b\"], [0.6666666666666666, \"#ed7953\"], [0.7777777777777778, \"#fb9f3a\"], [0.8888888888888888, \"#fdca26\"], [1.0, \"#f0f921\"]], \"type\": \"heatmapgl\"}], \"histogram\": [{\"marker\": {\"colorbar\": {\"outlinewidth\": 0, \"ticks\": \"\"}}, \"type\": \"histogram\"}], \"histogram2d\": [{\"colorbar\": {\"outlinewidth\": 0, \"ticks\": \"\"}, \"colorscale\": [[0.0, \"#0d0887\"], [0.1111111111111111, \"#46039f\"], [0.2222222222222222, \"#7201a8\"], [0.3333333333333333, \"#9c179e\"], [0.4444444444444444, \"#bd3786\"], [0.5555555555555556, \"#d8576b\"], [0.6666666666666666, \"#ed7953\"], [0.7777777777777778, \"#fb9f3a\"], [0.8888888888888888, \"#fdca26\"], [1.0, \"#f0f921\"]], \"type\": \"histogram2d\"}], \"histogram2dcontour\": [{\"colorbar\": {\"outlinewidth\": 0, \"ticks\": \"\"}, \"colorscale\": [[0.0, \"#0d0887\"], [0.1111111111111111, \"#46039f\"], [0.2222222222222222, \"#7201a8\"], [0.3333333333333333, \"#9c179e\"], [0.4444444444444444, \"#bd3786\"], [0.5555555555555556, \"#d8576b\"], [0.6666666666666666, \"#ed7953\"], [0.7777777777777778, \"#fb9f3a\"], [0.8888888888888888, \"#fdca26\"], [1.0, \"#f0f921\"]], \"type\": \"histogram2dcontour\"}], \"mesh3d\": [{\"colorbar\": {\"outlinewidth\": 0, \"ticks\": \"\"}, \"type\": \"mesh3d\"}], \"parcoords\": [{\"line\": {\"colorbar\": {\"outlinewidth\": 0, \"ticks\": \"\"}}, \"type\": \"parcoords\"}], \"pie\": [{\"automargin\": true, \"type\": \"pie\"}], \"scatter\": [{\"marker\": {\"colorbar\": {\"outlinewidth\": 0, \"ticks\": \"\"}}, \"type\": \"scatter\"}], \"scatter3d\": [{\"line\": {\"colorbar\": {\"outlinewidth\": 0, \"ticks\": \"\"}}, \"marker\": {\"colorbar\": {\"outlinewidth\": 0, \"ticks\": \"\"}}, \"type\": \"scatter3d\"}], \"scattercarpet\": [{\"marker\": {\"colorbar\": {\"outlinewidth\": 0, \"ticks\": \"\"}}, \"type\": \"scattercarpet\"}], \"scattergeo\": [{\"marker\": {\"colorbar\": {\"outlinewidth\": 0, \"ticks\": \"\"}}, \"type\": \"scattergeo\"}], \"scattergl\": [{\"marker\": {\"colorbar\": {\"outlinewidth\": 0, \"ticks\": \"\"}}, \"type\": \"scattergl\"}], \"scattermapbox\": [{\"marker\": {\"colorbar\": {\"outlinewidth\": 0, \"ticks\": \"\"}}, \"type\": \"scattermapbox\"}], \"scatterpolar\": [{\"marker\": {\"colorbar\": {\"outlinewidth\": 0, \"ticks\": \"\"}}, \"type\": \"scatterpolar\"}], \"scatterpolargl\": [{\"marker\": {\"colorbar\": {\"outlinewidth\": 0, \"ticks\": \"\"}}, \"type\": \"scatterpolargl\"}], \"scatterternary\": [{\"marker\": {\"colorbar\": {\"outlinewidth\": 0, \"ticks\": \"\"}}, \"type\": \"scatterternary\"}], \"surface\": [{\"colorbar\": {\"outlinewidth\": 0, \"ticks\": \"\"}, \"colorscale\": [[0.0, \"#0d0887\"], [0.1111111111111111, \"#46039f\"], [0.2222222222222222, \"#7201a8\"], [0.3333333333333333, \"#9c179e\"], [0.4444444444444444, \"#bd3786\"], [0.5555555555555556, \"#d8576b\"], [0.6666666666666666, \"#ed7953\"], [0.7777777777777778, \"#fb9f3a\"], [0.8888888888888888, \"#fdca26\"], [1.0, \"#f0f921\"]], \"type\": \"surface\"}], \"table\": [{\"cells\": {\"fill\": {\"color\": \"#EBF0F8\"}, \"line\": {\"color\": \"white\"}}, \"header\": {\"fill\": {\"color\": \"#C8D4E3\"}, \"line\": {\"color\": \"white\"}}, \"type\": \"table\"}]}, \"layout\": {\"annotationdefaults\": {\"arrowcolor\": \"#2a3f5f\", \"arrowhead\": 0, \"arrowwidth\": 1}, \"autotypenumbers\": \"strict\", \"coloraxis\": {\"colorbar\": {\"outlinewidth\": 0, \"ticks\": \"\"}}, \"colorscale\": {\"diverging\": [[0, \"#8e0152\"], [0.1, \"#c51b7d\"], [0.2, \"#de77ae\"], [0.3, \"#f1b6da\"], [0.4, \"#fde0ef\"], [0.5, \"#f7f7f7\"], [0.6, \"#e6f5d0\"], [0.7, \"#b8e186\"], [0.8, \"#7fbc41\"], [0.9, \"#4d9221\"], [1, \"#276419\"]], \"sequential\": [[0.0, \"#0d0887\"], [0.1111111111111111, \"#46039f\"], [0.2222222222222222, \"#7201a8\"], [0.3333333333333333, \"#9c179e\"], [0.4444444444444444, \"#bd3786\"], [0.5555555555555556, \"#d8576b\"], [0.6666666666666666, \"#ed7953\"], [0.7777777777777778, \"#fb9f3a\"], [0.8888888888888888, \"#fdca26\"], [1.0, \"#f0f921\"]], \"sequentialminus\": [[0.0, \"#0d0887\"], [0.1111111111111111, \"#46039f\"], [0.2222222222222222, \"#7201a8\"], [0.3333333333333333, \"#9c179e\"], [0.4444444444444444, \"#bd3786\"], [0.5555555555555556, \"#d8576b\"], [0.6666666666666666, \"#ed7953\"], [0.7777777777777778, \"#fb9f3a\"], [0.8888888888888888, \"#fdca26\"], [1.0, \"#f0f921\"]]}, \"colorway\": [\"#636efa\", \"#EF553B\", \"#00cc96\", \"#ab63fa\", \"#FFA15A\", \"#19d3f3\", \"#FF6692\", \"#B6E880\", \"#FF97FF\", \"#FECB52\"], \"font\": {\"color\": \"#2a3f5f\"}, \"geo\": {\"bgcolor\": \"white\", \"lakecolor\": \"white\", \"landcolor\": \"#E5ECF6\", \"showlakes\": true, \"showland\": true, \"subunitcolor\": \"white\"}, \"hoverlabel\": {\"align\": \"left\"}, \"hovermode\": \"closest\", \"mapbox\": {\"style\": \"light\"}, \"paper_bgcolor\": \"white\", \"plot_bgcolor\": \"#E5ECF6\", \"polar\": {\"angularaxis\": {\"gridcolor\": \"white\", \"linecolor\": \"white\", \"ticks\": \"\"}, \"bgcolor\": \"#E5ECF6\", \"radialaxis\": {\"gridcolor\": \"white\", \"linecolor\": \"white\", \"ticks\": \"\"}}, \"scene\": {\"xaxis\": {\"backgroundcolor\": \"#E5ECF6\", \"gridcolor\": \"white\", \"gridwidth\": 2, \"linecolor\": \"white\", \"showbackground\": true, \"ticks\": \"\", \"zerolinecolor\": \"white\"}, \"yaxis\": {\"backgroundcolor\": \"#E5ECF6\", \"gridcolor\": \"white\", \"gridwidth\": 2, \"linecolor\": \"white\", \"showbackground\": true, \"ticks\": \"\", \"zerolinecolor\": \"white\"}, \"zaxis\": {\"backgroundcolor\": \"#E5ECF6\", \"gridcolor\": \"white\", \"gridwidth\": 2, \"linecolor\": \"white\", \"showbackground\": true, \"ticks\": \"\", \"zerolinecolor\": \"white\"}}, \"shapedefaults\": {\"line\": {\"color\": \"#2a3f5f\"}}, \"ternary\": {\"aaxis\": {\"gridcolor\": \"white\", \"linecolor\": \"white\", \"ticks\": \"\"}, \"baxis\": {\"gridcolor\": \"white\", \"linecolor\": \"white\", \"ticks\": \"\"}, \"bgcolor\": \"#E5ECF6\", \"caxis\": {\"gridcolor\": \"white\", \"linecolor\": \"white\", \"ticks\": \"\"}}, \"title\": {\"x\": 0.05}, \"xaxis\": {\"automargin\": true, \"gridcolor\": \"white\", \"linecolor\": \"white\", \"ticks\": \"\", \"title\": {\"standoff\": 15}, \"zerolinecolor\": \"white\", \"zerolinewidth\": 2}, \"yaxis\": {\"automargin\": true, \"gridcolor\": \"white\", \"linecolor\": \"white\", \"ticks\": \"\", \"title\": {\"standoff\": 15}, \"zerolinecolor\": \"white\", \"zerolinewidth\": 2}}}, \"title\": {\"font\": {\"color\": \"#4D5663\"}}, \"xaxis\": {\"gridcolor\": \"#E1E5ED\", \"showgrid\": true, \"tickfont\": {\"color\": \"#4D5663\"}, \"title\": {\"font\": {\"color\": \"#4D5663\"}, \"text\": \"\"}, \"zerolinecolor\": \"#E1E5ED\"}, \"yaxis\": {\"gridcolor\": \"#E1E5ED\", \"showgrid\": true, \"tickfont\": {\"color\": \"#4D5663\"}, \"title\": {\"font\": {\"color\": \"#4D5663\"}, \"text\": \"\"}, \"zerolinecolor\": \"#E1E5ED\"}},                        {\"showLink\": true, \"linkText\": \"Export to plot.ly\", \"plotlyServerURL\": \"https://plot.ly\", \"responsive\": true}                    ).then(function(){\n                            \nvar gd = document.getElementById('0e2ad0bc-68ea-497b-9e98-551a416134ad');\nvar x = new MutationObserver(function (mutations, observer) {{\n        var display = window.getComputedStyle(gd).display;\n        if (!display || display === 'none') {{\n            console.log([gd, 'removed!']);\n            Plotly.purge(gd);\n            observer.disconnect();\n        }}\n}});\n\n// Listen for the removal of the full notebook cells\nvar notebookContainer = gd.closest('#notebook-container');\nif (notebookContainer) {{\n    x.observe(notebookContainer, {childList: true});\n}}\n\n// Listen for the clearing of the current output cell\nvar outputEl = gd.closest('.output');\nif (outputEl) {{\n    x.observe(outputEl, {childList: true});\n}}\n\n                        })                };                });            </script>        </div>"
     },
     "metadata": {}
    }
   ],
   "source": [
    "df.iplot(kind='scatter', x='A', y='B', mode='markers') # adicionando o 'i' ao inicio do plot"
   ]
  },
  {
   "cell_type": "code",
   "execution_count": 22,
   "metadata": {},
   "outputs": [
    {
     "output_type": "display_data",
     "data": {
      "application/vnd.plotly.v1+json": {
       "config": {
        "linkText": "Export to plot.ly",
        "plotlyServerURL": "https://plot.ly",
        "showLink": true
       },
       "data": [
        {
         "marker": {
          "color": "rgba(255, 153, 51, 0.6)",
          "line": {
           "color": "rgba(255, 153, 51, 1.0)",
           "width": 1
          }
         },
         "name": "Valores",
         "orientation": "v",
         "text": "",
         "type": "bar",
         "x": [
          "A",
          "B",
          "C"
         ],
         "y": [
          32,
          43,
          50
         ]
        }
       ],
       "layout": {
        "legend": {
         "bgcolor": "#F5F6F9",
         "font": {
          "color": "#4D5663"
         }
        },
        "paper_bgcolor": "#F5F6F9",
        "plot_bgcolor": "#F5F6F9",
        "template": {
         "data": {
          "bar": [
           {
            "error_x": {
             "color": "#2a3f5f"
            },
            "error_y": {
             "color": "#2a3f5f"
            },
            "marker": {
             "line": {
              "color": "#E5ECF6",
              "width": 0.5
             }
            },
            "type": "bar"
           }
          ],
          "barpolar": [
           {
            "marker": {
             "line": {
              "color": "#E5ECF6",
              "width": 0.5
             }
            },
            "type": "barpolar"
           }
          ],
          "carpet": [
           {
            "aaxis": {
             "endlinecolor": "#2a3f5f",
             "gridcolor": "white",
             "linecolor": "white",
             "minorgridcolor": "white",
             "startlinecolor": "#2a3f5f"
            },
            "baxis": {
             "endlinecolor": "#2a3f5f",
             "gridcolor": "white",
             "linecolor": "white",
             "minorgridcolor": "white",
             "startlinecolor": "#2a3f5f"
            },
            "type": "carpet"
           }
          ],
          "choropleth": [
           {
            "colorbar": {
             "outlinewidth": 0,
             "ticks": ""
            },
            "type": "choropleth"
           }
          ],
          "contour": [
           {
            "colorbar": {
             "outlinewidth": 0,
             "ticks": ""
            },
            "colorscale": [
             [
              0,
              "#0d0887"
             ],
             [
              0.1111111111111111,
              "#46039f"
             ],
             [
              0.2222222222222222,
              "#7201a8"
             ],
             [
              0.3333333333333333,
              "#9c179e"
             ],
             [
              0.4444444444444444,
              "#bd3786"
             ],
             [
              0.5555555555555556,
              "#d8576b"
             ],
             [
              0.6666666666666666,
              "#ed7953"
             ],
             [
              0.7777777777777778,
              "#fb9f3a"
             ],
             [
              0.8888888888888888,
              "#fdca26"
             ],
             [
              1,
              "#f0f921"
             ]
            ],
            "type": "contour"
           }
          ],
          "contourcarpet": [
           {
            "colorbar": {
             "outlinewidth": 0,
             "ticks": ""
            },
            "type": "contourcarpet"
           }
          ],
          "heatmap": [
           {
            "colorbar": {
             "outlinewidth": 0,
             "ticks": ""
            },
            "colorscale": [
             [
              0,
              "#0d0887"
             ],
             [
              0.1111111111111111,
              "#46039f"
             ],
             [
              0.2222222222222222,
              "#7201a8"
             ],
             [
              0.3333333333333333,
              "#9c179e"
             ],
             [
              0.4444444444444444,
              "#bd3786"
             ],
             [
              0.5555555555555556,
              "#d8576b"
             ],
             [
              0.6666666666666666,
              "#ed7953"
             ],
             [
              0.7777777777777778,
              "#fb9f3a"
             ],
             [
              0.8888888888888888,
              "#fdca26"
             ],
             [
              1,
              "#f0f921"
             ]
            ],
            "type": "heatmap"
           }
          ],
          "heatmapgl": [
           {
            "colorbar": {
             "outlinewidth": 0,
             "ticks": ""
            },
            "colorscale": [
             [
              0,
              "#0d0887"
             ],
             [
              0.1111111111111111,
              "#46039f"
             ],
             [
              0.2222222222222222,
              "#7201a8"
             ],
             [
              0.3333333333333333,
              "#9c179e"
             ],
             [
              0.4444444444444444,
              "#bd3786"
             ],
             [
              0.5555555555555556,
              "#d8576b"
             ],
             [
              0.6666666666666666,
              "#ed7953"
             ],
             [
              0.7777777777777778,
              "#fb9f3a"
             ],
             [
              0.8888888888888888,
              "#fdca26"
             ],
             [
              1,
              "#f0f921"
             ]
            ],
            "type": "heatmapgl"
           }
          ],
          "histogram": [
           {
            "marker": {
             "colorbar": {
              "outlinewidth": 0,
              "ticks": ""
             }
            },
            "type": "histogram"
           }
          ],
          "histogram2d": [
           {
            "colorbar": {
             "outlinewidth": 0,
             "ticks": ""
            },
            "colorscale": [
             [
              0,
              "#0d0887"
             ],
             [
              0.1111111111111111,
              "#46039f"
             ],
             [
              0.2222222222222222,
              "#7201a8"
             ],
             [
              0.3333333333333333,
              "#9c179e"
             ],
             [
              0.4444444444444444,
              "#bd3786"
             ],
             [
              0.5555555555555556,
              "#d8576b"
             ],
             [
              0.6666666666666666,
              "#ed7953"
             ],
             [
              0.7777777777777778,
              "#fb9f3a"
             ],
             [
              0.8888888888888888,
              "#fdca26"
             ],
             [
              1,
              "#f0f921"
             ]
            ],
            "type": "histogram2d"
           }
          ],
          "histogram2dcontour": [
           {
            "colorbar": {
             "outlinewidth": 0,
             "ticks": ""
            },
            "colorscale": [
             [
              0,
              "#0d0887"
             ],
             [
              0.1111111111111111,
              "#46039f"
             ],
             [
              0.2222222222222222,
              "#7201a8"
             ],
             [
              0.3333333333333333,
              "#9c179e"
             ],
             [
              0.4444444444444444,
              "#bd3786"
             ],
             [
              0.5555555555555556,
              "#d8576b"
             ],
             [
              0.6666666666666666,
              "#ed7953"
             ],
             [
              0.7777777777777778,
              "#fb9f3a"
             ],
             [
              0.8888888888888888,
              "#fdca26"
             ],
             [
              1,
              "#f0f921"
             ]
            ],
            "type": "histogram2dcontour"
           }
          ],
          "mesh3d": [
           {
            "colorbar": {
             "outlinewidth": 0,
             "ticks": ""
            },
            "type": "mesh3d"
           }
          ],
          "parcoords": [
           {
            "line": {
             "colorbar": {
              "outlinewidth": 0,
              "ticks": ""
             }
            },
            "type": "parcoords"
           }
          ],
          "pie": [
           {
            "automargin": true,
            "type": "pie"
           }
          ],
          "scatter": [
           {
            "marker": {
             "colorbar": {
              "outlinewidth": 0,
              "ticks": ""
             }
            },
            "type": "scatter"
           }
          ],
          "scatter3d": [
           {
            "line": {
             "colorbar": {
              "outlinewidth": 0,
              "ticks": ""
             }
            },
            "marker": {
             "colorbar": {
              "outlinewidth": 0,
              "ticks": ""
             }
            },
            "type": "scatter3d"
           }
          ],
          "scattercarpet": [
           {
            "marker": {
             "colorbar": {
              "outlinewidth": 0,
              "ticks": ""
             }
            },
            "type": "scattercarpet"
           }
          ],
          "scattergeo": [
           {
            "marker": {
             "colorbar": {
              "outlinewidth": 0,
              "ticks": ""
             }
            },
            "type": "scattergeo"
           }
          ],
          "scattergl": [
           {
            "marker": {
             "colorbar": {
              "outlinewidth": 0,
              "ticks": ""
             }
            },
            "type": "scattergl"
           }
          ],
          "scattermapbox": [
           {
            "marker": {
             "colorbar": {
              "outlinewidth": 0,
              "ticks": ""
             }
            },
            "type": "scattermapbox"
           }
          ],
          "scatterpolar": [
           {
            "marker": {
             "colorbar": {
              "outlinewidth": 0,
              "ticks": ""
             }
            },
            "type": "scatterpolar"
           }
          ],
          "scatterpolargl": [
           {
            "marker": {
             "colorbar": {
              "outlinewidth": 0,
              "ticks": ""
             }
            },
            "type": "scatterpolargl"
           }
          ],
          "scatterternary": [
           {
            "marker": {
             "colorbar": {
              "outlinewidth": 0,
              "ticks": ""
             }
            },
            "type": "scatterternary"
           }
          ],
          "surface": [
           {
            "colorbar": {
             "outlinewidth": 0,
             "ticks": ""
            },
            "colorscale": [
             [
              0,
              "#0d0887"
             ],
             [
              0.1111111111111111,
              "#46039f"
             ],
             [
              0.2222222222222222,
              "#7201a8"
             ],
             [
              0.3333333333333333,
              "#9c179e"
             ],
             [
              0.4444444444444444,
              "#bd3786"
             ],
             [
              0.5555555555555556,
              "#d8576b"
             ],
             [
              0.6666666666666666,
              "#ed7953"
             ],
             [
              0.7777777777777778,
              "#fb9f3a"
             ],
             [
              0.8888888888888888,
              "#fdca26"
             ],
             [
              1,
              "#f0f921"
             ]
            ],
            "type": "surface"
           }
          ],
          "table": [
           {
            "cells": {
             "fill": {
              "color": "#EBF0F8"
             },
             "line": {
              "color": "white"
             }
            },
            "header": {
             "fill": {
              "color": "#C8D4E3"
             },
             "line": {
              "color": "white"
             }
            },
            "type": "table"
           }
          ]
         },
         "layout": {
          "annotationdefaults": {
           "arrowcolor": "#2a3f5f",
           "arrowhead": 0,
           "arrowwidth": 1
          },
          "autotypenumbers": "strict",
          "coloraxis": {
           "colorbar": {
            "outlinewidth": 0,
            "ticks": ""
           }
          },
          "colorscale": {
           "diverging": [
            [
             0,
             "#8e0152"
            ],
            [
             0.1,
             "#c51b7d"
            ],
            [
             0.2,
             "#de77ae"
            ],
            [
             0.3,
             "#f1b6da"
            ],
            [
             0.4,
             "#fde0ef"
            ],
            [
             0.5,
             "#f7f7f7"
            ],
            [
             0.6,
             "#e6f5d0"
            ],
            [
             0.7,
             "#b8e186"
            ],
            [
             0.8,
             "#7fbc41"
            ],
            [
             0.9,
             "#4d9221"
            ],
            [
             1,
             "#276419"
            ]
           ],
           "sequential": [
            [
             0,
             "#0d0887"
            ],
            [
             0.1111111111111111,
             "#46039f"
            ],
            [
             0.2222222222222222,
             "#7201a8"
            ],
            [
             0.3333333333333333,
             "#9c179e"
            ],
            [
             0.4444444444444444,
             "#bd3786"
            ],
            [
             0.5555555555555556,
             "#d8576b"
            ],
            [
             0.6666666666666666,
             "#ed7953"
            ],
            [
             0.7777777777777778,
             "#fb9f3a"
            ],
            [
             0.8888888888888888,
             "#fdca26"
            ],
            [
             1,
             "#f0f921"
            ]
           ],
           "sequentialminus": [
            [
             0,
             "#0d0887"
            ],
            [
             0.1111111111111111,
             "#46039f"
            ],
            [
             0.2222222222222222,
             "#7201a8"
            ],
            [
             0.3333333333333333,
             "#9c179e"
            ],
            [
             0.4444444444444444,
             "#bd3786"
            ],
            [
             0.5555555555555556,
             "#d8576b"
            ],
            [
             0.6666666666666666,
             "#ed7953"
            ],
            [
             0.7777777777777778,
             "#fb9f3a"
            ],
            [
             0.8888888888888888,
             "#fdca26"
            ],
            [
             1,
             "#f0f921"
            ]
           ]
          },
          "colorway": [
           "#636efa",
           "#EF553B",
           "#00cc96",
           "#ab63fa",
           "#FFA15A",
           "#19d3f3",
           "#FF6692",
           "#B6E880",
           "#FF97FF",
           "#FECB52"
          ],
          "font": {
           "color": "#2a3f5f"
          },
          "geo": {
           "bgcolor": "white",
           "lakecolor": "white",
           "landcolor": "#E5ECF6",
           "showlakes": true,
           "showland": true,
           "subunitcolor": "white"
          },
          "hoverlabel": {
           "align": "left"
          },
          "hovermode": "closest",
          "mapbox": {
           "style": "light"
          },
          "paper_bgcolor": "white",
          "plot_bgcolor": "#E5ECF6",
          "polar": {
           "angularaxis": {
            "gridcolor": "white",
            "linecolor": "white",
            "ticks": ""
           },
           "bgcolor": "#E5ECF6",
           "radialaxis": {
            "gridcolor": "white",
            "linecolor": "white",
            "ticks": ""
           }
          },
          "scene": {
           "xaxis": {
            "backgroundcolor": "#E5ECF6",
            "gridcolor": "white",
            "gridwidth": 2,
            "linecolor": "white",
            "showbackground": true,
            "ticks": "",
            "zerolinecolor": "white"
           },
           "yaxis": {
            "backgroundcolor": "#E5ECF6",
            "gridcolor": "white",
            "gridwidth": 2,
            "linecolor": "white",
            "showbackground": true,
            "ticks": "",
            "zerolinecolor": "white"
           },
           "zaxis": {
            "backgroundcolor": "#E5ECF6",
            "gridcolor": "white",
            "gridwidth": 2,
            "linecolor": "white",
            "showbackground": true,
            "ticks": "",
            "zerolinecolor": "white"
           }
          },
          "shapedefaults": {
           "line": {
            "color": "#2a3f5f"
           }
          },
          "ternary": {
           "aaxis": {
            "gridcolor": "white",
            "linecolor": "white",
            "ticks": ""
           },
           "baxis": {
            "gridcolor": "white",
            "linecolor": "white",
            "ticks": ""
           },
           "bgcolor": "#E5ECF6",
           "caxis": {
            "gridcolor": "white",
            "linecolor": "white",
            "ticks": ""
           }
          },
          "title": {
           "x": 0.05
          },
          "xaxis": {
           "automargin": true,
           "gridcolor": "white",
           "linecolor": "white",
           "ticks": "",
           "title": {
            "standoff": 15
           },
           "zerolinecolor": "white",
           "zerolinewidth": 2
          },
          "yaxis": {
           "automargin": true,
           "gridcolor": "white",
           "linecolor": "white",
           "ticks": "",
           "title": {
            "standoff": 15
           },
           "zerolinecolor": "white",
           "zerolinewidth": 2
          }
         }
        },
        "title": {
         "font": {
          "color": "#4D5663"
         }
        },
        "xaxis": {
         "gridcolor": "#E1E5ED",
         "showgrid": true,
         "tickfont": {
          "color": "#4D5663"
         },
         "title": {
          "font": {
           "color": "#4D5663"
          },
          "text": ""
         },
         "zerolinecolor": "#E1E5ED"
        },
        "yaxis": {
         "gridcolor": "#E1E5ED",
         "showgrid": true,
         "tickfont": {
          "color": "#4D5663"
         },
         "title": {
          "font": {
           "color": "#4D5663"
          },
          "text": ""
         },
         "zerolinecolor": "#E1E5ED"
        }
       }
      },
      "text/html": "<div>                            <div id=\"e33dbfa7-e3c3-4ae2-b6d2-882b34dd2c07\" class=\"plotly-graph-div\" style=\"height:525px; width:100%;\"></div>            <script type=\"text/javascript\">                require([\"plotly\"], function(Plotly) {                    window.PLOTLYENV=window.PLOTLYENV || {};\n                    window.PLOTLYENV.BASE_URL='https://plot.ly';                                    if (document.getElementById(\"e33dbfa7-e3c3-4ae2-b6d2-882b34dd2c07\")) {                    Plotly.newPlot(                        \"e33dbfa7-e3c3-4ae2-b6d2-882b34dd2c07\",                        [{\"marker\": {\"color\": \"rgba(255, 153, 51, 0.6)\", \"line\": {\"color\": \"rgba(255, 153, 51, 1.0)\", \"width\": 1}}, \"name\": \"Valores\", \"orientation\": \"v\", \"text\": \"\", \"type\": \"bar\", \"x\": [\"A\", \"B\", \"C\"], \"y\": [32, 43, 50]}],                        {\"legend\": {\"bgcolor\": \"#F5F6F9\", \"font\": {\"color\": \"#4D5663\"}}, \"paper_bgcolor\": \"#F5F6F9\", \"plot_bgcolor\": \"#F5F6F9\", \"template\": {\"data\": {\"bar\": [{\"error_x\": {\"color\": \"#2a3f5f\"}, \"error_y\": {\"color\": \"#2a3f5f\"}, \"marker\": {\"line\": {\"color\": \"#E5ECF6\", \"width\": 0.5}}, \"type\": \"bar\"}], \"barpolar\": [{\"marker\": {\"line\": {\"color\": \"#E5ECF6\", \"width\": 0.5}}, \"type\": \"barpolar\"}], \"carpet\": [{\"aaxis\": {\"endlinecolor\": \"#2a3f5f\", \"gridcolor\": \"white\", \"linecolor\": \"white\", \"minorgridcolor\": \"white\", \"startlinecolor\": \"#2a3f5f\"}, \"baxis\": {\"endlinecolor\": \"#2a3f5f\", \"gridcolor\": \"white\", \"linecolor\": \"white\", \"minorgridcolor\": \"white\", \"startlinecolor\": \"#2a3f5f\"}, \"type\": \"carpet\"}], \"choropleth\": [{\"colorbar\": {\"outlinewidth\": 0, \"ticks\": \"\"}, \"type\": \"choropleth\"}], \"contour\": [{\"colorbar\": {\"outlinewidth\": 0, \"ticks\": \"\"}, \"colorscale\": [[0.0, \"#0d0887\"], [0.1111111111111111, \"#46039f\"], [0.2222222222222222, \"#7201a8\"], [0.3333333333333333, \"#9c179e\"], [0.4444444444444444, \"#bd3786\"], [0.5555555555555556, \"#d8576b\"], [0.6666666666666666, \"#ed7953\"], [0.7777777777777778, \"#fb9f3a\"], [0.8888888888888888, \"#fdca26\"], [1.0, \"#f0f921\"]], \"type\": \"contour\"}], \"contourcarpet\": [{\"colorbar\": {\"outlinewidth\": 0, \"ticks\": \"\"}, \"type\": \"contourcarpet\"}], \"heatmap\": [{\"colorbar\": {\"outlinewidth\": 0, \"ticks\": \"\"}, \"colorscale\": [[0.0, \"#0d0887\"], [0.1111111111111111, \"#46039f\"], [0.2222222222222222, \"#7201a8\"], [0.3333333333333333, \"#9c179e\"], [0.4444444444444444, \"#bd3786\"], [0.5555555555555556, \"#d8576b\"], [0.6666666666666666, \"#ed7953\"], [0.7777777777777778, \"#fb9f3a\"], [0.8888888888888888, \"#fdca26\"], [1.0, \"#f0f921\"]], \"type\": \"heatmap\"}], \"heatmapgl\": [{\"colorbar\": {\"outlinewidth\": 0, \"ticks\": \"\"}, \"colorscale\": [[0.0, \"#0d0887\"], [0.1111111111111111, \"#46039f\"], [0.2222222222222222, \"#7201a8\"], [0.3333333333333333, \"#9c179e\"], [0.4444444444444444, \"#bd3786\"], [0.5555555555555556, \"#d8576b\"], [0.6666666666666666, \"#ed7953\"], [0.7777777777777778, \"#fb9f3a\"], [0.8888888888888888, \"#fdca26\"], [1.0, \"#f0f921\"]], \"type\": \"heatmapgl\"}], \"histogram\": [{\"marker\": {\"colorbar\": {\"outlinewidth\": 0, \"ticks\": \"\"}}, \"type\": \"histogram\"}], \"histogram2d\": [{\"colorbar\": {\"outlinewidth\": 0, \"ticks\": \"\"}, \"colorscale\": [[0.0, \"#0d0887\"], [0.1111111111111111, \"#46039f\"], [0.2222222222222222, \"#7201a8\"], [0.3333333333333333, \"#9c179e\"], [0.4444444444444444, \"#bd3786\"], [0.5555555555555556, \"#d8576b\"], [0.6666666666666666, \"#ed7953\"], [0.7777777777777778, \"#fb9f3a\"], [0.8888888888888888, \"#fdca26\"], [1.0, \"#f0f921\"]], \"type\": \"histogram2d\"}], \"histogram2dcontour\": [{\"colorbar\": {\"outlinewidth\": 0, \"ticks\": \"\"}, \"colorscale\": [[0.0, \"#0d0887\"], [0.1111111111111111, \"#46039f\"], [0.2222222222222222, \"#7201a8\"], [0.3333333333333333, \"#9c179e\"], [0.4444444444444444, \"#bd3786\"], [0.5555555555555556, \"#d8576b\"], [0.6666666666666666, \"#ed7953\"], [0.7777777777777778, \"#fb9f3a\"], [0.8888888888888888, \"#fdca26\"], [1.0, \"#f0f921\"]], \"type\": \"histogram2dcontour\"}], \"mesh3d\": [{\"colorbar\": {\"outlinewidth\": 0, \"ticks\": \"\"}, \"type\": \"mesh3d\"}], \"parcoords\": [{\"line\": {\"colorbar\": {\"outlinewidth\": 0, \"ticks\": \"\"}}, \"type\": \"parcoords\"}], \"pie\": [{\"automargin\": true, \"type\": \"pie\"}], \"scatter\": [{\"marker\": {\"colorbar\": {\"outlinewidth\": 0, \"ticks\": \"\"}}, \"type\": \"scatter\"}], \"scatter3d\": [{\"line\": {\"colorbar\": {\"outlinewidth\": 0, \"ticks\": \"\"}}, \"marker\": {\"colorbar\": {\"outlinewidth\": 0, \"ticks\": \"\"}}, \"type\": \"scatter3d\"}], \"scattercarpet\": [{\"marker\": {\"colorbar\": {\"outlinewidth\": 0, \"ticks\": \"\"}}, \"type\": \"scattercarpet\"}], \"scattergeo\": [{\"marker\": {\"colorbar\": {\"outlinewidth\": 0, \"ticks\": \"\"}}, \"type\": \"scattergeo\"}], \"scattergl\": [{\"marker\": {\"colorbar\": {\"outlinewidth\": 0, \"ticks\": \"\"}}, \"type\": \"scattergl\"}], \"scattermapbox\": [{\"marker\": {\"colorbar\": {\"outlinewidth\": 0, \"ticks\": \"\"}}, \"type\": \"scattermapbox\"}], \"scatterpolar\": [{\"marker\": {\"colorbar\": {\"outlinewidth\": 0, \"ticks\": \"\"}}, \"type\": \"scatterpolar\"}], \"scatterpolargl\": [{\"marker\": {\"colorbar\": {\"outlinewidth\": 0, \"ticks\": \"\"}}, \"type\": \"scatterpolargl\"}], \"scatterternary\": [{\"marker\": {\"colorbar\": {\"outlinewidth\": 0, \"ticks\": \"\"}}, \"type\": \"scatterternary\"}], \"surface\": [{\"colorbar\": {\"outlinewidth\": 0, \"ticks\": \"\"}, \"colorscale\": [[0.0, \"#0d0887\"], [0.1111111111111111, \"#46039f\"], [0.2222222222222222, \"#7201a8\"], [0.3333333333333333, \"#9c179e\"], [0.4444444444444444, \"#bd3786\"], [0.5555555555555556, \"#d8576b\"], [0.6666666666666666, \"#ed7953\"], [0.7777777777777778, \"#fb9f3a\"], [0.8888888888888888, \"#fdca26\"], [1.0, \"#f0f921\"]], \"type\": \"surface\"}], \"table\": [{\"cells\": {\"fill\": {\"color\": \"#EBF0F8\"}, \"line\": {\"color\": \"white\"}}, \"header\": {\"fill\": {\"color\": \"#C8D4E3\"}, \"line\": {\"color\": \"white\"}}, \"type\": \"table\"}]}, \"layout\": {\"annotationdefaults\": {\"arrowcolor\": \"#2a3f5f\", \"arrowhead\": 0, \"arrowwidth\": 1}, \"autotypenumbers\": \"strict\", \"coloraxis\": {\"colorbar\": {\"outlinewidth\": 0, \"ticks\": \"\"}}, \"colorscale\": {\"diverging\": [[0, \"#8e0152\"], [0.1, \"#c51b7d\"], [0.2, \"#de77ae\"], [0.3, \"#f1b6da\"], [0.4, \"#fde0ef\"], [0.5, \"#f7f7f7\"], [0.6, \"#e6f5d0\"], [0.7, \"#b8e186\"], [0.8, \"#7fbc41\"], [0.9, \"#4d9221\"], [1, \"#276419\"]], \"sequential\": [[0.0, \"#0d0887\"], [0.1111111111111111, \"#46039f\"], [0.2222222222222222, \"#7201a8\"], [0.3333333333333333, \"#9c179e\"], [0.4444444444444444, \"#bd3786\"], [0.5555555555555556, \"#d8576b\"], [0.6666666666666666, \"#ed7953\"], [0.7777777777777778, \"#fb9f3a\"], [0.8888888888888888, \"#fdca26\"], [1.0, \"#f0f921\"]], \"sequentialminus\": [[0.0, \"#0d0887\"], [0.1111111111111111, \"#46039f\"], [0.2222222222222222, \"#7201a8\"], [0.3333333333333333, \"#9c179e\"], [0.4444444444444444, \"#bd3786\"], [0.5555555555555556, \"#d8576b\"], [0.6666666666666666, \"#ed7953\"], [0.7777777777777778, \"#fb9f3a\"], [0.8888888888888888, \"#fdca26\"], [1.0, \"#f0f921\"]]}, \"colorway\": [\"#636efa\", \"#EF553B\", \"#00cc96\", \"#ab63fa\", \"#FFA15A\", \"#19d3f3\", \"#FF6692\", \"#B6E880\", \"#FF97FF\", \"#FECB52\"], \"font\": {\"color\": \"#2a3f5f\"}, \"geo\": {\"bgcolor\": \"white\", \"lakecolor\": \"white\", \"landcolor\": \"#E5ECF6\", \"showlakes\": true, \"showland\": true, \"subunitcolor\": \"white\"}, \"hoverlabel\": {\"align\": \"left\"}, \"hovermode\": \"closest\", \"mapbox\": {\"style\": \"light\"}, \"paper_bgcolor\": \"white\", \"plot_bgcolor\": \"#E5ECF6\", \"polar\": {\"angularaxis\": {\"gridcolor\": \"white\", \"linecolor\": \"white\", \"ticks\": \"\"}, \"bgcolor\": \"#E5ECF6\", \"radialaxis\": {\"gridcolor\": \"white\", \"linecolor\": \"white\", \"ticks\": \"\"}}, \"scene\": {\"xaxis\": {\"backgroundcolor\": \"#E5ECF6\", \"gridcolor\": \"white\", \"gridwidth\": 2, \"linecolor\": \"white\", \"showbackground\": true, \"ticks\": \"\", \"zerolinecolor\": \"white\"}, \"yaxis\": {\"backgroundcolor\": \"#E5ECF6\", \"gridcolor\": \"white\", \"gridwidth\": 2, \"linecolor\": \"white\", \"showbackground\": true, \"ticks\": \"\", \"zerolinecolor\": \"white\"}, \"zaxis\": {\"backgroundcolor\": \"#E5ECF6\", \"gridcolor\": \"white\", \"gridwidth\": 2, \"linecolor\": \"white\", \"showbackground\": true, \"ticks\": \"\", \"zerolinecolor\": \"white\"}}, \"shapedefaults\": {\"line\": {\"color\": \"#2a3f5f\"}}, \"ternary\": {\"aaxis\": {\"gridcolor\": \"white\", \"linecolor\": \"white\", \"ticks\": \"\"}, \"baxis\": {\"gridcolor\": \"white\", \"linecolor\": \"white\", \"ticks\": \"\"}, \"bgcolor\": \"#E5ECF6\", \"caxis\": {\"gridcolor\": \"white\", \"linecolor\": \"white\", \"ticks\": \"\"}}, \"title\": {\"x\": 0.05}, \"xaxis\": {\"automargin\": true, \"gridcolor\": \"white\", \"linecolor\": \"white\", \"ticks\": \"\", \"title\": {\"standoff\": 15}, \"zerolinecolor\": \"white\", \"zerolinewidth\": 2}, \"yaxis\": {\"automargin\": true, \"gridcolor\": \"white\", \"linecolor\": \"white\", \"ticks\": \"\", \"title\": {\"standoff\": 15}, \"zerolinecolor\": \"white\", \"zerolinewidth\": 2}}}, \"title\": {\"font\": {\"color\": \"#4D5663\"}}, \"xaxis\": {\"gridcolor\": \"#E1E5ED\", \"showgrid\": true, \"tickfont\": {\"color\": \"#4D5663\"}, \"title\": {\"font\": {\"color\": \"#4D5663\"}, \"text\": \"\"}, \"zerolinecolor\": \"#E1E5ED\"}, \"yaxis\": {\"gridcolor\": \"#E1E5ED\", \"showgrid\": true, \"tickfont\": {\"color\": \"#4D5663\"}, \"title\": {\"font\": {\"color\": \"#4D5663\"}, \"text\": \"\"}, \"zerolinecolor\": \"#E1E5ED\"}},                        {\"showLink\": true, \"linkText\": \"Export to plot.ly\", \"plotlyServerURL\": \"https://plot.ly\", \"responsive\": true}                    ).then(function(){\n                            \nvar gd = document.getElementById('e33dbfa7-e3c3-4ae2-b6d2-882b34dd2c07');\nvar x = new MutationObserver(function (mutations, observer) {{\n        var display = window.getComputedStyle(gd).display;\n        if (!display || display === 'none') {{\n            console.log([gd, 'removed!']);\n            Plotly.purge(gd);\n            observer.disconnect();\n        }}\n}});\n\n// Listen for the removal of the full notebook cells\nvar notebookContainer = gd.closest('#notebook-container');\nif (notebookContainer) {{\n    x.observe(notebookContainer, {childList: true});\n}}\n\n// Listen for the clearing of the current output cell\nvar outputEl = gd.closest('.output');\nif (outputEl) {{\n    x.observe(outputEl, {childList: true});\n}}\n\n                        })                };                });            </script>        </div>"
     },
     "metadata": {}
    }
   ],
   "source": [
    "df2.iplot(kind='bar', x='Categoria', y='Valores')"
   ]
  },
  {
   "cell_type": "code",
   "execution_count": 24,
   "metadata": {},
   "outputs": [
    {
     "output_type": "display_data",
     "data": {
      "application/vnd.plotly.v1+json": {
       "config": {
        "linkText": "Export to plot.ly",
        "plotlyServerURL": "https://plot.ly",
        "showLink": true
       },
       "data": [
        {
         "marker": {
          "color": "rgba(255, 153, 51, 0.6)",
          "line": {
           "color": "rgba(255, 153, 51, 1.0)",
           "width": 1
          }
         },
         "name": "A",
         "orientation": "v",
         "text": "",
         "type": "bar",
         "x": [
          0,
          1,
          2,
          3,
          4,
          5,
          6,
          7,
          8,
          9,
          10,
          11,
          12,
          13,
          14,
          15,
          16,
          17,
          18,
          19,
          20,
          21,
          22,
          23,
          24,
          25,
          26,
          27,
          28,
          29,
          30,
          31,
          32,
          33,
          34,
          35,
          36,
          37,
          38,
          39,
          40,
          41,
          42,
          43,
          44,
          45,
          46,
          47,
          48,
          49,
          50,
          51,
          52,
          53,
          54,
          55,
          56,
          57,
          58,
          59,
          60,
          61,
          62,
          63,
          64,
          65,
          66,
          67,
          68,
          69,
          70,
          71,
          72,
          73,
          74,
          75,
          76,
          77,
          78,
          79,
          80,
          81,
          82,
          83,
          84,
          85,
          86,
          87,
          88,
          89,
          90,
          91,
          92,
          93,
          94,
          95,
          96,
          97,
          98,
          99
         ],
         "y": [
          0.5465783073064772,
          -0.29266683075288924,
          0.6231870996745854,
          -0.834383727710256,
          0.07267124236383367,
          0.546609283854429,
          -1.131288781160773,
          0.9726279769132807,
          1.3036471779533993,
          0.09456737726953622,
          -1.4909951751412387,
          0.2486809006031248,
          -0.5041954963214929,
          1.090313604126461,
          0.5271065162022843,
          0.72996298455288,
          -0.5727674434124677,
          0.6981473528513243,
          0.42646244691734936,
          0.22561770627475097,
          1.3964635891379957,
          -1.028076763783862,
          -0.7918548050193706,
          0.6424988861128034,
          0.07700092744047617,
          0.2639476843988694,
          -1.3939121056913943,
          0.8022040203343273,
          -0.46413394434136784,
          0.2220320510302532,
          0.935281027468148,
          -0.7800155400860896,
          -0.416128340694564,
          1.3185965143422556,
          -0.9440127360391387,
          -0.6366557329525351,
          0.44540615728871885,
          -2.2642998115862225,
          -0.2850565034199015,
          1.0506044703218136,
          0.8378528542175177,
          -0.12868954137371466,
          -0.33798990823686026,
          0.1679192582551076,
          -0.9308238698161303,
          0.07517507846869902,
          0.5529139051581751,
          -0.6550066638750623,
          1.6622073144790908,
          -0.9563738629799234,
          -0.9039901786142885,
          -0.9224207152656744,
          0.7853020720624344,
          -0.9078645469319825,
          -1.0065774903612925,
          -0.6513350487302739,
          0.607897606343382,
          -0.7121619992871777,
          -1.0062801835740622,
          0.4151934066896479,
          0.42890807858108176,
          -1.4465094346493927,
          1.7219331417962913,
          -1.5053103553567573,
          -1.5460676762516719,
          -1.334470385973534,
          1.3820705239206281,
          1.149948100182805,
          0.48581062454288443,
          -2.9220312235168104,
          0.9688469690572168,
          0.4005785671067927,
          -1.7729643682929506,
          -2.254444960561575,
          2.8558789888409377,
          0.11684368509114042,
          -0.5921664352451752,
          -0.7669775175253448,
          0.3944947793185067,
          0.17970836550271987,
          0.7320087898796422,
          -0.3718994683294069,
          0.6490335347378919,
          1.61451773742073,
          2.2200311879880092,
          0.2652884204844432,
          -1.138292642211443,
          -1.0916461301727252,
          -0.6552002466498384,
          -0.17573927465249542,
          0.19807054658965803,
          -0.3135938770961247,
          0.9100592564889136,
          1.389689501439636,
          0.4571725986883691,
          -1.147513235584393,
          -0.2641384924636912,
          -2.4750908872422532,
          -0.3052555238066782,
          0.5126311294281619
         ]
        },
        {
         "marker": {
          "color": "rgba(55, 128, 191, 0.6)",
          "line": {
           "color": "rgba(55, 128, 191, 1.0)",
           "width": 1
          }
         },
         "name": "B",
         "orientation": "v",
         "text": "",
         "type": "bar",
         "x": [
          0,
          1,
          2,
          3,
          4,
          5,
          6,
          7,
          8,
          9,
          10,
          11,
          12,
          13,
          14,
          15,
          16,
          17,
          18,
          19,
          20,
          21,
          22,
          23,
          24,
          25,
          26,
          27,
          28,
          29,
          30,
          31,
          32,
          33,
          34,
          35,
          36,
          37,
          38,
          39,
          40,
          41,
          42,
          43,
          44,
          45,
          46,
          47,
          48,
          49,
          50,
          51,
          52,
          53,
          54,
          55,
          56,
          57,
          58,
          59,
          60,
          61,
          62,
          63,
          64,
          65,
          66,
          67,
          68,
          69,
          70,
          71,
          72,
          73,
          74,
          75,
          76,
          77,
          78,
          79,
          80,
          81,
          82,
          83,
          84,
          85,
          86,
          87,
          88,
          89,
          90,
          91,
          92,
          93,
          94,
          95,
          96,
          97,
          98,
          99
         ],
         "y": [
          -0.3210616890439768,
          0.014731334124076999,
          0.5366938623242867,
          -0.28347189457944116,
          0.045451557025280365,
          0.13459038631390496,
          0.7680897864672134,
          -0.5605600823698804,
          1.6570181797969776,
          0.6384146948817033,
          1.3887234430034054,
          -0.09505479464596212,
          0.3793871989929514,
          0.968138373003798,
          0.5570971336800378,
          -0.12022809907427562,
          1.225767443374642,
          -0.48103582404950523,
          0.31237187179067677,
          -1.5541642248570275,
          -0.0905732283356259,
          -0.7121648301099559,
          -0.8980559307398618,
          0.7505948170765744,
          -0.08743327787437438,
          0.7381569910231944,
          1.0578906584070804,
          0.609010499655325,
          -0.07991913941469375,
          -0.9809062194854374,
          -0.3927567552348754,
          1.1779490224473685,
          0.5861320936097942,
          -1.9586149587331063,
          -0.7503025630835873,
          2.111168813334928,
          1.1724683723332443,
          0.41124561482519084,
          -0.8073090559661715,
          -0.6001700359496503,
          0.924992852207575,
          0.564903133816479,
          -1.329485783727274,
          -0.9042900886398983,
          0.7446229259164912,
          -0.6664395834381821,
          1.790641696870415,
          -0.7000508417729924,
          -2.124025946845946,
          1.427339440341842,
          -0.023434047825694505,
          -2.184151730277451,
          -0.2743737245978753,
          0.08652959980978199,
          0.7073634897595449,
          0.5328211228340343,
          1.8902284648569976,
          0.21527531979477196,
          -1.7836858947922036,
          -0.3353688964873548,
          -1.1002301192684039,
          -0.6883952001486617,
          -1.5764860675414936,
          -0.6433657782077495,
          1.097576865535247,
          -0.023602921622034694,
          -0.029463692580862483,
          0.2358983482389432,
          0.27894641922849245,
          0.30550114510394016,
          0.8867657472418506,
          0.9319324919522,
          -0.01664626305233927,
          -0.5007055914851937,
          1.5554489026110867,
          0.3985089102148669,
          -1.7988728013549453,
          0.33490036387429,
          -0.3185069447544962,
          -0.10960628009446838,
          0.5677453220093496,
          -0.9445892255243346,
          -0.6654555763718258,
          1.3332815274819332,
          0.9620523328660819,
          0.0627271471645771,
          -1.5219745869359935,
          1.8456224867766633,
          0.35193461333641635,
          -0.6911844965770978,
          -1.9382109908973897,
          0.5101622352180557,
          0.04141713857864906,
          0.7348149162733385,
          0.08876588617886874,
          -0.20605819017878488,
          -0.5796140389078577,
          -0.27512891936251505,
          -1.108562305937151,
          0.83556234684711
         ]
        },
        {
         "marker": {
          "color": "rgba(50, 171, 96, 0.6)",
          "line": {
           "color": "rgba(50, 171, 96, 1.0)",
           "width": 1
          }
         },
         "name": "C",
         "orientation": "v",
         "text": "",
         "type": "bar",
         "x": [
          0,
          1,
          2,
          3,
          4,
          5,
          6,
          7,
          8,
          9,
          10,
          11,
          12,
          13,
          14,
          15,
          16,
          17,
          18,
          19,
          20,
          21,
          22,
          23,
          24,
          25,
          26,
          27,
          28,
          29,
          30,
          31,
          32,
          33,
          34,
          35,
          36,
          37,
          38,
          39,
          40,
          41,
          42,
          43,
          44,
          45,
          46,
          47,
          48,
          49,
          50,
          51,
          52,
          53,
          54,
          55,
          56,
          57,
          58,
          59,
          60,
          61,
          62,
          63,
          64,
          65,
          66,
          67,
          68,
          69,
          70,
          71,
          72,
          73,
          74,
          75,
          76,
          77,
          78,
          79,
          80,
          81,
          82,
          83,
          84,
          85,
          86,
          87,
          88,
          89,
          90,
          91,
          92,
          93,
          94,
          95,
          96,
          97,
          98,
          99
         ],
         "y": [
          -1.5746635555132593,
          -0.8208519487525724,
          0.13411839178356635,
          -1.073405727107703,
          0.8492878024289273,
          2.254601176611265,
          -1.0878769204610368,
          0.05491395788764352,
          -0.938550021253144,
          0.0831501541026087,
          -0.37161067823376354,
          -0.8357041894404749,
          1.1719737829000128,
          -0.6860518985881422,
          0.8375667994557933,
          -0.9397053484941409,
          -1.7889322349233618,
          -0.13110549339808994,
          -0.21790251118483994,
          1.0243507066626305,
          -1.393511551476447,
          0.7960398950108859,
          0.3376177013303217,
          -0.27719455186705055,
          -0.599024528281968,
          -1.0448750802566376,
          -0.3299792930259386,
          0.9414823910779461,
          0.8128194717871082,
          -2.0017279544076882,
          -0.11565056175803837,
          -0.39887050385009104,
          0.24681073229257872,
          0.07438133150679462,
          0.7674862118999634,
          -0.2870042449544319,
          0.1874362991542395,
          0.8852072086506295,
          -1.5070637961266762,
          1.4263336865955873,
          0.19878349333474926,
          0.9749485819616145,
          -0.6868121389520477,
          0.9166637700665273,
          0.3502501972642983,
          -0.690876281143508,
          -1.2704903637223155,
          0.7390724833594484,
          1.547695798213712,
          -0.7232647324890362,
          -0.178124208961265,
          0.49891936425176653,
          -0.829477671631334,
          1.0726449576062738,
          1.1913989599956993,
          1.2782170998335898,
          0.7979436445528246,
          -0.9147442814326879,
          -0.08208447048785322,
          -1.9173840888427844,
          -0.5552102564992429,
          0.9741457675696146,
          0.11704030109082995,
          -0.9933189766534842,
          0.09936221246799455,
          -0.4242039091357622,
          0.58729575045313,
          -0.8066782132707256,
          0.29490148525810694,
          1.1530225437432087,
          1.5171876792595087,
          0.7673025283554721,
          0.9011567252593459,
          -1.3638062823045671,
          -1.8237245334450118,
          1.0923484618951989,
          -1.1349063046921946,
          -0.5663122283761413,
          1.343150277224588,
          1.423518043952554,
          0.15021591350662922,
          0.2517358159883754,
          -0.04953946581698489,
          -0.06582562263824401,
          0.5096721099198526,
          -1.0242755455221242,
          -0.4763164697743531,
          0.6918087074211218,
          -0.21631606753447347,
          1.6824576992982336,
          -0.9763443880200405,
          0.535678872534667,
          0.2758679542206118,
          -2.8352977193601707,
          -0.0008868871502166775,
          -0.3202137870334289,
          -0.9645916325091594,
          -0.3588390703210608,
          -1.5672693194465956,
          -0.43850581048894766
         ]
        },
        {
         "marker": {
          "color": "rgba(128, 0, 128, 0.6)",
          "line": {
           "color": "rgba(128, 0, 128, 1.0)",
           "width": 1
          }
         },
         "name": "D",
         "orientation": "v",
         "text": "",
         "type": "bar",
         "x": [
          0,
          1,
          2,
          3,
          4,
          5,
          6,
          7,
          8,
          9,
          10,
          11,
          12,
          13,
          14,
          15,
          16,
          17,
          18,
          19,
          20,
          21,
          22,
          23,
          24,
          25,
          26,
          27,
          28,
          29,
          30,
          31,
          32,
          33,
          34,
          35,
          36,
          37,
          38,
          39,
          40,
          41,
          42,
          43,
          44,
          45,
          46,
          47,
          48,
          49,
          50,
          51,
          52,
          53,
          54,
          55,
          56,
          57,
          58,
          59,
          60,
          61,
          62,
          63,
          64,
          65,
          66,
          67,
          68,
          69,
          70,
          71,
          72,
          73,
          74,
          75,
          76,
          77,
          78,
          79,
          80,
          81,
          82,
          83,
          84,
          85,
          86,
          87,
          88,
          89,
          90,
          91,
          92,
          93,
          94,
          95,
          96,
          97,
          98,
          99
         ],
         "y": [
          1.3915284842186988,
          0.5185130094144702,
          -1.0606253421777951,
          -0.24460755193586287,
          0.8202241426829425,
          -0.887582315304925,
          -2.8538309597752867,
          -0.9735586571847238,
          1.450536278286463,
          1.2760657489482605,
          -1.5652882182832306,
          1.4645914708923071,
          0.09329788490746273,
          0.8057167710446781,
          1.0152273362785735,
          -0.7978662004859711,
          -0.8365744231983471,
          0.28424634824466244,
          -1.8915142256077258,
          0.3739809215343839,
          0.051329217894539,
          0.9256733937623756,
          -0.35179554429520843,
          -1.9033909214042593,
          0.45264744995978906,
          -0.5807322459220383,
          -0.11435315011914135,
          -0.30398911522147987,
          -0.08458819819471305,
          1.4295666865836059,
          -1.3657316946782658,
          0.5735423214731328,
          1.6572412107323413,
          -0.760872677119515,
          -1.2392615031108305,
          0.14803104558174862,
          -0.8561087960484719,
          -0.5128541761649891,
          -0.28488806627419583,
          -0.18465941989611753,
          -2.232825107959683,
          0.33473747004274823,
          0.6606241943088436,
          0.019623914803615285,
          -0.7584006645927847,
          2.8377835630481405,
          -0.6266276799272331,
          -0.6532095561165252,
          0.29170074098777793,
          -1.1665894943988193,
          -0.3376741908898411,
          1.0751891517480283,
          -0.6448449862168085,
          1.214573859061091,
          -0.034778294663861654,
          -0.6213694553867667,
          -1.0610596965100185,
          0.6479555596462478,
          0.9068247873074341,
          -1.5401656730162003,
          -0.7080391573628131,
          -0.7829170746864355,
          -0.4255437274019955,
          -0.3962885151997171,
          1.2386728246527157,
          -1.2016150089134001,
          0.5149137342604595,
          -0.7120689231800665,
          -0.9801118556510571,
          0.31712839974847895,
          0.9341300403425877,
          -0.7035089651286938,
          -0.5637510964979929,
          -0.40643637929223103,
          1.4717157907239993,
          -2.4316467529894203,
          1.8425226033591404,
          0.08085620949960143,
          -0.539388341835714,
          0.41145218196658184,
          1.7713082753781175,
          0.800238042387477,
          0.2907060923613845,
          0.6707859099022279,
          1.5618649336698032,
          0.6230978393033384,
          -0.9297961775205729,
          -2.369073884926949,
          -0.6835387244012849,
          1.4185669493114144,
          -0.449922261659089,
          0.37849098997281494,
          0.884469678375085,
          -2.378754245172478,
          -1.1934731790828719,
          0.12692321653002386,
          0.8237573446074903,
          -0.01818332015703452,
          0.9806165462699724,
          0.5801263631830152
         ]
        }
       ],
       "layout": {
        "legend": {
         "bgcolor": "#F5F6F9",
         "font": {
          "color": "#4D5663"
         }
        },
        "paper_bgcolor": "#F5F6F9",
        "plot_bgcolor": "#F5F6F9",
        "template": {
         "data": {
          "bar": [
           {
            "error_x": {
             "color": "#2a3f5f"
            },
            "error_y": {
             "color": "#2a3f5f"
            },
            "marker": {
             "line": {
              "color": "#E5ECF6",
              "width": 0.5
             }
            },
            "type": "bar"
           }
          ],
          "barpolar": [
           {
            "marker": {
             "line": {
              "color": "#E5ECF6",
              "width": 0.5
             }
            },
            "type": "barpolar"
           }
          ],
          "carpet": [
           {
            "aaxis": {
             "endlinecolor": "#2a3f5f",
             "gridcolor": "white",
             "linecolor": "white",
             "minorgridcolor": "white",
             "startlinecolor": "#2a3f5f"
            },
            "baxis": {
             "endlinecolor": "#2a3f5f",
             "gridcolor": "white",
             "linecolor": "white",
             "minorgridcolor": "white",
             "startlinecolor": "#2a3f5f"
            },
            "type": "carpet"
           }
          ],
          "choropleth": [
           {
            "colorbar": {
             "outlinewidth": 0,
             "ticks": ""
            },
            "type": "choropleth"
           }
          ],
          "contour": [
           {
            "colorbar": {
             "outlinewidth": 0,
             "ticks": ""
            },
            "colorscale": [
             [
              0,
              "#0d0887"
             ],
             [
              0.1111111111111111,
              "#46039f"
             ],
             [
              0.2222222222222222,
              "#7201a8"
             ],
             [
              0.3333333333333333,
              "#9c179e"
             ],
             [
              0.4444444444444444,
              "#bd3786"
             ],
             [
              0.5555555555555556,
              "#d8576b"
             ],
             [
              0.6666666666666666,
              "#ed7953"
             ],
             [
              0.7777777777777778,
              "#fb9f3a"
             ],
             [
              0.8888888888888888,
              "#fdca26"
             ],
             [
              1,
              "#f0f921"
             ]
            ],
            "type": "contour"
           }
          ],
          "contourcarpet": [
           {
            "colorbar": {
             "outlinewidth": 0,
             "ticks": ""
            },
            "type": "contourcarpet"
           }
          ],
          "heatmap": [
           {
            "colorbar": {
             "outlinewidth": 0,
             "ticks": ""
            },
            "colorscale": [
             [
              0,
              "#0d0887"
             ],
             [
              0.1111111111111111,
              "#46039f"
             ],
             [
              0.2222222222222222,
              "#7201a8"
             ],
             [
              0.3333333333333333,
              "#9c179e"
             ],
             [
              0.4444444444444444,
              "#bd3786"
             ],
             [
              0.5555555555555556,
              "#d8576b"
             ],
             [
              0.6666666666666666,
              "#ed7953"
             ],
             [
              0.7777777777777778,
              "#fb9f3a"
             ],
             [
              0.8888888888888888,
              "#fdca26"
             ],
             [
              1,
              "#f0f921"
             ]
            ],
            "type": "heatmap"
           }
          ],
          "heatmapgl": [
           {
            "colorbar": {
             "outlinewidth": 0,
             "ticks": ""
            },
            "colorscale": [
             [
              0,
              "#0d0887"
             ],
             [
              0.1111111111111111,
              "#46039f"
             ],
             [
              0.2222222222222222,
              "#7201a8"
             ],
             [
              0.3333333333333333,
              "#9c179e"
             ],
             [
              0.4444444444444444,
              "#bd3786"
             ],
             [
              0.5555555555555556,
              "#d8576b"
             ],
             [
              0.6666666666666666,
              "#ed7953"
             ],
             [
              0.7777777777777778,
              "#fb9f3a"
             ],
             [
              0.8888888888888888,
              "#fdca26"
             ],
             [
              1,
              "#f0f921"
             ]
            ],
            "type": "heatmapgl"
           }
          ],
          "histogram": [
           {
            "marker": {
             "colorbar": {
              "outlinewidth": 0,
              "ticks": ""
             }
            },
            "type": "histogram"
           }
          ],
          "histogram2d": [
           {
            "colorbar": {
             "outlinewidth": 0,
             "ticks": ""
            },
            "colorscale": [
             [
              0,
              "#0d0887"
             ],
             [
              0.1111111111111111,
              "#46039f"
             ],
             [
              0.2222222222222222,
              "#7201a8"
             ],
             [
              0.3333333333333333,
              "#9c179e"
             ],
             [
              0.4444444444444444,
              "#bd3786"
             ],
             [
              0.5555555555555556,
              "#d8576b"
             ],
             [
              0.6666666666666666,
              "#ed7953"
             ],
             [
              0.7777777777777778,
              "#fb9f3a"
             ],
             [
              0.8888888888888888,
              "#fdca26"
             ],
             [
              1,
              "#f0f921"
             ]
            ],
            "type": "histogram2d"
           }
          ],
          "histogram2dcontour": [
           {
            "colorbar": {
             "outlinewidth": 0,
             "ticks": ""
            },
            "colorscale": [
             [
              0,
              "#0d0887"
             ],
             [
              0.1111111111111111,
              "#46039f"
             ],
             [
              0.2222222222222222,
              "#7201a8"
             ],
             [
              0.3333333333333333,
              "#9c179e"
             ],
             [
              0.4444444444444444,
              "#bd3786"
             ],
             [
              0.5555555555555556,
              "#d8576b"
             ],
             [
              0.6666666666666666,
              "#ed7953"
             ],
             [
              0.7777777777777778,
              "#fb9f3a"
             ],
             [
              0.8888888888888888,
              "#fdca26"
             ],
             [
              1,
              "#f0f921"
             ]
            ],
            "type": "histogram2dcontour"
           }
          ],
          "mesh3d": [
           {
            "colorbar": {
             "outlinewidth": 0,
             "ticks": ""
            },
            "type": "mesh3d"
           }
          ],
          "parcoords": [
           {
            "line": {
             "colorbar": {
              "outlinewidth": 0,
              "ticks": ""
             }
            },
            "type": "parcoords"
           }
          ],
          "pie": [
           {
            "automargin": true,
            "type": "pie"
           }
          ],
          "scatter": [
           {
            "marker": {
             "colorbar": {
              "outlinewidth": 0,
              "ticks": ""
             }
            },
            "type": "scatter"
           }
          ],
          "scatter3d": [
           {
            "line": {
             "colorbar": {
              "outlinewidth": 0,
              "ticks": ""
             }
            },
            "marker": {
             "colorbar": {
              "outlinewidth": 0,
              "ticks": ""
             }
            },
            "type": "scatter3d"
           }
          ],
          "scattercarpet": [
           {
            "marker": {
             "colorbar": {
              "outlinewidth": 0,
              "ticks": ""
             }
            },
            "type": "scattercarpet"
           }
          ],
          "scattergeo": [
           {
            "marker": {
             "colorbar": {
              "outlinewidth": 0,
              "ticks": ""
             }
            },
            "type": "scattergeo"
           }
          ],
          "scattergl": [
           {
            "marker": {
             "colorbar": {
              "outlinewidth": 0,
              "ticks": ""
             }
            },
            "type": "scattergl"
           }
          ],
          "scattermapbox": [
           {
            "marker": {
             "colorbar": {
              "outlinewidth": 0,
              "ticks": ""
             }
            },
            "type": "scattermapbox"
           }
          ],
          "scatterpolar": [
           {
            "marker": {
             "colorbar": {
              "outlinewidth": 0,
              "ticks": ""
             }
            },
            "type": "scatterpolar"
           }
          ],
          "scatterpolargl": [
           {
            "marker": {
             "colorbar": {
              "outlinewidth": 0,
              "ticks": ""
             }
            },
            "type": "scatterpolargl"
           }
          ],
          "scatterternary": [
           {
            "marker": {
             "colorbar": {
              "outlinewidth": 0,
              "ticks": ""
             }
            },
            "type": "scatterternary"
           }
          ],
          "surface": [
           {
            "colorbar": {
             "outlinewidth": 0,
             "ticks": ""
            },
            "colorscale": [
             [
              0,
              "#0d0887"
             ],
             [
              0.1111111111111111,
              "#46039f"
             ],
             [
              0.2222222222222222,
              "#7201a8"
             ],
             [
              0.3333333333333333,
              "#9c179e"
             ],
             [
              0.4444444444444444,
              "#bd3786"
             ],
             [
              0.5555555555555556,
              "#d8576b"
             ],
             [
              0.6666666666666666,
              "#ed7953"
             ],
             [
              0.7777777777777778,
              "#fb9f3a"
             ],
             [
              0.8888888888888888,
              "#fdca26"
             ],
             [
              1,
              "#f0f921"
             ]
            ],
            "type": "surface"
           }
          ],
          "table": [
           {
            "cells": {
             "fill": {
              "color": "#EBF0F8"
             },
             "line": {
              "color": "white"
             }
            },
            "header": {
             "fill": {
              "color": "#C8D4E3"
             },
             "line": {
              "color": "white"
             }
            },
            "type": "table"
           }
          ]
         },
         "layout": {
          "annotationdefaults": {
           "arrowcolor": "#2a3f5f",
           "arrowhead": 0,
           "arrowwidth": 1
          },
          "autotypenumbers": "strict",
          "coloraxis": {
           "colorbar": {
            "outlinewidth": 0,
            "ticks": ""
           }
          },
          "colorscale": {
           "diverging": [
            [
             0,
             "#8e0152"
            ],
            [
             0.1,
             "#c51b7d"
            ],
            [
             0.2,
             "#de77ae"
            ],
            [
             0.3,
             "#f1b6da"
            ],
            [
             0.4,
             "#fde0ef"
            ],
            [
             0.5,
             "#f7f7f7"
            ],
            [
             0.6,
             "#e6f5d0"
            ],
            [
             0.7,
             "#b8e186"
            ],
            [
             0.8,
             "#7fbc41"
            ],
            [
             0.9,
             "#4d9221"
            ],
            [
             1,
             "#276419"
            ]
           ],
           "sequential": [
            [
             0,
             "#0d0887"
            ],
            [
             0.1111111111111111,
             "#46039f"
            ],
            [
             0.2222222222222222,
             "#7201a8"
            ],
            [
             0.3333333333333333,
             "#9c179e"
            ],
            [
             0.4444444444444444,
             "#bd3786"
            ],
            [
             0.5555555555555556,
             "#d8576b"
            ],
            [
             0.6666666666666666,
             "#ed7953"
            ],
            [
             0.7777777777777778,
             "#fb9f3a"
            ],
            [
             0.8888888888888888,
             "#fdca26"
            ],
            [
             1,
             "#f0f921"
            ]
           ],
           "sequentialminus": [
            [
             0,
             "#0d0887"
            ],
            [
             0.1111111111111111,
             "#46039f"
            ],
            [
             0.2222222222222222,
             "#7201a8"
            ],
            [
             0.3333333333333333,
             "#9c179e"
            ],
            [
             0.4444444444444444,
             "#bd3786"
            ],
            [
             0.5555555555555556,
             "#d8576b"
            ],
            [
             0.6666666666666666,
             "#ed7953"
            ],
            [
             0.7777777777777778,
             "#fb9f3a"
            ],
            [
             0.8888888888888888,
             "#fdca26"
            ],
            [
             1,
             "#f0f921"
            ]
           ]
          },
          "colorway": [
           "#636efa",
           "#EF553B",
           "#00cc96",
           "#ab63fa",
           "#FFA15A",
           "#19d3f3",
           "#FF6692",
           "#B6E880",
           "#FF97FF",
           "#FECB52"
          ],
          "font": {
           "color": "#2a3f5f"
          },
          "geo": {
           "bgcolor": "white",
           "lakecolor": "white",
           "landcolor": "#E5ECF6",
           "showlakes": true,
           "showland": true,
           "subunitcolor": "white"
          },
          "hoverlabel": {
           "align": "left"
          },
          "hovermode": "closest",
          "mapbox": {
           "style": "light"
          },
          "paper_bgcolor": "white",
          "plot_bgcolor": "#E5ECF6",
          "polar": {
           "angularaxis": {
            "gridcolor": "white",
            "linecolor": "white",
            "ticks": ""
           },
           "bgcolor": "#E5ECF6",
           "radialaxis": {
            "gridcolor": "white",
            "linecolor": "white",
            "ticks": ""
           }
          },
          "scene": {
           "xaxis": {
            "backgroundcolor": "#E5ECF6",
            "gridcolor": "white",
            "gridwidth": 2,
            "linecolor": "white",
            "showbackground": true,
            "ticks": "",
            "zerolinecolor": "white"
           },
           "yaxis": {
            "backgroundcolor": "#E5ECF6",
            "gridcolor": "white",
            "gridwidth": 2,
            "linecolor": "white",
            "showbackground": true,
            "ticks": "",
            "zerolinecolor": "white"
           },
           "zaxis": {
            "backgroundcolor": "#E5ECF6",
            "gridcolor": "white",
            "gridwidth": 2,
            "linecolor": "white",
            "showbackground": true,
            "ticks": "",
            "zerolinecolor": "white"
           }
          },
          "shapedefaults": {
           "line": {
            "color": "#2a3f5f"
           }
          },
          "ternary": {
           "aaxis": {
            "gridcolor": "white",
            "linecolor": "white",
            "ticks": ""
           },
           "baxis": {
            "gridcolor": "white",
            "linecolor": "white",
            "ticks": ""
           },
           "bgcolor": "#E5ECF6",
           "caxis": {
            "gridcolor": "white",
            "linecolor": "white",
            "ticks": ""
           }
          },
          "title": {
           "x": 0.05
          },
          "xaxis": {
           "automargin": true,
           "gridcolor": "white",
           "linecolor": "white",
           "ticks": "",
           "title": {
            "standoff": 15
           },
           "zerolinecolor": "white",
           "zerolinewidth": 2
          },
          "yaxis": {
           "automargin": true,
           "gridcolor": "white",
           "linecolor": "white",
           "ticks": "",
           "title": {
            "standoff": 15
           },
           "zerolinecolor": "white",
           "zerolinewidth": 2
          }
         }
        },
        "title": {
         "font": {
          "color": "#4D5663"
         }
        },
        "xaxis": {
         "gridcolor": "#E1E5ED",
         "showgrid": true,
         "tickfont": {
          "color": "#4D5663"
         },
         "title": {
          "font": {
           "color": "#4D5663"
          },
          "text": ""
         },
         "zerolinecolor": "#E1E5ED"
        },
        "yaxis": {
         "gridcolor": "#E1E5ED",
         "showgrid": true,
         "tickfont": {
          "color": "#4D5663"
         },
         "title": {
          "font": {
           "color": "#4D5663"
          },
          "text": ""
         },
         "zerolinecolor": "#E1E5ED"
        }
       }
      },
      "text/html": "<div>                            <div id=\"2004c9e4-2756-4936-a53e-f79152959e62\" class=\"plotly-graph-div\" style=\"height:525px; width:100%;\"></div>            <script type=\"text/javascript\">                require([\"plotly\"], function(Plotly) {                    window.PLOTLYENV=window.PLOTLYENV || {};\n                    window.PLOTLYENV.BASE_URL='https://plot.ly';                                    if (document.getElementById(\"2004c9e4-2756-4936-a53e-f79152959e62\")) {                    Plotly.newPlot(                        \"2004c9e4-2756-4936-a53e-f79152959e62\",                        [{\"marker\": {\"color\": \"rgba(255, 153, 51, 0.6)\", \"line\": {\"color\": \"rgba(255, 153, 51, 1.0)\", \"width\": 1}}, \"name\": \"A\", \"orientation\": \"v\", \"text\": \"\", \"type\": \"bar\", \"x\": [0, 1, 2, 3, 4, 5, 6, 7, 8, 9, 10, 11, 12, 13, 14, 15, 16, 17, 18, 19, 20, 21, 22, 23, 24, 25, 26, 27, 28, 29, 30, 31, 32, 33, 34, 35, 36, 37, 38, 39, 40, 41, 42, 43, 44, 45, 46, 47, 48, 49, 50, 51, 52, 53, 54, 55, 56, 57, 58, 59, 60, 61, 62, 63, 64, 65, 66, 67, 68, 69, 70, 71, 72, 73, 74, 75, 76, 77, 78, 79, 80, 81, 82, 83, 84, 85, 86, 87, 88, 89, 90, 91, 92, 93, 94, 95, 96, 97, 98, 99], \"y\": [0.5465783073064772, -0.29266683075288924, 0.6231870996745854, -0.834383727710256, 0.07267124236383367, 0.546609283854429, -1.131288781160773, 0.9726279769132807, 1.3036471779533993, 0.09456737726953622, -1.4909951751412387, 0.2486809006031248, -0.5041954963214929, 1.090313604126461, 0.5271065162022843, 0.72996298455288, -0.5727674434124677, 0.6981473528513243, 0.42646244691734936, 0.22561770627475097, 1.3964635891379957, -1.028076763783862, -0.7918548050193706, 0.6424988861128034, 0.07700092744047617, 0.2639476843988694, -1.3939121056913943, 0.8022040203343273, -0.46413394434136784, 0.2220320510302532, 0.935281027468148, -0.7800155400860896, -0.416128340694564, 1.3185965143422556, -0.9440127360391387, -0.6366557329525351, 0.44540615728871885, -2.2642998115862225, -0.2850565034199015, 1.0506044703218136, 0.8378528542175177, -0.12868954137371466, -0.33798990823686026, 0.1679192582551076, -0.9308238698161303, 0.07517507846869902, 0.5529139051581751, -0.6550066638750623, 1.6622073144790908, -0.9563738629799234, -0.9039901786142885, -0.9224207152656744, 0.7853020720624344, -0.9078645469319825, -1.0065774903612925, -0.6513350487302739, 0.607897606343382, -0.7121619992871777, -1.0062801835740622, 0.4151934066896479, 0.42890807858108176, -1.4465094346493927, 1.7219331417962913, -1.5053103553567573, -1.5460676762516719, -1.334470385973534, 1.3820705239206281, 1.149948100182805, 0.48581062454288443, -2.9220312235168104, 0.9688469690572168, 0.4005785671067927, -1.7729643682929506, -2.254444960561575, 2.8558789888409377, 0.11684368509114042, -0.5921664352451752, -0.7669775175253448, 0.3944947793185067, 0.17970836550271987, 0.7320087898796422, -0.3718994683294069, 0.6490335347378919, 1.61451773742073, 2.2200311879880092, 0.2652884204844432, -1.138292642211443, -1.0916461301727252, -0.6552002466498384, -0.17573927465249542, 0.19807054658965803, -0.3135938770961247, 0.9100592564889136, 1.389689501439636, 0.4571725986883691, -1.147513235584393, -0.2641384924636912, -2.4750908872422532, -0.3052555238066782, 0.5126311294281619]}, {\"marker\": {\"color\": \"rgba(55, 128, 191, 0.6)\", \"line\": {\"color\": \"rgba(55, 128, 191, 1.0)\", \"width\": 1}}, \"name\": \"B\", \"orientation\": \"v\", \"text\": \"\", \"type\": \"bar\", \"x\": [0, 1, 2, 3, 4, 5, 6, 7, 8, 9, 10, 11, 12, 13, 14, 15, 16, 17, 18, 19, 20, 21, 22, 23, 24, 25, 26, 27, 28, 29, 30, 31, 32, 33, 34, 35, 36, 37, 38, 39, 40, 41, 42, 43, 44, 45, 46, 47, 48, 49, 50, 51, 52, 53, 54, 55, 56, 57, 58, 59, 60, 61, 62, 63, 64, 65, 66, 67, 68, 69, 70, 71, 72, 73, 74, 75, 76, 77, 78, 79, 80, 81, 82, 83, 84, 85, 86, 87, 88, 89, 90, 91, 92, 93, 94, 95, 96, 97, 98, 99], \"y\": [-0.3210616890439768, 0.014731334124076999, 0.5366938623242867, -0.28347189457944116, 0.045451557025280365, 0.13459038631390496, 0.7680897864672134, -0.5605600823698804, 1.6570181797969776, 0.6384146948817033, 1.3887234430034054, -0.09505479464596212, 0.3793871989929514, 0.968138373003798, 0.5570971336800378, -0.12022809907427562, 1.225767443374642, -0.48103582404950523, 0.31237187179067677, -1.5541642248570275, -0.0905732283356259, -0.7121648301099559, -0.8980559307398618, 0.7505948170765744, -0.08743327787437438, 0.7381569910231944, 1.0578906584070804, 0.609010499655325, -0.07991913941469375, -0.9809062194854374, -0.3927567552348754, 1.1779490224473685, 0.5861320936097942, -1.9586149587331063, -0.7503025630835873, 2.111168813334928, 1.1724683723332443, 0.41124561482519084, -0.8073090559661715, -0.6001700359496503, 0.924992852207575, 0.564903133816479, -1.329485783727274, -0.9042900886398983, 0.7446229259164912, -0.6664395834381821, 1.790641696870415, -0.7000508417729924, -2.124025946845946, 1.427339440341842, -0.023434047825694505, -2.184151730277451, -0.2743737245978753, 0.08652959980978199, 0.7073634897595449, 0.5328211228340343, 1.8902284648569976, 0.21527531979477196, -1.7836858947922036, -0.3353688964873548, -1.1002301192684039, -0.6883952001486617, -1.5764860675414936, -0.6433657782077495, 1.097576865535247, -0.023602921622034694, -0.029463692580862483, 0.2358983482389432, 0.27894641922849245, 0.30550114510394016, 0.8867657472418506, 0.9319324919522, -0.01664626305233927, -0.5007055914851937, 1.5554489026110867, 0.3985089102148669, -1.7988728013549453, 0.33490036387429, -0.3185069447544962, -0.10960628009446838, 0.5677453220093496, -0.9445892255243346, -0.6654555763718258, 1.3332815274819332, 0.9620523328660819, 0.0627271471645771, -1.5219745869359935, 1.8456224867766633, 0.35193461333641635, -0.6911844965770978, -1.9382109908973897, 0.5101622352180557, 0.04141713857864906, 0.7348149162733385, 0.08876588617886874, -0.20605819017878488, -0.5796140389078577, -0.27512891936251505, -1.108562305937151, 0.83556234684711]}, {\"marker\": {\"color\": \"rgba(50, 171, 96, 0.6)\", \"line\": {\"color\": \"rgba(50, 171, 96, 1.0)\", \"width\": 1}}, \"name\": \"C\", \"orientation\": \"v\", \"text\": \"\", \"type\": \"bar\", \"x\": [0, 1, 2, 3, 4, 5, 6, 7, 8, 9, 10, 11, 12, 13, 14, 15, 16, 17, 18, 19, 20, 21, 22, 23, 24, 25, 26, 27, 28, 29, 30, 31, 32, 33, 34, 35, 36, 37, 38, 39, 40, 41, 42, 43, 44, 45, 46, 47, 48, 49, 50, 51, 52, 53, 54, 55, 56, 57, 58, 59, 60, 61, 62, 63, 64, 65, 66, 67, 68, 69, 70, 71, 72, 73, 74, 75, 76, 77, 78, 79, 80, 81, 82, 83, 84, 85, 86, 87, 88, 89, 90, 91, 92, 93, 94, 95, 96, 97, 98, 99], \"y\": [-1.5746635555132593, -0.8208519487525724, 0.13411839178356635, -1.073405727107703, 0.8492878024289273, 2.254601176611265, -1.0878769204610368, 0.05491395788764352, -0.938550021253144, 0.0831501541026087, -0.37161067823376354, -0.8357041894404749, 1.1719737829000128, -0.6860518985881422, 0.8375667994557933, -0.9397053484941409, -1.7889322349233618, -0.13110549339808994, -0.21790251118483994, 1.0243507066626305, -1.393511551476447, 0.7960398950108859, 0.3376177013303217, -0.27719455186705055, -0.599024528281968, -1.0448750802566376, -0.3299792930259386, 0.9414823910779461, 0.8128194717871082, -2.0017279544076882, -0.11565056175803837, -0.39887050385009104, 0.24681073229257872, 0.07438133150679462, 0.7674862118999634, -0.2870042449544319, 0.1874362991542395, 0.8852072086506295, -1.5070637961266762, 1.4263336865955873, 0.19878349333474926, 0.9749485819616145, -0.6868121389520477, 0.9166637700665273, 0.3502501972642983, -0.690876281143508, -1.2704903637223155, 0.7390724833594484, 1.547695798213712, -0.7232647324890362, -0.178124208961265, 0.49891936425176653, -0.829477671631334, 1.0726449576062738, 1.1913989599956993, 1.2782170998335898, 0.7979436445528246, -0.9147442814326879, -0.08208447048785322, -1.9173840888427844, -0.5552102564992429, 0.9741457675696146, 0.11704030109082995, -0.9933189766534842, 0.09936221246799455, -0.4242039091357622, 0.58729575045313, -0.8066782132707256, 0.29490148525810694, 1.1530225437432087, 1.5171876792595087, 0.7673025283554721, 0.9011567252593459, -1.3638062823045671, -1.8237245334450118, 1.0923484618951989, -1.1349063046921946, -0.5663122283761413, 1.343150277224588, 1.423518043952554, 0.15021591350662922, 0.2517358159883754, -0.04953946581698489, -0.06582562263824401, 0.5096721099198526, -1.0242755455221242, -0.4763164697743531, 0.6918087074211218, -0.21631606753447347, 1.6824576992982336, -0.9763443880200405, 0.535678872534667, 0.2758679542206118, -2.8352977193601707, -0.0008868871502166775, -0.3202137870334289, -0.9645916325091594, -0.3588390703210608, -1.5672693194465956, -0.43850581048894766]}, {\"marker\": {\"color\": \"rgba(128, 0, 128, 0.6)\", \"line\": {\"color\": \"rgba(128, 0, 128, 1.0)\", \"width\": 1}}, \"name\": \"D\", \"orientation\": \"v\", \"text\": \"\", \"type\": \"bar\", \"x\": [0, 1, 2, 3, 4, 5, 6, 7, 8, 9, 10, 11, 12, 13, 14, 15, 16, 17, 18, 19, 20, 21, 22, 23, 24, 25, 26, 27, 28, 29, 30, 31, 32, 33, 34, 35, 36, 37, 38, 39, 40, 41, 42, 43, 44, 45, 46, 47, 48, 49, 50, 51, 52, 53, 54, 55, 56, 57, 58, 59, 60, 61, 62, 63, 64, 65, 66, 67, 68, 69, 70, 71, 72, 73, 74, 75, 76, 77, 78, 79, 80, 81, 82, 83, 84, 85, 86, 87, 88, 89, 90, 91, 92, 93, 94, 95, 96, 97, 98, 99], \"y\": [1.3915284842186988, 0.5185130094144702, -1.0606253421777951, -0.24460755193586287, 0.8202241426829425, -0.887582315304925, -2.8538309597752867, -0.9735586571847238, 1.450536278286463, 1.2760657489482605, -1.5652882182832306, 1.4645914708923071, 0.09329788490746273, 0.8057167710446781, 1.0152273362785735, -0.7978662004859711, -0.8365744231983471, 0.28424634824466244, -1.8915142256077258, 0.3739809215343839, 0.051329217894539, 0.9256733937623756, -0.35179554429520843, -1.9033909214042593, 0.45264744995978906, -0.5807322459220383, -0.11435315011914135, -0.30398911522147987, -0.08458819819471305, 1.4295666865836059, -1.3657316946782658, 0.5735423214731328, 1.6572412107323413, -0.760872677119515, -1.2392615031108305, 0.14803104558174862, -0.8561087960484719, -0.5128541761649891, -0.28488806627419583, -0.18465941989611753, -2.232825107959683, 0.33473747004274823, 0.6606241943088436, 0.019623914803615285, -0.7584006645927847, 2.8377835630481405, -0.6266276799272331, -0.6532095561165252, 0.29170074098777793, -1.1665894943988193, -0.3376741908898411, 1.0751891517480283, -0.6448449862168085, 1.214573859061091, -0.034778294663861654, -0.6213694553867667, -1.0610596965100185, 0.6479555596462478, 0.9068247873074341, -1.5401656730162003, -0.7080391573628131, -0.7829170746864355, -0.4255437274019955, -0.3962885151997171, 1.2386728246527157, -1.2016150089134001, 0.5149137342604595, -0.7120689231800665, -0.9801118556510571, 0.31712839974847895, 0.9341300403425877, -0.7035089651286938, -0.5637510964979929, -0.40643637929223103, 1.4717157907239993, -2.4316467529894203, 1.8425226033591404, 0.08085620949960143, -0.539388341835714, 0.41145218196658184, 1.7713082753781175, 0.800238042387477, 0.2907060923613845, 0.6707859099022279, 1.5618649336698032, 0.6230978393033384, -0.9297961775205729, -2.369073884926949, -0.6835387244012849, 1.4185669493114144, -0.449922261659089, 0.37849098997281494, 0.884469678375085, -2.378754245172478, -1.1934731790828719, 0.12692321653002386, 0.8237573446074903, -0.01818332015703452, 0.9806165462699724, 0.5801263631830152]}],                        {\"legend\": {\"bgcolor\": \"#F5F6F9\", \"font\": {\"color\": \"#4D5663\"}}, \"paper_bgcolor\": \"#F5F6F9\", \"plot_bgcolor\": \"#F5F6F9\", \"template\": {\"data\": {\"bar\": [{\"error_x\": {\"color\": \"#2a3f5f\"}, \"error_y\": {\"color\": \"#2a3f5f\"}, \"marker\": {\"line\": {\"color\": \"#E5ECF6\", \"width\": 0.5}}, \"type\": \"bar\"}], \"barpolar\": [{\"marker\": {\"line\": {\"color\": \"#E5ECF6\", \"width\": 0.5}}, \"type\": \"barpolar\"}], \"carpet\": [{\"aaxis\": {\"endlinecolor\": \"#2a3f5f\", \"gridcolor\": \"white\", \"linecolor\": \"white\", \"minorgridcolor\": \"white\", \"startlinecolor\": \"#2a3f5f\"}, \"baxis\": {\"endlinecolor\": \"#2a3f5f\", \"gridcolor\": \"white\", \"linecolor\": \"white\", \"minorgridcolor\": \"white\", \"startlinecolor\": \"#2a3f5f\"}, \"type\": \"carpet\"}], \"choropleth\": [{\"colorbar\": {\"outlinewidth\": 0, \"ticks\": \"\"}, \"type\": \"choropleth\"}], \"contour\": [{\"colorbar\": {\"outlinewidth\": 0, \"ticks\": \"\"}, \"colorscale\": [[0.0, \"#0d0887\"], [0.1111111111111111, \"#46039f\"], [0.2222222222222222, \"#7201a8\"], [0.3333333333333333, \"#9c179e\"], [0.4444444444444444, \"#bd3786\"], [0.5555555555555556, \"#d8576b\"], [0.6666666666666666, \"#ed7953\"], [0.7777777777777778, \"#fb9f3a\"], [0.8888888888888888, \"#fdca26\"], [1.0, \"#f0f921\"]], \"type\": \"contour\"}], \"contourcarpet\": [{\"colorbar\": {\"outlinewidth\": 0, \"ticks\": \"\"}, \"type\": \"contourcarpet\"}], \"heatmap\": [{\"colorbar\": {\"outlinewidth\": 0, \"ticks\": \"\"}, \"colorscale\": [[0.0, \"#0d0887\"], [0.1111111111111111, \"#46039f\"], [0.2222222222222222, \"#7201a8\"], [0.3333333333333333, \"#9c179e\"], [0.4444444444444444, \"#bd3786\"], [0.5555555555555556, \"#d8576b\"], [0.6666666666666666, \"#ed7953\"], [0.7777777777777778, \"#fb9f3a\"], [0.8888888888888888, \"#fdca26\"], [1.0, \"#f0f921\"]], \"type\": \"heatmap\"}], \"heatmapgl\": [{\"colorbar\": {\"outlinewidth\": 0, \"ticks\": \"\"}, \"colorscale\": [[0.0, \"#0d0887\"], [0.1111111111111111, \"#46039f\"], [0.2222222222222222, \"#7201a8\"], [0.3333333333333333, \"#9c179e\"], [0.4444444444444444, \"#bd3786\"], [0.5555555555555556, \"#d8576b\"], [0.6666666666666666, \"#ed7953\"], [0.7777777777777778, \"#fb9f3a\"], [0.8888888888888888, \"#fdca26\"], [1.0, \"#f0f921\"]], \"type\": \"heatmapgl\"}], \"histogram\": [{\"marker\": {\"colorbar\": {\"outlinewidth\": 0, \"ticks\": \"\"}}, \"type\": \"histogram\"}], \"histogram2d\": [{\"colorbar\": {\"outlinewidth\": 0, \"ticks\": \"\"}, \"colorscale\": [[0.0, \"#0d0887\"], [0.1111111111111111, \"#46039f\"], [0.2222222222222222, \"#7201a8\"], [0.3333333333333333, \"#9c179e\"], [0.4444444444444444, \"#bd3786\"], [0.5555555555555556, \"#d8576b\"], [0.6666666666666666, \"#ed7953\"], [0.7777777777777778, \"#fb9f3a\"], [0.8888888888888888, \"#fdca26\"], [1.0, \"#f0f921\"]], \"type\": \"histogram2d\"}], \"histogram2dcontour\": [{\"colorbar\": {\"outlinewidth\": 0, \"ticks\": \"\"}, \"colorscale\": [[0.0, \"#0d0887\"], [0.1111111111111111, \"#46039f\"], [0.2222222222222222, \"#7201a8\"], [0.3333333333333333, \"#9c179e\"], [0.4444444444444444, \"#bd3786\"], [0.5555555555555556, \"#d8576b\"], [0.6666666666666666, \"#ed7953\"], [0.7777777777777778, \"#fb9f3a\"], [0.8888888888888888, \"#fdca26\"], [1.0, \"#f0f921\"]], \"type\": \"histogram2dcontour\"}], \"mesh3d\": [{\"colorbar\": {\"outlinewidth\": 0, \"ticks\": \"\"}, \"type\": \"mesh3d\"}], \"parcoords\": [{\"line\": {\"colorbar\": {\"outlinewidth\": 0, \"ticks\": \"\"}}, \"type\": \"parcoords\"}], \"pie\": [{\"automargin\": true, \"type\": \"pie\"}], \"scatter\": [{\"marker\": {\"colorbar\": {\"outlinewidth\": 0, \"ticks\": \"\"}}, \"type\": \"scatter\"}], \"scatter3d\": [{\"line\": {\"colorbar\": {\"outlinewidth\": 0, \"ticks\": \"\"}}, \"marker\": {\"colorbar\": {\"outlinewidth\": 0, \"ticks\": \"\"}}, \"type\": \"scatter3d\"}], \"scattercarpet\": [{\"marker\": {\"colorbar\": {\"outlinewidth\": 0, \"ticks\": \"\"}}, \"type\": \"scattercarpet\"}], \"scattergeo\": [{\"marker\": {\"colorbar\": {\"outlinewidth\": 0, \"ticks\": \"\"}}, \"type\": \"scattergeo\"}], \"scattergl\": [{\"marker\": {\"colorbar\": {\"outlinewidth\": 0, \"ticks\": \"\"}}, \"type\": \"scattergl\"}], \"scattermapbox\": [{\"marker\": {\"colorbar\": {\"outlinewidth\": 0, \"ticks\": \"\"}}, \"type\": \"scattermapbox\"}], \"scatterpolar\": [{\"marker\": {\"colorbar\": {\"outlinewidth\": 0, \"ticks\": \"\"}}, \"type\": \"scatterpolar\"}], \"scatterpolargl\": [{\"marker\": {\"colorbar\": {\"outlinewidth\": 0, \"ticks\": \"\"}}, \"type\": \"scatterpolargl\"}], \"scatterternary\": [{\"marker\": {\"colorbar\": {\"outlinewidth\": 0, \"ticks\": \"\"}}, \"type\": \"scatterternary\"}], \"surface\": [{\"colorbar\": {\"outlinewidth\": 0, \"ticks\": \"\"}, \"colorscale\": [[0.0, \"#0d0887\"], [0.1111111111111111, \"#46039f\"], [0.2222222222222222, \"#7201a8\"], [0.3333333333333333, \"#9c179e\"], [0.4444444444444444, \"#bd3786\"], [0.5555555555555556, \"#d8576b\"], [0.6666666666666666, \"#ed7953\"], [0.7777777777777778, \"#fb9f3a\"], [0.8888888888888888, \"#fdca26\"], [1.0, \"#f0f921\"]], \"type\": \"surface\"}], \"table\": [{\"cells\": {\"fill\": {\"color\": \"#EBF0F8\"}, \"line\": {\"color\": \"white\"}}, \"header\": {\"fill\": {\"color\": \"#C8D4E3\"}, \"line\": {\"color\": \"white\"}}, \"type\": \"table\"}]}, \"layout\": {\"annotationdefaults\": {\"arrowcolor\": \"#2a3f5f\", \"arrowhead\": 0, \"arrowwidth\": 1}, \"autotypenumbers\": \"strict\", \"coloraxis\": {\"colorbar\": {\"outlinewidth\": 0, \"ticks\": \"\"}}, \"colorscale\": {\"diverging\": [[0, \"#8e0152\"], [0.1, \"#c51b7d\"], [0.2, \"#de77ae\"], [0.3, \"#f1b6da\"], [0.4, \"#fde0ef\"], [0.5, \"#f7f7f7\"], [0.6, \"#e6f5d0\"], [0.7, \"#b8e186\"], [0.8, \"#7fbc41\"], [0.9, \"#4d9221\"], [1, \"#276419\"]], \"sequential\": [[0.0, \"#0d0887\"], [0.1111111111111111, \"#46039f\"], [0.2222222222222222, \"#7201a8\"], [0.3333333333333333, \"#9c179e\"], [0.4444444444444444, \"#bd3786\"], [0.5555555555555556, \"#d8576b\"], [0.6666666666666666, \"#ed7953\"], [0.7777777777777778, \"#fb9f3a\"], [0.8888888888888888, \"#fdca26\"], [1.0, \"#f0f921\"]], \"sequentialminus\": [[0.0, \"#0d0887\"], [0.1111111111111111, \"#46039f\"], [0.2222222222222222, \"#7201a8\"], [0.3333333333333333, \"#9c179e\"], [0.4444444444444444, \"#bd3786\"], [0.5555555555555556, \"#d8576b\"], [0.6666666666666666, \"#ed7953\"], [0.7777777777777778, \"#fb9f3a\"], [0.8888888888888888, \"#fdca26\"], [1.0, \"#f0f921\"]]}, \"colorway\": [\"#636efa\", \"#EF553B\", \"#00cc96\", \"#ab63fa\", \"#FFA15A\", \"#19d3f3\", \"#FF6692\", \"#B6E880\", \"#FF97FF\", \"#FECB52\"], \"font\": {\"color\": \"#2a3f5f\"}, \"geo\": {\"bgcolor\": \"white\", \"lakecolor\": \"white\", \"landcolor\": \"#E5ECF6\", \"showlakes\": true, \"showland\": true, \"subunitcolor\": \"white\"}, \"hoverlabel\": {\"align\": \"left\"}, \"hovermode\": \"closest\", \"mapbox\": {\"style\": \"light\"}, \"paper_bgcolor\": \"white\", \"plot_bgcolor\": \"#E5ECF6\", \"polar\": {\"angularaxis\": {\"gridcolor\": \"white\", \"linecolor\": \"white\", \"ticks\": \"\"}, \"bgcolor\": \"#E5ECF6\", \"radialaxis\": {\"gridcolor\": \"white\", \"linecolor\": \"white\", \"ticks\": \"\"}}, \"scene\": {\"xaxis\": {\"backgroundcolor\": \"#E5ECF6\", \"gridcolor\": \"white\", \"gridwidth\": 2, \"linecolor\": \"white\", \"showbackground\": true, \"ticks\": \"\", \"zerolinecolor\": \"white\"}, \"yaxis\": {\"backgroundcolor\": \"#E5ECF6\", \"gridcolor\": \"white\", \"gridwidth\": 2, \"linecolor\": \"white\", \"showbackground\": true, \"ticks\": \"\", \"zerolinecolor\": \"white\"}, \"zaxis\": {\"backgroundcolor\": \"#E5ECF6\", \"gridcolor\": \"white\", \"gridwidth\": 2, \"linecolor\": \"white\", \"showbackground\": true, \"ticks\": \"\", \"zerolinecolor\": \"white\"}}, \"shapedefaults\": {\"line\": {\"color\": \"#2a3f5f\"}}, \"ternary\": {\"aaxis\": {\"gridcolor\": \"white\", \"linecolor\": \"white\", \"ticks\": \"\"}, \"baxis\": {\"gridcolor\": \"white\", \"linecolor\": \"white\", \"ticks\": \"\"}, \"bgcolor\": \"#E5ECF6\", \"caxis\": {\"gridcolor\": \"white\", \"linecolor\": \"white\", \"ticks\": \"\"}}, \"title\": {\"x\": 0.05}, \"xaxis\": {\"automargin\": true, \"gridcolor\": \"white\", \"linecolor\": \"white\", \"ticks\": \"\", \"title\": {\"standoff\": 15}, \"zerolinecolor\": \"white\", \"zerolinewidth\": 2}, \"yaxis\": {\"automargin\": true, \"gridcolor\": \"white\", \"linecolor\": \"white\", \"ticks\": \"\", \"title\": {\"standoff\": 15}, \"zerolinecolor\": \"white\", \"zerolinewidth\": 2}}}, \"title\": {\"font\": {\"color\": \"#4D5663\"}}, \"xaxis\": {\"gridcolor\": \"#E1E5ED\", \"showgrid\": true, \"tickfont\": {\"color\": \"#4D5663\"}, \"title\": {\"font\": {\"color\": \"#4D5663\"}, \"text\": \"\"}, \"zerolinecolor\": \"#E1E5ED\"}, \"yaxis\": {\"gridcolor\": \"#E1E5ED\", \"showgrid\": true, \"tickfont\": {\"color\": \"#4D5663\"}, \"title\": {\"font\": {\"color\": \"#4D5663\"}, \"text\": \"\"}, \"zerolinecolor\": \"#E1E5ED\"}},                        {\"showLink\": true, \"linkText\": \"Export to plot.ly\", \"plotlyServerURL\": \"https://plot.ly\", \"responsive\": true}                    ).then(function(){\n                            \nvar gd = document.getElementById('2004c9e4-2756-4936-a53e-f79152959e62');\nvar x = new MutationObserver(function (mutations, observer) {{\n        var display = window.getComputedStyle(gd).display;\n        if (!display || display === 'none') {{\n            console.log([gd, 'removed!']);\n            Plotly.purge(gd);\n            observer.disconnect();\n        }}\n}});\n\n// Listen for the removal of the full notebook cells\nvar notebookContainer = gd.closest('#notebook-container');\nif (notebookContainer) {{\n    x.observe(notebookContainer, {childList: true});\n}}\n\n// Listen for the clearing of the current output cell\nvar outputEl = gd.closest('.output');\nif (outputEl) {{\n    x.observe(outputEl, {childList: true});\n}}\n\n                        })                };                });            </script>        </div>"
     },
     "metadata": {}
    }
   ],
   "source": [
    "df.iplot(kind='bar')"
   ]
  },
  {
   "cell_type": "code",
   "execution_count": 25,
   "metadata": {},
   "outputs": [
    {
     "output_type": "display_data",
     "data": {
      "application/vnd.plotly.v1+json": {
       "config": {
        "linkText": "Export to plot.ly",
        "plotlyServerURL": "https://plot.ly",
        "showLink": true
       },
       "data": [
        {
         "boxpoints": false,
         "line": {
          "width": 1.3
         },
         "marker": {
          "color": "rgba(255, 153, 51, 1.0)"
         },
         "name": "A",
         "orientation": "v",
         "type": "box",
         "y": [
          0.5465783073064772,
          -0.29266683075288924,
          0.6231870996745854,
          -0.834383727710256,
          0.07267124236383367,
          0.546609283854429,
          -1.131288781160773,
          0.9726279769132807,
          1.3036471779533993,
          0.09456737726953622,
          -1.4909951751412387,
          0.2486809006031248,
          -0.5041954963214929,
          1.090313604126461,
          0.5271065162022843,
          0.72996298455288,
          -0.5727674434124677,
          0.6981473528513243,
          0.42646244691734936,
          0.22561770627475097,
          1.3964635891379957,
          -1.028076763783862,
          -0.7918548050193706,
          0.6424988861128034,
          0.07700092744047617,
          0.2639476843988694,
          -1.3939121056913943,
          0.8022040203343273,
          -0.46413394434136784,
          0.2220320510302532,
          0.935281027468148,
          -0.7800155400860896,
          -0.416128340694564,
          1.3185965143422556,
          -0.9440127360391387,
          -0.6366557329525351,
          0.44540615728871885,
          -2.2642998115862225,
          -0.2850565034199015,
          1.0506044703218136,
          0.8378528542175177,
          -0.12868954137371466,
          -0.33798990823686026,
          0.1679192582551076,
          -0.9308238698161303,
          0.07517507846869902,
          0.5529139051581751,
          -0.6550066638750623,
          1.6622073144790908,
          -0.9563738629799234,
          -0.9039901786142885,
          -0.9224207152656744,
          0.7853020720624344,
          -0.9078645469319825,
          -1.0065774903612925,
          -0.6513350487302739,
          0.607897606343382,
          -0.7121619992871777,
          -1.0062801835740622,
          0.4151934066896479,
          0.42890807858108176,
          -1.4465094346493927,
          1.7219331417962913,
          -1.5053103553567573,
          -1.5460676762516719,
          -1.334470385973534,
          1.3820705239206281,
          1.149948100182805,
          0.48581062454288443,
          -2.9220312235168104,
          0.9688469690572168,
          0.4005785671067927,
          -1.7729643682929506,
          -2.254444960561575,
          2.8558789888409377,
          0.11684368509114042,
          -0.5921664352451752,
          -0.7669775175253448,
          0.3944947793185067,
          0.17970836550271987,
          0.7320087898796422,
          -0.3718994683294069,
          0.6490335347378919,
          1.61451773742073,
          2.2200311879880092,
          0.2652884204844432,
          -1.138292642211443,
          -1.0916461301727252,
          -0.6552002466498384,
          -0.17573927465249542,
          0.19807054658965803,
          -0.3135938770961247,
          0.9100592564889136,
          1.389689501439636,
          0.4571725986883691,
          -1.147513235584393,
          -0.2641384924636912,
          -2.4750908872422532,
          -0.3052555238066782,
          0.5126311294281619
         ]
        },
        {
         "boxpoints": false,
         "line": {
          "width": 1.3
         },
         "marker": {
          "color": "rgba(55, 128, 191, 1.0)"
         },
         "name": "B",
         "orientation": "v",
         "type": "box",
         "y": [
          -0.3210616890439768,
          0.014731334124076999,
          0.5366938623242867,
          -0.28347189457944116,
          0.045451557025280365,
          0.13459038631390496,
          0.7680897864672134,
          -0.5605600823698804,
          1.6570181797969776,
          0.6384146948817033,
          1.3887234430034054,
          -0.09505479464596212,
          0.3793871989929514,
          0.968138373003798,
          0.5570971336800378,
          -0.12022809907427562,
          1.225767443374642,
          -0.48103582404950523,
          0.31237187179067677,
          -1.5541642248570275,
          -0.0905732283356259,
          -0.7121648301099559,
          -0.8980559307398618,
          0.7505948170765744,
          -0.08743327787437438,
          0.7381569910231944,
          1.0578906584070804,
          0.609010499655325,
          -0.07991913941469375,
          -0.9809062194854374,
          -0.3927567552348754,
          1.1779490224473685,
          0.5861320936097942,
          -1.9586149587331063,
          -0.7503025630835873,
          2.111168813334928,
          1.1724683723332443,
          0.41124561482519084,
          -0.8073090559661715,
          -0.6001700359496503,
          0.924992852207575,
          0.564903133816479,
          -1.329485783727274,
          -0.9042900886398983,
          0.7446229259164912,
          -0.6664395834381821,
          1.790641696870415,
          -0.7000508417729924,
          -2.124025946845946,
          1.427339440341842,
          -0.023434047825694505,
          -2.184151730277451,
          -0.2743737245978753,
          0.08652959980978199,
          0.7073634897595449,
          0.5328211228340343,
          1.8902284648569976,
          0.21527531979477196,
          -1.7836858947922036,
          -0.3353688964873548,
          -1.1002301192684039,
          -0.6883952001486617,
          -1.5764860675414936,
          -0.6433657782077495,
          1.097576865535247,
          -0.023602921622034694,
          -0.029463692580862483,
          0.2358983482389432,
          0.27894641922849245,
          0.30550114510394016,
          0.8867657472418506,
          0.9319324919522,
          -0.01664626305233927,
          -0.5007055914851937,
          1.5554489026110867,
          0.3985089102148669,
          -1.7988728013549453,
          0.33490036387429,
          -0.3185069447544962,
          -0.10960628009446838,
          0.5677453220093496,
          -0.9445892255243346,
          -0.6654555763718258,
          1.3332815274819332,
          0.9620523328660819,
          0.0627271471645771,
          -1.5219745869359935,
          1.8456224867766633,
          0.35193461333641635,
          -0.6911844965770978,
          -1.9382109908973897,
          0.5101622352180557,
          0.04141713857864906,
          0.7348149162733385,
          0.08876588617886874,
          -0.20605819017878488,
          -0.5796140389078577,
          -0.27512891936251505,
          -1.108562305937151,
          0.83556234684711
         ]
        },
        {
         "boxpoints": false,
         "line": {
          "width": 1.3
         },
         "marker": {
          "color": "rgba(50, 171, 96, 1.0)"
         },
         "name": "C",
         "orientation": "v",
         "type": "box",
         "y": [
          -1.5746635555132593,
          -0.8208519487525724,
          0.13411839178356635,
          -1.073405727107703,
          0.8492878024289273,
          2.254601176611265,
          -1.0878769204610368,
          0.05491395788764352,
          -0.938550021253144,
          0.0831501541026087,
          -0.37161067823376354,
          -0.8357041894404749,
          1.1719737829000128,
          -0.6860518985881422,
          0.8375667994557933,
          -0.9397053484941409,
          -1.7889322349233618,
          -0.13110549339808994,
          -0.21790251118483994,
          1.0243507066626305,
          -1.393511551476447,
          0.7960398950108859,
          0.3376177013303217,
          -0.27719455186705055,
          -0.599024528281968,
          -1.0448750802566376,
          -0.3299792930259386,
          0.9414823910779461,
          0.8128194717871082,
          -2.0017279544076882,
          -0.11565056175803837,
          -0.39887050385009104,
          0.24681073229257872,
          0.07438133150679462,
          0.7674862118999634,
          -0.2870042449544319,
          0.1874362991542395,
          0.8852072086506295,
          -1.5070637961266762,
          1.4263336865955873,
          0.19878349333474926,
          0.9749485819616145,
          -0.6868121389520477,
          0.9166637700665273,
          0.3502501972642983,
          -0.690876281143508,
          -1.2704903637223155,
          0.7390724833594484,
          1.547695798213712,
          -0.7232647324890362,
          -0.178124208961265,
          0.49891936425176653,
          -0.829477671631334,
          1.0726449576062738,
          1.1913989599956993,
          1.2782170998335898,
          0.7979436445528246,
          -0.9147442814326879,
          -0.08208447048785322,
          -1.9173840888427844,
          -0.5552102564992429,
          0.9741457675696146,
          0.11704030109082995,
          -0.9933189766534842,
          0.09936221246799455,
          -0.4242039091357622,
          0.58729575045313,
          -0.8066782132707256,
          0.29490148525810694,
          1.1530225437432087,
          1.5171876792595087,
          0.7673025283554721,
          0.9011567252593459,
          -1.3638062823045671,
          -1.8237245334450118,
          1.0923484618951989,
          -1.1349063046921946,
          -0.5663122283761413,
          1.343150277224588,
          1.423518043952554,
          0.15021591350662922,
          0.2517358159883754,
          -0.04953946581698489,
          -0.06582562263824401,
          0.5096721099198526,
          -1.0242755455221242,
          -0.4763164697743531,
          0.6918087074211218,
          -0.21631606753447347,
          1.6824576992982336,
          -0.9763443880200405,
          0.535678872534667,
          0.2758679542206118,
          -2.8352977193601707,
          -0.0008868871502166775,
          -0.3202137870334289,
          -0.9645916325091594,
          -0.3588390703210608,
          -1.5672693194465956,
          -0.43850581048894766
         ]
        },
        {
         "boxpoints": false,
         "line": {
          "width": 1.3
         },
         "marker": {
          "color": "rgba(128, 0, 128, 1.0)"
         },
         "name": "D",
         "orientation": "v",
         "type": "box",
         "y": [
          1.3915284842186988,
          0.5185130094144702,
          -1.0606253421777951,
          -0.24460755193586287,
          0.8202241426829425,
          -0.887582315304925,
          -2.8538309597752867,
          -0.9735586571847238,
          1.450536278286463,
          1.2760657489482605,
          -1.5652882182832306,
          1.4645914708923071,
          0.09329788490746273,
          0.8057167710446781,
          1.0152273362785735,
          -0.7978662004859711,
          -0.8365744231983471,
          0.28424634824466244,
          -1.8915142256077258,
          0.3739809215343839,
          0.051329217894539,
          0.9256733937623756,
          -0.35179554429520843,
          -1.9033909214042593,
          0.45264744995978906,
          -0.5807322459220383,
          -0.11435315011914135,
          -0.30398911522147987,
          -0.08458819819471305,
          1.4295666865836059,
          -1.3657316946782658,
          0.5735423214731328,
          1.6572412107323413,
          -0.760872677119515,
          -1.2392615031108305,
          0.14803104558174862,
          -0.8561087960484719,
          -0.5128541761649891,
          -0.28488806627419583,
          -0.18465941989611753,
          -2.232825107959683,
          0.33473747004274823,
          0.6606241943088436,
          0.019623914803615285,
          -0.7584006645927847,
          2.8377835630481405,
          -0.6266276799272331,
          -0.6532095561165252,
          0.29170074098777793,
          -1.1665894943988193,
          -0.3376741908898411,
          1.0751891517480283,
          -0.6448449862168085,
          1.214573859061091,
          -0.034778294663861654,
          -0.6213694553867667,
          -1.0610596965100185,
          0.6479555596462478,
          0.9068247873074341,
          -1.5401656730162003,
          -0.7080391573628131,
          -0.7829170746864355,
          -0.4255437274019955,
          -0.3962885151997171,
          1.2386728246527157,
          -1.2016150089134001,
          0.5149137342604595,
          -0.7120689231800665,
          -0.9801118556510571,
          0.31712839974847895,
          0.9341300403425877,
          -0.7035089651286938,
          -0.5637510964979929,
          -0.40643637929223103,
          1.4717157907239993,
          -2.4316467529894203,
          1.8425226033591404,
          0.08085620949960143,
          -0.539388341835714,
          0.41145218196658184,
          1.7713082753781175,
          0.800238042387477,
          0.2907060923613845,
          0.6707859099022279,
          1.5618649336698032,
          0.6230978393033384,
          -0.9297961775205729,
          -2.369073884926949,
          -0.6835387244012849,
          1.4185669493114144,
          -0.449922261659089,
          0.37849098997281494,
          0.884469678375085,
          -2.378754245172478,
          -1.1934731790828719,
          0.12692321653002386,
          0.8237573446074903,
          -0.01818332015703452,
          0.9806165462699724,
          0.5801263631830152
         ]
        }
       ],
       "layout": {
        "legend": {
         "bgcolor": "#F5F6F9",
         "font": {
          "color": "#4D5663"
         }
        },
        "paper_bgcolor": "#F5F6F9",
        "plot_bgcolor": "#F5F6F9",
        "template": {
         "data": {
          "bar": [
           {
            "error_x": {
             "color": "#2a3f5f"
            },
            "error_y": {
             "color": "#2a3f5f"
            },
            "marker": {
             "line": {
              "color": "#E5ECF6",
              "width": 0.5
             }
            },
            "type": "bar"
           }
          ],
          "barpolar": [
           {
            "marker": {
             "line": {
              "color": "#E5ECF6",
              "width": 0.5
             }
            },
            "type": "barpolar"
           }
          ],
          "carpet": [
           {
            "aaxis": {
             "endlinecolor": "#2a3f5f",
             "gridcolor": "white",
             "linecolor": "white",
             "minorgridcolor": "white",
             "startlinecolor": "#2a3f5f"
            },
            "baxis": {
             "endlinecolor": "#2a3f5f",
             "gridcolor": "white",
             "linecolor": "white",
             "minorgridcolor": "white",
             "startlinecolor": "#2a3f5f"
            },
            "type": "carpet"
           }
          ],
          "choropleth": [
           {
            "colorbar": {
             "outlinewidth": 0,
             "ticks": ""
            },
            "type": "choropleth"
           }
          ],
          "contour": [
           {
            "colorbar": {
             "outlinewidth": 0,
             "ticks": ""
            },
            "colorscale": [
             [
              0,
              "#0d0887"
             ],
             [
              0.1111111111111111,
              "#46039f"
             ],
             [
              0.2222222222222222,
              "#7201a8"
             ],
             [
              0.3333333333333333,
              "#9c179e"
             ],
             [
              0.4444444444444444,
              "#bd3786"
             ],
             [
              0.5555555555555556,
              "#d8576b"
             ],
             [
              0.6666666666666666,
              "#ed7953"
             ],
             [
              0.7777777777777778,
              "#fb9f3a"
             ],
             [
              0.8888888888888888,
              "#fdca26"
             ],
             [
              1,
              "#f0f921"
             ]
            ],
            "type": "contour"
           }
          ],
          "contourcarpet": [
           {
            "colorbar": {
             "outlinewidth": 0,
             "ticks": ""
            },
            "type": "contourcarpet"
           }
          ],
          "heatmap": [
           {
            "colorbar": {
             "outlinewidth": 0,
             "ticks": ""
            },
            "colorscale": [
             [
              0,
              "#0d0887"
             ],
             [
              0.1111111111111111,
              "#46039f"
             ],
             [
              0.2222222222222222,
              "#7201a8"
             ],
             [
              0.3333333333333333,
              "#9c179e"
             ],
             [
              0.4444444444444444,
              "#bd3786"
             ],
             [
              0.5555555555555556,
              "#d8576b"
             ],
             [
              0.6666666666666666,
              "#ed7953"
             ],
             [
              0.7777777777777778,
              "#fb9f3a"
             ],
             [
              0.8888888888888888,
              "#fdca26"
             ],
             [
              1,
              "#f0f921"
             ]
            ],
            "type": "heatmap"
           }
          ],
          "heatmapgl": [
           {
            "colorbar": {
             "outlinewidth": 0,
             "ticks": ""
            },
            "colorscale": [
             [
              0,
              "#0d0887"
             ],
             [
              0.1111111111111111,
              "#46039f"
             ],
             [
              0.2222222222222222,
              "#7201a8"
             ],
             [
              0.3333333333333333,
              "#9c179e"
             ],
             [
              0.4444444444444444,
              "#bd3786"
             ],
             [
              0.5555555555555556,
              "#d8576b"
             ],
             [
              0.6666666666666666,
              "#ed7953"
             ],
             [
              0.7777777777777778,
              "#fb9f3a"
             ],
             [
              0.8888888888888888,
              "#fdca26"
             ],
             [
              1,
              "#f0f921"
             ]
            ],
            "type": "heatmapgl"
           }
          ],
          "histogram": [
           {
            "marker": {
             "colorbar": {
              "outlinewidth": 0,
              "ticks": ""
             }
            },
            "type": "histogram"
           }
          ],
          "histogram2d": [
           {
            "colorbar": {
             "outlinewidth": 0,
             "ticks": ""
            },
            "colorscale": [
             [
              0,
              "#0d0887"
             ],
             [
              0.1111111111111111,
              "#46039f"
             ],
             [
              0.2222222222222222,
              "#7201a8"
             ],
             [
              0.3333333333333333,
              "#9c179e"
             ],
             [
              0.4444444444444444,
              "#bd3786"
             ],
             [
              0.5555555555555556,
              "#d8576b"
             ],
             [
              0.6666666666666666,
              "#ed7953"
             ],
             [
              0.7777777777777778,
              "#fb9f3a"
             ],
             [
              0.8888888888888888,
              "#fdca26"
             ],
             [
              1,
              "#f0f921"
             ]
            ],
            "type": "histogram2d"
           }
          ],
          "histogram2dcontour": [
           {
            "colorbar": {
             "outlinewidth": 0,
             "ticks": ""
            },
            "colorscale": [
             [
              0,
              "#0d0887"
             ],
             [
              0.1111111111111111,
              "#46039f"
             ],
             [
              0.2222222222222222,
              "#7201a8"
             ],
             [
              0.3333333333333333,
              "#9c179e"
             ],
             [
              0.4444444444444444,
              "#bd3786"
             ],
             [
              0.5555555555555556,
              "#d8576b"
             ],
             [
              0.6666666666666666,
              "#ed7953"
             ],
             [
              0.7777777777777778,
              "#fb9f3a"
             ],
             [
              0.8888888888888888,
              "#fdca26"
             ],
             [
              1,
              "#f0f921"
             ]
            ],
            "type": "histogram2dcontour"
           }
          ],
          "mesh3d": [
           {
            "colorbar": {
             "outlinewidth": 0,
             "ticks": ""
            },
            "type": "mesh3d"
           }
          ],
          "parcoords": [
           {
            "line": {
             "colorbar": {
              "outlinewidth": 0,
              "ticks": ""
             }
            },
            "type": "parcoords"
           }
          ],
          "pie": [
           {
            "automargin": true,
            "type": "pie"
           }
          ],
          "scatter": [
           {
            "marker": {
             "colorbar": {
              "outlinewidth": 0,
              "ticks": ""
             }
            },
            "type": "scatter"
           }
          ],
          "scatter3d": [
           {
            "line": {
             "colorbar": {
              "outlinewidth": 0,
              "ticks": ""
             }
            },
            "marker": {
             "colorbar": {
              "outlinewidth": 0,
              "ticks": ""
             }
            },
            "type": "scatter3d"
           }
          ],
          "scattercarpet": [
           {
            "marker": {
             "colorbar": {
              "outlinewidth": 0,
              "ticks": ""
             }
            },
            "type": "scattercarpet"
           }
          ],
          "scattergeo": [
           {
            "marker": {
             "colorbar": {
              "outlinewidth": 0,
              "ticks": ""
             }
            },
            "type": "scattergeo"
           }
          ],
          "scattergl": [
           {
            "marker": {
             "colorbar": {
              "outlinewidth": 0,
              "ticks": ""
             }
            },
            "type": "scattergl"
           }
          ],
          "scattermapbox": [
           {
            "marker": {
             "colorbar": {
              "outlinewidth": 0,
              "ticks": ""
             }
            },
            "type": "scattermapbox"
           }
          ],
          "scatterpolar": [
           {
            "marker": {
             "colorbar": {
              "outlinewidth": 0,
              "ticks": ""
             }
            },
            "type": "scatterpolar"
           }
          ],
          "scatterpolargl": [
           {
            "marker": {
             "colorbar": {
              "outlinewidth": 0,
              "ticks": ""
             }
            },
            "type": "scatterpolargl"
           }
          ],
          "scatterternary": [
           {
            "marker": {
             "colorbar": {
              "outlinewidth": 0,
              "ticks": ""
             }
            },
            "type": "scatterternary"
           }
          ],
          "surface": [
           {
            "colorbar": {
             "outlinewidth": 0,
             "ticks": ""
            },
            "colorscale": [
             [
              0,
              "#0d0887"
             ],
             [
              0.1111111111111111,
              "#46039f"
             ],
             [
              0.2222222222222222,
              "#7201a8"
             ],
             [
              0.3333333333333333,
              "#9c179e"
             ],
             [
              0.4444444444444444,
              "#bd3786"
             ],
             [
              0.5555555555555556,
              "#d8576b"
             ],
             [
              0.6666666666666666,
              "#ed7953"
             ],
             [
              0.7777777777777778,
              "#fb9f3a"
             ],
             [
              0.8888888888888888,
              "#fdca26"
             ],
             [
              1,
              "#f0f921"
             ]
            ],
            "type": "surface"
           }
          ],
          "table": [
           {
            "cells": {
             "fill": {
              "color": "#EBF0F8"
             },
             "line": {
              "color": "white"
             }
            },
            "header": {
             "fill": {
              "color": "#C8D4E3"
             },
             "line": {
              "color": "white"
             }
            },
            "type": "table"
           }
          ]
         },
         "layout": {
          "annotationdefaults": {
           "arrowcolor": "#2a3f5f",
           "arrowhead": 0,
           "arrowwidth": 1
          },
          "autotypenumbers": "strict",
          "coloraxis": {
           "colorbar": {
            "outlinewidth": 0,
            "ticks": ""
           }
          },
          "colorscale": {
           "diverging": [
            [
             0,
             "#8e0152"
            ],
            [
             0.1,
             "#c51b7d"
            ],
            [
             0.2,
             "#de77ae"
            ],
            [
             0.3,
             "#f1b6da"
            ],
            [
             0.4,
             "#fde0ef"
            ],
            [
             0.5,
             "#f7f7f7"
            ],
            [
             0.6,
             "#e6f5d0"
            ],
            [
             0.7,
             "#b8e186"
            ],
            [
             0.8,
             "#7fbc41"
            ],
            [
             0.9,
             "#4d9221"
            ],
            [
             1,
             "#276419"
            ]
           ],
           "sequential": [
            [
             0,
             "#0d0887"
            ],
            [
             0.1111111111111111,
             "#46039f"
            ],
            [
             0.2222222222222222,
             "#7201a8"
            ],
            [
             0.3333333333333333,
             "#9c179e"
            ],
            [
             0.4444444444444444,
             "#bd3786"
            ],
            [
             0.5555555555555556,
             "#d8576b"
            ],
            [
             0.6666666666666666,
             "#ed7953"
            ],
            [
             0.7777777777777778,
             "#fb9f3a"
            ],
            [
             0.8888888888888888,
             "#fdca26"
            ],
            [
             1,
             "#f0f921"
            ]
           ],
           "sequentialminus": [
            [
             0,
             "#0d0887"
            ],
            [
             0.1111111111111111,
             "#46039f"
            ],
            [
             0.2222222222222222,
             "#7201a8"
            ],
            [
             0.3333333333333333,
             "#9c179e"
            ],
            [
             0.4444444444444444,
             "#bd3786"
            ],
            [
             0.5555555555555556,
             "#d8576b"
            ],
            [
             0.6666666666666666,
             "#ed7953"
            ],
            [
             0.7777777777777778,
             "#fb9f3a"
            ],
            [
             0.8888888888888888,
             "#fdca26"
            ],
            [
             1,
             "#f0f921"
            ]
           ]
          },
          "colorway": [
           "#636efa",
           "#EF553B",
           "#00cc96",
           "#ab63fa",
           "#FFA15A",
           "#19d3f3",
           "#FF6692",
           "#B6E880",
           "#FF97FF",
           "#FECB52"
          ],
          "font": {
           "color": "#2a3f5f"
          },
          "geo": {
           "bgcolor": "white",
           "lakecolor": "white",
           "landcolor": "#E5ECF6",
           "showlakes": true,
           "showland": true,
           "subunitcolor": "white"
          },
          "hoverlabel": {
           "align": "left"
          },
          "hovermode": "closest",
          "mapbox": {
           "style": "light"
          },
          "paper_bgcolor": "white",
          "plot_bgcolor": "#E5ECF6",
          "polar": {
           "angularaxis": {
            "gridcolor": "white",
            "linecolor": "white",
            "ticks": ""
           },
           "bgcolor": "#E5ECF6",
           "radialaxis": {
            "gridcolor": "white",
            "linecolor": "white",
            "ticks": ""
           }
          },
          "scene": {
           "xaxis": {
            "backgroundcolor": "#E5ECF6",
            "gridcolor": "white",
            "gridwidth": 2,
            "linecolor": "white",
            "showbackground": true,
            "ticks": "",
            "zerolinecolor": "white"
           },
           "yaxis": {
            "backgroundcolor": "#E5ECF6",
            "gridcolor": "white",
            "gridwidth": 2,
            "linecolor": "white",
            "showbackground": true,
            "ticks": "",
            "zerolinecolor": "white"
           },
           "zaxis": {
            "backgroundcolor": "#E5ECF6",
            "gridcolor": "white",
            "gridwidth": 2,
            "linecolor": "white",
            "showbackground": true,
            "ticks": "",
            "zerolinecolor": "white"
           }
          },
          "shapedefaults": {
           "line": {
            "color": "#2a3f5f"
           }
          },
          "ternary": {
           "aaxis": {
            "gridcolor": "white",
            "linecolor": "white",
            "ticks": ""
           },
           "baxis": {
            "gridcolor": "white",
            "linecolor": "white",
            "ticks": ""
           },
           "bgcolor": "#E5ECF6",
           "caxis": {
            "gridcolor": "white",
            "linecolor": "white",
            "ticks": ""
           }
          },
          "title": {
           "x": 0.05
          },
          "xaxis": {
           "automargin": true,
           "gridcolor": "white",
           "linecolor": "white",
           "ticks": "",
           "title": {
            "standoff": 15
           },
           "zerolinecolor": "white",
           "zerolinewidth": 2
          },
          "yaxis": {
           "automargin": true,
           "gridcolor": "white",
           "linecolor": "white",
           "ticks": "",
           "title": {
            "standoff": 15
           },
           "zerolinecolor": "white",
           "zerolinewidth": 2
          }
         }
        },
        "title": {
         "font": {
          "color": "#4D5663"
         }
        },
        "xaxis": {
         "gridcolor": "#E1E5ED",
         "showgrid": true,
         "tickfont": {
          "color": "#4D5663"
         },
         "title": {
          "font": {
           "color": "#4D5663"
          },
          "text": ""
         },
         "zerolinecolor": "#E1E5ED"
        },
        "yaxis": {
         "gridcolor": "#E1E5ED",
         "showgrid": true,
         "tickfont": {
          "color": "#4D5663"
         },
         "title": {
          "font": {
           "color": "#4D5663"
          },
          "text": ""
         },
         "zerolinecolor": "#E1E5ED"
        }
       }
      },
      "text/html": "<div>                            <div id=\"a9ab96ac-846b-4ac4-88c9-6144b664e16a\" class=\"plotly-graph-div\" style=\"height:525px; width:100%;\"></div>            <script type=\"text/javascript\">                require([\"plotly\"], function(Plotly) {                    window.PLOTLYENV=window.PLOTLYENV || {};\n                    window.PLOTLYENV.BASE_URL='https://plot.ly';                                    if (document.getElementById(\"a9ab96ac-846b-4ac4-88c9-6144b664e16a\")) {                    Plotly.newPlot(                        \"a9ab96ac-846b-4ac4-88c9-6144b664e16a\",                        [{\"boxpoints\": false, \"line\": {\"width\": 1.3}, \"marker\": {\"color\": \"rgba(255, 153, 51, 1.0)\"}, \"name\": \"A\", \"orientation\": \"v\", \"type\": \"box\", \"y\": [0.5465783073064772, -0.29266683075288924, 0.6231870996745854, -0.834383727710256, 0.07267124236383367, 0.546609283854429, -1.131288781160773, 0.9726279769132807, 1.3036471779533993, 0.09456737726953622, -1.4909951751412387, 0.2486809006031248, -0.5041954963214929, 1.090313604126461, 0.5271065162022843, 0.72996298455288, -0.5727674434124677, 0.6981473528513243, 0.42646244691734936, 0.22561770627475097, 1.3964635891379957, -1.028076763783862, -0.7918548050193706, 0.6424988861128034, 0.07700092744047617, 0.2639476843988694, -1.3939121056913943, 0.8022040203343273, -0.46413394434136784, 0.2220320510302532, 0.935281027468148, -0.7800155400860896, -0.416128340694564, 1.3185965143422556, -0.9440127360391387, -0.6366557329525351, 0.44540615728871885, -2.2642998115862225, -0.2850565034199015, 1.0506044703218136, 0.8378528542175177, -0.12868954137371466, -0.33798990823686026, 0.1679192582551076, -0.9308238698161303, 0.07517507846869902, 0.5529139051581751, -0.6550066638750623, 1.6622073144790908, -0.9563738629799234, -0.9039901786142885, -0.9224207152656744, 0.7853020720624344, -0.9078645469319825, -1.0065774903612925, -0.6513350487302739, 0.607897606343382, -0.7121619992871777, -1.0062801835740622, 0.4151934066896479, 0.42890807858108176, -1.4465094346493927, 1.7219331417962913, -1.5053103553567573, -1.5460676762516719, -1.334470385973534, 1.3820705239206281, 1.149948100182805, 0.48581062454288443, -2.9220312235168104, 0.9688469690572168, 0.4005785671067927, -1.7729643682929506, -2.254444960561575, 2.8558789888409377, 0.11684368509114042, -0.5921664352451752, -0.7669775175253448, 0.3944947793185067, 0.17970836550271987, 0.7320087898796422, -0.3718994683294069, 0.6490335347378919, 1.61451773742073, 2.2200311879880092, 0.2652884204844432, -1.138292642211443, -1.0916461301727252, -0.6552002466498384, -0.17573927465249542, 0.19807054658965803, -0.3135938770961247, 0.9100592564889136, 1.389689501439636, 0.4571725986883691, -1.147513235584393, -0.2641384924636912, -2.4750908872422532, -0.3052555238066782, 0.5126311294281619]}, {\"boxpoints\": false, \"line\": {\"width\": 1.3}, \"marker\": {\"color\": \"rgba(55, 128, 191, 1.0)\"}, \"name\": \"B\", \"orientation\": \"v\", \"type\": \"box\", \"y\": [-0.3210616890439768, 0.014731334124076999, 0.5366938623242867, -0.28347189457944116, 0.045451557025280365, 0.13459038631390496, 0.7680897864672134, -0.5605600823698804, 1.6570181797969776, 0.6384146948817033, 1.3887234430034054, -0.09505479464596212, 0.3793871989929514, 0.968138373003798, 0.5570971336800378, -0.12022809907427562, 1.225767443374642, -0.48103582404950523, 0.31237187179067677, -1.5541642248570275, -0.0905732283356259, -0.7121648301099559, -0.8980559307398618, 0.7505948170765744, -0.08743327787437438, 0.7381569910231944, 1.0578906584070804, 0.609010499655325, -0.07991913941469375, -0.9809062194854374, -0.3927567552348754, 1.1779490224473685, 0.5861320936097942, -1.9586149587331063, -0.7503025630835873, 2.111168813334928, 1.1724683723332443, 0.41124561482519084, -0.8073090559661715, -0.6001700359496503, 0.924992852207575, 0.564903133816479, -1.329485783727274, -0.9042900886398983, 0.7446229259164912, -0.6664395834381821, 1.790641696870415, -0.7000508417729924, -2.124025946845946, 1.427339440341842, -0.023434047825694505, -2.184151730277451, -0.2743737245978753, 0.08652959980978199, 0.7073634897595449, 0.5328211228340343, 1.8902284648569976, 0.21527531979477196, -1.7836858947922036, -0.3353688964873548, -1.1002301192684039, -0.6883952001486617, -1.5764860675414936, -0.6433657782077495, 1.097576865535247, -0.023602921622034694, -0.029463692580862483, 0.2358983482389432, 0.27894641922849245, 0.30550114510394016, 0.8867657472418506, 0.9319324919522, -0.01664626305233927, -0.5007055914851937, 1.5554489026110867, 0.3985089102148669, -1.7988728013549453, 0.33490036387429, -0.3185069447544962, -0.10960628009446838, 0.5677453220093496, -0.9445892255243346, -0.6654555763718258, 1.3332815274819332, 0.9620523328660819, 0.0627271471645771, -1.5219745869359935, 1.8456224867766633, 0.35193461333641635, -0.6911844965770978, -1.9382109908973897, 0.5101622352180557, 0.04141713857864906, 0.7348149162733385, 0.08876588617886874, -0.20605819017878488, -0.5796140389078577, -0.27512891936251505, -1.108562305937151, 0.83556234684711]}, {\"boxpoints\": false, \"line\": {\"width\": 1.3}, \"marker\": {\"color\": \"rgba(50, 171, 96, 1.0)\"}, \"name\": \"C\", \"orientation\": \"v\", \"type\": \"box\", \"y\": [-1.5746635555132593, -0.8208519487525724, 0.13411839178356635, -1.073405727107703, 0.8492878024289273, 2.254601176611265, -1.0878769204610368, 0.05491395788764352, -0.938550021253144, 0.0831501541026087, -0.37161067823376354, -0.8357041894404749, 1.1719737829000128, -0.6860518985881422, 0.8375667994557933, -0.9397053484941409, -1.7889322349233618, -0.13110549339808994, -0.21790251118483994, 1.0243507066626305, -1.393511551476447, 0.7960398950108859, 0.3376177013303217, -0.27719455186705055, -0.599024528281968, -1.0448750802566376, -0.3299792930259386, 0.9414823910779461, 0.8128194717871082, -2.0017279544076882, -0.11565056175803837, -0.39887050385009104, 0.24681073229257872, 0.07438133150679462, 0.7674862118999634, -0.2870042449544319, 0.1874362991542395, 0.8852072086506295, -1.5070637961266762, 1.4263336865955873, 0.19878349333474926, 0.9749485819616145, -0.6868121389520477, 0.9166637700665273, 0.3502501972642983, -0.690876281143508, -1.2704903637223155, 0.7390724833594484, 1.547695798213712, -0.7232647324890362, -0.178124208961265, 0.49891936425176653, -0.829477671631334, 1.0726449576062738, 1.1913989599956993, 1.2782170998335898, 0.7979436445528246, -0.9147442814326879, -0.08208447048785322, -1.9173840888427844, -0.5552102564992429, 0.9741457675696146, 0.11704030109082995, -0.9933189766534842, 0.09936221246799455, -0.4242039091357622, 0.58729575045313, -0.8066782132707256, 0.29490148525810694, 1.1530225437432087, 1.5171876792595087, 0.7673025283554721, 0.9011567252593459, -1.3638062823045671, -1.8237245334450118, 1.0923484618951989, -1.1349063046921946, -0.5663122283761413, 1.343150277224588, 1.423518043952554, 0.15021591350662922, 0.2517358159883754, -0.04953946581698489, -0.06582562263824401, 0.5096721099198526, -1.0242755455221242, -0.4763164697743531, 0.6918087074211218, -0.21631606753447347, 1.6824576992982336, -0.9763443880200405, 0.535678872534667, 0.2758679542206118, -2.8352977193601707, -0.0008868871502166775, -0.3202137870334289, -0.9645916325091594, -0.3588390703210608, -1.5672693194465956, -0.43850581048894766]}, {\"boxpoints\": false, \"line\": {\"width\": 1.3}, \"marker\": {\"color\": \"rgba(128, 0, 128, 1.0)\"}, \"name\": \"D\", \"orientation\": \"v\", \"type\": \"box\", \"y\": [1.3915284842186988, 0.5185130094144702, -1.0606253421777951, -0.24460755193586287, 0.8202241426829425, -0.887582315304925, -2.8538309597752867, -0.9735586571847238, 1.450536278286463, 1.2760657489482605, -1.5652882182832306, 1.4645914708923071, 0.09329788490746273, 0.8057167710446781, 1.0152273362785735, -0.7978662004859711, -0.8365744231983471, 0.28424634824466244, -1.8915142256077258, 0.3739809215343839, 0.051329217894539, 0.9256733937623756, -0.35179554429520843, -1.9033909214042593, 0.45264744995978906, -0.5807322459220383, -0.11435315011914135, -0.30398911522147987, -0.08458819819471305, 1.4295666865836059, -1.3657316946782658, 0.5735423214731328, 1.6572412107323413, -0.760872677119515, -1.2392615031108305, 0.14803104558174862, -0.8561087960484719, -0.5128541761649891, -0.28488806627419583, -0.18465941989611753, -2.232825107959683, 0.33473747004274823, 0.6606241943088436, 0.019623914803615285, -0.7584006645927847, 2.8377835630481405, -0.6266276799272331, -0.6532095561165252, 0.29170074098777793, -1.1665894943988193, -0.3376741908898411, 1.0751891517480283, -0.6448449862168085, 1.214573859061091, -0.034778294663861654, -0.6213694553867667, -1.0610596965100185, 0.6479555596462478, 0.9068247873074341, -1.5401656730162003, -0.7080391573628131, -0.7829170746864355, -0.4255437274019955, -0.3962885151997171, 1.2386728246527157, -1.2016150089134001, 0.5149137342604595, -0.7120689231800665, -0.9801118556510571, 0.31712839974847895, 0.9341300403425877, -0.7035089651286938, -0.5637510964979929, -0.40643637929223103, 1.4717157907239993, -2.4316467529894203, 1.8425226033591404, 0.08085620949960143, -0.539388341835714, 0.41145218196658184, 1.7713082753781175, 0.800238042387477, 0.2907060923613845, 0.6707859099022279, 1.5618649336698032, 0.6230978393033384, -0.9297961775205729, -2.369073884926949, -0.6835387244012849, 1.4185669493114144, -0.449922261659089, 0.37849098997281494, 0.884469678375085, -2.378754245172478, -1.1934731790828719, 0.12692321653002386, 0.8237573446074903, -0.01818332015703452, 0.9806165462699724, 0.5801263631830152]}],                        {\"legend\": {\"bgcolor\": \"#F5F6F9\", \"font\": {\"color\": \"#4D5663\"}}, \"paper_bgcolor\": \"#F5F6F9\", \"plot_bgcolor\": \"#F5F6F9\", \"template\": {\"data\": {\"bar\": [{\"error_x\": {\"color\": \"#2a3f5f\"}, \"error_y\": {\"color\": \"#2a3f5f\"}, \"marker\": {\"line\": {\"color\": \"#E5ECF6\", \"width\": 0.5}}, \"type\": \"bar\"}], \"barpolar\": [{\"marker\": {\"line\": {\"color\": \"#E5ECF6\", \"width\": 0.5}}, \"type\": \"barpolar\"}], \"carpet\": [{\"aaxis\": {\"endlinecolor\": \"#2a3f5f\", \"gridcolor\": \"white\", \"linecolor\": \"white\", \"minorgridcolor\": \"white\", \"startlinecolor\": \"#2a3f5f\"}, \"baxis\": {\"endlinecolor\": \"#2a3f5f\", \"gridcolor\": \"white\", \"linecolor\": \"white\", \"minorgridcolor\": \"white\", \"startlinecolor\": \"#2a3f5f\"}, \"type\": \"carpet\"}], \"choropleth\": [{\"colorbar\": {\"outlinewidth\": 0, \"ticks\": \"\"}, \"type\": \"choropleth\"}], \"contour\": [{\"colorbar\": {\"outlinewidth\": 0, \"ticks\": \"\"}, \"colorscale\": [[0.0, \"#0d0887\"], [0.1111111111111111, \"#46039f\"], [0.2222222222222222, \"#7201a8\"], [0.3333333333333333, \"#9c179e\"], [0.4444444444444444, \"#bd3786\"], [0.5555555555555556, \"#d8576b\"], [0.6666666666666666, \"#ed7953\"], [0.7777777777777778, \"#fb9f3a\"], [0.8888888888888888, \"#fdca26\"], [1.0, \"#f0f921\"]], \"type\": \"contour\"}], \"contourcarpet\": [{\"colorbar\": {\"outlinewidth\": 0, \"ticks\": \"\"}, \"type\": \"contourcarpet\"}], \"heatmap\": [{\"colorbar\": {\"outlinewidth\": 0, \"ticks\": \"\"}, \"colorscale\": [[0.0, \"#0d0887\"], [0.1111111111111111, \"#46039f\"], [0.2222222222222222, \"#7201a8\"], [0.3333333333333333, \"#9c179e\"], [0.4444444444444444, \"#bd3786\"], [0.5555555555555556, \"#d8576b\"], [0.6666666666666666, \"#ed7953\"], [0.7777777777777778, \"#fb9f3a\"], [0.8888888888888888, \"#fdca26\"], [1.0, \"#f0f921\"]], \"type\": \"heatmap\"}], \"heatmapgl\": [{\"colorbar\": {\"outlinewidth\": 0, \"ticks\": \"\"}, \"colorscale\": [[0.0, \"#0d0887\"], [0.1111111111111111, \"#46039f\"], [0.2222222222222222, \"#7201a8\"], [0.3333333333333333, \"#9c179e\"], [0.4444444444444444, \"#bd3786\"], [0.5555555555555556, \"#d8576b\"], [0.6666666666666666, \"#ed7953\"], [0.7777777777777778, \"#fb9f3a\"], [0.8888888888888888, \"#fdca26\"], [1.0, \"#f0f921\"]], \"type\": \"heatmapgl\"}], \"histogram\": [{\"marker\": {\"colorbar\": {\"outlinewidth\": 0, \"ticks\": \"\"}}, \"type\": \"histogram\"}], \"histogram2d\": [{\"colorbar\": {\"outlinewidth\": 0, \"ticks\": \"\"}, \"colorscale\": [[0.0, \"#0d0887\"], [0.1111111111111111, \"#46039f\"], [0.2222222222222222, \"#7201a8\"], [0.3333333333333333, \"#9c179e\"], [0.4444444444444444, \"#bd3786\"], [0.5555555555555556, \"#d8576b\"], [0.6666666666666666, \"#ed7953\"], [0.7777777777777778, \"#fb9f3a\"], [0.8888888888888888, \"#fdca26\"], [1.0, \"#f0f921\"]], \"type\": \"histogram2d\"}], \"histogram2dcontour\": [{\"colorbar\": {\"outlinewidth\": 0, \"ticks\": \"\"}, \"colorscale\": [[0.0, \"#0d0887\"], [0.1111111111111111, \"#46039f\"], [0.2222222222222222, \"#7201a8\"], [0.3333333333333333, \"#9c179e\"], [0.4444444444444444, \"#bd3786\"], [0.5555555555555556, \"#d8576b\"], [0.6666666666666666, \"#ed7953\"], [0.7777777777777778, \"#fb9f3a\"], [0.8888888888888888, \"#fdca26\"], [1.0, \"#f0f921\"]], \"type\": \"histogram2dcontour\"}], \"mesh3d\": [{\"colorbar\": {\"outlinewidth\": 0, \"ticks\": \"\"}, \"type\": \"mesh3d\"}], \"parcoords\": [{\"line\": {\"colorbar\": {\"outlinewidth\": 0, \"ticks\": \"\"}}, \"type\": \"parcoords\"}], \"pie\": [{\"automargin\": true, \"type\": \"pie\"}], \"scatter\": [{\"marker\": {\"colorbar\": {\"outlinewidth\": 0, \"ticks\": \"\"}}, \"type\": \"scatter\"}], \"scatter3d\": [{\"line\": {\"colorbar\": {\"outlinewidth\": 0, \"ticks\": \"\"}}, \"marker\": {\"colorbar\": {\"outlinewidth\": 0, \"ticks\": \"\"}}, \"type\": \"scatter3d\"}], \"scattercarpet\": [{\"marker\": {\"colorbar\": {\"outlinewidth\": 0, \"ticks\": \"\"}}, \"type\": \"scattercarpet\"}], \"scattergeo\": [{\"marker\": {\"colorbar\": {\"outlinewidth\": 0, \"ticks\": \"\"}}, \"type\": \"scattergeo\"}], \"scattergl\": [{\"marker\": {\"colorbar\": {\"outlinewidth\": 0, \"ticks\": \"\"}}, \"type\": \"scattergl\"}], \"scattermapbox\": [{\"marker\": {\"colorbar\": {\"outlinewidth\": 0, \"ticks\": \"\"}}, \"type\": \"scattermapbox\"}], \"scatterpolar\": [{\"marker\": {\"colorbar\": {\"outlinewidth\": 0, \"ticks\": \"\"}}, \"type\": \"scatterpolar\"}], \"scatterpolargl\": [{\"marker\": {\"colorbar\": {\"outlinewidth\": 0, \"ticks\": \"\"}}, \"type\": \"scatterpolargl\"}], \"scatterternary\": [{\"marker\": {\"colorbar\": {\"outlinewidth\": 0, \"ticks\": \"\"}}, \"type\": \"scatterternary\"}], \"surface\": [{\"colorbar\": {\"outlinewidth\": 0, \"ticks\": \"\"}, \"colorscale\": [[0.0, \"#0d0887\"], [0.1111111111111111, \"#46039f\"], [0.2222222222222222, \"#7201a8\"], [0.3333333333333333, \"#9c179e\"], [0.4444444444444444, \"#bd3786\"], [0.5555555555555556, \"#d8576b\"], [0.6666666666666666, \"#ed7953\"], [0.7777777777777778, \"#fb9f3a\"], [0.8888888888888888, \"#fdca26\"], [1.0, \"#f0f921\"]], \"type\": \"surface\"}], \"table\": [{\"cells\": {\"fill\": {\"color\": \"#EBF0F8\"}, \"line\": {\"color\": \"white\"}}, \"header\": {\"fill\": {\"color\": \"#C8D4E3\"}, \"line\": {\"color\": \"white\"}}, \"type\": \"table\"}]}, \"layout\": {\"annotationdefaults\": {\"arrowcolor\": \"#2a3f5f\", \"arrowhead\": 0, \"arrowwidth\": 1}, \"autotypenumbers\": \"strict\", \"coloraxis\": {\"colorbar\": {\"outlinewidth\": 0, \"ticks\": \"\"}}, \"colorscale\": {\"diverging\": [[0, \"#8e0152\"], [0.1, \"#c51b7d\"], [0.2, \"#de77ae\"], [0.3, \"#f1b6da\"], [0.4, \"#fde0ef\"], [0.5, \"#f7f7f7\"], [0.6, \"#e6f5d0\"], [0.7, \"#b8e186\"], [0.8, \"#7fbc41\"], [0.9, \"#4d9221\"], [1, \"#276419\"]], \"sequential\": [[0.0, \"#0d0887\"], [0.1111111111111111, \"#46039f\"], [0.2222222222222222, \"#7201a8\"], [0.3333333333333333, \"#9c179e\"], [0.4444444444444444, \"#bd3786\"], [0.5555555555555556, \"#d8576b\"], [0.6666666666666666, \"#ed7953\"], [0.7777777777777778, \"#fb9f3a\"], [0.8888888888888888, \"#fdca26\"], [1.0, \"#f0f921\"]], \"sequentialminus\": [[0.0, \"#0d0887\"], [0.1111111111111111, \"#46039f\"], [0.2222222222222222, \"#7201a8\"], [0.3333333333333333, \"#9c179e\"], [0.4444444444444444, \"#bd3786\"], [0.5555555555555556, \"#d8576b\"], [0.6666666666666666, \"#ed7953\"], [0.7777777777777778, \"#fb9f3a\"], [0.8888888888888888, \"#fdca26\"], [1.0, \"#f0f921\"]]}, \"colorway\": [\"#636efa\", \"#EF553B\", \"#00cc96\", \"#ab63fa\", \"#FFA15A\", \"#19d3f3\", \"#FF6692\", \"#B6E880\", \"#FF97FF\", \"#FECB52\"], \"font\": {\"color\": \"#2a3f5f\"}, \"geo\": {\"bgcolor\": \"white\", \"lakecolor\": \"white\", \"landcolor\": \"#E5ECF6\", \"showlakes\": true, \"showland\": true, \"subunitcolor\": \"white\"}, \"hoverlabel\": {\"align\": \"left\"}, \"hovermode\": \"closest\", \"mapbox\": {\"style\": \"light\"}, \"paper_bgcolor\": \"white\", \"plot_bgcolor\": \"#E5ECF6\", \"polar\": {\"angularaxis\": {\"gridcolor\": \"white\", \"linecolor\": \"white\", \"ticks\": \"\"}, \"bgcolor\": \"#E5ECF6\", \"radialaxis\": {\"gridcolor\": \"white\", \"linecolor\": \"white\", \"ticks\": \"\"}}, \"scene\": {\"xaxis\": {\"backgroundcolor\": \"#E5ECF6\", \"gridcolor\": \"white\", \"gridwidth\": 2, \"linecolor\": \"white\", \"showbackground\": true, \"ticks\": \"\", \"zerolinecolor\": \"white\"}, \"yaxis\": {\"backgroundcolor\": \"#E5ECF6\", \"gridcolor\": \"white\", \"gridwidth\": 2, \"linecolor\": \"white\", \"showbackground\": true, \"ticks\": \"\", \"zerolinecolor\": \"white\"}, \"zaxis\": {\"backgroundcolor\": \"#E5ECF6\", \"gridcolor\": \"white\", \"gridwidth\": 2, \"linecolor\": \"white\", \"showbackground\": true, \"ticks\": \"\", \"zerolinecolor\": \"white\"}}, \"shapedefaults\": {\"line\": {\"color\": \"#2a3f5f\"}}, \"ternary\": {\"aaxis\": {\"gridcolor\": \"white\", \"linecolor\": \"white\", \"ticks\": \"\"}, \"baxis\": {\"gridcolor\": \"white\", \"linecolor\": \"white\", \"ticks\": \"\"}, \"bgcolor\": \"#E5ECF6\", \"caxis\": {\"gridcolor\": \"white\", \"linecolor\": \"white\", \"ticks\": \"\"}}, \"title\": {\"x\": 0.05}, \"xaxis\": {\"automargin\": true, \"gridcolor\": \"white\", \"linecolor\": \"white\", \"ticks\": \"\", \"title\": {\"standoff\": 15}, \"zerolinecolor\": \"white\", \"zerolinewidth\": 2}, \"yaxis\": {\"automargin\": true, \"gridcolor\": \"white\", \"linecolor\": \"white\", \"ticks\": \"\", \"title\": {\"standoff\": 15}, \"zerolinecolor\": \"white\", \"zerolinewidth\": 2}}}, \"title\": {\"font\": {\"color\": \"#4D5663\"}}, \"xaxis\": {\"gridcolor\": \"#E1E5ED\", \"showgrid\": true, \"tickfont\": {\"color\": \"#4D5663\"}, \"title\": {\"font\": {\"color\": \"#4D5663\"}, \"text\": \"\"}, \"zerolinecolor\": \"#E1E5ED\"}, \"yaxis\": {\"gridcolor\": \"#E1E5ED\", \"showgrid\": true, \"tickfont\": {\"color\": \"#4D5663\"}, \"title\": {\"font\": {\"color\": \"#4D5663\"}, \"text\": \"\"}, \"zerolinecolor\": \"#E1E5ED\"}},                        {\"showLink\": true, \"linkText\": \"Export to plot.ly\", \"plotlyServerURL\": \"https://plot.ly\", \"responsive\": true}                    ).then(function(){\n                            \nvar gd = document.getElementById('a9ab96ac-846b-4ac4-88c9-6144b664e16a');\nvar x = new MutationObserver(function (mutations, observer) {{\n        var display = window.getComputedStyle(gd).display;\n        if (!display || display === 'none') {{\n            console.log([gd, 'removed!']);\n            Plotly.purge(gd);\n            observer.disconnect();\n        }}\n}});\n\n// Listen for the removal of the full notebook cells\nvar notebookContainer = gd.closest('#notebook-container');\nif (notebookContainer) {{\n    x.observe(notebookContainer, {childList: true});\n}}\n\n// Listen for the clearing of the current output cell\nvar outputEl = gd.closest('.output');\nif (outputEl) {{\n    x.observe(outputEl, {childList: true});\n}}\n\n                        })                };                });            </script>        </div>"
     },
     "metadata": {}
    }
   ],
   "source": [
    "df.iplot(kind='box')"
   ]
  },
  {
   "cell_type": "code",
   "execution_count": 27,
   "metadata": {},
   "outputs": [],
   "source": [
    "df3 = pd.DataFrame({'x':[1, 2, 3, 4, 5], 'y':[10, 20, 30, 40, 50], 'z':[5, 4, 3, 2, 1]})"
   ]
  },
  {
   "cell_type": "code",
   "execution_count": 28,
   "metadata": {},
   "outputs": [
    {
     "output_type": "execute_result",
     "data": {
      "text/plain": [
       "   x   y  z\n",
       "0  1  10  5\n",
       "1  2  20  4\n",
       "2  3  30  3\n",
       "3  4  40  2\n",
       "4  5  50  1"
      ],
      "text/html": "<div>\n<style scoped>\n    .dataframe tbody tr th:only-of-type {\n        vertical-align: middle;\n    }\n\n    .dataframe tbody tr th {\n        vertical-align: top;\n    }\n\n    .dataframe thead th {\n        text-align: right;\n    }\n</style>\n<table border=\"1\" class=\"dataframe\">\n  <thead>\n    <tr style=\"text-align: right;\">\n      <th></th>\n      <th>x</th>\n      <th>y</th>\n      <th>z</th>\n    </tr>\n  </thead>\n  <tbody>\n    <tr>\n      <th>0</th>\n      <td>1</td>\n      <td>10</td>\n      <td>5</td>\n    </tr>\n    <tr>\n      <th>1</th>\n      <td>2</td>\n      <td>20</td>\n      <td>4</td>\n    </tr>\n    <tr>\n      <th>2</th>\n      <td>3</td>\n      <td>30</td>\n      <td>3</td>\n    </tr>\n    <tr>\n      <th>3</th>\n      <td>4</td>\n      <td>40</td>\n      <td>2</td>\n    </tr>\n    <tr>\n      <th>4</th>\n      <td>5</td>\n      <td>50</td>\n      <td>1</td>\n    </tr>\n  </tbody>\n</table>\n</div>"
     },
     "metadata": {},
     "execution_count": 28
    }
   ],
   "source": [
    "df3"
   ]
  },
  {
   "cell_type": "code",
   "execution_count": 30,
   "metadata": {},
   "outputs": [
    {
     "output_type": "display_data",
     "data": {
      "application/vnd.plotly.v1+json": {
       "config": {
        "linkText": "Export to plot.ly",
        "plotlyServerURL": "https://plot.ly",
        "showLink": true
       },
       "data": [
        {
         "colorscale": [
          [
           0,
           "rgb(255, 153, 51)"
          ],
          [
           0.1111111111111111,
           "rgb(55, 128, 191)"
          ],
          [
           0.2222222222222222,
           "rgb(50, 171, 96)"
          ],
          [
           0.3333333333333333,
           "rgb(128, 0, 128)"
          ],
          [
           0.4444444444444444,
           "rgb(219, 64, 82)"
          ],
          [
           0.5555555555555556,
           "rgb(0, 128, 128)"
          ],
          [
           0.6666666666666666,
           "rgb(255, 255, 51)"
          ],
          [
           0.7777777777777778,
           "rgb(128, 128, 0)"
          ],
          [
           0.8888888888888888,
           "rgb(251, 128, 114)"
          ],
          [
           1,
           "rgb(128, 177, 211)"
          ]
         ],
         "type": "surface",
         "x": [
          0,
          1,
          2,
          3,
          4
         ],
         "y": [
          "x",
          "y",
          "z"
         ],
         "z": [
          [
           1,
           2,
           3,
           4,
           5
          ],
          [
           10,
           20,
           30,
           40,
           50
          ],
          [
           5,
           4,
           3,
           2,
           1
          ]
         ]
        }
       ],
       "layout": {
        "legend": {
         "bgcolor": "#F5F6F9",
         "font": {
          "color": "#4D5663"
         }
        },
        "paper_bgcolor": "#F5F6F9",
        "plot_bgcolor": "#F5F6F9",
        "template": {
         "data": {
          "bar": [
           {
            "error_x": {
             "color": "#2a3f5f"
            },
            "error_y": {
             "color": "#2a3f5f"
            },
            "marker": {
             "line": {
              "color": "#E5ECF6",
              "width": 0.5
             }
            },
            "type": "bar"
           }
          ],
          "barpolar": [
           {
            "marker": {
             "line": {
              "color": "#E5ECF6",
              "width": 0.5
             }
            },
            "type": "barpolar"
           }
          ],
          "carpet": [
           {
            "aaxis": {
             "endlinecolor": "#2a3f5f",
             "gridcolor": "white",
             "linecolor": "white",
             "minorgridcolor": "white",
             "startlinecolor": "#2a3f5f"
            },
            "baxis": {
             "endlinecolor": "#2a3f5f",
             "gridcolor": "white",
             "linecolor": "white",
             "minorgridcolor": "white",
             "startlinecolor": "#2a3f5f"
            },
            "type": "carpet"
           }
          ],
          "choropleth": [
           {
            "colorbar": {
             "outlinewidth": 0,
             "ticks": ""
            },
            "type": "choropleth"
           }
          ],
          "contour": [
           {
            "colorbar": {
             "outlinewidth": 0,
             "ticks": ""
            },
            "colorscale": [
             [
              0,
              "#0d0887"
             ],
             [
              0.1111111111111111,
              "#46039f"
             ],
             [
              0.2222222222222222,
              "#7201a8"
             ],
             [
              0.3333333333333333,
              "#9c179e"
             ],
             [
              0.4444444444444444,
              "#bd3786"
             ],
             [
              0.5555555555555556,
              "#d8576b"
             ],
             [
              0.6666666666666666,
              "#ed7953"
             ],
             [
              0.7777777777777778,
              "#fb9f3a"
             ],
             [
              0.8888888888888888,
              "#fdca26"
             ],
             [
              1,
              "#f0f921"
             ]
            ],
            "type": "contour"
           }
          ],
          "contourcarpet": [
           {
            "colorbar": {
             "outlinewidth": 0,
             "ticks": ""
            },
            "type": "contourcarpet"
           }
          ],
          "heatmap": [
           {
            "colorbar": {
             "outlinewidth": 0,
             "ticks": ""
            },
            "colorscale": [
             [
              0,
              "#0d0887"
             ],
             [
              0.1111111111111111,
              "#46039f"
             ],
             [
              0.2222222222222222,
              "#7201a8"
             ],
             [
              0.3333333333333333,
              "#9c179e"
             ],
             [
              0.4444444444444444,
              "#bd3786"
             ],
             [
              0.5555555555555556,
              "#d8576b"
             ],
             [
              0.6666666666666666,
              "#ed7953"
             ],
             [
              0.7777777777777778,
              "#fb9f3a"
             ],
             [
              0.8888888888888888,
              "#fdca26"
             ],
             [
              1,
              "#f0f921"
             ]
            ],
            "type": "heatmap"
           }
          ],
          "heatmapgl": [
           {
            "colorbar": {
             "outlinewidth": 0,
             "ticks": ""
            },
            "colorscale": [
             [
              0,
              "#0d0887"
             ],
             [
              0.1111111111111111,
              "#46039f"
             ],
             [
              0.2222222222222222,
              "#7201a8"
             ],
             [
              0.3333333333333333,
              "#9c179e"
             ],
             [
              0.4444444444444444,
              "#bd3786"
             ],
             [
              0.5555555555555556,
              "#d8576b"
             ],
             [
              0.6666666666666666,
              "#ed7953"
             ],
             [
              0.7777777777777778,
              "#fb9f3a"
             ],
             [
              0.8888888888888888,
              "#fdca26"
             ],
             [
              1,
              "#f0f921"
             ]
            ],
            "type": "heatmapgl"
           }
          ],
          "histogram": [
           {
            "marker": {
             "colorbar": {
              "outlinewidth": 0,
              "ticks": ""
             }
            },
            "type": "histogram"
           }
          ],
          "histogram2d": [
           {
            "colorbar": {
             "outlinewidth": 0,
             "ticks": ""
            },
            "colorscale": [
             [
              0,
              "#0d0887"
             ],
             [
              0.1111111111111111,
              "#46039f"
             ],
             [
              0.2222222222222222,
              "#7201a8"
             ],
             [
              0.3333333333333333,
              "#9c179e"
             ],
             [
              0.4444444444444444,
              "#bd3786"
             ],
             [
              0.5555555555555556,
              "#d8576b"
             ],
             [
              0.6666666666666666,
              "#ed7953"
             ],
             [
              0.7777777777777778,
              "#fb9f3a"
             ],
             [
              0.8888888888888888,
              "#fdca26"
             ],
             [
              1,
              "#f0f921"
             ]
            ],
            "type": "histogram2d"
           }
          ],
          "histogram2dcontour": [
           {
            "colorbar": {
             "outlinewidth": 0,
             "ticks": ""
            },
            "colorscale": [
             [
              0,
              "#0d0887"
             ],
             [
              0.1111111111111111,
              "#46039f"
             ],
             [
              0.2222222222222222,
              "#7201a8"
             ],
             [
              0.3333333333333333,
              "#9c179e"
             ],
             [
              0.4444444444444444,
              "#bd3786"
             ],
             [
              0.5555555555555556,
              "#d8576b"
             ],
             [
              0.6666666666666666,
              "#ed7953"
             ],
             [
              0.7777777777777778,
              "#fb9f3a"
             ],
             [
              0.8888888888888888,
              "#fdca26"
             ],
             [
              1,
              "#f0f921"
             ]
            ],
            "type": "histogram2dcontour"
           }
          ],
          "mesh3d": [
           {
            "colorbar": {
             "outlinewidth": 0,
             "ticks": ""
            },
            "type": "mesh3d"
           }
          ],
          "parcoords": [
           {
            "line": {
             "colorbar": {
              "outlinewidth": 0,
              "ticks": ""
             }
            },
            "type": "parcoords"
           }
          ],
          "pie": [
           {
            "automargin": true,
            "type": "pie"
           }
          ],
          "scatter": [
           {
            "marker": {
             "colorbar": {
              "outlinewidth": 0,
              "ticks": ""
             }
            },
            "type": "scatter"
           }
          ],
          "scatter3d": [
           {
            "line": {
             "colorbar": {
              "outlinewidth": 0,
              "ticks": ""
             }
            },
            "marker": {
             "colorbar": {
              "outlinewidth": 0,
              "ticks": ""
             }
            },
            "type": "scatter3d"
           }
          ],
          "scattercarpet": [
           {
            "marker": {
             "colorbar": {
              "outlinewidth": 0,
              "ticks": ""
             }
            },
            "type": "scattercarpet"
           }
          ],
          "scattergeo": [
           {
            "marker": {
             "colorbar": {
              "outlinewidth": 0,
              "ticks": ""
             }
            },
            "type": "scattergeo"
           }
          ],
          "scattergl": [
           {
            "marker": {
             "colorbar": {
              "outlinewidth": 0,
              "ticks": ""
             }
            },
            "type": "scattergl"
           }
          ],
          "scattermapbox": [
           {
            "marker": {
             "colorbar": {
              "outlinewidth": 0,
              "ticks": ""
             }
            },
            "type": "scattermapbox"
           }
          ],
          "scatterpolar": [
           {
            "marker": {
             "colorbar": {
              "outlinewidth": 0,
              "ticks": ""
             }
            },
            "type": "scatterpolar"
           }
          ],
          "scatterpolargl": [
           {
            "marker": {
             "colorbar": {
              "outlinewidth": 0,
              "ticks": ""
             }
            },
            "type": "scatterpolargl"
           }
          ],
          "scatterternary": [
           {
            "marker": {
             "colorbar": {
              "outlinewidth": 0,
              "ticks": ""
             }
            },
            "type": "scatterternary"
           }
          ],
          "surface": [
           {
            "colorbar": {
             "outlinewidth": 0,
             "ticks": ""
            },
            "colorscale": [
             [
              0,
              "#0d0887"
             ],
             [
              0.1111111111111111,
              "#46039f"
             ],
             [
              0.2222222222222222,
              "#7201a8"
             ],
             [
              0.3333333333333333,
              "#9c179e"
             ],
             [
              0.4444444444444444,
              "#bd3786"
             ],
             [
              0.5555555555555556,
              "#d8576b"
             ],
             [
              0.6666666666666666,
              "#ed7953"
             ],
             [
              0.7777777777777778,
              "#fb9f3a"
             ],
             [
              0.8888888888888888,
              "#fdca26"
             ],
             [
              1,
              "#f0f921"
             ]
            ],
            "type": "surface"
           }
          ],
          "table": [
           {
            "cells": {
             "fill": {
              "color": "#EBF0F8"
             },
             "line": {
              "color": "white"
             }
            },
            "header": {
             "fill": {
              "color": "#C8D4E3"
             },
             "line": {
              "color": "white"
             }
            },
            "type": "table"
           }
          ]
         },
         "layout": {
          "annotationdefaults": {
           "arrowcolor": "#2a3f5f",
           "arrowhead": 0,
           "arrowwidth": 1
          },
          "autotypenumbers": "strict",
          "coloraxis": {
           "colorbar": {
            "outlinewidth": 0,
            "ticks": ""
           }
          },
          "colorscale": {
           "diverging": [
            [
             0,
             "#8e0152"
            ],
            [
             0.1,
             "#c51b7d"
            ],
            [
             0.2,
             "#de77ae"
            ],
            [
             0.3,
             "#f1b6da"
            ],
            [
             0.4,
             "#fde0ef"
            ],
            [
             0.5,
             "#f7f7f7"
            ],
            [
             0.6,
             "#e6f5d0"
            ],
            [
             0.7,
             "#b8e186"
            ],
            [
             0.8,
             "#7fbc41"
            ],
            [
             0.9,
             "#4d9221"
            ],
            [
             1,
             "#276419"
            ]
           ],
           "sequential": [
            [
             0,
             "#0d0887"
            ],
            [
             0.1111111111111111,
             "#46039f"
            ],
            [
             0.2222222222222222,
             "#7201a8"
            ],
            [
             0.3333333333333333,
             "#9c179e"
            ],
            [
             0.4444444444444444,
             "#bd3786"
            ],
            [
             0.5555555555555556,
             "#d8576b"
            ],
            [
             0.6666666666666666,
             "#ed7953"
            ],
            [
             0.7777777777777778,
             "#fb9f3a"
            ],
            [
             0.8888888888888888,
             "#fdca26"
            ],
            [
             1,
             "#f0f921"
            ]
           ],
           "sequentialminus": [
            [
             0,
             "#0d0887"
            ],
            [
             0.1111111111111111,
             "#46039f"
            ],
            [
             0.2222222222222222,
             "#7201a8"
            ],
            [
             0.3333333333333333,
             "#9c179e"
            ],
            [
             0.4444444444444444,
             "#bd3786"
            ],
            [
             0.5555555555555556,
             "#d8576b"
            ],
            [
             0.6666666666666666,
             "#ed7953"
            ],
            [
             0.7777777777777778,
             "#fb9f3a"
            ],
            [
             0.8888888888888888,
             "#fdca26"
            ],
            [
             1,
             "#f0f921"
            ]
           ]
          },
          "colorway": [
           "#636efa",
           "#EF553B",
           "#00cc96",
           "#ab63fa",
           "#FFA15A",
           "#19d3f3",
           "#FF6692",
           "#B6E880",
           "#FF97FF",
           "#FECB52"
          ],
          "font": {
           "color": "#2a3f5f"
          },
          "geo": {
           "bgcolor": "white",
           "lakecolor": "white",
           "landcolor": "#E5ECF6",
           "showlakes": true,
           "showland": true,
           "subunitcolor": "white"
          },
          "hoverlabel": {
           "align": "left"
          },
          "hovermode": "closest",
          "mapbox": {
           "style": "light"
          },
          "paper_bgcolor": "white",
          "plot_bgcolor": "#E5ECF6",
          "polar": {
           "angularaxis": {
            "gridcolor": "white",
            "linecolor": "white",
            "ticks": ""
           },
           "bgcolor": "#E5ECF6",
           "radialaxis": {
            "gridcolor": "white",
            "linecolor": "white",
            "ticks": ""
           }
          },
          "scene": {
           "xaxis": {
            "backgroundcolor": "#E5ECF6",
            "gridcolor": "white",
            "gridwidth": 2,
            "linecolor": "white",
            "showbackground": true,
            "ticks": "",
            "zerolinecolor": "white"
           },
           "yaxis": {
            "backgroundcolor": "#E5ECF6",
            "gridcolor": "white",
            "gridwidth": 2,
            "linecolor": "white",
            "showbackground": true,
            "ticks": "",
            "zerolinecolor": "white"
           },
           "zaxis": {
            "backgroundcolor": "#E5ECF6",
            "gridcolor": "white",
            "gridwidth": 2,
            "linecolor": "white",
            "showbackground": true,
            "ticks": "",
            "zerolinecolor": "white"
           }
          },
          "shapedefaults": {
           "line": {
            "color": "#2a3f5f"
           }
          },
          "ternary": {
           "aaxis": {
            "gridcolor": "white",
            "linecolor": "white",
            "ticks": ""
           },
           "baxis": {
            "gridcolor": "white",
            "linecolor": "white",
            "ticks": ""
           },
           "bgcolor": "#E5ECF6",
           "caxis": {
            "gridcolor": "white",
            "linecolor": "white",
            "ticks": ""
           }
          },
          "title": {
           "x": 0.05
          },
          "xaxis": {
           "automargin": true,
           "gridcolor": "white",
           "linecolor": "white",
           "ticks": "",
           "title": {
            "standoff": 15
           },
           "zerolinecolor": "white",
           "zerolinewidth": 2
          },
          "yaxis": {
           "automargin": true,
           "gridcolor": "white",
           "linecolor": "white",
           "ticks": "",
           "title": {
            "standoff": 15
           },
           "zerolinecolor": "white",
           "zerolinewidth": 2
          }
         }
        },
        "title": {
         "font": {
          "color": "#4D5663"
         }
        },
        "xaxis": {
         "gridcolor": "#E1E5ED",
         "showgrid": true,
         "tickfont": {
          "color": "#4D5663"
         },
         "title": {
          "font": {
           "color": "#4D5663"
          },
          "text": ""
         },
         "zerolinecolor": "#E1E5ED"
        },
        "yaxis": {
         "gridcolor": "#E1E5ED",
         "showgrid": true,
         "tickfont": {
          "color": "#4D5663"
         },
         "title": {
          "font": {
           "color": "#4D5663"
          },
          "text": ""
         },
         "zerolinecolor": "#E1E5ED"
        }
       }
      },
      "text/html": "<div>                            <div id=\"32e436b7-62cd-49dd-a2ba-137ea8ebf8b1\" class=\"plotly-graph-div\" style=\"height:525px; width:100%;\"></div>            <script type=\"text/javascript\">                require([\"plotly\"], function(Plotly) {                    window.PLOTLYENV=window.PLOTLYENV || {};\n                    window.PLOTLYENV.BASE_URL='https://plot.ly';                                    if (document.getElementById(\"32e436b7-62cd-49dd-a2ba-137ea8ebf8b1\")) {                    Plotly.newPlot(                        \"32e436b7-62cd-49dd-a2ba-137ea8ebf8b1\",                        [{\"colorscale\": [[0.0, \"rgb(255, 153, 51)\"], [0.1111111111111111, \"rgb(55, 128, 191)\"], [0.2222222222222222, \"rgb(50, 171, 96)\"], [0.3333333333333333, \"rgb(128, 0, 128)\"], [0.4444444444444444, \"rgb(219, 64, 82)\"], [0.5555555555555556, \"rgb(0, 128, 128)\"], [0.6666666666666666, \"rgb(255, 255, 51)\"], [0.7777777777777778, \"rgb(128, 128, 0)\"], [0.8888888888888888, \"rgb(251, 128, 114)\"], [1.0, \"rgb(128, 177, 211)\"]], \"type\": \"surface\", \"x\": [0, 1, 2, 3, 4], \"y\": [\"x\", \"y\", \"z\"], \"z\": [[1, 2, 3, 4, 5], [10, 20, 30, 40, 50], [5, 4, 3, 2, 1]]}],                        {\"legend\": {\"bgcolor\": \"#F5F6F9\", \"font\": {\"color\": \"#4D5663\"}}, \"paper_bgcolor\": \"#F5F6F9\", \"plot_bgcolor\": \"#F5F6F9\", \"template\": {\"data\": {\"bar\": [{\"error_x\": {\"color\": \"#2a3f5f\"}, \"error_y\": {\"color\": \"#2a3f5f\"}, \"marker\": {\"line\": {\"color\": \"#E5ECF6\", \"width\": 0.5}}, \"type\": \"bar\"}], \"barpolar\": [{\"marker\": {\"line\": {\"color\": \"#E5ECF6\", \"width\": 0.5}}, \"type\": \"barpolar\"}], \"carpet\": [{\"aaxis\": {\"endlinecolor\": \"#2a3f5f\", \"gridcolor\": \"white\", \"linecolor\": \"white\", \"minorgridcolor\": \"white\", \"startlinecolor\": \"#2a3f5f\"}, \"baxis\": {\"endlinecolor\": \"#2a3f5f\", \"gridcolor\": \"white\", \"linecolor\": \"white\", \"minorgridcolor\": \"white\", \"startlinecolor\": \"#2a3f5f\"}, \"type\": \"carpet\"}], \"choropleth\": [{\"colorbar\": {\"outlinewidth\": 0, \"ticks\": \"\"}, \"type\": \"choropleth\"}], \"contour\": [{\"colorbar\": {\"outlinewidth\": 0, \"ticks\": \"\"}, \"colorscale\": [[0.0, \"#0d0887\"], [0.1111111111111111, \"#46039f\"], [0.2222222222222222, \"#7201a8\"], [0.3333333333333333, \"#9c179e\"], [0.4444444444444444, \"#bd3786\"], [0.5555555555555556, \"#d8576b\"], [0.6666666666666666, \"#ed7953\"], [0.7777777777777778, \"#fb9f3a\"], [0.8888888888888888, \"#fdca26\"], [1.0, \"#f0f921\"]], \"type\": \"contour\"}], \"contourcarpet\": [{\"colorbar\": {\"outlinewidth\": 0, \"ticks\": \"\"}, \"type\": \"contourcarpet\"}], \"heatmap\": [{\"colorbar\": {\"outlinewidth\": 0, \"ticks\": \"\"}, \"colorscale\": [[0.0, \"#0d0887\"], [0.1111111111111111, \"#46039f\"], [0.2222222222222222, \"#7201a8\"], [0.3333333333333333, \"#9c179e\"], [0.4444444444444444, \"#bd3786\"], [0.5555555555555556, \"#d8576b\"], [0.6666666666666666, \"#ed7953\"], [0.7777777777777778, \"#fb9f3a\"], [0.8888888888888888, \"#fdca26\"], [1.0, \"#f0f921\"]], \"type\": \"heatmap\"}], \"heatmapgl\": [{\"colorbar\": {\"outlinewidth\": 0, \"ticks\": \"\"}, \"colorscale\": [[0.0, \"#0d0887\"], [0.1111111111111111, \"#46039f\"], [0.2222222222222222, \"#7201a8\"], [0.3333333333333333, \"#9c179e\"], [0.4444444444444444, \"#bd3786\"], [0.5555555555555556, \"#d8576b\"], [0.6666666666666666, \"#ed7953\"], [0.7777777777777778, \"#fb9f3a\"], [0.8888888888888888, \"#fdca26\"], [1.0, \"#f0f921\"]], \"type\": \"heatmapgl\"}], \"histogram\": [{\"marker\": {\"colorbar\": {\"outlinewidth\": 0, \"ticks\": \"\"}}, \"type\": \"histogram\"}], \"histogram2d\": [{\"colorbar\": {\"outlinewidth\": 0, \"ticks\": \"\"}, \"colorscale\": [[0.0, \"#0d0887\"], [0.1111111111111111, \"#46039f\"], [0.2222222222222222, \"#7201a8\"], [0.3333333333333333, \"#9c179e\"], [0.4444444444444444, \"#bd3786\"], [0.5555555555555556, \"#d8576b\"], [0.6666666666666666, \"#ed7953\"], [0.7777777777777778, \"#fb9f3a\"], [0.8888888888888888, \"#fdca26\"], [1.0, \"#f0f921\"]], \"type\": \"histogram2d\"}], \"histogram2dcontour\": [{\"colorbar\": {\"outlinewidth\": 0, \"ticks\": \"\"}, \"colorscale\": [[0.0, \"#0d0887\"], [0.1111111111111111, \"#46039f\"], [0.2222222222222222, \"#7201a8\"], [0.3333333333333333, \"#9c179e\"], [0.4444444444444444, \"#bd3786\"], [0.5555555555555556, \"#d8576b\"], [0.6666666666666666, \"#ed7953\"], [0.7777777777777778, \"#fb9f3a\"], [0.8888888888888888, \"#fdca26\"], [1.0, \"#f0f921\"]], \"type\": \"histogram2dcontour\"}], \"mesh3d\": [{\"colorbar\": {\"outlinewidth\": 0, \"ticks\": \"\"}, \"type\": \"mesh3d\"}], \"parcoords\": [{\"line\": {\"colorbar\": {\"outlinewidth\": 0, \"ticks\": \"\"}}, \"type\": \"parcoords\"}], \"pie\": [{\"automargin\": true, \"type\": \"pie\"}], \"scatter\": [{\"marker\": {\"colorbar\": {\"outlinewidth\": 0, \"ticks\": \"\"}}, \"type\": \"scatter\"}], \"scatter3d\": [{\"line\": {\"colorbar\": {\"outlinewidth\": 0, \"ticks\": \"\"}}, \"marker\": {\"colorbar\": {\"outlinewidth\": 0, \"ticks\": \"\"}}, \"type\": \"scatter3d\"}], \"scattercarpet\": [{\"marker\": {\"colorbar\": {\"outlinewidth\": 0, \"ticks\": \"\"}}, \"type\": \"scattercarpet\"}], \"scattergeo\": [{\"marker\": {\"colorbar\": {\"outlinewidth\": 0, \"ticks\": \"\"}}, \"type\": \"scattergeo\"}], \"scattergl\": [{\"marker\": {\"colorbar\": {\"outlinewidth\": 0, \"ticks\": \"\"}}, \"type\": \"scattergl\"}], \"scattermapbox\": [{\"marker\": {\"colorbar\": {\"outlinewidth\": 0, \"ticks\": \"\"}}, \"type\": \"scattermapbox\"}], \"scatterpolar\": [{\"marker\": {\"colorbar\": {\"outlinewidth\": 0, \"ticks\": \"\"}}, \"type\": \"scatterpolar\"}], \"scatterpolargl\": [{\"marker\": {\"colorbar\": {\"outlinewidth\": 0, \"ticks\": \"\"}}, \"type\": \"scatterpolargl\"}], \"scatterternary\": [{\"marker\": {\"colorbar\": {\"outlinewidth\": 0, \"ticks\": \"\"}}, \"type\": \"scatterternary\"}], \"surface\": [{\"colorbar\": {\"outlinewidth\": 0, \"ticks\": \"\"}, \"colorscale\": [[0.0, \"#0d0887\"], [0.1111111111111111, \"#46039f\"], [0.2222222222222222, \"#7201a8\"], [0.3333333333333333, \"#9c179e\"], [0.4444444444444444, \"#bd3786\"], [0.5555555555555556, \"#d8576b\"], [0.6666666666666666, \"#ed7953\"], [0.7777777777777778, \"#fb9f3a\"], [0.8888888888888888, \"#fdca26\"], [1.0, \"#f0f921\"]], \"type\": \"surface\"}], \"table\": [{\"cells\": {\"fill\": {\"color\": \"#EBF0F8\"}, \"line\": {\"color\": \"white\"}}, \"header\": {\"fill\": {\"color\": \"#C8D4E3\"}, \"line\": {\"color\": \"white\"}}, \"type\": \"table\"}]}, \"layout\": {\"annotationdefaults\": {\"arrowcolor\": \"#2a3f5f\", \"arrowhead\": 0, \"arrowwidth\": 1}, \"autotypenumbers\": \"strict\", \"coloraxis\": {\"colorbar\": {\"outlinewidth\": 0, \"ticks\": \"\"}}, \"colorscale\": {\"diverging\": [[0, \"#8e0152\"], [0.1, \"#c51b7d\"], [0.2, \"#de77ae\"], [0.3, \"#f1b6da\"], [0.4, \"#fde0ef\"], [0.5, \"#f7f7f7\"], [0.6, \"#e6f5d0\"], [0.7, \"#b8e186\"], [0.8, \"#7fbc41\"], [0.9, \"#4d9221\"], [1, \"#276419\"]], \"sequential\": [[0.0, \"#0d0887\"], [0.1111111111111111, \"#46039f\"], [0.2222222222222222, \"#7201a8\"], [0.3333333333333333, \"#9c179e\"], [0.4444444444444444, \"#bd3786\"], [0.5555555555555556, \"#d8576b\"], [0.6666666666666666, \"#ed7953\"], [0.7777777777777778, \"#fb9f3a\"], [0.8888888888888888, \"#fdca26\"], [1.0, \"#f0f921\"]], \"sequentialminus\": [[0.0, \"#0d0887\"], [0.1111111111111111, \"#46039f\"], [0.2222222222222222, \"#7201a8\"], [0.3333333333333333, \"#9c179e\"], [0.4444444444444444, \"#bd3786\"], [0.5555555555555556, \"#d8576b\"], [0.6666666666666666, \"#ed7953\"], [0.7777777777777778, \"#fb9f3a\"], [0.8888888888888888, \"#fdca26\"], [1.0, \"#f0f921\"]]}, \"colorway\": [\"#636efa\", \"#EF553B\", \"#00cc96\", \"#ab63fa\", \"#FFA15A\", \"#19d3f3\", \"#FF6692\", \"#B6E880\", \"#FF97FF\", \"#FECB52\"], \"font\": {\"color\": \"#2a3f5f\"}, \"geo\": {\"bgcolor\": \"white\", \"lakecolor\": \"white\", \"landcolor\": \"#E5ECF6\", \"showlakes\": true, \"showland\": true, \"subunitcolor\": \"white\"}, \"hoverlabel\": {\"align\": \"left\"}, \"hovermode\": \"closest\", \"mapbox\": {\"style\": \"light\"}, \"paper_bgcolor\": \"white\", \"plot_bgcolor\": \"#E5ECF6\", \"polar\": {\"angularaxis\": {\"gridcolor\": \"white\", \"linecolor\": \"white\", \"ticks\": \"\"}, \"bgcolor\": \"#E5ECF6\", \"radialaxis\": {\"gridcolor\": \"white\", \"linecolor\": \"white\", \"ticks\": \"\"}}, \"scene\": {\"xaxis\": {\"backgroundcolor\": \"#E5ECF6\", \"gridcolor\": \"white\", \"gridwidth\": 2, \"linecolor\": \"white\", \"showbackground\": true, \"ticks\": \"\", \"zerolinecolor\": \"white\"}, \"yaxis\": {\"backgroundcolor\": \"#E5ECF6\", \"gridcolor\": \"white\", \"gridwidth\": 2, \"linecolor\": \"white\", \"showbackground\": true, \"ticks\": \"\", \"zerolinecolor\": \"white\"}, \"zaxis\": {\"backgroundcolor\": \"#E5ECF6\", \"gridcolor\": \"white\", \"gridwidth\": 2, \"linecolor\": \"white\", \"showbackground\": true, \"ticks\": \"\", \"zerolinecolor\": \"white\"}}, \"shapedefaults\": {\"line\": {\"color\": \"#2a3f5f\"}}, \"ternary\": {\"aaxis\": {\"gridcolor\": \"white\", \"linecolor\": \"white\", \"ticks\": \"\"}, \"baxis\": {\"gridcolor\": \"white\", \"linecolor\": \"white\", \"ticks\": \"\"}, \"bgcolor\": \"#E5ECF6\", \"caxis\": {\"gridcolor\": \"white\", \"linecolor\": \"white\", \"ticks\": \"\"}}, \"title\": {\"x\": 0.05}, \"xaxis\": {\"automargin\": true, \"gridcolor\": \"white\", \"linecolor\": \"white\", \"ticks\": \"\", \"title\": {\"standoff\": 15}, \"zerolinecolor\": \"white\", \"zerolinewidth\": 2}, \"yaxis\": {\"automargin\": true, \"gridcolor\": \"white\", \"linecolor\": \"white\", \"ticks\": \"\", \"title\": {\"standoff\": 15}, \"zerolinecolor\": \"white\", \"zerolinewidth\": 2}}}, \"title\": {\"font\": {\"color\": \"#4D5663\"}}, \"xaxis\": {\"gridcolor\": \"#E1E5ED\", \"showgrid\": true, \"tickfont\": {\"color\": \"#4D5663\"}, \"title\": {\"font\": {\"color\": \"#4D5663\"}, \"text\": \"\"}, \"zerolinecolor\": \"#E1E5ED\"}, \"yaxis\": {\"gridcolor\": \"#E1E5ED\", \"showgrid\": true, \"tickfont\": {\"color\": \"#4D5663\"}, \"title\": {\"font\": {\"color\": \"#4D5663\"}, \"text\": \"\"}, \"zerolinecolor\": \"#E1E5ED\"}},                        {\"showLink\": true, \"linkText\": \"Export to plot.ly\", \"plotlyServerURL\": \"https://plot.ly\", \"responsive\": true}                    ).then(function(){\n                            \nvar gd = document.getElementById('32e436b7-62cd-49dd-a2ba-137ea8ebf8b1');\nvar x = new MutationObserver(function (mutations, observer) {{\n        var display = window.getComputedStyle(gd).display;\n        if (!display || display === 'none') {{\n            console.log([gd, 'removed!']);\n            Plotly.purge(gd);\n            observer.disconnect();\n        }}\n}});\n\n// Listen for the removal of the full notebook cells\nvar notebookContainer = gd.closest('#notebook-container');\nif (notebookContainer) {{\n    x.observe(notebookContainer, {childList: true});\n}}\n\n// Listen for the clearing of the current output cell\nvar outputEl = gd.closest('.output');\nif (outputEl) {{\n    x.observe(outputEl, {childList: true});\n}}\n\n                        })                };                });            </script>        </div>"
     },
     "metadata": {}
    }
   ],
   "source": [
    "df3.iplot('surface')"
   ]
  },
  {
   "cell_type": "code",
   "execution_count": 32,
   "metadata": {},
   "outputs": [
    {
     "output_type": "display_data",
     "data": {
      "application/vnd.plotly.v1+json": {
       "config": {
        "linkText": "Export to plot.ly",
        "plotlyServerURL": "https://plot.ly",
        "showLink": true
       },
       "data": [
        {
         "colorscale": [
          [
           0,
           "rgb(165,0,38)"
          ],
          [
           0.1,
           "rgb(215,48,39)"
          ],
          [
           0.2,
           "rgb(244,109,67)"
          ],
          [
           0.3,
           "rgb(253,174,97)"
          ],
          [
           0.4,
           "rgb(254,224,144)"
          ],
          [
           0.5,
           "rgb(255,255,191)"
          ],
          [
           0.6,
           "rgb(224,243,248)"
          ],
          [
           0.7,
           "rgb(171,217,233)"
          ],
          [
           0.8,
           "rgb(116,173,209)"
          ],
          [
           0.9,
           "rgb(69,117,180)"
          ],
          [
           1,
           "rgb(49,54,149)"
          ]
         ],
         "type": "surface",
         "x": [
          0,
          1,
          2,
          3,
          4
         ],
         "y": [
          "x",
          "y",
          "z"
         ],
         "z": [
          [
           1,
           2,
           3,
           4,
           5
          ],
          [
           10,
           20,
           30,
           40,
           50
          ],
          [
           5,
           4,
           3,
           2,
           1
          ]
         ]
        }
       ],
       "layout": {
        "legend": {
         "bgcolor": "#F5F6F9",
         "font": {
          "color": "#4D5663"
         }
        },
        "paper_bgcolor": "#F5F6F9",
        "plot_bgcolor": "#F5F6F9",
        "template": {
         "data": {
          "bar": [
           {
            "error_x": {
             "color": "#2a3f5f"
            },
            "error_y": {
             "color": "#2a3f5f"
            },
            "marker": {
             "line": {
              "color": "#E5ECF6",
              "width": 0.5
             }
            },
            "type": "bar"
           }
          ],
          "barpolar": [
           {
            "marker": {
             "line": {
              "color": "#E5ECF6",
              "width": 0.5
             }
            },
            "type": "barpolar"
           }
          ],
          "carpet": [
           {
            "aaxis": {
             "endlinecolor": "#2a3f5f",
             "gridcolor": "white",
             "linecolor": "white",
             "minorgridcolor": "white",
             "startlinecolor": "#2a3f5f"
            },
            "baxis": {
             "endlinecolor": "#2a3f5f",
             "gridcolor": "white",
             "linecolor": "white",
             "minorgridcolor": "white",
             "startlinecolor": "#2a3f5f"
            },
            "type": "carpet"
           }
          ],
          "choropleth": [
           {
            "colorbar": {
             "outlinewidth": 0,
             "ticks": ""
            },
            "type": "choropleth"
           }
          ],
          "contour": [
           {
            "colorbar": {
             "outlinewidth": 0,
             "ticks": ""
            },
            "colorscale": [
             [
              0,
              "#0d0887"
             ],
             [
              0.1111111111111111,
              "#46039f"
             ],
             [
              0.2222222222222222,
              "#7201a8"
             ],
             [
              0.3333333333333333,
              "#9c179e"
             ],
             [
              0.4444444444444444,
              "#bd3786"
             ],
             [
              0.5555555555555556,
              "#d8576b"
             ],
             [
              0.6666666666666666,
              "#ed7953"
             ],
             [
              0.7777777777777778,
              "#fb9f3a"
             ],
             [
              0.8888888888888888,
              "#fdca26"
             ],
             [
              1,
              "#f0f921"
             ]
            ],
            "type": "contour"
           }
          ],
          "contourcarpet": [
           {
            "colorbar": {
             "outlinewidth": 0,
             "ticks": ""
            },
            "type": "contourcarpet"
           }
          ],
          "heatmap": [
           {
            "colorbar": {
             "outlinewidth": 0,
             "ticks": ""
            },
            "colorscale": [
             [
              0,
              "#0d0887"
             ],
             [
              0.1111111111111111,
              "#46039f"
             ],
             [
              0.2222222222222222,
              "#7201a8"
             ],
             [
              0.3333333333333333,
              "#9c179e"
             ],
             [
              0.4444444444444444,
              "#bd3786"
             ],
             [
              0.5555555555555556,
              "#d8576b"
             ],
             [
              0.6666666666666666,
              "#ed7953"
             ],
             [
              0.7777777777777778,
              "#fb9f3a"
             ],
             [
              0.8888888888888888,
              "#fdca26"
             ],
             [
              1,
              "#f0f921"
             ]
            ],
            "type": "heatmap"
           }
          ],
          "heatmapgl": [
           {
            "colorbar": {
             "outlinewidth": 0,
             "ticks": ""
            },
            "colorscale": [
             [
              0,
              "#0d0887"
             ],
             [
              0.1111111111111111,
              "#46039f"
             ],
             [
              0.2222222222222222,
              "#7201a8"
             ],
             [
              0.3333333333333333,
              "#9c179e"
             ],
             [
              0.4444444444444444,
              "#bd3786"
             ],
             [
              0.5555555555555556,
              "#d8576b"
             ],
             [
              0.6666666666666666,
              "#ed7953"
             ],
             [
              0.7777777777777778,
              "#fb9f3a"
             ],
             [
              0.8888888888888888,
              "#fdca26"
             ],
             [
              1,
              "#f0f921"
             ]
            ],
            "type": "heatmapgl"
           }
          ],
          "histogram": [
           {
            "marker": {
             "colorbar": {
              "outlinewidth": 0,
              "ticks": ""
             }
            },
            "type": "histogram"
           }
          ],
          "histogram2d": [
           {
            "colorbar": {
             "outlinewidth": 0,
             "ticks": ""
            },
            "colorscale": [
             [
              0,
              "#0d0887"
             ],
             [
              0.1111111111111111,
              "#46039f"
             ],
             [
              0.2222222222222222,
              "#7201a8"
             ],
             [
              0.3333333333333333,
              "#9c179e"
             ],
             [
              0.4444444444444444,
              "#bd3786"
             ],
             [
              0.5555555555555556,
              "#d8576b"
             ],
             [
              0.6666666666666666,
              "#ed7953"
             ],
             [
              0.7777777777777778,
              "#fb9f3a"
             ],
             [
              0.8888888888888888,
              "#fdca26"
             ],
             [
              1,
              "#f0f921"
             ]
            ],
            "type": "histogram2d"
           }
          ],
          "histogram2dcontour": [
           {
            "colorbar": {
             "outlinewidth": 0,
             "ticks": ""
            },
            "colorscale": [
             [
              0,
              "#0d0887"
             ],
             [
              0.1111111111111111,
              "#46039f"
             ],
             [
              0.2222222222222222,
              "#7201a8"
             ],
             [
              0.3333333333333333,
              "#9c179e"
             ],
             [
              0.4444444444444444,
              "#bd3786"
             ],
             [
              0.5555555555555556,
              "#d8576b"
             ],
             [
              0.6666666666666666,
              "#ed7953"
             ],
             [
              0.7777777777777778,
              "#fb9f3a"
             ],
             [
              0.8888888888888888,
              "#fdca26"
             ],
             [
              1,
              "#f0f921"
             ]
            ],
            "type": "histogram2dcontour"
           }
          ],
          "mesh3d": [
           {
            "colorbar": {
             "outlinewidth": 0,
             "ticks": ""
            },
            "type": "mesh3d"
           }
          ],
          "parcoords": [
           {
            "line": {
             "colorbar": {
              "outlinewidth": 0,
              "ticks": ""
             }
            },
            "type": "parcoords"
           }
          ],
          "pie": [
           {
            "automargin": true,
            "type": "pie"
           }
          ],
          "scatter": [
           {
            "marker": {
             "colorbar": {
              "outlinewidth": 0,
              "ticks": ""
             }
            },
            "type": "scatter"
           }
          ],
          "scatter3d": [
           {
            "line": {
             "colorbar": {
              "outlinewidth": 0,
              "ticks": ""
             }
            },
            "marker": {
             "colorbar": {
              "outlinewidth": 0,
              "ticks": ""
             }
            },
            "type": "scatter3d"
           }
          ],
          "scattercarpet": [
           {
            "marker": {
             "colorbar": {
              "outlinewidth": 0,
              "ticks": ""
             }
            },
            "type": "scattercarpet"
           }
          ],
          "scattergeo": [
           {
            "marker": {
             "colorbar": {
              "outlinewidth": 0,
              "ticks": ""
             }
            },
            "type": "scattergeo"
           }
          ],
          "scattergl": [
           {
            "marker": {
             "colorbar": {
              "outlinewidth": 0,
              "ticks": ""
             }
            },
            "type": "scattergl"
           }
          ],
          "scattermapbox": [
           {
            "marker": {
             "colorbar": {
              "outlinewidth": 0,
              "ticks": ""
             }
            },
            "type": "scattermapbox"
           }
          ],
          "scatterpolar": [
           {
            "marker": {
             "colorbar": {
              "outlinewidth": 0,
              "ticks": ""
             }
            },
            "type": "scatterpolar"
           }
          ],
          "scatterpolargl": [
           {
            "marker": {
             "colorbar": {
              "outlinewidth": 0,
              "ticks": ""
             }
            },
            "type": "scatterpolargl"
           }
          ],
          "scatterternary": [
           {
            "marker": {
             "colorbar": {
              "outlinewidth": 0,
              "ticks": ""
             }
            },
            "type": "scatterternary"
           }
          ],
          "surface": [
           {
            "colorbar": {
             "outlinewidth": 0,
             "ticks": ""
            },
            "colorscale": [
             [
              0,
              "#0d0887"
             ],
             [
              0.1111111111111111,
              "#46039f"
             ],
             [
              0.2222222222222222,
              "#7201a8"
             ],
             [
              0.3333333333333333,
              "#9c179e"
             ],
             [
              0.4444444444444444,
              "#bd3786"
             ],
             [
              0.5555555555555556,
              "#d8576b"
             ],
             [
              0.6666666666666666,
              "#ed7953"
             ],
             [
              0.7777777777777778,
              "#fb9f3a"
             ],
             [
              0.8888888888888888,
              "#fdca26"
             ],
             [
              1,
              "#f0f921"
             ]
            ],
            "type": "surface"
           }
          ],
          "table": [
           {
            "cells": {
             "fill": {
              "color": "#EBF0F8"
             },
             "line": {
              "color": "white"
             }
            },
            "header": {
             "fill": {
              "color": "#C8D4E3"
             },
             "line": {
              "color": "white"
             }
            },
            "type": "table"
           }
          ]
         },
         "layout": {
          "annotationdefaults": {
           "arrowcolor": "#2a3f5f",
           "arrowhead": 0,
           "arrowwidth": 1
          },
          "autotypenumbers": "strict",
          "coloraxis": {
           "colorbar": {
            "outlinewidth": 0,
            "ticks": ""
           }
          },
          "colorscale": {
           "diverging": [
            [
             0,
             "#8e0152"
            ],
            [
             0.1,
             "#c51b7d"
            ],
            [
             0.2,
             "#de77ae"
            ],
            [
             0.3,
             "#f1b6da"
            ],
            [
             0.4,
             "#fde0ef"
            ],
            [
             0.5,
             "#f7f7f7"
            ],
            [
             0.6,
             "#e6f5d0"
            ],
            [
             0.7,
             "#b8e186"
            ],
            [
             0.8,
             "#7fbc41"
            ],
            [
             0.9,
             "#4d9221"
            ],
            [
             1,
             "#276419"
            ]
           ],
           "sequential": [
            [
             0,
             "#0d0887"
            ],
            [
             0.1111111111111111,
             "#46039f"
            ],
            [
             0.2222222222222222,
             "#7201a8"
            ],
            [
             0.3333333333333333,
             "#9c179e"
            ],
            [
             0.4444444444444444,
             "#bd3786"
            ],
            [
             0.5555555555555556,
             "#d8576b"
            ],
            [
             0.6666666666666666,
             "#ed7953"
            ],
            [
             0.7777777777777778,
             "#fb9f3a"
            ],
            [
             0.8888888888888888,
             "#fdca26"
            ],
            [
             1,
             "#f0f921"
            ]
           ],
           "sequentialminus": [
            [
             0,
             "#0d0887"
            ],
            [
             0.1111111111111111,
             "#46039f"
            ],
            [
             0.2222222222222222,
             "#7201a8"
            ],
            [
             0.3333333333333333,
             "#9c179e"
            ],
            [
             0.4444444444444444,
             "#bd3786"
            ],
            [
             0.5555555555555556,
             "#d8576b"
            ],
            [
             0.6666666666666666,
             "#ed7953"
            ],
            [
             0.7777777777777778,
             "#fb9f3a"
            ],
            [
             0.8888888888888888,
             "#fdca26"
            ],
            [
             1,
             "#f0f921"
            ]
           ]
          },
          "colorway": [
           "#636efa",
           "#EF553B",
           "#00cc96",
           "#ab63fa",
           "#FFA15A",
           "#19d3f3",
           "#FF6692",
           "#B6E880",
           "#FF97FF",
           "#FECB52"
          ],
          "font": {
           "color": "#2a3f5f"
          },
          "geo": {
           "bgcolor": "white",
           "lakecolor": "white",
           "landcolor": "#E5ECF6",
           "showlakes": true,
           "showland": true,
           "subunitcolor": "white"
          },
          "hoverlabel": {
           "align": "left"
          },
          "hovermode": "closest",
          "mapbox": {
           "style": "light"
          },
          "paper_bgcolor": "white",
          "plot_bgcolor": "#E5ECF6",
          "polar": {
           "angularaxis": {
            "gridcolor": "white",
            "linecolor": "white",
            "ticks": ""
           },
           "bgcolor": "#E5ECF6",
           "radialaxis": {
            "gridcolor": "white",
            "linecolor": "white",
            "ticks": ""
           }
          },
          "scene": {
           "xaxis": {
            "backgroundcolor": "#E5ECF6",
            "gridcolor": "white",
            "gridwidth": 2,
            "linecolor": "white",
            "showbackground": true,
            "ticks": "",
            "zerolinecolor": "white"
           },
           "yaxis": {
            "backgroundcolor": "#E5ECF6",
            "gridcolor": "white",
            "gridwidth": 2,
            "linecolor": "white",
            "showbackground": true,
            "ticks": "",
            "zerolinecolor": "white"
           },
           "zaxis": {
            "backgroundcolor": "#E5ECF6",
            "gridcolor": "white",
            "gridwidth": 2,
            "linecolor": "white",
            "showbackground": true,
            "ticks": "",
            "zerolinecolor": "white"
           }
          },
          "shapedefaults": {
           "line": {
            "color": "#2a3f5f"
           }
          },
          "ternary": {
           "aaxis": {
            "gridcolor": "white",
            "linecolor": "white",
            "ticks": ""
           },
           "baxis": {
            "gridcolor": "white",
            "linecolor": "white",
            "ticks": ""
           },
           "bgcolor": "#E5ECF6",
           "caxis": {
            "gridcolor": "white",
            "linecolor": "white",
            "ticks": ""
           }
          },
          "title": {
           "x": 0.05
          },
          "xaxis": {
           "automargin": true,
           "gridcolor": "white",
           "linecolor": "white",
           "ticks": "",
           "title": {
            "standoff": 15
           },
           "zerolinecolor": "white",
           "zerolinewidth": 2
          },
          "yaxis": {
           "automargin": true,
           "gridcolor": "white",
           "linecolor": "white",
           "ticks": "",
           "title": {
            "standoff": 15
           },
           "zerolinecolor": "white",
           "zerolinewidth": 2
          }
         }
        },
        "title": {
         "font": {
          "color": "#4D5663"
         }
        },
        "xaxis": {
         "gridcolor": "#E1E5ED",
         "showgrid": true,
         "tickfont": {
          "color": "#4D5663"
         },
         "title": {
          "font": {
           "color": "#4D5663"
          },
          "text": ""
         },
         "zerolinecolor": "#E1E5ED"
        },
        "yaxis": {
         "gridcolor": "#E1E5ED",
         "showgrid": true,
         "tickfont": {
          "color": "#4D5663"
         },
         "title": {
          "font": {
           "color": "#4D5663"
          },
          "text": ""
         },
         "zerolinecolor": "#E1E5ED"
        }
       }
      },
      "text/html": "<div>                            <div id=\"416648e6-2f49-439c-834f-a01390c30bc0\" class=\"plotly-graph-div\" style=\"height:525px; width:100%;\"></div>            <script type=\"text/javascript\">                require([\"plotly\"], function(Plotly) {                    window.PLOTLYENV=window.PLOTLYENV || {};\n                    window.PLOTLYENV.BASE_URL='https://plot.ly';                                    if (document.getElementById(\"416648e6-2f49-439c-834f-a01390c30bc0\")) {                    Plotly.newPlot(                        \"416648e6-2f49-439c-834f-a01390c30bc0\",                        [{\"colorscale\": [[0.0, \"rgb(165,0,38)\"], [0.1, \"rgb(215,48,39)\"], [0.2, \"rgb(244,109,67)\"], [0.3, \"rgb(253,174,97)\"], [0.4, \"rgb(254,224,144)\"], [0.5, \"rgb(255,255,191)\"], [0.6, \"rgb(224,243,248)\"], [0.7, \"rgb(171,217,233)\"], [0.8, \"rgb(116,173,209)\"], [0.9, \"rgb(69,117,180)\"], [1.0, \"rgb(49,54,149)\"]], \"type\": \"surface\", \"x\": [0, 1, 2, 3, 4], \"y\": [\"x\", \"y\", \"z\"], \"z\": [[1, 2, 3, 4, 5], [10, 20, 30, 40, 50], [5, 4, 3, 2, 1]]}],                        {\"legend\": {\"bgcolor\": \"#F5F6F9\", \"font\": {\"color\": \"#4D5663\"}}, \"paper_bgcolor\": \"#F5F6F9\", \"plot_bgcolor\": \"#F5F6F9\", \"template\": {\"data\": {\"bar\": [{\"error_x\": {\"color\": \"#2a3f5f\"}, \"error_y\": {\"color\": \"#2a3f5f\"}, \"marker\": {\"line\": {\"color\": \"#E5ECF6\", \"width\": 0.5}}, \"type\": \"bar\"}], \"barpolar\": [{\"marker\": {\"line\": {\"color\": \"#E5ECF6\", \"width\": 0.5}}, \"type\": \"barpolar\"}], \"carpet\": [{\"aaxis\": {\"endlinecolor\": \"#2a3f5f\", \"gridcolor\": \"white\", \"linecolor\": \"white\", \"minorgridcolor\": \"white\", \"startlinecolor\": \"#2a3f5f\"}, \"baxis\": {\"endlinecolor\": \"#2a3f5f\", \"gridcolor\": \"white\", \"linecolor\": \"white\", \"minorgridcolor\": \"white\", \"startlinecolor\": \"#2a3f5f\"}, \"type\": \"carpet\"}], \"choropleth\": [{\"colorbar\": {\"outlinewidth\": 0, \"ticks\": \"\"}, \"type\": \"choropleth\"}], \"contour\": [{\"colorbar\": {\"outlinewidth\": 0, \"ticks\": \"\"}, \"colorscale\": [[0.0, \"#0d0887\"], [0.1111111111111111, \"#46039f\"], [0.2222222222222222, \"#7201a8\"], [0.3333333333333333, \"#9c179e\"], [0.4444444444444444, \"#bd3786\"], [0.5555555555555556, \"#d8576b\"], [0.6666666666666666, \"#ed7953\"], [0.7777777777777778, \"#fb9f3a\"], [0.8888888888888888, \"#fdca26\"], [1.0, \"#f0f921\"]], \"type\": \"contour\"}], \"contourcarpet\": [{\"colorbar\": {\"outlinewidth\": 0, \"ticks\": \"\"}, \"type\": \"contourcarpet\"}], \"heatmap\": [{\"colorbar\": {\"outlinewidth\": 0, \"ticks\": \"\"}, \"colorscale\": [[0.0, \"#0d0887\"], [0.1111111111111111, \"#46039f\"], [0.2222222222222222, \"#7201a8\"], [0.3333333333333333, \"#9c179e\"], [0.4444444444444444, \"#bd3786\"], [0.5555555555555556, \"#d8576b\"], [0.6666666666666666, \"#ed7953\"], [0.7777777777777778, \"#fb9f3a\"], [0.8888888888888888, \"#fdca26\"], [1.0, \"#f0f921\"]], \"type\": \"heatmap\"}], \"heatmapgl\": [{\"colorbar\": {\"outlinewidth\": 0, \"ticks\": \"\"}, \"colorscale\": [[0.0, \"#0d0887\"], [0.1111111111111111, \"#46039f\"], [0.2222222222222222, \"#7201a8\"], [0.3333333333333333, \"#9c179e\"], [0.4444444444444444, \"#bd3786\"], [0.5555555555555556, \"#d8576b\"], [0.6666666666666666, \"#ed7953\"], [0.7777777777777778, \"#fb9f3a\"], [0.8888888888888888, \"#fdca26\"], [1.0, \"#f0f921\"]], \"type\": \"heatmapgl\"}], \"histogram\": [{\"marker\": {\"colorbar\": {\"outlinewidth\": 0, \"ticks\": \"\"}}, \"type\": \"histogram\"}], \"histogram2d\": [{\"colorbar\": {\"outlinewidth\": 0, \"ticks\": \"\"}, \"colorscale\": [[0.0, \"#0d0887\"], [0.1111111111111111, \"#46039f\"], [0.2222222222222222, \"#7201a8\"], [0.3333333333333333, \"#9c179e\"], [0.4444444444444444, \"#bd3786\"], [0.5555555555555556, \"#d8576b\"], [0.6666666666666666, \"#ed7953\"], [0.7777777777777778, \"#fb9f3a\"], [0.8888888888888888, \"#fdca26\"], [1.0, \"#f0f921\"]], \"type\": \"histogram2d\"}], \"histogram2dcontour\": [{\"colorbar\": {\"outlinewidth\": 0, \"ticks\": \"\"}, \"colorscale\": [[0.0, \"#0d0887\"], [0.1111111111111111, \"#46039f\"], [0.2222222222222222, \"#7201a8\"], [0.3333333333333333, \"#9c179e\"], [0.4444444444444444, \"#bd3786\"], [0.5555555555555556, \"#d8576b\"], [0.6666666666666666, \"#ed7953\"], [0.7777777777777778, \"#fb9f3a\"], [0.8888888888888888, \"#fdca26\"], [1.0, \"#f0f921\"]], \"type\": \"histogram2dcontour\"}], \"mesh3d\": [{\"colorbar\": {\"outlinewidth\": 0, \"ticks\": \"\"}, \"type\": \"mesh3d\"}], \"parcoords\": [{\"line\": {\"colorbar\": {\"outlinewidth\": 0, \"ticks\": \"\"}}, \"type\": \"parcoords\"}], \"pie\": [{\"automargin\": true, \"type\": \"pie\"}], \"scatter\": [{\"marker\": {\"colorbar\": {\"outlinewidth\": 0, \"ticks\": \"\"}}, \"type\": \"scatter\"}], \"scatter3d\": [{\"line\": {\"colorbar\": {\"outlinewidth\": 0, \"ticks\": \"\"}}, \"marker\": {\"colorbar\": {\"outlinewidth\": 0, \"ticks\": \"\"}}, \"type\": \"scatter3d\"}], \"scattercarpet\": [{\"marker\": {\"colorbar\": {\"outlinewidth\": 0, \"ticks\": \"\"}}, \"type\": \"scattercarpet\"}], \"scattergeo\": [{\"marker\": {\"colorbar\": {\"outlinewidth\": 0, \"ticks\": \"\"}}, \"type\": \"scattergeo\"}], \"scattergl\": [{\"marker\": {\"colorbar\": {\"outlinewidth\": 0, \"ticks\": \"\"}}, \"type\": \"scattergl\"}], \"scattermapbox\": [{\"marker\": {\"colorbar\": {\"outlinewidth\": 0, \"ticks\": \"\"}}, \"type\": \"scattermapbox\"}], \"scatterpolar\": [{\"marker\": {\"colorbar\": {\"outlinewidth\": 0, \"ticks\": \"\"}}, \"type\": \"scatterpolar\"}], \"scatterpolargl\": [{\"marker\": {\"colorbar\": {\"outlinewidth\": 0, \"ticks\": \"\"}}, \"type\": \"scatterpolargl\"}], \"scatterternary\": [{\"marker\": {\"colorbar\": {\"outlinewidth\": 0, \"ticks\": \"\"}}, \"type\": \"scatterternary\"}], \"surface\": [{\"colorbar\": {\"outlinewidth\": 0, \"ticks\": \"\"}, \"colorscale\": [[0.0, \"#0d0887\"], [0.1111111111111111, \"#46039f\"], [0.2222222222222222, \"#7201a8\"], [0.3333333333333333, \"#9c179e\"], [0.4444444444444444, \"#bd3786\"], [0.5555555555555556, \"#d8576b\"], [0.6666666666666666, \"#ed7953\"], [0.7777777777777778, \"#fb9f3a\"], [0.8888888888888888, \"#fdca26\"], [1.0, \"#f0f921\"]], \"type\": \"surface\"}], \"table\": [{\"cells\": {\"fill\": {\"color\": \"#EBF0F8\"}, \"line\": {\"color\": \"white\"}}, \"header\": {\"fill\": {\"color\": \"#C8D4E3\"}, \"line\": {\"color\": \"white\"}}, \"type\": \"table\"}]}, \"layout\": {\"annotationdefaults\": {\"arrowcolor\": \"#2a3f5f\", \"arrowhead\": 0, \"arrowwidth\": 1}, \"autotypenumbers\": \"strict\", \"coloraxis\": {\"colorbar\": {\"outlinewidth\": 0, \"ticks\": \"\"}}, \"colorscale\": {\"diverging\": [[0, \"#8e0152\"], [0.1, \"#c51b7d\"], [0.2, \"#de77ae\"], [0.3, \"#f1b6da\"], [0.4, \"#fde0ef\"], [0.5, \"#f7f7f7\"], [0.6, \"#e6f5d0\"], [0.7, \"#b8e186\"], [0.8, \"#7fbc41\"], [0.9, \"#4d9221\"], [1, \"#276419\"]], \"sequential\": [[0.0, \"#0d0887\"], [0.1111111111111111, \"#46039f\"], [0.2222222222222222, \"#7201a8\"], [0.3333333333333333, \"#9c179e\"], [0.4444444444444444, \"#bd3786\"], [0.5555555555555556, \"#d8576b\"], [0.6666666666666666, \"#ed7953\"], [0.7777777777777778, \"#fb9f3a\"], [0.8888888888888888, \"#fdca26\"], [1.0, \"#f0f921\"]], \"sequentialminus\": [[0.0, \"#0d0887\"], [0.1111111111111111, \"#46039f\"], [0.2222222222222222, \"#7201a8\"], [0.3333333333333333, \"#9c179e\"], [0.4444444444444444, \"#bd3786\"], [0.5555555555555556, \"#d8576b\"], [0.6666666666666666, \"#ed7953\"], [0.7777777777777778, \"#fb9f3a\"], [0.8888888888888888, \"#fdca26\"], [1.0, \"#f0f921\"]]}, \"colorway\": [\"#636efa\", \"#EF553B\", \"#00cc96\", \"#ab63fa\", \"#FFA15A\", \"#19d3f3\", \"#FF6692\", \"#B6E880\", \"#FF97FF\", \"#FECB52\"], \"font\": {\"color\": \"#2a3f5f\"}, \"geo\": {\"bgcolor\": \"white\", \"lakecolor\": \"white\", \"landcolor\": \"#E5ECF6\", \"showlakes\": true, \"showland\": true, \"subunitcolor\": \"white\"}, \"hoverlabel\": {\"align\": \"left\"}, \"hovermode\": \"closest\", \"mapbox\": {\"style\": \"light\"}, \"paper_bgcolor\": \"white\", \"plot_bgcolor\": \"#E5ECF6\", \"polar\": {\"angularaxis\": {\"gridcolor\": \"white\", \"linecolor\": \"white\", \"ticks\": \"\"}, \"bgcolor\": \"#E5ECF6\", \"radialaxis\": {\"gridcolor\": \"white\", \"linecolor\": \"white\", \"ticks\": \"\"}}, \"scene\": {\"xaxis\": {\"backgroundcolor\": \"#E5ECF6\", \"gridcolor\": \"white\", \"gridwidth\": 2, \"linecolor\": \"white\", \"showbackground\": true, \"ticks\": \"\", \"zerolinecolor\": \"white\"}, \"yaxis\": {\"backgroundcolor\": \"#E5ECF6\", \"gridcolor\": \"white\", \"gridwidth\": 2, \"linecolor\": \"white\", \"showbackground\": true, \"ticks\": \"\", \"zerolinecolor\": \"white\"}, \"zaxis\": {\"backgroundcolor\": \"#E5ECF6\", \"gridcolor\": \"white\", \"gridwidth\": 2, \"linecolor\": \"white\", \"showbackground\": true, \"ticks\": \"\", \"zerolinecolor\": \"white\"}}, \"shapedefaults\": {\"line\": {\"color\": \"#2a3f5f\"}}, \"ternary\": {\"aaxis\": {\"gridcolor\": \"white\", \"linecolor\": \"white\", \"ticks\": \"\"}, \"baxis\": {\"gridcolor\": \"white\", \"linecolor\": \"white\", \"ticks\": \"\"}, \"bgcolor\": \"#E5ECF6\", \"caxis\": {\"gridcolor\": \"white\", \"linecolor\": \"white\", \"ticks\": \"\"}}, \"title\": {\"x\": 0.05}, \"xaxis\": {\"automargin\": true, \"gridcolor\": \"white\", \"linecolor\": \"white\", \"ticks\": \"\", \"title\": {\"standoff\": 15}, \"zerolinecolor\": \"white\", \"zerolinewidth\": 2}, \"yaxis\": {\"automargin\": true, \"gridcolor\": \"white\", \"linecolor\": \"white\", \"ticks\": \"\", \"title\": {\"standoff\": 15}, \"zerolinecolor\": \"white\", \"zerolinewidth\": 2}}}, \"title\": {\"font\": {\"color\": \"#4D5663\"}}, \"xaxis\": {\"gridcolor\": \"#E1E5ED\", \"showgrid\": true, \"tickfont\": {\"color\": \"#4D5663\"}, \"title\": {\"font\": {\"color\": \"#4D5663\"}, \"text\": \"\"}, \"zerolinecolor\": \"#E1E5ED\"}, \"yaxis\": {\"gridcolor\": \"#E1E5ED\", \"showgrid\": true, \"tickfont\": {\"color\": \"#4D5663\"}, \"title\": {\"font\": {\"color\": \"#4D5663\"}, \"text\": \"\"}, \"zerolinecolor\": \"#E1E5ED\"}},                        {\"showLink\": true, \"linkText\": \"Export to plot.ly\", \"plotlyServerURL\": \"https://plot.ly\", \"responsive\": true}                    ).then(function(){\n                            \nvar gd = document.getElementById('416648e6-2f49-439c-834f-a01390c30bc0');\nvar x = new MutationObserver(function (mutations, observer) {{\n        var display = window.getComputedStyle(gd).display;\n        if (!display || display === 'none') {{\n            console.log([gd, 'removed!']);\n            Plotly.purge(gd);\n            observer.disconnect();\n        }}\n}});\n\n// Listen for the removal of the full notebook cells\nvar notebookContainer = gd.closest('#notebook-container');\nif (notebookContainer) {{\n    x.observe(notebookContainer, {childList: true});\n}}\n\n// Listen for the clearing of the current output cell\nvar outputEl = gd.closest('.output');\nif (outputEl) {{\n    x.observe(outputEl, {childList: true});\n}}\n\n                        })                };                });            </script>        </div>"
     },
     "metadata": {}
    }
   ],
   "source": [
    "df3.iplot('surface', colorscale='rdylbu')"
   ]
  },
  {
   "cell_type": "code",
   "execution_count": 33,
   "metadata": {},
   "outputs": [
    {
     "output_type": "display_data",
     "data": {
      "application/vnd.plotly.v1+json": {
       "config": {
        "linkText": "Export to plot.ly",
        "plotlyServerURL": "https://plot.ly",
        "showLink": true
       },
       "data": [
        {
         "line": {
          "color": "rgba(255, 153, 51, 1.0)",
          "dash": "solid",
          "shape": "linear",
          "width": 1.3
         },
         "mode": "lines",
         "name": "A",
         "text": "",
         "type": "scatter",
         "x": [
          0,
          1,
          2,
          3,
          4,
          5,
          6,
          7,
          8,
          9,
          10,
          11,
          12,
          13,
          14,
          15,
          16,
          17,
          18,
          19,
          20,
          21,
          22,
          23,
          24,
          25,
          26,
          27,
          28,
          29,
          30,
          31,
          32,
          33,
          34,
          35,
          36,
          37,
          38,
          39,
          40,
          41,
          42,
          43,
          44,
          45,
          46,
          47,
          48,
          49,
          50,
          51,
          52,
          53,
          54,
          55,
          56,
          57,
          58,
          59,
          60,
          61,
          62,
          63,
          64,
          65,
          66,
          67,
          68,
          69,
          70,
          71,
          72,
          73,
          74,
          75,
          76,
          77,
          78,
          79,
          80,
          81,
          82,
          83,
          84,
          85,
          86,
          87,
          88,
          89,
          90,
          91,
          92,
          93,
          94,
          95,
          96,
          97,
          98,
          99
         ],
         "y": [
          0.5465783073064772,
          -0.29266683075288924,
          0.6231870996745854,
          -0.834383727710256,
          0.07267124236383367,
          0.546609283854429,
          -1.131288781160773,
          0.9726279769132807,
          1.3036471779533993,
          0.09456737726953622,
          -1.4909951751412387,
          0.2486809006031248,
          -0.5041954963214929,
          1.090313604126461,
          0.5271065162022843,
          0.72996298455288,
          -0.5727674434124677,
          0.6981473528513243,
          0.42646244691734936,
          0.22561770627475097,
          1.3964635891379957,
          -1.028076763783862,
          -0.7918548050193706,
          0.6424988861128034,
          0.07700092744047617,
          0.2639476843988694,
          -1.3939121056913943,
          0.8022040203343273,
          -0.46413394434136784,
          0.2220320510302532,
          0.935281027468148,
          -0.7800155400860896,
          -0.416128340694564,
          1.3185965143422556,
          -0.9440127360391387,
          -0.6366557329525351,
          0.44540615728871885,
          -2.2642998115862225,
          -0.2850565034199015,
          1.0506044703218136,
          0.8378528542175177,
          -0.12868954137371466,
          -0.33798990823686026,
          0.1679192582551076,
          -0.9308238698161303,
          0.07517507846869902,
          0.5529139051581751,
          -0.6550066638750623,
          1.6622073144790908,
          -0.9563738629799234,
          -0.9039901786142885,
          -0.9224207152656744,
          0.7853020720624344,
          -0.9078645469319825,
          -1.0065774903612925,
          -0.6513350487302739,
          0.607897606343382,
          -0.7121619992871777,
          -1.0062801835740622,
          0.4151934066896479,
          0.42890807858108176,
          -1.4465094346493927,
          1.7219331417962913,
          -1.5053103553567573,
          -1.5460676762516719,
          -1.334470385973534,
          1.3820705239206281,
          1.149948100182805,
          0.48581062454288443,
          -2.9220312235168104,
          0.9688469690572168,
          0.4005785671067927,
          -1.7729643682929506,
          -2.254444960561575,
          2.8558789888409377,
          0.11684368509114042,
          -0.5921664352451752,
          -0.7669775175253448,
          0.3944947793185067,
          0.17970836550271987,
          0.7320087898796422,
          -0.3718994683294069,
          0.6490335347378919,
          1.61451773742073,
          2.2200311879880092,
          0.2652884204844432,
          -1.138292642211443,
          -1.0916461301727252,
          -0.6552002466498384,
          -0.17573927465249542,
          0.19807054658965803,
          -0.3135938770961247,
          0.9100592564889136,
          1.389689501439636,
          0.4571725986883691,
          -1.147513235584393,
          -0.2641384924636912,
          -2.4750908872422532,
          -0.3052555238066782,
          0.5126311294281619
         ]
        },
        {
         "line": {
          "color": "rgba(55, 128, 191, 1.0)",
          "dash": "solid",
          "shape": "linear",
          "width": 1.3
         },
         "mode": "lines",
         "name": "B",
         "text": "",
         "type": "scatter",
         "x": [
          0,
          1,
          2,
          3,
          4,
          5,
          6,
          7,
          8,
          9,
          10,
          11,
          12,
          13,
          14,
          15,
          16,
          17,
          18,
          19,
          20,
          21,
          22,
          23,
          24,
          25,
          26,
          27,
          28,
          29,
          30,
          31,
          32,
          33,
          34,
          35,
          36,
          37,
          38,
          39,
          40,
          41,
          42,
          43,
          44,
          45,
          46,
          47,
          48,
          49,
          50,
          51,
          52,
          53,
          54,
          55,
          56,
          57,
          58,
          59,
          60,
          61,
          62,
          63,
          64,
          65,
          66,
          67,
          68,
          69,
          70,
          71,
          72,
          73,
          74,
          75,
          76,
          77,
          78,
          79,
          80,
          81,
          82,
          83,
          84,
          85,
          86,
          87,
          88,
          89,
          90,
          91,
          92,
          93,
          94,
          95,
          96,
          97,
          98,
          99
         ],
         "y": [
          -0.3210616890439768,
          0.014731334124076999,
          0.5366938623242867,
          -0.28347189457944116,
          0.045451557025280365,
          0.13459038631390496,
          0.7680897864672134,
          -0.5605600823698804,
          1.6570181797969776,
          0.6384146948817033,
          1.3887234430034054,
          -0.09505479464596212,
          0.3793871989929514,
          0.968138373003798,
          0.5570971336800378,
          -0.12022809907427562,
          1.225767443374642,
          -0.48103582404950523,
          0.31237187179067677,
          -1.5541642248570275,
          -0.0905732283356259,
          -0.7121648301099559,
          -0.8980559307398618,
          0.7505948170765744,
          -0.08743327787437438,
          0.7381569910231944,
          1.0578906584070804,
          0.609010499655325,
          -0.07991913941469375,
          -0.9809062194854374,
          -0.3927567552348754,
          1.1779490224473685,
          0.5861320936097942,
          -1.9586149587331063,
          -0.7503025630835873,
          2.111168813334928,
          1.1724683723332443,
          0.41124561482519084,
          -0.8073090559661715,
          -0.6001700359496503,
          0.924992852207575,
          0.564903133816479,
          -1.329485783727274,
          -0.9042900886398983,
          0.7446229259164912,
          -0.6664395834381821,
          1.790641696870415,
          -0.7000508417729924,
          -2.124025946845946,
          1.427339440341842,
          -0.023434047825694505,
          -2.184151730277451,
          -0.2743737245978753,
          0.08652959980978199,
          0.7073634897595449,
          0.5328211228340343,
          1.8902284648569976,
          0.21527531979477196,
          -1.7836858947922036,
          -0.3353688964873548,
          -1.1002301192684039,
          -0.6883952001486617,
          -1.5764860675414936,
          -0.6433657782077495,
          1.097576865535247,
          -0.023602921622034694,
          -0.029463692580862483,
          0.2358983482389432,
          0.27894641922849245,
          0.30550114510394016,
          0.8867657472418506,
          0.9319324919522,
          -0.01664626305233927,
          -0.5007055914851937,
          1.5554489026110867,
          0.3985089102148669,
          -1.7988728013549453,
          0.33490036387429,
          -0.3185069447544962,
          -0.10960628009446838,
          0.5677453220093496,
          -0.9445892255243346,
          -0.6654555763718258,
          1.3332815274819332,
          0.9620523328660819,
          0.0627271471645771,
          -1.5219745869359935,
          1.8456224867766633,
          0.35193461333641635,
          -0.6911844965770978,
          -1.9382109908973897,
          0.5101622352180557,
          0.04141713857864906,
          0.7348149162733385,
          0.08876588617886874,
          -0.20605819017878488,
          -0.5796140389078577,
          -0.27512891936251505,
          -1.108562305937151,
          0.83556234684711
         ]
        },
        {
         "connectgaps": false,
         "fill": "tozeroy",
         "line": {
          "color": "green",
          "dash": "solid",
          "shape": "linear",
          "width": 0.5
         },
         "mode": "lines",
         "name": "Spread",
         "showlegend": false,
         "type": "scatter",
         "x": [
          0,
          1,
          2,
          3,
          4,
          5,
          6,
          7,
          8,
          9,
          10,
          11,
          12,
          13,
          14,
          15,
          16,
          17,
          18,
          19,
          20,
          21,
          22,
          23,
          24,
          25,
          26,
          27,
          28,
          29,
          30,
          31,
          32,
          33,
          34,
          35,
          36,
          37,
          38,
          39,
          40,
          41,
          42,
          43,
          44,
          45,
          46,
          47,
          48,
          49,
          50,
          51,
          52,
          53,
          54,
          55,
          56,
          57,
          58,
          59,
          60,
          61,
          62,
          63,
          64,
          65,
          66,
          67,
          68,
          69,
          70,
          71,
          72,
          73,
          74,
          75,
          76,
          77,
          78,
          79,
          80,
          81,
          82,
          83,
          84,
          85,
          86,
          87,
          88,
          89,
          90,
          91,
          92,
          93,
          94,
          95,
          96,
          97,
          98,
          99
         ],
         "xaxis": "x2",
         "y": [
          0.867639996350454,
          "",
          0.08649323735029868,
          "",
          0.027219685338553304,
          0.412018897540524,
          "",
          1.533188059283161,
          "",
          "",
          "",
          0.3437356952490869,
          "",
          0.12217523112266293,
          "",
          0.8501910836271556,
          "",
          1.1791831769008296,
          0.11409057512667259,
          1.7797819311317786,
          1.4870368174736217,
          "",
          0.10620112572049123,
          "",
          0.16443420531485053,
          "",
          "",
          0.1931935206790022,
          "",
          1.2029382705156906,
          1.3280377827030234,
          "",
          "",
          3.277211473075362,
          "",
          "",
          "",
          "",
          0.52225255254627,
          1.650774506271464,
          "",
          "",
          0.9914958754904137,
          1.072209346895006,
          "",
          0.7416146619068811,
          "",
          0.04504417789793003,
          3.786233261325037,
          "",
          "",
          1.2617310150117764,
          1.0596757966603096,
          "",
          "",
          "",
          "",
          "",
          0.7774057112181414,
          0.7505623031770027,
          1.5291381978494856,
          "",
          3.298419209337785,
          "",
          "",
          "",
          1.4115342165014906,
          0.9140497519438617,
          0.20686420531439198,
          "",
          0.08208122181536615,
          "",
          "",
          "",
          1.300430086229851,
          "",
          1.2067063661097701,
          "",
          0.7130017240730029,
          0.2893146455971882,
          0.16426346787029267,
          0.5726897571949277,
          1.314489111109718,
          0.28123620993879683,
          1.2579788551219273,
          0.20256127331986606,
          0.3836819447245505,
          "",
          "",
          0.5154452219246024,
          2.1362815374870476,
          "",
          0.8686421179102646,
          0.6548745851662975,
          0.3684067125095004,
          "",
          0.3154755464441665,
          "",
          0.8033067821304728,
          ""
         ],
         "yaxis": "y2"
        },
        {
         "connectgaps": false,
         "fill": "tozeroy",
         "line": {
          "color": "red",
          "dash": "solid",
          "shape": "linear",
          "width": 0.5
         },
         "mode": "lines",
         "name": "Spread",
         "showlegend": false,
         "type": "scatter",
         "x": [
          0,
          1,
          2,
          3,
          4,
          5,
          6,
          7,
          8,
          9,
          10,
          11,
          12,
          13,
          14,
          15,
          16,
          17,
          18,
          19,
          20,
          21,
          22,
          23,
          24,
          25,
          26,
          27,
          28,
          29,
          30,
          31,
          32,
          33,
          34,
          35,
          36,
          37,
          38,
          39,
          40,
          41,
          42,
          43,
          44,
          45,
          46,
          47,
          48,
          49,
          50,
          51,
          52,
          53,
          54,
          55,
          56,
          57,
          58,
          59,
          60,
          61,
          62,
          63,
          64,
          65,
          66,
          67,
          68,
          69,
          70,
          71,
          72,
          73,
          74,
          75,
          76,
          77,
          78,
          79,
          80,
          81,
          82,
          83,
          84,
          85,
          86,
          87,
          88,
          89,
          90,
          91,
          92,
          93,
          94,
          95,
          96,
          97,
          98,
          99
         ],
         "xaxis": "x2",
         "y": [
          "",
          -0.30739816487696625,
          "",
          -0.5509118331308149,
          "",
          "",
          -1.8993785676279864,
          "",
          -0.3533710018435783,
          -0.5438473176121671,
          -2.8797186181446444,
          "",
          -0.8835826953144443,
          "",
          -0.029990617477753445,
          "",
          -1.7985348867871096,
          "",
          "",
          "",
          "",
          -0.315911933673906,
          "",
          -0.10809593096377101,
          "",
          -0.47420930662432503,
          -2.451802764098475,
          "",
          -0.3842148049266741,
          "",
          "",
          -1.957964562533458,
          -1.0022604343043582,
          "",
          -0.19371017295555137,
          -2.747824546287463,
          -0.7270622150445254,
          -2.6755454264114134,
          "",
          "",
          -0.08713999799005734,
          -0.6935926751901937,
          "",
          "",
          -1.6754467957326216,
          "",
          -1.23772779171224,
          "",
          "",
          -2.3837133033217652,
          -0.8805561307885941,
          "",
          "",
          -0.9943941467417645,
          -1.7139409801208374,
          -1.1841561715643083,
          -1.2823308585136157,
          -0.9274373190819497,
          "",
          "",
          "",
          -0.758114234500731,
          "",
          -0.8619445771490077,
          -2.6436445417869185,
          -1.3108674643514995,
          "",
          "",
          "",
          -3.2275323686207504,
          "",
          -0.5313539248454073,
          -1.7563181052406114,
          -1.7537393690763814,
          "",
          -0.2816652251237265,
          "",
          -1.1018778813996348,
          "",
          "",
          "",
          "",
          "",
          "",
          "",
          "",
          "",
          -2.9372686169493885,
          -1.0071348599862548,
          "",
          "",
          -0.8237561123141803,
          "",
          "",
          "",
          -0.9414550454056082,
          "",
          -2.199961967879738,
          "",
          -0.32293121741894804
         ],
         "yaxis": "y2"
        }
       ],
       "layout": {
        "hovermode": "x",
        "legend": {
         "bgcolor": "#F5F6F9",
         "font": {
          "color": "#4D5663"
         }
        },
        "paper_bgcolor": "#F5F6F9",
        "plot_bgcolor": "#F5F6F9",
        "template": {
         "data": {
          "bar": [
           {
            "error_x": {
             "color": "#2a3f5f"
            },
            "error_y": {
             "color": "#2a3f5f"
            },
            "marker": {
             "line": {
              "color": "#E5ECF6",
              "width": 0.5
             }
            },
            "type": "bar"
           }
          ],
          "barpolar": [
           {
            "marker": {
             "line": {
              "color": "#E5ECF6",
              "width": 0.5
             }
            },
            "type": "barpolar"
           }
          ],
          "carpet": [
           {
            "aaxis": {
             "endlinecolor": "#2a3f5f",
             "gridcolor": "white",
             "linecolor": "white",
             "minorgridcolor": "white",
             "startlinecolor": "#2a3f5f"
            },
            "baxis": {
             "endlinecolor": "#2a3f5f",
             "gridcolor": "white",
             "linecolor": "white",
             "minorgridcolor": "white",
             "startlinecolor": "#2a3f5f"
            },
            "type": "carpet"
           }
          ],
          "choropleth": [
           {
            "colorbar": {
             "outlinewidth": 0,
             "ticks": ""
            },
            "type": "choropleth"
           }
          ],
          "contour": [
           {
            "colorbar": {
             "outlinewidth": 0,
             "ticks": ""
            },
            "colorscale": [
             [
              0,
              "#0d0887"
             ],
             [
              0.1111111111111111,
              "#46039f"
             ],
             [
              0.2222222222222222,
              "#7201a8"
             ],
             [
              0.3333333333333333,
              "#9c179e"
             ],
             [
              0.4444444444444444,
              "#bd3786"
             ],
             [
              0.5555555555555556,
              "#d8576b"
             ],
             [
              0.6666666666666666,
              "#ed7953"
             ],
             [
              0.7777777777777778,
              "#fb9f3a"
             ],
             [
              0.8888888888888888,
              "#fdca26"
             ],
             [
              1,
              "#f0f921"
             ]
            ],
            "type": "contour"
           }
          ],
          "contourcarpet": [
           {
            "colorbar": {
             "outlinewidth": 0,
             "ticks": ""
            },
            "type": "contourcarpet"
           }
          ],
          "heatmap": [
           {
            "colorbar": {
             "outlinewidth": 0,
             "ticks": ""
            },
            "colorscale": [
             [
              0,
              "#0d0887"
             ],
             [
              0.1111111111111111,
              "#46039f"
             ],
             [
              0.2222222222222222,
              "#7201a8"
             ],
             [
              0.3333333333333333,
              "#9c179e"
             ],
             [
              0.4444444444444444,
              "#bd3786"
             ],
             [
              0.5555555555555556,
              "#d8576b"
             ],
             [
              0.6666666666666666,
              "#ed7953"
             ],
             [
              0.7777777777777778,
              "#fb9f3a"
             ],
             [
              0.8888888888888888,
              "#fdca26"
             ],
             [
              1,
              "#f0f921"
             ]
            ],
            "type": "heatmap"
           }
          ],
          "heatmapgl": [
           {
            "colorbar": {
             "outlinewidth": 0,
             "ticks": ""
            },
            "colorscale": [
             [
              0,
              "#0d0887"
             ],
             [
              0.1111111111111111,
              "#46039f"
             ],
             [
              0.2222222222222222,
              "#7201a8"
             ],
             [
              0.3333333333333333,
              "#9c179e"
             ],
             [
              0.4444444444444444,
              "#bd3786"
             ],
             [
              0.5555555555555556,
              "#d8576b"
             ],
             [
              0.6666666666666666,
              "#ed7953"
             ],
             [
              0.7777777777777778,
              "#fb9f3a"
             ],
             [
              0.8888888888888888,
              "#fdca26"
             ],
             [
              1,
              "#f0f921"
             ]
            ],
            "type": "heatmapgl"
           }
          ],
          "histogram": [
           {
            "marker": {
             "colorbar": {
              "outlinewidth": 0,
              "ticks": ""
             }
            },
            "type": "histogram"
           }
          ],
          "histogram2d": [
           {
            "colorbar": {
             "outlinewidth": 0,
             "ticks": ""
            },
            "colorscale": [
             [
              0,
              "#0d0887"
             ],
             [
              0.1111111111111111,
              "#46039f"
             ],
             [
              0.2222222222222222,
              "#7201a8"
             ],
             [
              0.3333333333333333,
              "#9c179e"
             ],
             [
              0.4444444444444444,
              "#bd3786"
             ],
             [
              0.5555555555555556,
              "#d8576b"
             ],
             [
              0.6666666666666666,
              "#ed7953"
             ],
             [
              0.7777777777777778,
              "#fb9f3a"
             ],
             [
              0.8888888888888888,
              "#fdca26"
             ],
             [
              1,
              "#f0f921"
             ]
            ],
            "type": "histogram2d"
           }
          ],
          "histogram2dcontour": [
           {
            "colorbar": {
             "outlinewidth": 0,
             "ticks": ""
            },
            "colorscale": [
             [
              0,
              "#0d0887"
             ],
             [
              0.1111111111111111,
              "#46039f"
             ],
             [
              0.2222222222222222,
              "#7201a8"
             ],
             [
              0.3333333333333333,
              "#9c179e"
             ],
             [
              0.4444444444444444,
              "#bd3786"
             ],
             [
              0.5555555555555556,
              "#d8576b"
             ],
             [
              0.6666666666666666,
              "#ed7953"
             ],
             [
              0.7777777777777778,
              "#fb9f3a"
             ],
             [
              0.8888888888888888,
              "#fdca26"
             ],
             [
              1,
              "#f0f921"
             ]
            ],
            "type": "histogram2dcontour"
           }
          ],
          "mesh3d": [
           {
            "colorbar": {
             "outlinewidth": 0,
             "ticks": ""
            },
            "type": "mesh3d"
           }
          ],
          "parcoords": [
           {
            "line": {
             "colorbar": {
              "outlinewidth": 0,
              "ticks": ""
             }
            },
            "type": "parcoords"
           }
          ],
          "pie": [
           {
            "automargin": true,
            "type": "pie"
           }
          ],
          "scatter": [
           {
            "marker": {
             "colorbar": {
              "outlinewidth": 0,
              "ticks": ""
             }
            },
            "type": "scatter"
           }
          ],
          "scatter3d": [
           {
            "line": {
             "colorbar": {
              "outlinewidth": 0,
              "ticks": ""
             }
            },
            "marker": {
             "colorbar": {
              "outlinewidth": 0,
              "ticks": ""
             }
            },
            "type": "scatter3d"
           }
          ],
          "scattercarpet": [
           {
            "marker": {
             "colorbar": {
              "outlinewidth": 0,
              "ticks": ""
             }
            },
            "type": "scattercarpet"
           }
          ],
          "scattergeo": [
           {
            "marker": {
             "colorbar": {
              "outlinewidth": 0,
              "ticks": ""
             }
            },
            "type": "scattergeo"
           }
          ],
          "scattergl": [
           {
            "marker": {
             "colorbar": {
              "outlinewidth": 0,
              "ticks": ""
             }
            },
            "type": "scattergl"
           }
          ],
          "scattermapbox": [
           {
            "marker": {
             "colorbar": {
              "outlinewidth": 0,
              "ticks": ""
             }
            },
            "type": "scattermapbox"
           }
          ],
          "scatterpolar": [
           {
            "marker": {
             "colorbar": {
              "outlinewidth": 0,
              "ticks": ""
             }
            },
            "type": "scatterpolar"
           }
          ],
          "scatterpolargl": [
           {
            "marker": {
             "colorbar": {
              "outlinewidth": 0,
              "ticks": ""
             }
            },
            "type": "scatterpolargl"
           }
          ],
          "scatterternary": [
           {
            "marker": {
             "colorbar": {
              "outlinewidth": 0,
              "ticks": ""
             }
            },
            "type": "scatterternary"
           }
          ],
          "surface": [
           {
            "colorbar": {
             "outlinewidth": 0,
             "ticks": ""
            },
            "colorscale": [
             [
              0,
              "#0d0887"
             ],
             [
              0.1111111111111111,
              "#46039f"
             ],
             [
              0.2222222222222222,
              "#7201a8"
             ],
             [
              0.3333333333333333,
              "#9c179e"
             ],
             [
              0.4444444444444444,
              "#bd3786"
             ],
             [
              0.5555555555555556,
              "#d8576b"
             ],
             [
              0.6666666666666666,
              "#ed7953"
             ],
             [
              0.7777777777777778,
              "#fb9f3a"
             ],
             [
              0.8888888888888888,
              "#fdca26"
             ],
             [
              1,
              "#f0f921"
             ]
            ],
            "type": "surface"
           }
          ],
          "table": [
           {
            "cells": {
             "fill": {
              "color": "#EBF0F8"
             },
             "line": {
              "color": "white"
             }
            },
            "header": {
             "fill": {
              "color": "#C8D4E3"
             },
             "line": {
              "color": "white"
             }
            },
            "type": "table"
           }
          ]
         },
         "layout": {
          "annotationdefaults": {
           "arrowcolor": "#2a3f5f",
           "arrowhead": 0,
           "arrowwidth": 1
          },
          "autotypenumbers": "strict",
          "coloraxis": {
           "colorbar": {
            "outlinewidth": 0,
            "ticks": ""
           }
          },
          "colorscale": {
           "diverging": [
            [
             0,
             "#8e0152"
            ],
            [
             0.1,
             "#c51b7d"
            ],
            [
             0.2,
             "#de77ae"
            ],
            [
             0.3,
             "#f1b6da"
            ],
            [
             0.4,
             "#fde0ef"
            ],
            [
             0.5,
             "#f7f7f7"
            ],
            [
             0.6,
             "#e6f5d0"
            ],
            [
             0.7,
             "#b8e186"
            ],
            [
             0.8,
             "#7fbc41"
            ],
            [
             0.9,
             "#4d9221"
            ],
            [
             1,
             "#276419"
            ]
           ],
           "sequential": [
            [
             0,
             "#0d0887"
            ],
            [
             0.1111111111111111,
             "#46039f"
            ],
            [
             0.2222222222222222,
             "#7201a8"
            ],
            [
             0.3333333333333333,
             "#9c179e"
            ],
            [
             0.4444444444444444,
             "#bd3786"
            ],
            [
             0.5555555555555556,
             "#d8576b"
            ],
            [
             0.6666666666666666,
             "#ed7953"
            ],
            [
             0.7777777777777778,
             "#fb9f3a"
            ],
            [
             0.8888888888888888,
             "#fdca26"
            ],
            [
             1,
             "#f0f921"
            ]
           ],
           "sequentialminus": [
            [
             0,
             "#0d0887"
            ],
            [
             0.1111111111111111,
             "#46039f"
            ],
            [
             0.2222222222222222,
             "#7201a8"
            ],
            [
             0.3333333333333333,
             "#9c179e"
            ],
            [
             0.4444444444444444,
             "#bd3786"
            ],
            [
             0.5555555555555556,
             "#d8576b"
            ],
            [
             0.6666666666666666,
             "#ed7953"
            ],
            [
             0.7777777777777778,
             "#fb9f3a"
            ],
            [
             0.8888888888888888,
             "#fdca26"
            ],
            [
             1,
             "#f0f921"
            ]
           ]
          },
          "colorway": [
           "#636efa",
           "#EF553B",
           "#00cc96",
           "#ab63fa",
           "#FFA15A",
           "#19d3f3",
           "#FF6692",
           "#B6E880",
           "#FF97FF",
           "#FECB52"
          ],
          "font": {
           "color": "#2a3f5f"
          },
          "geo": {
           "bgcolor": "white",
           "lakecolor": "white",
           "landcolor": "#E5ECF6",
           "showlakes": true,
           "showland": true,
           "subunitcolor": "white"
          },
          "hoverlabel": {
           "align": "left"
          },
          "hovermode": "closest",
          "mapbox": {
           "style": "light"
          },
          "paper_bgcolor": "white",
          "plot_bgcolor": "#E5ECF6",
          "polar": {
           "angularaxis": {
            "gridcolor": "white",
            "linecolor": "white",
            "ticks": ""
           },
           "bgcolor": "#E5ECF6",
           "radialaxis": {
            "gridcolor": "white",
            "linecolor": "white",
            "ticks": ""
           }
          },
          "scene": {
           "xaxis": {
            "backgroundcolor": "#E5ECF6",
            "gridcolor": "white",
            "gridwidth": 2,
            "linecolor": "white",
            "showbackground": true,
            "ticks": "",
            "zerolinecolor": "white"
           },
           "yaxis": {
            "backgroundcolor": "#E5ECF6",
            "gridcolor": "white",
            "gridwidth": 2,
            "linecolor": "white",
            "showbackground": true,
            "ticks": "",
            "zerolinecolor": "white"
           },
           "zaxis": {
            "backgroundcolor": "#E5ECF6",
            "gridcolor": "white",
            "gridwidth": 2,
            "linecolor": "white",
            "showbackground": true,
            "ticks": "",
            "zerolinecolor": "white"
           }
          },
          "shapedefaults": {
           "line": {
            "color": "#2a3f5f"
           }
          },
          "ternary": {
           "aaxis": {
            "gridcolor": "white",
            "linecolor": "white",
            "ticks": ""
           },
           "baxis": {
            "gridcolor": "white",
            "linecolor": "white",
            "ticks": ""
           },
           "bgcolor": "#E5ECF6",
           "caxis": {
            "gridcolor": "white",
            "linecolor": "white",
            "ticks": ""
           }
          },
          "title": {
           "x": 0.05
          },
          "xaxis": {
           "automargin": true,
           "gridcolor": "white",
           "linecolor": "white",
           "ticks": "",
           "title": {
            "standoff": 15
           },
           "zerolinecolor": "white",
           "zerolinewidth": 2
          },
          "yaxis": {
           "automargin": true,
           "gridcolor": "white",
           "linecolor": "white",
           "ticks": "",
           "title": {
            "standoff": 15
           },
           "zerolinecolor": "white",
           "zerolinewidth": 2
          }
         }
        },
        "title": {
         "font": {
          "color": "#4D5663"
         }
        },
        "xaxis": {
         "gridcolor": "#E1E5ED",
         "showgrid": true,
         "tickfont": {
          "color": "#4D5663"
         },
         "title": {
          "font": {
           "color": "#4D5663"
          },
          "text": ""
         },
         "zerolinecolor": "#E1E5ED"
        },
        "xaxis2": {
         "anchor": "y2",
         "gridcolor": "#E1E5ED",
         "showgrid": true,
         "showticklabels": false,
         "tickfont": {
          "color": "#4D5663"
         },
         "title": {
          "font": {
           "color": "#4D5663"
          },
          "text": ""
         },
         "zerolinecolor": "#E1E5ED"
        },
        "yaxis": {
         "domain": [
          0.3,
          1
         ],
         "gridcolor": "#E1E5ED",
         "showgrid": true,
         "tickfont": {
          "color": "#4D5663"
         },
         "title": {
          "font": {
           "color": "#4D5663"
          },
          "text": ""
         },
         "zerolinecolor": "#E1E5ED"
        },
        "yaxis2": {
         "domain": [
          0,
          0.25
         ],
         "gridcolor": "#E1E5ED",
         "showgrid": true,
         "tickfont": {
          "color": "#4D5663"
         },
         "title": {
          "font": {
           "color": "#4D5663"
          },
          "text": "Spread"
         },
         "zerolinecolor": "#E1E5ED"
        }
       }
      },
      "text/html": "<div>                            <div id=\"0f2d8b98-5b9b-4e97-8c41-d958d0c46108\" class=\"plotly-graph-div\" style=\"height:525px; width:100%;\"></div>            <script type=\"text/javascript\">                require([\"plotly\"], function(Plotly) {                    window.PLOTLYENV=window.PLOTLYENV || {};\n                    window.PLOTLYENV.BASE_URL='https://plot.ly';                                    if (document.getElementById(\"0f2d8b98-5b9b-4e97-8c41-d958d0c46108\")) {                    Plotly.newPlot(                        \"0f2d8b98-5b9b-4e97-8c41-d958d0c46108\",                        [{\"line\": {\"color\": \"rgba(255, 153, 51, 1.0)\", \"dash\": \"solid\", \"shape\": \"linear\", \"width\": 1.3}, \"mode\": \"lines\", \"name\": \"A\", \"text\": \"\", \"type\": \"scatter\", \"x\": [0, 1, 2, 3, 4, 5, 6, 7, 8, 9, 10, 11, 12, 13, 14, 15, 16, 17, 18, 19, 20, 21, 22, 23, 24, 25, 26, 27, 28, 29, 30, 31, 32, 33, 34, 35, 36, 37, 38, 39, 40, 41, 42, 43, 44, 45, 46, 47, 48, 49, 50, 51, 52, 53, 54, 55, 56, 57, 58, 59, 60, 61, 62, 63, 64, 65, 66, 67, 68, 69, 70, 71, 72, 73, 74, 75, 76, 77, 78, 79, 80, 81, 82, 83, 84, 85, 86, 87, 88, 89, 90, 91, 92, 93, 94, 95, 96, 97, 98, 99], \"y\": [0.5465783073064772, -0.29266683075288924, 0.6231870996745854, -0.834383727710256, 0.07267124236383367, 0.546609283854429, -1.131288781160773, 0.9726279769132807, 1.3036471779533993, 0.09456737726953622, -1.4909951751412387, 0.2486809006031248, -0.5041954963214929, 1.090313604126461, 0.5271065162022843, 0.72996298455288, -0.5727674434124677, 0.6981473528513243, 0.42646244691734936, 0.22561770627475097, 1.3964635891379957, -1.028076763783862, -0.7918548050193706, 0.6424988861128034, 0.07700092744047617, 0.2639476843988694, -1.3939121056913943, 0.8022040203343273, -0.46413394434136784, 0.2220320510302532, 0.935281027468148, -0.7800155400860896, -0.416128340694564, 1.3185965143422556, -0.9440127360391387, -0.6366557329525351, 0.44540615728871885, -2.2642998115862225, -0.2850565034199015, 1.0506044703218136, 0.8378528542175177, -0.12868954137371466, -0.33798990823686026, 0.1679192582551076, -0.9308238698161303, 0.07517507846869902, 0.5529139051581751, -0.6550066638750623, 1.6622073144790908, -0.9563738629799234, -0.9039901786142885, -0.9224207152656744, 0.7853020720624344, -0.9078645469319825, -1.0065774903612925, -0.6513350487302739, 0.607897606343382, -0.7121619992871777, -1.0062801835740622, 0.4151934066896479, 0.42890807858108176, -1.4465094346493927, 1.7219331417962913, -1.5053103553567573, -1.5460676762516719, -1.334470385973534, 1.3820705239206281, 1.149948100182805, 0.48581062454288443, -2.9220312235168104, 0.9688469690572168, 0.4005785671067927, -1.7729643682929506, -2.254444960561575, 2.8558789888409377, 0.11684368509114042, -0.5921664352451752, -0.7669775175253448, 0.3944947793185067, 0.17970836550271987, 0.7320087898796422, -0.3718994683294069, 0.6490335347378919, 1.61451773742073, 2.2200311879880092, 0.2652884204844432, -1.138292642211443, -1.0916461301727252, -0.6552002466498384, -0.17573927465249542, 0.19807054658965803, -0.3135938770961247, 0.9100592564889136, 1.389689501439636, 0.4571725986883691, -1.147513235584393, -0.2641384924636912, -2.4750908872422532, -0.3052555238066782, 0.5126311294281619]}, {\"line\": {\"color\": \"rgba(55, 128, 191, 1.0)\", \"dash\": \"solid\", \"shape\": \"linear\", \"width\": 1.3}, \"mode\": \"lines\", \"name\": \"B\", \"text\": \"\", \"type\": \"scatter\", \"x\": [0, 1, 2, 3, 4, 5, 6, 7, 8, 9, 10, 11, 12, 13, 14, 15, 16, 17, 18, 19, 20, 21, 22, 23, 24, 25, 26, 27, 28, 29, 30, 31, 32, 33, 34, 35, 36, 37, 38, 39, 40, 41, 42, 43, 44, 45, 46, 47, 48, 49, 50, 51, 52, 53, 54, 55, 56, 57, 58, 59, 60, 61, 62, 63, 64, 65, 66, 67, 68, 69, 70, 71, 72, 73, 74, 75, 76, 77, 78, 79, 80, 81, 82, 83, 84, 85, 86, 87, 88, 89, 90, 91, 92, 93, 94, 95, 96, 97, 98, 99], \"y\": [-0.3210616890439768, 0.014731334124076999, 0.5366938623242867, -0.28347189457944116, 0.045451557025280365, 0.13459038631390496, 0.7680897864672134, -0.5605600823698804, 1.6570181797969776, 0.6384146948817033, 1.3887234430034054, -0.09505479464596212, 0.3793871989929514, 0.968138373003798, 0.5570971336800378, -0.12022809907427562, 1.225767443374642, -0.48103582404950523, 0.31237187179067677, -1.5541642248570275, -0.0905732283356259, -0.7121648301099559, -0.8980559307398618, 0.7505948170765744, -0.08743327787437438, 0.7381569910231944, 1.0578906584070804, 0.609010499655325, -0.07991913941469375, -0.9809062194854374, -0.3927567552348754, 1.1779490224473685, 0.5861320936097942, -1.9586149587331063, -0.7503025630835873, 2.111168813334928, 1.1724683723332443, 0.41124561482519084, -0.8073090559661715, -0.6001700359496503, 0.924992852207575, 0.564903133816479, -1.329485783727274, -0.9042900886398983, 0.7446229259164912, -0.6664395834381821, 1.790641696870415, -0.7000508417729924, -2.124025946845946, 1.427339440341842, -0.023434047825694505, -2.184151730277451, -0.2743737245978753, 0.08652959980978199, 0.7073634897595449, 0.5328211228340343, 1.8902284648569976, 0.21527531979477196, -1.7836858947922036, -0.3353688964873548, -1.1002301192684039, -0.6883952001486617, -1.5764860675414936, -0.6433657782077495, 1.097576865535247, -0.023602921622034694, -0.029463692580862483, 0.2358983482389432, 0.27894641922849245, 0.30550114510394016, 0.8867657472418506, 0.9319324919522, -0.01664626305233927, -0.5007055914851937, 1.5554489026110867, 0.3985089102148669, -1.7988728013549453, 0.33490036387429, -0.3185069447544962, -0.10960628009446838, 0.5677453220093496, -0.9445892255243346, -0.6654555763718258, 1.3332815274819332, 0.9620523328660819, 0.0627271471645771, -1.5219745869359935, 1.8456224867766633, 0.35193461333641635, -0.6911844965770978, -1.9382109908973897, 0.5101622352180557, 0.04141713857864906, 0.7348149162733385, 0.08876588617886874, -0.20605819017878488, -0.5796140389078577, -0.27512891936251505, -1.108562305937151, 0.83556234684711]}, {\"connectgaps\": false, \"fill\": \"tozeroy\", \"line\": {\"color\": \"green\", \"dash\": \"solid\", \"shape\": \"linear\", \"width\": 0.5}, \"mode\": \"lines\", \"name\": \"Spread\", \"showlegend\": false, \"type\": \"scatter\", \"x\": [0, 1, 2, 3, 4, 5, 6, 7, 8, 9, 10, 11, 12, 13, 14, 15, 16, 17, 18, 19, 20, 21, 22, 23, 24, 25, 26, 27, 28, 29, 30, 31, 32, 33, 34, 35, 36, 37, 38, 39, 40, 41, 42, 43, 44, 45, 46, 47, 48, 49, 50, 51, 52, 53, 54, 55, 56, 57, 58, 59, 60, 61, 62, 63, 64, 65, 66, 67, 68, 69, 70, 71, 72, 73, 74, 75, 76, 77, 78, 79, 80, 81, 82, 83, 84, 85, 86, 87, 88, 89, 90, 91, 92, 93, 94, 95, 96, 97, 98, 99], \"xaxis\": \"x2\", \"y\": [0.867639996350454, \"\", 0.08649323735029868, \"\", 0.027219685338553304, 0.412018897540524, \"\", 1.533188059283161, \"\", \"\", \"\", 0.3437356952490869, \"\", 0.12217523112266293, \"\", 0.8501910836271556, \"\", 1.1791831769008296, 0.11409057512667259, 1.7797819311317786, 1.4870368174736217, \"\", 0.10620112572049123, \"\", 0.16443420531485053, \"\", \"\", 0.1931935206790022, \"\", 1.2029382705156906, 1.3280377827030234, \"\", \"\", 3.277211473075362, \"\", \"\", \"\", \"\", 0.52225255254627, 1.650774506271464, \"\", \"\", 0.9914958754904137, 1.072209346895006, \"\", 0.7416146619068811, \"\", 0.04504417789793003, 3.786233261325037, \"\", \"\", 1.2617310150117764, 1.0596757966603096, \"\", \"\", \"\", \"\", \"\", 0.7774057112181414, 0.7505623031770027, 1.5291381978494856, \"\", 3.298419209337785, \"\", \"\", \"\", 1.4115342165014906, 0.9140497519438617, 0.20686420531439198, \"\", 0.08208122181536615, \"\", \"\", \"\", 1.300430086229851, \"\", 1.2067063661097701, \"\", 0.7130017240730029, 0.2893146455971882, 0.16426346787029267, 0.5726897571949277, 1.314489111109718, 0.28123620993879683, 1.2579788551219273, 0.20256127331986606, 0.3836819447245505, \"\", \"\", 0.5154452219246024, 2.1362815374870476, \"\", 0.8686421179102646, 0.6548745851662975, 0.3684067125095004, \"\", 0.3154755464441665, \"\", 0.8033067821304728, \"\"], \"yaxis\": \"y2\"}, {\"connectgaps\": false, \"fill\": \"tozeroy\", \"line\": {\"color\": \"red\", \"dash\": \"solid\", \"shape\": \"linear\", \"width\": 0.5}, \"mode\": \"lines\", \"name\": \"Spread\", \"showlegend\": false, \"type\": \"scatter\", \"x\": [0, 1, 2, 3, 4, 5, 6, 7, 8, 9, 10, 11, 12, 13, 14, 15, 16, 17, 18, 19, 20, 21, 22, 23, 24, 25, 26, 27, 28, 29, 30, 31, 32, 33, 34, 35, 36, 37, 38, 39, 40, 41, 42, 43, 44, 45, 46, 47, 48, 49, 50, 51, 52, 53, 54, 55, 56, 57, 58, 59, 60, 61, 62, 63, 64, 65, 66, 67, 68, 69, 70, 71, 72, 73, 74, 75, 76, 77, 78, 79, 80, 81, 82, 83, 84, 85, 86, 87, 88, 89, 90, 91, 92, 93, 94, 95, 96, 97, 98, 99], \"xaxis\": \"x2\", \"y\": [\"\", -0.30739816487696625, \"\", -0.5509118331308149, \"\", \"\", -1.8993785676279864, \"\", -0.3533710018435783, -0.5438473176121671, -2.8797186181446444, \"\", -0.8835826953144443, \"\", -0.029990617477753445, \"\", -1.7985348867871096, \"\", \"\", \"\", \"\", -0.315911933673906, \"\", -0.10809593096377101, \"\", -0.47420930662432503, -2.451802764098475, \"\", -0.3842148049266741, \"\", \"\", -1.957964562533458, -1.0022604343043582, \"\", -0.19371017295555137, -2.747824546287463, -0.7270622150445254, -2.6755454264114134, \"\", \"\", -0.08713999799005734, -0.6935926751901937, \"\", \"\", -1.6754467957326216, \"\", -1.23772779171224, \"\", \"\", -2.3837133033217652, -0.8805561307885941, \"\", \"\", -0.9943941467417645, -1.7139409801208374, -1.1841561715643083, -1.2823308585136157, -0.9274373190819497, \"\", \"\", \"\", -0.758114234500731, \"\", -0.8619445771490077, -2.6436445417869185, -1.3108674643514995, \"\", \"\", \"\", -3.2275323686207504, \"\", -0.5313539248454073, -1.7563181052406114, -1.7537393690763814, \"\", -0.2816652251237265, \"\", -1.1018778813996348, \"\", \"\", \"\", \"\", \"\", \"\", \"\", \"\", \"\", -2.9372686169493885, -1.0071348599862548, \"\", \"\", -0.8237561123141803, \"\", \"\", \"\", -0.9414550454056082, \"\", -2.199961967879738, \"\", -0.32293121741894804], \"yaxis\": \"y2\"}],                        {\"hovermode\": \"x\", \"legend\": {\"bgcolor\": \"#F5F6F9\", \"font\": {\"color\": \"#4D5663\"}}, \"paper_bgcolor\": \"#F5F6F9\", \"plot_bgcolor\": \"#F5F6F9\", \"template\": {\"data\": {\"bar\": [{\"error_x\": {\"color\": \"#2a3f5f\"}, \"error_y\": {\"color\": \"#2a3f5f\"}, \"marker\": {\"line\": {\"color\": \"#E5ECF6\", \"width\": 0.5}}, \"type\": \"bar\"}], \"barpolar\": [{\"marker\": {\"line\": {\"color\": \"#E5ECF6\", \"width\": 0.5}}, \"type\": \"barpolar\"}], \"carpet\": [{\"aaxis\": {\"endlinecolor\": \"#2a3f5f\", \"gridcolor\": \"white\", \"linecolor\": \"white\", \"minorgridcolor\": \"white\", \"startlinecolor\": \"#2a3f5f\"}, \"baxis\": {\"endlinecolor\": \"#2a3f5f\", \"gridcolor\": \"white\", \"linecolor\": \"white\", \"minorgridcolor\": \"white\", \"startlinecolor\": \"#2a3f5f\"}, \"type\": \"carpet\"}], \"choropleth\": [{\"colorbar\": {\"outlinewidth\": 0, \"ticks\": \"\"}, \"type\": \"choropleth\"}], \"contour\": [{\"colorbar\": {\"outlinewidth\": 0, \"ticks\": \"\"}, \"colorscale\": [[0.0, \"#0d0887\"], [0.1111111111111111, \"#46039f\"], [0.2222222222222222, \"#7201a8\"], [0.3333333333333333, \"#9c179e\"], [0.4444444444444444, \"#bd3786\"], [0.5555555555555556, \"#d8576b\"], [0.6666666666666666, \"#ed7953\"], [0.7777777777777778, \"#fb9f3a\"], [0.8888888888888888, \"#fdca26\"], [1.0, \"#f0f921\"]], \"type\": \"contour\"}], \"contourcarpet\": [{\"colorbar\": {\"outlinewidth\": 0, \"ticks\": \"\"}, \"type\": \"contourcarpet\"}], \"heatmap\": [{\"colorbar\": {\"outlinewidth\": 0, \"ticks\": \"\"}, \"colorscale\": [[0.0, \"#0d0887\"], [0.1111111111111111, \"#46039f\"], [0.2222222222222222, \"#7201a8\"], [0.3333333333333333, \"#9c179e\"], [0.4444444444444444, \"#bd3786\"], [0.5555555555555556, \"#d8576b\"], [0.6666666666666666, \"#ed7953\"], [0.7777777777777778, \"#fb9f3a\"], [0.8888888888888888, \"#fdca26\"], [1.0, \"#f0f921\"]], \"type\": \"heatmap\"}], \"heatmapgl\": [{\"colorbar\": {\"outlinewidth\": 0, \"ticks\": \"\"}, \"colorscale\": [[0.0, \"#0d0887\"], [0.1111111111111111, \"#46039f\"], [0.2222222222222222, \"#7201a8\"], [0.3333333333333333, \"#9c179e\"], [0.4444444444444444, \"#bd3786\"], [0.5555555555555556, \"#d8576b\"], [0.6666666666666666, \"#ed7953\"], [0.7777777777777778, \"#fb9f3a\"], [0.8888888888888888, \"#fdca26\"], [1.0, \"#f0f921\"]], \"type\": \"heatmapgl\"}], \"histogram\": [{\"marker\": {\"colorbar\": {\"outlinewidth\": 0, \"ticks\": \"\"}}, \"type\": \"histogram\"}], \"histogram2d\": [{\"colorbar\": {\"outlinewidth\": 0, \"ticks\": \"\"}, \"colorscale\": [[0.0, \"#0d0887\"], [0.1111111111111111, \"#46039f\"], [0.2222222222222222, \"#7201a8\"], [0.3333333333333333, \"#9c179e\"], [0.4444444444444444, \"#bd3786\"], [0.5555555555555556, \"#d8576b\"], [0.6666666666666666, \"#ed7953\"], [0.7777777777777778, \"#fb9f3a\"], [0.8888888888888888, \"#fdca26\"], [1.0, \"#f0f921\"]], \"type\": \"histogram2d\"}], \"histogram2dcontour\": [{\"colorbar\": {\"outlinewidth\": 0, \"ticks\": \"\"}, \"colorscale\": [[0.0, \"#0d0887\"], [0.1111111111111111, \"#46039f\"], [0.2222222222222222, \"#7201a8\"], [0.3333333333333333, \"#9c179e\"], [0.4444444444444444, \"#bd3786\"], [0.5555555555555556, \"#d8576b\"], [0.6666666666666666, \"#ed7953\"], [0.7777777777777778, \"#fb9f3a\"], [0.8888888888888888, \"#fdca26\"], [1.0, \"#f0f921\"]], \"type\": \"histogram2dcontour\"}], \"mesh3d\": [{\"colorbar\": {\"outlinewidth\": 0, \"ticks\": \"\"}, \"type\": \"mesh3d\"}], \"parcoords\": [{\"line\": {\"colorbar\": {\"outlinewidth\": 0, \"ticks\": \"\"}}, \"type\": \"parcoords\"}], \"pie\": [{\"automargin\": true, \"type\": \"pie\"}], \"scatter\": [{\"marker\": {\"colorbar\": {\"outlinewidth\": 0, \"ticks\": \"\"}}, \"type\": \"scatter\"}], \"scatter3d\": [{\"line\": {\"colorbar\": {\"outlinewidth\": 0, \"ticks\": \"\"}}, \"marker\": {\"colorbar\": {\"outlinewidth\": 0, \"ticks\": \"\"}}, \"type\": \"scatter3d\"}], \"scattercarpet\": [{\"marker\": {\"colorbar\": {\"outlinewidth\": 0, \"ticks\": \"\"}}, \"type\": \"scattercarpet\"}], \"scattergeo\": [{\"marker\": {\"colorbar\": {\"outlinewidth\": 0, \"ticks\": \"\"}}, \"type\": \"scattergeo\"}], \"scattergl\": [{\"marker\": {\"colorbar\": {\"outlinewidth\": 0, \"ticks\": \"\"}}, \"type\": \"scattergl\"}], \"scattermapbox\": [{\"marker\": {\"colorbar\": {\"outlinewidth\": 0, \"ticks\": \"\"}}, \"type\": \"scattermapbox\"}], \"scatterpolar\": [{\"marker\": {\"colorbar\": {\"outlinewidth\": 0, \"ticks\": \"\"}}, \"type\": \"scatterpolar\"}], \"scatterpolargl\": [{\"marker\": {\"colorbar\": {\"outlinewidth\": 0, \"ticks\": \"\"}}, \"type\": \"scatterpolargl\"}], \"scatterternary\": [{\"marker\": {\"colorbar\": {\"outlinewidth\": 0, \"ticks\": \"\"}}, \"type\": \"scatterternary\"}], \"surface\": [{\"colorbar\": {\"outlinewidth\": 0, \"ticks\": \"\"}, \"colorscale\": [[0.0, \"#0d0887\"], [0.1111111111111111, \"#46039f\"], [0.2222222222222222, \"#7201a8\"], [0.3333333333333333, \"#9c179e\"], [0.4444444444444444, \"#bd3786\"], [0.5555555555555556, \"#d8576b\"], [0.6666666666666666, \"#ed7953\"], [0.7777777777777778, \"#fb9f3a\"], [0.8888888888888888, \"#fdca26\"], [1.0, \"#f0f921\"]], \"type\": \"surface\"}], \"table\": [{\"cells\": {\"fill\": {\"color\": \"#EBF0F8\"}, \"line\": {\"color\": \"white\"}}, \"header\": {\"fill\": {\"color\": \"#C8D4E3\"}, \"line\": {\"color\": \"white\"}}, \"type\": \"table\"}]}, \"layout\": {\"annotationdefaults\": {\"arrowcolor\": \"#2a3f5f\", \"arrowhead\": 0, \"arrowwidth\": 1}, \"autotypenumbers\": \"strict\", \"coloraxis\": {\"colorbar\": {\"outlinewidth\": 0, \"ticks\": \"\"}}, \"colorscale\": {\"diverging\": [[0, \"#8e0152\"], [0.1, \"#c51b7d\"], [0.2, \"#de77ae\"], [0.3, \"#f1b6da\"], [0.4, \"#fde0ef\"], [0.5, \"#f7f7f7\"], [0.6, \"#e6f5d0\"], [0.7, \"#b8e186\"], [0.8, \"#7fbc41\"], [0.9, \"#4d9221\"], [1, \"#276419\"]], \"sequential\": [[0.0, \"#0d0887\"], [0.1111111111111111, \"#46039f\"], [0.2222222222222222, \"#7201a8\"], [0.3333333333333333, \"#9c179e\"], [0.4444444444444444, \"#bd3786\"], [0.5555555555555556, \"#d8576b\"], [0.6666666666666666, \"#ed7953\"], [0.7777777777777778, \"#fb9f3a\"], [0.8888888888888888, \"#fdca26\"], [1.0, \"#f0f921\"]], \"sequentialminus\": [[0.0, \"#0d0887\"], [0.1111111111111111, \"#46039f\"], [0.2222222222222222, \"#7201a8\"], [0.3333333333333333, \"#9c179e\"], [0.4444444444444444, \"#bd3786\"], [0.5555555555555556, \"#d8576b\"], [0.6666666666666666, \"#ed7953\"], [0.7777777777777778, \"#fb9f3a\"], [0.8888888888888888, \"#fdca26\"], [1.0, \"#f0f921\"]]}, \"colorway\": [\"#636efa\", \"#EF553B\", \"#00cc96\", \"#ab63fa\", \"#FFA15A\", \"#19d3f3\", \"#FF6692\", \"#B6E880\", \"#FF97FF\", \"#FECB52\"], \"font\": {\"color\": \"#2a3f5f\"}, \"geo\": {\"bgcolor\": \"white\", \"lakecolor\": \"white\", \"landcolor\": \"#E5ECF6\", \"showlakes\": true, \"showland\": true, \"subunitcolor\": \"white\"}, \"hoverlabel\": {\"align\": \"left\"}, \"hovermode\": \"closest\", \"mapbox\": {\"style\": \"light\"}, \"paper_bgcolor\": \"white\", \"plot_bgcolor\": \"#E5ECF6\", \"polar\": {\"angularaxis\": {\"gridcolor\": \"white\", \"linecolor\": \"white\", \"ticks\": \"\"}, \"bgcolor\": \"#E5ECF6\", \"radialaxis\": {\"gridcolor\": \"white\", \"linecolor\": \"white\", \"ticks\": \"\"}}, \"scene\": {\"xaxis\": {\"backgroundcolor\": \"#E5ECF6\", \"gridcolor\": \"white\", \"gridwidth\": 2, \"linecolor\": \"white\", \"showbackground\": true, \"ticks\": \"\", \"zerolinecolor\": \"white\"}, \"yaxis\": {\"backgroundcolor\": \"#E5ECF6\", \"gridcolor\": \"white\", \"gridwidth\": 2, \"linecolor\": \"white\", \"showbackground\": true, \"ticks\": \"\", \"zerolinecolor\": \"white\"}, \"zaxis\": {\"backgroundcolor\": \"#E5ECF6\", \"gridcolor\": \"white\", \"gridwidth\": 2, \"linecolor\": \"white\", \"showbackground\": true, \"ticks\": \"\", \"zerolinecolor\": \"white\"}}, \"shapedefaults\": {\"line\": {\"color\": \"#2a3f5f\"}}, \"ternary\": {\"aaxis\": {\"gridcolor\": \"white\", \"linecolor\": \"white\", \"ticks\": \"\"}, \"baxis\": {\"gridcolor\": \"white\", \"linecolor\": \"white\", \"ticks\": \"\"}, \"bgcolor\": \"#E5ECF6\", \"caxis\": {\"gridcolor\": \"white\", \"linecolor\": \"white\", \"ticks\": \"\"}}, \"title\": {\"x\": 0.05}, \"xaxis\": {\"automargin\": true, \"gridcolor\": \"white\", \"linecolor\": \"white\", \"ticks\": \"\", \"title\": {\"standoff\": 15}, \"zerolinecolor\": \"white\", \"zerolinewidth\": 2}, \"yaxis\": {\"automargin\": true, \"gridcolor\": \"white\", \"linecolor\": \"white\", \"ticks\": \"\", \"title\": {\"standoff\": 15}, \"zerolinecolor\": \"white\", \"zerolinewidth\": 2}}}, \"title\": {\"font\": {\"color\": \"#4D5663\"}}, \"xaxis\": {\"gridcolor\": \"#E1E5ED\", \"showgrid\": true, \"tickfont\": {\"color\": \"#4D5663\"}, \"title\": {\"font\": {\"color\": \"#4D5663\"}, \"text\": \"\"}, \"zerolinecolor\": \"#E1E5ED\"}, \"xaxis2\": {\"anchor\": \"y2\", \"gridcolor\": \"#E1E5ED\", \"showgrid\": true, \"showticklabels\": false, \"tickfont\": {\"color\": \"#4D5663\"}, \"title\": {\"font\": {\"color\": \"#4D5663\"}, \"text\": \"\"}, \"zerolinecolor\": \"#E1E5ED\"}, \"yaxis\": {\"domain\": [0.3, 1], \"gridcolor\": \"#E1E5ED\", \"showgrid\": true, \"tickfont\": {\"color\": \"#4D5663\"}, \"title\": {\"font\": {\"color\": \"#4D5663\"}, \"text\": \"\"}, \"zerolinecolor\": \"#E1E5ED\"}, \"yaxis2\": {\"domain\": [0, 0.25], \"gridcolor\": \"#E1E5ED\", \"showgrid\": true, \"tickfont\": {\"color\": \"#4D5663\"}, \"title\": {\"font\": {\"color\": \"#4D5663\"}, \"text\": \"Spread\"}, \"zerolinecolor\": \"#E1E5ED\"}},                        {\"showLink\": true, \"linkText\": \"Export to plot.ly\", \"plotlyServerURL\": \"https://plot.ly\", \"responsive\": true}                    ).then(function(){\n                            \nvar gd = document.getElementById('0f2d8b98-5b9b-4e97-8c41-d958d0c46108');\nvar x = new MutationObserver(function (mutations, observer) {{\n        var display = window.getComputedStyle(gd).display;\n        if (!display || display === 'none') {{\n            console.log([gd, 'removed!']);\n            Plotly.purge(gd);\n            observer.disconnect();\n        }}\n}});\n\n// Listen for the removal of the full notebook cells\nvar notebookContainer = gd.closest('#notebook-container');\nif (notebookContainer) {{\n    x.observe(notebookContainer, {childList: true});\n}}\n\n// Listen for the clearing of the current output cell\nvar outputEl = gd.closest('.output');\nif (outputEl) {{\n    x.observe(outputEl, {childList: true});\n}}\n\n                        })                };                });            </script>        </div>"
     },
     "metadata": {}
    }
   ],
   "source": [
    "df[['A', 'B']].iplot(kind='spread')"
   ]
  },
  {
   "cell_type": "code",
   "execution_count": 36,
   "metadata": {},
   "outputs": [
    {
     "output_type": "display_data",
     "data": {
      "application/vnd.plotly.v1+json": {
       "config": {
        "linkText": "Export to plot.ly",
        "plotlyServerURL": "https://plot.ly",
        "showLink": true
       },
       "data": [
        {
         "histfunc": "count",
         "histnorm": "",
         "marker": {
          "color": "rgba(255, 153, 51, 1.0)",
          "line": {
           "color": "#4D5663",
           "width": 1.3
          }
         },
         "name": "A",
         "nbinsx": 50,
         "opacity": 0.8,
         "orientation": "v",
         "type": "histogram",
         "x": [
          0.5465783073064772,
          -0.29266683075288924,
          0.6231870996745854,
          -0.834383727710256,
          0.07267124236383367,
          0.546609283854429,
          -1.131288781160773,
          0.9726279769132807,
          1.3036471779533993,
          0.09456737726953622,
          -1.4909951751412387,
          0.2486809006031248,
          -0.5041954963214929,
          1.090313604126461,
          0.5271065162022843,
          0.72996298455288,
          -0.5727674434124677,
          0.6981473528513243,
          0.42646244691734936,
          0.22561770627475097,
          1.3964635891379957,
          -1.028076763783862,
          -0.7918548050193706,
          0.6424988861128034,
          0.07700092744047617,
          0.2639476843988694,
          -1.3939121056913943,
          0.8022040203343273,
          -0.46413394434136784,
          0.2220320510302532,
          0.935281027468148,
          -0.7800155400860896,
          -0.416128340694564,
          1.3185965143422556,
          -0.9440127360391387,
          -0.6366557329525351,
          0.44540615728871885,
          -2.2642998115862225,
          -0.2850565034199015,
          1.0506044703218136,
          0.8378528542175177,
          -0.12868954137371466,
          -0.33798990823686026,
          0.1679192582551076,
          -0.9308238698161303,
          0.07517507846869902,
          0.5529139051581751,
          -0.6550066638750623,
          1.6622073144790908,
          -0.9563738629799234,
          -0.9039901786142885,
          -0.9224207152656744,
          0.7853020720624344,
          -0.9078645469319825,
          -1.0065774903612925,
          -0.6513350487302739,
          0.607897606343382,
          -0.7121619992871777,
          -1.0062801835740622,
          0.4151934066896479,
          0.42890807858108176,
          -1.4465094346493927,
          1.7219331417962913,
          -1.5053103553567573,
          -1.5460676762516719,
          -1.334470385973534,
          1.3820705239206281,
          1.149948100182805,
          0.48581062454288443,
          -2.9220312235168104,
          0.9688469690572168,
          0.4005785671067927,
          -1.7729643682929506,
          -2.254444960561575,
          2.8558789888409377,
          0.11684368509114042,
          -0.5921664352451752,
          -0.7669775175253448,
          0.3944947793185067,
          0.17970836550271987,
          0.7320087898796422,
          -0.3718994683294069,
          0.6490335347378919,
          1.61451773742073,
          2.2200311879880092,
          0.2652884204844432,
          -1.138292642211443,
          -1.0916461301727252,
          -0.6552002466498384,
          -0.17573927465249542,
          0.19807054658965803,
          -0.3135938770961247,
          0.9100592564889136,
          1.389689501439636,
          0.4571725986883691,
          -1.147513235584393,
          -0.2641384924636912,
          -2.4750908872422532,
          -0.3052555238066782,
          0.5126311294281619
         ]
        }
       ],
       "layout": {
        "barmode": "overlay",
        "legend": {
         "bgcolor": "#F5F6F9",
         "font": {
          "color": "#4D5663"
         }
        },
        "paper_bgcolor": "#F5F6F9",
        "plot_bgcolor": "#F5F6F9",
        "template": {
         "data": {
          "bar": [
           {
            "error_x": {
             "color": "#2a3f5f"
            },
            "error_y": {
             "color": "#2a3f5f"
            },
            "marker": {
             "line": {
              "color": "#E5ECF6",
              "width": 0.5
             }
            },
            "type": "bar"
           }
          ],
          "barpolar": [
           {
            "marker": {
             "line": {
              "color": "#E5ECF6",
              "width": 0.5
             }
            },
            "type": "barpolar"
           }
          ],
          "carpet": [
           {
            "aaxis": {
             "endlinecolor": "#2a3f5f",
             "gridcolor": "white",
             "linecolor": "white",
             "minorgridcolor": "white",
             "startlinecolor": "#2a3f5f"
            },
            "baxis": {
             "endlinecolor": "#2a3f5f",
             "gridcolor": "white",
             "linecolor": "white",
             "minorgridcolor": "white",
             "startlinecolor": "#2a3f5f"
            },
            "type": "carpet"
           }
          ],
          "choropleth": [
           {
            "colorbar": {
             "outlinewidth": 0,
             "ticks": ""
            },
            "type": "choropleth"
           }
          ],
          "contour": [
           {
            "colorbar": {
             "outlinewidth": 0,
             "ticks": ""
            },
            "colorscale": [
             [
              0,
              "#0d0887"
             ],
             [
              0.1111111111111111,
              "#46039f"
             ],
             [
              0.2222222222222222,
              "#7201a8"
             ],
             [
              0.3333333333333333,
              "#9c179e"
             ],
             [
              0.4444444444444444,
              "#bd3786"
             ],
             [
              0.5555555555555556,
              "#d8576b"
             ],
             [
              0.6666666666666666,
              "#ed7953"
             ],
             [
              0.7777777777777778,
              "#fb9f3a"
             ],
             [
              0.8888888888888888,
              "#fdca26"
             ],
             [
              1,
              "#f0f921"
             ]
            ],
            "type": "contour"
           }
          ],
          "contourcarpet": [
           {
            "colorbar": {
             "outlinewidth": 0,
             "ticks": ""
            },
            "type": "contourcarpet"
           }
          ],
          "heatmap": [
           {
            "colorbar": {
             "outlinewidth": 0,
             "ticks": ""
            },
            "colorscale": [
             [
              0,
              "#0d0887"
             ],
             [
              0.1111111111111111,
              "#46039f"
             ],
             [
              0.2222222222222222,
              "#7201a8"
             ],
             [
              0.3333333333333333,
              "#9c179e"
             ],
             [
              0.4444444444444444,
              "#bd3786"
             ],
             [
              0.5555555555555556,
              "#d8576b"
             ],
             [
              0.6666666666666666,
              "#ed7953"
             ],
             [
              0.7777777777777778,
              "#fb9f3a"
             ],
             [
              0.8888888888888888,
              "#fdca26"
             ],
             [
              1,
              "#f0f921"
             ]
            ],
            "type": "heatmap"
           }
          ],
          "heatmapgl": [
           {
            "colorbar": {
             "outlinewidth": 0,
             "ticks": ""
            },
            "colorscale": [
             [
              0,
              "#0d0887"
             ],
             [
              0.1111111111111111,
              "#46039f"
             ],
             [
              0.2222222222222222,
              "#7201a8"
             ],
             [
              0.3333333333333333,
              "#9c179e"
             ],
             [
              0.4444444444444444,
              "#bd3786"
             ],
             [
              0.5555555555555556,
              "#d8576b"
             ],
             [
              0.6666666666666666,
              "#ed7953"
             ],
             [
              0.7777777777777778,
              "#fb9f3a"
             ],
             [
              0.8888888888888888,
              "#fdca26"
             ],
             [
              1,
              "#f0f921"
             ]
            ],
            "type": "heatmapgl"
           }
          ],
          "histogram": [
           {
            "marker": {
             "colorbar": {
              "outlinewidth": 0,
              "ticks": ""
             }
            },
            "type": "histogram"
           }
          ],
          "histogram2d": [
           {
            "colorbar": {
             "outlinewidth": 0,
             "ticks": ""
            },
            "colorscale": [
             [
              0,
              "#0d0887"
             ],
             [
              0.1111111111111111,
              "#46039f"
             ],
             [
              0.2222222222222222,
              "#7201a8"
             ],
             [
              0.3333333333333333,
              "#9c179e"
             ],
             [
              0.4444444444444444,
              "#bd3786"
             ],
             [
              0.5555555555555556,
              "#d8576b"
             ],
             [
              0.6666666666666666,
              "#ed7953"
             ],
             [
              0.7777777777777778,
              "#fb9f3a"
             ],
             [
              0.8888888888888888,
              "#fdca26"
             ],
             [
              1,
              "#f0f921"
             ]
            ],
            "type": "histogram2d"
           }
          ],
          "histogram2dcontour": [
           {
            "colorbar": {
             "outlinewidth": 0,
             "ticks": ""
            },
            "colorscale": [
             [
              0,
              "#0d0887"
             ],
             [
              0.1111111111111111,
              "#46039f"
             ],
             [
              0.2222222222222222,
              "#7201a8"
             ],
             [
              0.3333333333333333,
              "#9c179e"
             ],
             [
              0.4444444444444444,
              "#bd3786"
             ],
             [
              0.5555555555555556,
              "#d8576b"
             ],
             [
              0.6666666666666666,
              "#ed7953"
             ],
             [
              0.7777777777777778,
              "#fb9f3a"
             ],
             [
              0.8888888888888888,
              "#fdca26"
             ],
             [
              1,
              "#f0f921"
             ]
            ],
            "type": "histogram2dcontour"
           }
          ],
          "mesh3d": [
           {
            "colorbar": {
             "outlinewidth": 0,
             "ticks": ""
            },
            "type": "mesh3d"
           }
          ],
          "parcoords": [
           {
            "line": {
             "colorbar": {
              "outlinewidth": 0,
              "ticks": ""
             }
            },
            "type": "parcoords"
           }
          ],
          "pie": [
           {
            "automargin": true,
            "type": "pie"
           }
          ],
          "scatter": [
           {
            "marker": {
             "colorbar": {
              "outlinewidth": 0,
              "ticks": ""
             }
            },
            "type": "scatter"
           }
          ],
          "scatter3d": [
           {
            "line": {
             "colorbar": {
              "outlinewidth": 0,
              "ticks": ""
             }
            },
            "marker": {
             "colorbar": {
              "outlinewidth": 0,
              "ticks": ""
             }
            },
            "type": "scatter3d"
           }
          ],
          "scattercarpet": [
           {
            "marker": {
             "colorbar": {
              "outlinewidth": 0,
              "ticks": ""
             }
            },
            "type": "scattercarpet"
           }
          ],
          "scattergeo": [
           {
            "marker": {
             "colorbar": {
              "outlinewidth": 0,
              "ticks": ""
             }
            },
            "type": "scattergeo"
           }
          ],
          "scattergl": [
           {
            "marker": {
             "colorbar": {
              "outlinewidth": 0,
              "ticks": ""
             }
            },
            "type": "scattergl"
           }
          ],
          "scattermapbox": [
           {
            "marker": {
             "colorbar": {
              "outlinewidth": 0,
              "ticks": ""
             }
            },
            "type": "scattermapbox"
           }
          ],
          "scatterpolar": [
           {
            "marker": {
             "colorbar": {
              "outlinewidth": 0,
              "ticks": ""
             }
            },
            "type": "scatterpolar"
           }
          ],
          "scatterpolargl": [
           {
            "marker": {
             "colorbar": {
              "outlinewidth": 0,
              "ticks": ""
             }
            },
            "type": "scatterpolargl"
           }
          ],
          "scatterternary": [
           {
            "marker": {
             "colorbar": {
              "outlinewidth": 0,
              "ticks": ""
             }
            },
            "type": "scatterternary"
           }
          ],
          "surface": [
           {
            "colorbar": {
             "outlinewidth": 0,
             "ticks": ""
            },
            "colorscale": [
             [
              0,
              "#0d0887"
             ],
             [
              0.1111111111111111,
              "#46039f"
             ],
             [
              0.2222222222222222,
              "#7201a8"
             ],
             [
              0.3333333333333333,
              "#9c179e"
             ],
             [
              0.4444444444444444,
              "#bd3786"
             ],
             [
              0.5555555555555556,
              "#d8576b"
             ],
             [
              0.6666666666666666,
              "#ed7953"
             ],
             [
              0.7777777777777778,
              "#fb9f3a"
             ],
             [
              0.8888888888888888,
              "#fdca26"
             ],
             [
              1,
              "#f0f921"
             ]
            ],
            "type": "surface"
           }
          ],
          "table": [
           {
            "cells": {
             "fill": {
              "color": "#EBF0F8"
             },
             "line": {
              "color": "white"
             }
            },
            "header": {
             "fill": {
              "color": "#C8D4E3"
             },
             "line": {
              "color": "white"
             }
            },
            "type": "table"
           }
          ]
         },
         "layout": {
          "annotationdefaults": {
           "arrowcolor": "#2a3f5f",
           "arrowhead": 0,
           "arrowwidth": 1
          },
          "autotypenumbers": "strict",
          "coloraxis": {
           "colorbar": {
            "outlinewidth": 0,
            "ticks": ""
           }
          },
          "colorscale": {
           "diverging": [
            [
             0,
             "#8e0152"
            ],
            [
             0.1,
             "#c51b7d"
            ],
            [
             0.2,
             "#de77ae"
            ],
            [
             0.3,
             "#f1b6da"
            ],
            [
             0.4,
             "#fde0ef"
            ],
            [
             0.5,
             "#f7f7f7"
            ],
            [
             0.6,
             "#e6f5d0"
            ],
            [
             0.7,
             "#b8e186"
            ],
            [
             0.8,
             "#7fbc41"
            ],
            [
             0.9,
             "#4d9221"
            ],
            [
             1,
             "#276419"
            ]
           ],
           "sequential": [
            [
             0,
             "#0d0887"
            ],
            [
             0.1111111111111111,
             "#46039f"
            ],
            [
             0.2222222222222222,
             "#7201a8"
            ],
            [
             0.3333333333333333,
             "#9c179e"
            ],
            [
             0.4444444444444444,
             "#bd3786"
            ],
            [
             0.5555555555555556,
             "#d8576b"
            ],
            [
             0.6666666666666666,
             "#ed7953"
            ],
            [
             0.7777777777777778,
             "#fb9f3a"
            ],
            [
             0.8888888888888888,
             "#fdca26"
            ],
            [
             1,
             "#f0f921"
            ]
           ],
           "sequentialminus": [
            [
             0,
             "#0d0887"
            ],
            [
             0.1111111111111111,
             "#46039f"
            ],
            [
             0.2222222222222222,
             "#7201a8"
            ],
            [
             0.3333333333333333,
             "#9c179e"
            ],
            [
             0.4444444444444444,
             "#bd3786"
            ],
            [
             0.5555555555555556,
             "#d8576b"
            ],
            [
             0.6666666666666666,
             "#ed7953"
            ],
            [
             0.7777777777777778,
             "#fb9f3a"
            ],
            [
             0.8888888888888888,
             "#fdca26"
            ],
            [
             1,
             "#f0f921"
            ]
           ]
          },
          "colorway": [
           "#636efa",
           "#EF553B",
           "#00cc96",
           "#ab63fa",
           "#FFA15A",
           "#19d3f3",
           "#FF6692",
           "#B6E880",
           "#FF97FF",
           "#FECB52"
          ],
          "font": {
           "color": "#2a3f5f"
          },
          "geo": {
           "bgcolor": "white",
           "lakecolor": "white",
           "landcolor": "#E5ECF6",
           "showlakes": true,
           "showland": true,
           "subunitcolor": "white"
          },
          "hoverlabel": {
           "align": "left"
          },
          "hovermode": "closest",
          "mapbox": {
           "style": "light"
          },
          "paper_bgcolor": "white",
          "plot_bgcolor": "#E5ECF6",
          "polar": {
           "angularaxis": {
            "gridcolor": "white",
            "linecolor": "white",
            "ticks": ""
           },
           "bgcolor": "#E5ECF6",
           "radialaxis": {
            "gridcolor": "white",
            "linecolor": "white",
            "ticks": ""
           }
          },
          "scene": {
           "xaxis": {
            "backgroundcolor": "#E5ECF6",
            "gridcolor": "white",
            "gridwidth": 2,
            "linecolor": "white",
            "showbackground": true,
            "ticks": "",
            "zerolinecolor": "white"
           },
           "yaxis": {
            "backgroundcolor": "#E5ECF6",
            "gridcolor": "white",
            "gridwidth": 2,
            "linecolor": "white",
            "showbackground": true,
            "ticks": "",
            "zerolinecolor": "white"
           },
           "zaxis": {
            "backgroundcolor": "#E5ECF6",
            "gridcolor": "white",
            "gridwidth": 2,
            "linecolor": "white",
            "showbackground": true,
            "ticks": "",
            "zerolinecolor": "white"
           }
          },
          "shapedefaults": {
           "line": {
            "color": "#2a3f5f"
           }
          },
          "ternary": {
           "aaxis": {
            "gridcolor": "white",
            "linecolor": "white",
            "ticks": ""
           },
           "baxis": {
            "gridcolor": "white",
            "linecolor": "white",
            "ticks": ""
           },
           "bgcolor": "#E5ECF6",
           "caxis": {
            "gridcolor": "white",
            "linecolor": "white",
            "ticks": ""
           }
          },
          "title": {
           "x": 0.05
          },
          "xaxis": {
           "automargin": true,
           "gridcolor": "white",
           "linecolor": "white",
           "ticks": "",
           "title": {
            "standoff": 15
           },
           "zerolinecolor": "white",
           "zerolinewidth": 2
          },
          "yaxis": {
           "automargin": true,
           "gridcolor": "white",
           "linecolor": "white",
           "ticks": "",
           "title": {
            "standoff": 15
           },
           "zerolinecolor": "white",
           "zerolinewidth": 2
          }
         }
        },
        "title": {
         "font": {
          "color": "#4D5663"
         }
        },
        "xaxis": {
         "gridcolor": "#E1E5ED",
         "showgrid": true,
         "tickfont": {
          "color": "#4D5663"
         },
         "title": {
          "font": {
           "color": "#4D5663"
          },
          "text": ""
         },
         "zerolinecolor": "#E1E5ED"
        },
        "yaxis": {
         "gridcolor": "#E1E5ED",
         "showgrid": true,
         "tickfont": {
          "color": "#4D5663"
         },
         "title": {
          "font": {
           "color": "#4D5663"
          },
          "text": ""
         },
         "zerolinecolor": "#E1E5ED"
        }
       }
      },
      "text/html": "<div>                            <div id=\"54bd3233-c096-4474-b5c4-599e2270ee7a\" class=\"plotly-graph-div\" style=\"height:525px; width:100%;\"></div>            <script type=\"text/javascript\">                require([\"plotly\"], function(Plotly) {                    window.PLOTLYENV=window.PLOTLYENV || {};\n                    window.PLOTLYENV.BASE_URL='https://plot.ly';                                    if (document.getElementById(\"54bd3233-c096-4474-b5c4-599e2270ee7a\")) {                    Plotly.newPlot(                        \"54bd3233-c096-4474-b5c4-599e2270ee7a\",                        [{\"histfunc\": \"count\", \"histnorm\": \"\", \"marker\": {\"color\": \"rgba(255, 153, 51, 1.0)\", \"line\": {\"color\": \"#4D5663\", \"width\": 1.3}}, \"name\": \"A\", \"nbinsx\": 50, \"opacity\": 0.8, \"orientation\": \"v\", \"type\": \"histogram\", \"x\": [0.5465783073064772, -0.29266683075288924, 0.6231870996745854, -0.834383727710256, 0.07267124236383367, 0.546609283854429, -1.131288781160773, 0.9726279769132807, 1.3036471779533993, 0.09456737726953622, -1.4909951751412387, 0.2486809006031248, -0.5041954963214929, 1.090313604126461, 0.5271065162022843, 0.72996298455288, -0.5727674434124677, 0.6981473528513243, 0.42646244691734936, 0.22561770627475097, 1.3964635891379957, -1.028076763783862, -0.7918548050193706, 0.6424988861128034, 0.07700092744047617, 0.2639476843988694, -1.3939121056913943, 0.8022040203343273, -0.46413394434136784, 0.2220320510302532, 0.935281027468148, -0.7800155400860896, -0.416128340694564, 1.3185965143422556, -0.9440127360391387, -0.6366557329525351, 0.44540615728871885, -2.2642998115862225, -0.2850565034199015, 1.0506044703218136, 0.8378528542175177, -0.12868954137371466, -0.33798990823686026, 0.1679192582551076, -0.9308238698161303, 0.07517507846869902, 0.5529139051581751, -0.6550066638750623, 1.6622073144790908, -0.9563738629799234, -0.9039901786142885, -0.9224207152656744, 0.7853020720624344, -0.9078645469319825, -1.0065774903612925, -0.6513350487302739, 0.607897606343382, -0.7121619992871777, -1.0062801835740622, 0.4151934066896479, 0.42890807858108176, -1.4465094346493927, 1.7219331417962913, -1.5053103553567573, -1.5460676762516719, -1.334470385973534, 1.3820705239206281, 1.149948100182805, 0.48581062454288443, -2.9220312235168104, 0.9688469690572168, 0.4005785671067927, -1.7729643682929506, -2.254444960561575, 2.8558789888409377, 0.11684368509114042, -0.5921664352451752, -0.7669775175253448, 0.3944947793185067, 0.17970836550271987, 0.7320087898796422, -0.3718994683294069, 0.6490335347378919, 1.61451773742073, 2.2200311879880092, 0.2652884204844432, -1.138292642211443, -1.0916461301727252, -0.6552002466498384, -0.17573927465249542, 0.19807054658965803, -0.3135938770961247, 0.9100592564889136, 1.389689501439636, 0.4571725986883691, -1.147513235584393, -0.2641384924636912, -2.4750908872422532, -0.3052555238066782, 0.5126311294281619]}],                        {\"barmode\": \"overlay\", \"legend\": {\"bgcolor\": \"#F5F6F9\", \"font\": {\"color\": \"#4D5663\"}}, \"paper_bgcolor\": \"#F5F6F9\", \"plot_bgcolor\": \"#F5F6F9\", \"template\": {\"data\": {\"bar\": [{\"error_x\": {\"color\": \"#2a3f5f\"}, \"error_y\": {\"color\": \"#2a3f5f\"}, \"marker\": {\"line\": {\"color\": \"#E5ECF6\", \"width\": 0.5}}, \"type\": \"bar\"}], \"barpolar\": [{\"marker\": {\"line\": {\"color\": \"#E5ECF6\", \"width\": 0.5}}, \"type\": \"barpolar\"}], \"carpet\": [{\"aaxis\": {\"endlinecolor\": \"#2a3f5f\", \"gridcolor\": \"white\", \"linecolor\": \"white\", \"minorgridcolor\": \"white\", \"startlinecolor\": \"#2a3f5f\"}, \"baxis\": {\"endlinecolor\": \"#2a3f5f\", \"gridcolor\": \"white\", \"linecolor\": \"white\", \"minorgridcolor\": \"white\", \"startlinecolor\": \"#2a3f5f\"}, \"type\": \"carpet\"}], \"choropleth\": [{\"colorbar\": {\"outlinewidth\": 0, \"ticks\": \"\"}, \"type\": \"choropleth\"}], \"contour\": [{\"colorbar\": {\"outlinewidth\": 0, \"ticks\": \"\"}, \"colorscale\": [[0.0, \"#0d0887\"], [0.1111111111111111, \"#46039f\"], [0.2222222222222222, \"#7201a8\"], [0.3333333333333333, \"#9c179e\"], [0.4444444444444444, \"#bd3786\"], [0.5555555555555556, \"#d8576b\"], [0.6666666666666666, \"#ed7953\"], [0.7777777777777778, \"#fb9f3a\"], [0.8888888888888888, \"#fdca26\"], [1.0, \"#f0f921\"]], \"type\": \"contour\"}], \"contourcarpet\": [{\"colorbar\": {\"outlinewidth\": 0, \"ticks\": \"\"}, \"type\": \"contourcarpet\"}], \"heatmap\": [{\"colorbar\": {\"outlinewidth\": 0, \"ticks\": \"\"}, \"colorscale\": [[0.0, \"#0d0887\"], [0.1111111111111111, \"#46039f\"], [0.2222222222222222, \"#7201a8\"], [0.3333333333333333, \"#9c179e\"], [0.4444444444444444, \"#bd3786\"], [0.5555555555555556, \"#d8576b\"], [0.6666666666666666, \"#ed7953\"], [0.7777777777777778, \"#fb9f3a\"], [0.8888888888888888, \"#fdca26\"], [1.0, \"#f0f921\"]], \"type\": \"heatmap\"}], \"heatmapgl\": [{\"colorbar\": {\"outlinewidth\": 0, \"ticks\": \"\"}, \"colorscale\": [[0.0, \"#0d0887\"], [0.1111111111111111, \"#46039f\"], [0.2222222222222222, \"#7201a8\"], [0.3333333333333333, \"#9c179e\"], [0.4444444444444444, \"#bd3786\"], [0.5555555555555556, \"#d8576b\"], [0.6666666666666666, \"#ed7953\"], [0.7777777777777778, \"#fb9f3a\"], [0.8888888888888888, \"#fdca26\"], [1.0, \"#f0f921\"]], \"type\": \"heatmapgl\"}], \"histogram\": [{\"marker\": {\"colorbar\": {\"outlinewidth\": 0, \"ticks\": \"\"}}, \"type\": \"histogram\"}], \"histogram2d\": [{\"colorbar\": {\"outlinewidth\": 0, \"ticks\": \"\"}, \"colorscale\": [[0.0, \"#0d0887\"], [0.1111111111111111, \"#46039f\"], [0.2222222222222222, \"#7201a8\"], [0.3333333333333333, \"#9c179e\"], [0.4444444444444444, \"#bd3786\"], [0.5555555555555556, \"#d8576b\"], [0.6666666666666666, \"#ed7953\"], [0.7777777777777778, \"#fb9f3a\"], [0.8888888888888888, \"#fdca26\"], [1.0, \"#f0f921\"]], \"type\": \"histogram2d\"}], \"histogram2dcontour\": [{\"colorbar\": {\"outlinewidth\": 0, \"ticks\": \"\"}, \"colorscale\": [[0.0, \"#0d0887\"], [0.1111111111111111, \"#46039f\"], [0.2222222222222222, \"#7201a8\"], [0.3333333333333333, \"#9c179e\"], [0.4444444444444444, \"#bd3786\"], [0.5555555555555556, \"#d8576b\"], [0.6666666666666666, \"#ed7953\"], [0.7777777777777778, \"#fb9f3a\"], [0.8888888888888888, \"#fdca26\"], [1.0, \"#f0f921\"]], \"type\": \"histogram2dcontour\"}], \"mesh3d\": [{\"colorbar\": {\"outlinewidth\": 0, \"ticks\": \"\"}, \"type\": \"mesh3d\"}], \"parcoords\": [{\"line\": {\"colorbar\": {\"outlinewidth\": 0, \"ticks\": \"\"}}, \"type\": \"parcoords\"}], \"pie\": [{\"automargin\": true, \"type\": \"pie\"}], \"scatter\": [{\"marker\": {\"colorbar\": {\"outlinewidth\": 0, \"ticks\": \"\"}}, \"type\": \"scatter\"}], \"scatter3d\": [{\"line\": {\"colorbar\": {\"outlinewidth\": 0, \"ticks\": \"\"}}, \"marker\": {\"colorbar\": {\"outlinewidth\": 0, \"ticks\": \"\"}}, \"type\": \"scatter3d\"}], \"scattercarpet\": [{\"marker\": {\"colorbar\": {\"outlinewidth\": 0, \"ticks\": \"\"}}, \"type\": \"scattercarpet\"}], \"scattergeo\": [{\"marker\": {\"colorbar\": {\"outlinewidth\": 0, \"ticks\": \"\"}}, \"type\": \"scattergeo\"}], \"scattergl\": [{\"marker\": {\"colorbar\": {\"outlinewidth\": 0, \"ticks\": \"\"}}, \"type\": \"scattergl\"}], \"scattermapbox\": [{\"marker\": {\"colorbar\": {\"outlinewidth\": 0, \"ticks\": \"\"}}, \"type\": \"scattermapbox\"}], \"scatterpolar\": [{\"marker\": {\"colorbar\": {\"outlinewidth\": 0, \"ticks\": \"\"}}, \"type\": \"scatterpolar\"}], \"scatterpolargl\": [{\"marker\": {\"colorbar\": {\"outlinewidth\": 0, \"ticks\": \"\"}}, \"type\": \"scatterpolargl\"}], \"scatterternary\": [{\"marker\": {\"colorbar\": {\"outlinewidth\": 0, \"ticks\": \"\"}}, \"type\": \"scatterternary\"}], \"surface\": [{\"colorbar\": {\"outlinewidth\": 0, \"ticks\": \"\"}, \"colorscale\": [[0.0, \"#0d0887\"], [0.1111111111111111, \"#46039f\"], [0.2222222222222222, \"#7201a8\"], [0.3333333333333333, \"#9c179e\"], [0.4444444444444444, \"#bd3786\"], [0.5555555555555556, \"#d8576b\"], [0.6666666666666666, \"#ed7953\"], [0.7777777777777778, \"#fb9f3a\"], [0.8888888888888888, \"#fdca26\"], [1.0, \"#f0f921\"]], \"type\": \"surface\"}], \"table\": [{\"cells\": {\"fill\": {\"color\": \"#EBF0F8\"}, \"line\": {\"color\": \"white\"}}, \"header\": {\"fill\": {\"color\": \"#C8D4E3\"}, \"line\": {\"color\": \"white\"}}, \"type\": \"table\"}]}, \"layout\": {\"annotationdefaults\": {\"arrowcolor\": \"#2a3f5f\", \"arrowhead\": 0, \"arrowwidth\": 1}, \"autotypenumbers\": \"strict\", \"coloraxis\": {\"colorbar\": {\"outlinewidth\": 0, \"ticks\": \"\"}}, \"colorscale\": {\"diverging\": [[0, \"#8e0152\"], [0.1, \"#c51b7d\"], [0.2, \"#de77ae\"], [0.3, \"#f1b6da\"], [0.4, \"#fde0ef\"], [0.5, \"#f7f7f7\"], [0.6, \"#e6f5d0\"], [0.7, \"#b8e186\"], [0.8, \"#7fbc41\"], [0.9, \"#4d9221\"], [1, \"#276419\"]], \"sequential\": [[0.0, \"#0d0887\"], [0.1111111111111111, \"#46039f\"], [0.2222222222222222, \"#7201a8\"], [0.3333333333333333, \"#9c179e\"], [0.4444444444444444, \"#bd3786\"], [0.5555555555555556, \"#d8576b\"], [0.6666666666666666, \"#ed7953\"], [0.7777777777777778, \"#fb9f3a\"], [0.8888888888888888, \"#fdca26\"], [1.0, \"#f0f921\"]], \"sequentialminus\": [[0.0, \"#0d0887\"], [0.1111111111111111, \"#46039f\"], [0.2222222222222222, \"#7201a8\"], [0.3333333333333333, \"#9c179e\"], [0.4444444444444444, \"#bd3786\"], [0.5555555555555556, \"#d8576b\"], [0.6666666666666666, \"#ed7953\"], [0.7777777777777778, \"#fb9f3a\"], [0.8888888888888888, \"#fdca26\"], [1.0, \"#f0f921\"]]}, \"colorway\": [\"#636efa\", \"#EF553B\", \"#00cc96\", \"#ab63fa\", \"#FFA15A\", \"#19d3f3\", \"#FF6692\", \"#B6E880\", \"#FF97FF\", \"#FECB52\"], \"font\": {\"color\": \"#2a3f5f\"}, \"geo\": {\"bgcolor\": \"white\", \"lakecolor\": \"white\", \"landcolor\": \"#E5ECF6\", \"showlakes\": true, \"showland\": true, \"subunitcolor\": \"white\"}, \"hoverlabel\": {\"align\": \"left\"}, \"hovermode\": \"closest\", \"mapbox\": {\"style\": \"light\"}, \"paper_bgcolor\": \"white\", \"plot_bgcolor\": \"#E5ECF6\", \"polar\": {\"angularaxis\": {\"gridcolor\": \"white\", \"linecolor\": \"white\", \"ticks\": \"\"}, \"bgcolor\": \"#E5ECF6\", \"radialaxis\": {\"gridcolor\": \"white\", \"linecolor\": \"white\", \"ticks\": \"\"}}, \"scene\": {\"xaxis\": {\"backgroundcolor\": \"#E5ECF6\", \"gridcolor\": \"white\", \"gridwidth\": 2, \"linecolor\": \"white\", \"showbackground\": true, \"ticks\": \"\", \"zerolinecolor\": \"white\"}, \"yaxis\": {\"backgroundcolor\": \"#E5ECF6\", \"gridcolor\": \"white\", \"gridwidth\": 2, \"linecolor\": \"white\", \"showbackground\": true, \"ticks\": \"\", \"zerolinecolor\": \"white\"}, \"zaxis\": {\"backgroundcolor\": \"#E5ECF6\", \"gridcolor\": \"white\", \"gridwidth\": 2, \"linecolor\": \"white\", \"showbackground\": true, \"ticks\": \"\", \"zerolinecolor\": \"white\"}}, \"shapedefaults\": {\"line\": {\"color\": \"#2a3f5f\"}}, \"ternary\": {\"aaxis\": {\"gridcolor\": \"white\", \"linecolor\": \"white\", \"ticks\": \"\"}, \"baxis\": {\"gridcolor\": \"white\", \"linecolor\": \"white\", \"ticks\": \"\"}, \"bgcolor\": \"#E5ECF6\", \"caxis\": {\"gridcolor\": \"white\", \"linecolor\": \"white\", \"ticks\": \"\"}}, \"title\": {\"x\": 0.05}, \"xaxis\": {\"automargin\": true, \"gridcolor\": \"white\", \"linecolor\": \"white\", \"ticks\": \"\", \"title\": {\"standoff\": 15}, \"zerolinecolor\": \"white\", \"zerolinewidth\": 2}, \"yaxis\": {\"automargin\": true, \"gridcolor\": \"white\", \"linecolor\": \"white\", \"ticks\": \"\", \"title\": {\"standoff\": 15}, \"zerolinecolor\": \"white\", \"zerolinewidth\": 2}}}, \"title\": {\"font\": {\"color\": \"#4D5663\"}}, \"xaxis\": {\"gridcolor\": \"#E1E5ED\", \"showgrid\": true, \"tickfont\": {\"color\": \"#4D5663\"}, \"title\": {\"font\": {\"color\": \"#4D5663\"}, \"text\": \"\"}, \"zerolinecolor\": \"#E1E5ED\"}, \"yaxis\": {\"gridcolor\": \"#E1E5ED\", \"showgrid\": true, \"tickfont\": {\"color\": \"#4D5663\"}, \"title\": {\"font\": {\"color\": \"#4D5663\"}, \"text\": \"\"}, \"zerolinecolor\": \"#E1E5ED\"}},                        {\"showLink\": true, \"linkText\": \"Export to plot.ly\", \"plotlyServerURL\": \"https://plot.ly\", \"responsive\": true}                    ).then(function(){\n                            \nvar gd = document.getElementById('54bd3233-c096-4474-b5c4-599e2270ee7a');\nvar x = new MutationObserver(function (mutations, observer) {{\n        var display = window.getComputedStyle(gd).display;\n        if (!display || display === 'none') {{\n            console.log([gd, 'removed!']);\n            Plotly.purge(gd);\n            observer.disconnect();\n        }}\n}});\n\n// Listen for the removal of the full notebook cells\nvar notebookContainer = gd.closest('#notebook-container');\nif (notebookContainer) {{\n    x.observe(notebookContainer, {childList: true});\n}}\n\n// Listen for the clearing of the current output cell\nvar outputEl = gd.closest('.output');\nif (outputEl) {{\n    x.observe(outputEl, {childList: true});\n}}\n\n                        })                };                });            </script>        </div>"
     },
     "metadata": {}
    }
   ],
   "source": [
    "df['A'].iplot(kind='hist', bins=50)"
   ]
  },
  {
   "cell_type": "code",
   "execution_count": 41,
   "metadata": {},
   "outputs": [
    {
     "output_type": "display_data",
     "data": {
      "application/vnd.plotly.v1+json": {
       "config": {
        "linkText": "Export to plot.ly",
        "plotlyServerURL": "https://plot.ly",
        "showLink": true
       },
       "data": [
        {
         "marker": {
          "color": [
           "rgb(255,245,235)",
           "rgb(254,230,206)",
           "rgb(253,208,162)",
           "rgb(253,174,107)",
           "rgb(253,141,60)",
           "rgb(241,105,19)",
           "rgb(217,72,1)",
           "rgb(166,54,3)",
           "rgb(127,39,4)"
          ],
          "line": {
           "width": 1.3
          },
          "size": [
           36,
           51,
           70,
           46,
           84,
           112,
           46,
           68,
           49,
           69,
           60,
           51,
           90,
           54,
           84,
           49,
           32,
           65,
           63,
           87,
           40,
           83,
           74,
           62,
           55,
           47,
           61,
           86,
           83,
           28,
           65,
           59,
           72,
           69,
           82,
           62,
           71,
           85,
           38,
           95,
           71,
           86,
           54,
           85,
           74,
           54,
           42,
           82,
           98,
           53,
           64,
           77,
           51,
           88,
           91,
           92,
           83,
           49,
           66,
           30,
           56,
           86,
           70,
           48,
           69,
           59,
           79,
           51,
           73,
           90,
           97,
           82,
           85,
           40,
           31,
           89,
           45,
           56,
           94,
           95,
           70,
           72,
           66,
           66,
           77,
           47,
           58,
           81,
           63,
           100,
           48,
           78,
           73,
           12,
           67,
           61,
           48,
           60,
           36,
           59
          ],
          "symbol": "circle"
         },
         "mode": "markers",
         "text": "",
         "type": "scatter",
         "x": [
          0.5465783073064772,
          -0.29266683075288924,
          0.6231870996745854,
          -0.834383727710256,
          0.07267124236383367,
          0.546609283854429,
          -1.131288781160773,
          0.9726279769132807,
          1.3036471779533993,
          0.09456737726953622,
          -1.4909951751412387,
          0.2486809006031248,
          -0.5041954963214929,
          1.090313604126461,
          0.5271065162022843,
          0.72996298455288,
          -0.5727674434124677,
          0.6981473528513243,
          0.42646244691734936,
          0.22561770627475097,
          1.3964635891379957,
          -1.028076763783862,
          -0.7918548050193706,
          0.6424988861128034,
          0.07700092744047617,
          0.2639476843988694,
          -1.3939121056913943,
          0.8022040203343273,
          -0.46413394434136784,
          0.2220320510302532,
          0.935281027468148,
          -0.7800155400860896,
          -0.416128340694564,
          1.3185965143422556,
          -0.9440127360391387,
          -0.6366557329525351,
          0.44540615728871885,
          -2.2642998115862225,
          -0.2850565034199015,
          1.0506044703218136,
          0.8378528542175177,
          -0.12868954137371466,
          -0.33798990823686026,
          0.1679192582551076,
          -0.9308238698161303,
          0.07517507846869902,
          0.5529139051581751,
          -0.6550066638750623,
          1.6622073144790908,
          -0.9563738629799234,
          -0.9039901786142885,
          -0.9224207152656744,
          0.7853020720624344,
          -0.9078645469319825,
          -1.0065774903612925,
          -0.6513350487302739,
          0.607897606343382,
          -0.7121619992871777,
          -1.0062801835740622,
          0.4151934066896479,
          0.42890807858108176,
          -1.4465094346493927,
          1.7219331417962913,
          -1.5053103553567573,
          -1.5460676762516719,
          -1.334470385973534,
          1.3820705239206281,
          1.149948100182805,
          0.48581062454288443,
          -2.9220312235168104,
          0.9688469690572168,
          0.4005785671067927,
          -1.7729643682929506,
          -2.254444960561575,
          2.8558789888409377,
          0.11684368509114042,
          -0.5921664352451752,
          -0.7669775175253448,
          0.3944947793185067,
          0.17970836550271987,
          0.7320087898796422,
          -0.3718994683294069,
          0.6490335347378919,
          1.61451773742073,
          2.2200311879880092,
          0.2652884204844432,
          -1.138292642211443,
          -1.0916461301727252,
          -0.6552002466498384,
          -0.17573927465249542,
          0.19807054658965803,
          -0.3135938770961247,
          0.9100592564889136,
          1.389689501439636,
          0.4571725986883691,
          -1.147513235584393,
          -0.2641384924636912,
          -2.4750908872422532,
          -0.3052555238066782,
          0.5126311294281619
         ],
         "y": [
          -0.3210616890439768,
          0.014731334124076999,
          0.5366938623242867,
          -0.28347189457944116,
          0.045451557025280365,
          0.13459038631390496,
          0.7680897864672134,
          -0.5605600823698804,
          1.6570181797969776,
          0.6384146948817033,
          1.3887234430034054,
          -0.09505479464596212,
          0.3793871989929514,
          0.968138373003798,
          0.5570971336800378,
          -0.12022809907427562,
          1.225767443374642,
          -0.48103582404950523,
          0.31237187179067677,
          -1.5541642248570275,
          -0.0905732283356259,
          -0.7121648301099559,
          -0.8980559307398618,
          0.7505948170765744,
          -0.08743327787437438,
          0.7381569910231944,
          1.0578906584070804,
          0.609010499655325,
          -0.07991913941469375,
          -0.9809062194854374,
          -0.3927567552348754,
          1.1779490224473685,
          0.5861320936097942,
          -1.9586149587331063,
          -0.7503025630835873,
          2.111168813334928,
          1.1724683723332443,
          0.41124561482519084,
          -0.8073090559661715,
          -0.6001700359496503,
          0.924992852207575,
          0.564903133816479,
          -1.329485783727274,
          -0.9042900886398983,
          0.7446229259164912,
          -0.6664395834381821,
          1.790641696870415,
          -0.7000508417729924,
          -2.124025946845946,
          1.427339440341842,
          -0.023434047825694505,
          -2.184151730277451,
          -0.2743737245978753,
          0.08652959980978199,
          0.7073634897595449,
          0.5328211228340343,
          1.8902284648569976,
          0.21527531979477196,
          -1.7836858947922036,
          -0.3353688964873548,
          -1.1002301192684039,
          -0.6883952001486617,
          -1.5764860675414936,
          -0.6433657782077495,
          1.097576865535247,
          -0.023602921622034694,
          -0.029463692580862483,
          0.2358983482389432,
          0.27894641922849245,
          0.30550114510394016,
          0.8867657472418506,
          0.9319324919522,
          -0.01664626305233927,
          -0.5007055914851937,
          1.5554489026110867,
          0.3985089102148669,
          -1.7988728013549453,
          0.33490036387429,
          -0.3185069447544962,
          -0.10960628009446838,
          0.5677453220093496,
          -0.9445892255243346,
          -0.6654555763718258,
          1.3332815274819332,
          0.9620523328660819,
          0.0627271471645771,
          -1.5219745869359935,
          1.8456224867766633,
          0.35193461333641635,
          -0.6911844965770978,
          -1.9382109908973897,
          0.5101622352180557,
          0.04141713857864906,
          0.7348149162733385,
          0.08876588617886874,
          -0.20605819017878488,
          -0.5796140389078577,
          -0.27512891936251505,
          -1.108562305937151,
          0.83556234684711
         ]
        }
       ],
       "layout": {
        "legend": {
         "bgcolor": "#F5F6F9",
         "font": {
          "color": "#4D5663"
         }
        },
        "paper_bgcolor": "#F5F6F9",
        "plot_bgcolor": "#F5F6F9",
        "template": {
         "data": {
          "bar": [
           {
            "error_x": {
             "color": "#2a3f5f"
            },
            "error_y": {
             "color": "#2a3f5f"
            },
            "marker": {
             "line": {
              "color": "#E5ECF6",
              "width": 0.5
             }
            },
            "type": "bar"
           }
          ],
          "barpolar": [
           {
            "marker": {
             "line": {
              "color": "#E5ECF6",
              "width": 0.5
             }
            },
            "type": "barpolar"
           }
          ],
          "carpet": [
           {
            "aaxis": {
             "endlinecolor": "#2a3f5f",
             "gridcolor": "white",
             "linecolor": "white",
             "minorgridcolor": "white",
             "startlinecolor": "#2a3f5f"
            },
            "baxis": {
             "endlinecolor": "#2a3f5f",
             "gridcolor": "white",
             "linecolor": "white",
             "minorgridcolor": "white",
             "startlinecolor": "#2a3f5f"
            },
            "type": "carpet"
           }
          ],
          "choropleth": [
           {
            "colorbar": {
             "outlinewidth": 0,
             "ticks": ""
            },
            "type": "choropleth"
           }
          ],
          "contour": [
           {
            "colorbar": {
             "outlinewidth": 0,
             "ticks": ""
            },
            "colorscale": [
             [
              0,
              "#0d0887"
             ],
             [
              0.1111111111111111,
              "#46039f"
             ],
             [
              0.2222222222222222,
              "#7201a8"
             ],
             [
              0.3333333333333333,
              "#9c179e"
             ],
             [
              0.4444444444444444,
              "#bd3786"
             ],
             [
              0.5555555555555556,
              "#d8576b"
             ],
             [
              0.6666666666666666,
              "#ed7953"
             ],
             [
              0.7777777777777778,
              "#fb9f3a"
             ],
             [
              0.8888888888888888,
              "#fdca26"
             ],
             [
              1,
              "#f0f921"
             ]
            ],
            "type": "contour"
           }
          ],
          "contourcarpet": [
           {
            "colorbar": {
             "outlinewidth": 0,
             "ticks": ""
            },
            "type": "contourcarpet"
           }
          ],
          "heatmap": [
           {
            "colorbar": {
             "outlinewidth": 0,
             "ticks": ""
            },
            "colorscale": [
             [
              0,
              "#0d0887"
             ],
             [
              0.1111111111111111,
              "#46039f"
             ],
             [
              0.2222222222222222,
              "#7201a8"
             ],
             [
              0.3333333333333333,
              "#9c179e"
             ],
             [
              0.4444444444444444,
              "#bd3786"
             ],
             [
              0.5555555555555556,
              "#d8576b"
             ],
             [
              0.6666666666666666,
              "#ed7953"
             ],
             [
              0.7777777777777778,
              "#fb9f3a"
             ],
             [
              0.8888888888888888,
              "#fdca26"
             ],
             [
              1,
              "#f0f921"
             ]
            ],
            "type": "heatmap"
           }
          ],
          "heatmapgl": [
           {
            "colorbar": {
             "outlinewidth": 0,
             "ticks": ""
            },
            "colorscale": [
             [
              0,
              "#0d0887"
             ],
             [
              0.1111111111111111,
              "#46039f"
             ],
             [
              0.2222222222222222,
              "#7201a8"
             ],
             [
              0.3333333333333333,
              "#9c179e"
             ],
             [
              0.4444444444444444,
              "#bd3786"
             ],
             [
              0.5555555555555556,
              "#d8576b"
             ],
             [
              0.6666666666666666,
              "#ed7953"
             ],
             [
              0.7777777777777778,
              "#fb9f3a"
             ],
             [
              0.8888888888888888,
              "#fdca26"
             ],
             [
              1,
              "#f0f921"
             ]
            ],
            "type": "heatmapgl"
           }
          ],
          "histogram": [
           {
            "marker": {
             "colorbar": {
              "outlinewidth": 0,
              "ticks": ""
             }
            },
            "type": "histogram"
           }
          ],
          "histogram2d": [
           {
            "colorbar": {
             "outlinewidth": 0,
             "ticks": ""
            },
            "colorscale": [
             [
              0,
              "#0d0887"
             ],
             [
              0.1111111111111111,
              "#46039f"
             ],
             [
              0.2222222222222222,
              "#7201a8"
             ],
             [
              0.3333333333333333,
              "#9c179e"
             ],
             [
              0.4444444444444444,
              "#bd3786"
             ],
             [
              0.5555555555555556,
              "#d8576b"
             ],
             [
              0.6666666666666666,
              "#ed7953"
             ],
             [
              0.7777777777777778,
              "#fb9f3a"
             ],
             [
              0.8888888888888888,
              "#fdca26"
             ],
             [
              1,
              "#f0f921"
             ]
            ],
            "type": "histogram2d"
           }
          ],
          "histogram2dcontour": [
           {
            "colorbar": {
             "outlinewidth": 0,
             "ticks": ""
            },
            "colorscale": [
             [
              0,
              "#0d0887"
             ],
             [
              0.1111111111111111,
              "#46039f"
             ],
             [
              0.2222222222222222,
              "#7201a8"
             ],
             [
              0.3333333333333333,
              "#9c179e"
             ],
             [
              0.4444444444444444,
              "#bd3786"
             ],
             [
              0.5555555555555556,
              "#d8576b"
             ],
             [
              0.6666666666666666,
              "#ed7953"
             ],
             [
              0.7777777777777778,
              "#fb9f3a"
             ],
             [
              0.8888888888888888,
              "#fdca26"
             ],
             [
              1,
              "#f0f921"
             ]
            ],
            "type": "histogram2dcontour"
           }
          ],
          "mesh3d": [
           {
            "colorbar": {
             "outlinewidth": 0,
             "ticks": ""
            },
            "type": "mesh3d"
           }
          ],
          "parcoords": [
           {
            "line": {
             "colorbar": {
              "outlinewidth": 0,
              "ticks": ""
             }
            },
            "type": "parcoords"
           }
          ],
          "pie": [
           {
            "automargin": true,
            "type": "pie"
           }
          ],
          "scatter": [
           {
            "marker": {
             "colorbar": {
              "outlinewidth": 0,
              "ticks": ""
             }
            },
            "type": "scatter"
           }
          ],
          "scatter3d": [
           {
            "line": {
             "colorbar": {
              "outlinewidth": 0,
              "ticks": ""
             }
            },
            "marker": {
             "colorbar": {
              "outlinewidth": 0,
              "ticks": ""
             }
            },
            "type": "scatter3d"
           }
          ],
          "scattercarpet": [
           {
            "marker": {
             "colorbar": {
              "outlinewidth": 0,
              "ticks": ""
             }
            },
            "type": "scattercarpet"
           }
          ],
          "scattergeo": [
           {
            "marker": {
             "colorbar": {
              "outlinewidth": 0,
              "ticks": ""
             }
            },
            "type": "scattergeo"
           }
          ],
          "scattergl": [
           {
            "marker": {
             "colorbar": {
              "outlinewidth": 0,
              "ticks": ""
             }
            },
            "type": "scattergl"
           }
          ],
          "scattermapbox": [
           {
            "marker": {
             "colorbar": {
              "outlinewidth": 0,
              "ticks": ""
             }
            },
            "type": "scattermapbox"
           }
          ],
          "scatterpolar": [
           {
            "marker": {
             "colorbar": {
              "outlinewidth": 0,
              "ticks": ""
             }
            },
            "type": "scatterpolar"
           }
          ],
          "scatterpolargl": [
           {
            "marker": {
             "colorbar": {
              "outlinewidth": 0,
              "ticks": ""
             }
            },
            "type": "scatterpolargl"
           }
          ],
          "scatterternary": [
           {
            "marker": {
             "colorbar": {
              "outlinewidth": 0,
              "ticks": ""
             }
            },
            "type": "scatterternary"
           }
          ],
          "surface": [
           {
            "colorbar": {
             "outlinewidth": 0,
             "ticks": ""
            },
            "colorscale": [
             [
              0,
              "#0d0887"
             ],
             [
              0.1111111111111111,
              "#46039f"
             ],
             [
              0.2222222222222222,
              "#7201a8"
             ],
             [
              0.3333333333333333,
              "#9c179e"
             ],
             [
              0.4444444444444444,
              "#bd3786"
             ],
             [
              0.5555555555555556,
              "#d8576b"
             ],
             [
              0.6666666666666666,
              "#ed7953"
             ],
             [
              0.7777777777777778,
              "#fb9f3a"
             ],
             [
              0.8888888888888888,
              "#fdca26"
             ],
             [
              1,
              "#f0f921"
             ]
            ],
            "type": "surface"
           }
          ],
          "table": [
           {
            "cells": {
             "fill": {
              "color": "#EBF0F8"
             },
             "line": {
              "color": "white"
             }
            },
            "header": {
             "fill": {
              "color": "#C8D4E3"
             },
             "line": {
              "color": "white"
             }
            },
            "type": "table"
           }
          ]
         },
         "layout": {
          "annotationdefaults": {
           "arrowcolor": "#2a3f5f",
           "arrowhead": 0,
           "arrowwidth": 1
          },
          "autotypenumbers": "strict",
          "coloraxis": {
           "colorbar": {
            "outlinewidth": 0,
            "ticks": ""
           }
          },
          "colorscale": {
           "diverging": [
            [
             0,
             "#8e0152"
            ],
            [
             0.1,
             "#c51b7d"
            ],
            [
             0.2,
             "#de77ae"
            ],
            [
             0.3,
             "#f1b6da"
            ],
            [
             0.4,
             "#fde0ef"
            ],
            [
             0.5,
             "#f7f7f7"
            ],
            [
             0.6,
             "#e6f5d0"
            ],
            [
             0.7,
             "#b8e186"
            ],
            [
             0.8,
             "#7fbc41"
            ],
            [
             0.9,
             "#4d9221"
            ],
            [
             1,
             "#276419"
            ]
           ],
           "sequential": [
            [
             0,
             "#0d0887"
            ],
            [
             0.1111111111111111,
             "#46039f"
            ],
            [
             0.2222222222222222,
             "#7201a8"
            ],
            [
             0.3333333333333333,
             "#9c179e"
            ],
            [
             0.4444444444444444,
             "#bd3786"
            ],
            [
             0.5555555555555556,
             "#d8576b"
            ],
            [
             0.6666666666666666,
             "#ed7953"
            ],
            [
             0.7777777777777778,
             "#fb9f3a"
            ],
            [
             0.8888888888888888,
             "#fdca26"
            ],
            [
             1,
             "#f0f921"
            ]
           ],
           "sequentialminus": [
            [
             0,
             "#0d0887"
            ],
            [
             0.1111111111111111,
             "#46039f"
            ],
            [
             0.2222222222222222,
             "#7201a8"
            ],
            [
             0.3333333333333333,
             "#9c179e"
            ],
            [
             0.4444444444444444,
             "#bd3786"
            ],
            [
             0.5555555555555556,
             "#d8576b"
            ],
            [
             0.6666666666666666,
             "#ed7953"
            ],
            [
             0.7777777777777778,
             "#fb9f3a"
            ],
            [
             0.8888888888888888,
             "#fdca26"
            ],
            [
             1,
             "#f0f921"
            ]
           ]
          },
          "colorway": [
           "#636efa",
           "#EF553B",
           "#00cc96",
           "#ab63fa",
           "#FFA15A",
           "#19d3f3",
           "#FF6692",
           "#B6E880",
           "#FF97FF",
           "#FECB52"
          ],
          "font": {
           "color": "#2a3f5f"
          },
          "geo": {
           "bgcolor": "white",
           "lakecolor": "white",
           "landcolor": "#E5ECF6",
           "showlakes": true,
           "showland": true,
           "subunitcolor": "white"
          },
          "hoverlabel": {
           "align": "left"
          },
          "hovermode": "closest",
          "mapbox": {
           "style": "light"
          },
          "paper_bgcolor": "white",
          "plot_bgcolor": "#E5ECF6",
          "polar": {
           "angularaxis": {
            "gridcolor": "white",
            "linecolor": "white",
            "ticks": ""
           },
           "bgcolor": "#E5ECF6",
           "radialaxis": {
            "gridcolor": "white",
            "linecolor": "white",
            "ticks": ""
           }
          },
          "scene": {
           "xaxis": {
            "backgroundcolor": "#E5ECF6",
            "gridcolor": "white",
            "gridwidth": 2,
            "linecolor": "white",
            "showbackground": true,
            "ticks": "",
            "zerolinecolor": "white"
           },
           "yaxis": {
            "backgroundcolor": "#E5ECF6",
            "gridcolor": "white",
            "gridwidth": 2,
            "linecolor": "white",
            "showbackground": true,
            "ticks": "",
            "zerolinecolor": "white"
           },
           "zaxis": {
            "backgroundcolor": "#E5ECF6",
            "gridcolor": "white",
            "gridwidth": 2,
            "linecolor": "white",
            "showbackground": true,
            "ticks": "",
            "zerolinecolor": "white"
           }
          },
          "shapedefaults": {
           "line": {
            "color": "#2a3f5f"
           }
          },
          "ternary": {
           "aaxis": {
            "gridcolor": "white",
            "linecolor": "white",
            "ticks": ""
           },
           "baxis": {
            "gridcolor": "white",
            "linecolor": "white",
            "ticks": ""
           },
           "bgcolor": "#E5ECF6",
           "caxis": {
            "gridcolor": "white",
            "linecolor": "white",
            "ticks": ""
           }
          },
          "title": {
           "x": 0.05
          },
          "xaxis": {
           "automargin": true,
           "gridcolor": "white",
           "linecolor": "white",
           "ticks": "",
           "title": {
            "standoff": 15
           },
           "zerolinecolor": "white",
           "zerolinewidth": 2
          },
          "yaxis": {
           "automargin": true,
           "gridcolor": "white",
           "linecolor": "white",
           "ticks": "",
           "title": {
            "standoff": 15
           },
           "zerolinecolor": "white",
           "zerolinewidth": 2
          }
         }
        },
        "title": {
         "font": {
          "color": "#4D5663"
         }
        },
        "xaxis": {
         "gridcolor": "#E1E5ED",
         "showgrid": true,
         "tickfont": {
          "color": "#4D5663"
         },
         "title": {
          "font": {
           "color": "#4D5663"
          },
          "text": ""
         },
         "zerolinecolor": "#E1E5ED"
        },
        "yaxis": {
         "gridcolor": "#E1E5ED",
         "showgrid": true,
         "tickfont": {
          "color": "#4D5663"
         },
         "title": {
          "font": {
           "color": "#4D5663"
          },
          "text": ""
         },
         "zerolinecolor": "#E1E5ED"
        }
       }
      },
      "text/html": "<div>                            <div id=\"bd0bf86f-5627-4fa3-b267-80b3b88901af\" class=\"plotly-graph-div\" style=\"height:525px; width:100%;\"></div>            <script type=\"text/javascript\">                require([\"plotly\"], function(Plotly) {                    window.PLOTLYENV=window.PLOTLYENV || {};\n                    window.PLOTLYENV.BASE_URL='https://plot.ly';                                    if (document.getElementById(\"bd0bf86f-5627-4fa3-b267-80b3b88901af\")) {                    Plotly.newPlot(                        \"bd0bf86f-5627-4fa3-b267-80b3b88901af\",                        [{\"marker\": {\"color\": [\"rgb(255,245,235)\", \"rgb(254,230,206)\", \"rgb(253,208,162)\", \"rgb(253,174,107)\", \"rgb(253,141,60)\", \"rgb(241,105,19)\", \"rgb(217,72,1)\", \"rgb(166,54,3)\", \"rgb(127,39,4)\"], \"line\": {\"width\": 1.3}, \"size\": [36, 51, 70, 46, 84, 112, 46, 68, 49, 69, 60, 51, 90, 54, 84, 49, 32, 65, 63, 87, 40, 83, 74, 62, 55, 47, 61, 86, 83, 28, 65, 59, 72, 69, 82, 62, 71, 85, 38, 95, 71, 86, 54, 85, 74, 54, 42, 82, 98, 53, 64, 77, 51, 88, 91, 92, 83, 49, 66, 30, 56, 86, 70, 48, 69, 59, 79, 51, 73, 90, 97, 82, 85, 40, 31, 89, 45, 56, 94, 95, 70, 72, 66, 66, 77, 47, 58, 81, 63, 100, 48, 78, 73, 12, 67, 61, 48, 60, 36, 59], \"symbol\": \"circle\"}, \"mode\": \"markers\", \"text\": \"\", \"type\": \"scatter\", \"x\": [0.5465783073064772, -0.29266683075288924, 0.6231870996745854, -0.834383727710256, 0.07267124236383367, 0.546609283854429, -1.131288781160773, 0.9726279769132807, 1.3036471779533993, 0.09456737726953622, -1.4909951751412387, 0.2486809006031248, -0.5041954963214929, 1.090313604126461, 0.5271065162022843, 0.72996298455288, -0.5727674434124677, 0.6981473528513243, 0.42646244691734936, 0.22561770627475097, 1.3964635891379957, -1.028076763783862, -0.7918548050193706, 0.6424988861128034, 0.07700092744047617, 0.2639476843988694, -1.3939121056913943, 0.8022040203343273, -0.46413394434136784, 0.2220320510302532, 0.935281027468148, -0.7800155400860896, -0.416128340694564, 1.3185965143422556, -0.9440127360391387, -0.6366557329525351, 0.44540615728871885, -2.2642998115862225, -0.2850565034199015, 1.0506044703218136, 0.8378528542175177, -0.12868954137371466, -0.33798990823686026, 0.1679192582551076, -0.9308238698161303, 0.07517507846869902, 0.5529139051581751, -0.6550066638750623, 1.6622073144790908, -0.9563738629799234, -0.9039901786142885, -0.9224207152656744, 0.7853020720624344, -0.9078645469319825, -1.0065774903612925, -0.6513350487302739, 0.607897606343382, -0.7121619992871777, -1.0062801835740622, 0.4151934066896479, 0.42890807858108176, -1.4465094346493927, 1.7219331417962913, -1.5053103553567573, -1.5460676762516719, -1.334470385973534, 1.3820705239206281, 1.149948100182805, 0.48581062454288443, -2.9220312235168104, 0.9688469690572168, 0.4005785671067927, -1.7729643682929506, -2.254444960561575, 2.8558789888409377, 0.11684368509114042, -0.5921664352451752, -0.7669775175253448, 0.3944947793185067, 0.17970836550271987, 0.7320087898796422, -0.3718994683294069, 0.6490335347378919, 1.61451773742073, 2.2200311879880092, 0.2652884204844432, -1.138292642211443, -1.0916461301727252, -0.6552002466498384, -0.17573927465249542, 0.19807054658965803, -0.3135938770961247, 0.9100592564889136, 1.389689501439636, 0.4571725986883691, -1.147513235584393, -0.2641384924636912, -2.4750908872422532, -0.3052555238066782, 0.5126311294281619], \"y\": [-0.3210616890439768, 0.014731334124076999, 0.5366938623242867, -0.28347189457944116, 0.045451557025280365, 0.13459038631390496, 0.7680897864672134, -0.5605600823698804, 1.6570181797969776, 0.6384146948817033, 1.3887234430034054, -0.09505479464596212, 0.3793871989929514, 0.968138373003798, 0.5570971336800378, -0.12022809907427562, 1.225767443374642, -0.48103582404950523, 0.31237187179067677, -1.5541642248570275, -0.0905732283356259, -0.7121648301099559, -0.8980559307398618, 0.7505948170765744, -0.08743327787437438, 0.7381569910231944, 1.0578906584070804, 0.609010499655325, -0.07991913941469375, -0.9809062194854374, -0.3927567552348754, 1.1779490224473685, 0.5861320936097942, -1.9586149587331063, -0.7503025630835873, 2.111168813334928, 1.1724683723332443, 0.41124561482519084, -0.8073090559661715, -0.6001700359496503, 0.924992852207575, 0.564903133816479, -1.329485783727274, -0.9042900886398983, 0.7446229259164912, -0.6664395834381821, 1.790641696870415, -0.7000508417729924, -2.124025946845946, 1.427339440341842, -0.023434047825694505, -2.184151730277451, -0.2743737245978753, 0.08652959980978199, 0.7073634897595449, 0.5328211228340343, 1.8902284648569976, 0.21527531979477196, -1.7836858947922036, -0.3353688964873548, -1.1002301192684039, -0.6883952001486617, -1.5764860675414936, -0.6433657782077495, 1.097576865535247, -0.023602921622034694, -0.029463692580862483, 0.2358983482389432, 0.27894641922849245, 0.30550114510394016, 0.8867657472418506, 0.9319324919522, -0.01664626305233927, -0.5007055914851937, 1.5554489026110867, 0.3985089102148669, -1.7988728013549453, 0.33490036387429, -0.3185069447544962, -0.10960628009446838, 0.5677453220093496, -0.9445892255243346, -0.6654555763718258, 1.3332815274819332, 0.9620523328660819, 0.0627271471645771, -1.5219745869359935, 1.8456224867766633, 0.35193461333641635, -0.6911844965770978, -1.9382109908973897, 0.5101622352180557, 0.04141713857864906, 0.7348149162733385, 0.08876588617886874, -0.20605819017878488, -0.5796140389078577, -0.27512891936251505, -1.108562305937151, 0.83556234684711]}],                        {\"legend\": {\"bgcolor\": \"#F5F6F9\", \"font\": {\"color\": \"#4D5663\"}}, \"paper_bgcolor\": \"#F5F6F9\", \"plot_bgcolor\": \"#F5F6F9\", \"template\": {\"data\": {\"bar\": [{\"error_x\": {\"color\": \"#2a3f5f\"}, \"error_y\": {\"color\": \"#2a3f5f\"}, \"marker\": {\"line\": {\"color\": \"#E5ECF6\", \"width\": 0.5}}, \"type\": \"bar\"}], \"barpolar\": [{\"marker\": {\"line\": {\"color\": \"#E5ECF6\", \"width\": 0.5}}, \"type\": \"barpolar\"}], \"carpet\": [{\"aaxis\": {\"endlinecolor\": \"#2a3f5f\", \"gridcolor\": \"white\", \"linecolor\": \"white\", \"minorgridcolor\": \"white\", \"startlinecolor\": \"#2a3f5f\"}, \"baxis\": {\"endlinecolor\": \"#2a3f5f\", \"gridcolor\": \"white\", \"linecolor\": \"white\", \"minorgridcolor\": \"white\", \"startlinecolor\": \"#2a3f5f\"}, \"type\": \"carpet\"}], \"choropleth\": [{\"colorbar\": {\"outlinewidth\": 0, \"ticks\": \"\"}, \"type\": \"choropleth\"}], \"contour\": [{\"colorbar\": {\"outlinewidth\": 0, \"ticks\": \"\"}, \"colorscale\": [[0.0, \"#0d0887\"], [0.1111111111111111, \"#46039f\"], [0.2222222222222222, \"#7201a8\"], [0.3333333333333333, \"#9c179e\"], [0.4444444444444444, \"#bd3786\"], [0.5555555555555556, \"#d8576b\"], [0.6666666666666666, \"#ed7953\"], [0.7777777777777778, \"#fb9f3a\"], [0.8888888888888888, \"#fdca26\"], [1.0, \"#f0f921\"]], \"type\": \"contour\"}], \"contourcarpet\": [{\"colorbar\": {\"outlinewidth\": 0, \"ticks\": \"\"}, \"type\": \"contourcarpet\"}], \"heatmap\": [{\"colorbar\": {\"outlinewidth\": 0, \"ticks\": \"\"}, \"colorscale\": [[0.0, \"#0d0887\"], [0.1111111111111111, \"#46039f\"], [0.2222222222222222, \"#7201a8\"], [0.3333333333333333, \"#9c179e\"], [0.4444444444444444, \"#bd3786\"], [0.5555555555555556, \"#d8576b\"], [0.6666666666666666, \"#ed7953\"], [0.7777777777777778, \"#fb9f3a\"], [0.8888888888888888, \"#fdca26\"], [1.0, \"#f0f921\"]], \"type\": \"heatmap\"}], \"heatmapgl\": [{\"colorbar\": {\"outlinewidth\": 0, \"ticks\": \"\"}, \"colorscale\": [[0.0, \"#0d0887\"], [0.1111111111111111, \"#46039f\"], [0.2222222222222222, \"#7201a8\"], [0.3333333333333333, \"#9c179e\"], [0.4444444444444444, \"#bd3786\"], [0.5555555555555556, \"#d8576b\"], [0.6666666666666666, \"#ed7953\"], [0.7777777777777778, \"#fb9f3a\"], [0.8888888888888888, \"#fdca26\"], [1.0, \"#f0f921\"]], \"type\": \"heatmapgl\"}], \"histogram\": [{\"marker\": {\"colorbar\": {\"outlinewidth\": 0, \"ticks\": \"\"}}, \"type\": \"histogram\"}], \"histogram2d\": [{\"colorbar\": {\"outlinewidth\": 0, \"ticks\": \"\"}, \"colorscale\": [[0.0, \"#0d0887\"], [0.1111111111111111, \"#46039f\"], [0.2222222222222222, \"#7201a8\"], [0.3333333333333333, \"#9c179e\"], [0.4444444444444444, \"#bd3786\"], [0.5555555555555556, \"#d8576b\"], [0.6666666666666666, \"#ed7953\"], [0.7777777777777778, \"#fb9f3a\"], [0.8888888888888888, \"#fdca26\"], [1.0, \"#f0f921\"]], \"type\": \"histogram2d\"}], \"histogram2dcontour\": [{\"colorbar\": {\"outlinewidth\": 0, \"ticks\": \"\"}, \"colorscale\": [[0.0, \"#0d0887\"], [0.1111111111111111, \"#46039f\"], [0.2222222222222222, \"#7201a8\"], [0.3333333333333333, \"#9c179e\"], [0.4444444444444444, \"#bd3786\"], [0.5555555555555556, \"#d8576b\"], [0.6666666666666666, \"#ed7953\"], [0.7777777777777778, \"#fb9f3a\"], [0.8888888888888888, \"#fdca26\"], [1.0, \"#f0f921\"]], \"type\": \"histogram2dcontour\"}], \"mesh3d\": [{\"colorbar\": {\"outlinewidth\": 0, \"ticks\": \"\"}, \"type\": \"mesh3d\"}], \"parcoords\": [{\"line\": {\"colorbar\": {\"outlinewidth\": 0, \"ticks\": \"\"}}, \"type\": \"parcoords\"}], \"pie\": [{\"automargin\": true, \"type\": \"pie\"}], \"scatter\": [{\"marker\": {\"colorbar\": {\"outlinewidth\": 0, \"ticks\": \"\"}}, \"type\": \"scatter\"}], \"scatter3d\": [{\"line\": {\"colorbar\": {\"outlinewidth\": 0, \"ticks\": \"\"}}, \"marker\": {\"colorbar\": {\"outlinewidth\": 0, \"ticks\": \"\"}}, \"type\": \"scatter3d\"}], \"scattercarpet\": [{\"marker\": {\"colorbar\": {\"outlinewidth\": 0, \"ticks\": \"\"}}, \"type\": \"scattercarpet\"}], \"scattergeo\": [{\"marker\": {\"colorbar\": {\"outlinewidth\": 0, \"ticks\": \"\"}}, \"type\": \"scattergeo\"}], \"scattergl\": [{\"marker\": {\"colorbar\": {\"outlinewidth\": 0, \"ticks\": \"\"}}, \"type\": \"scattergl\"}], \"scattermapbox\": [{\"marker\": {\"colorbar\": {\"outlinewidth\": 0, \"ticks\": \"\"}}, \"type\": \"scattermapbox\"}], \"scatterpolar\": [{\"marker\": {\"colorbar\": {\"outlinewidth\": 0, \"ticks\": \"\"}}, \"type\": \"scatterpolar\"}], \"scatterpolargl\": [{\"marker\": {\"colorbar\": {\"outlinewidth\": 0, \"ticks\": \"\"}}, \"type\": \"scatterpolargl\"}], \"scatterternary\": [{\"marker\": {\"colorbar\": {\"outlinewidth\": 0, \"ticks\": \"\"}}, \"type\": \"scatterternary\"}], \"surface\": [{\"colorbar\": {\"outlinewidth\": 0, \"ticks\": \"\"}, \"colorscale\": [[0.0, \"#0d0887\"], [0.1111111111111111, \"#46039f\"], [0.2222222222222222, \"#7201a8\"], [0.3333333333333333, \"#9c179e\"], [0.4444444444444444, \"#bd3786\"], [0.5555555555555556, \"#d8576b\"], [0.6666666666666666, \"#ed7953\"], [0.7777777777777778, \"#fb9f3a\"], [0.8888888888888888, \"#fdca26\"], [1.0, \"#f0f921\"]], \"type\": \"surface\"}], \"table\": [{\"cells\": {\"fill\": {\"color\": \"#EBF0F8\"}, \"line\": {\"color\": \"white\"}}, \"header\": {\"fill\": {\"color\": \"#C8D4E3\"}, \"line\": {\"color\": \"white\"}}, \"type\": \"table\"}]}, \"layout\": {\"annotationdefaults\": {\"arrowcolor\": \"#2a3f5f\", \"arrowhead\": 0, \"arrowwidth\": 1}, \"autotypenumbers\": \"strict\", \"coloraxis\": {\"colorbar\": {\"outlinewidth\": 0, \"ticks\": \"\"}}, \"colorscale\": {\"diverging\": [[0, \"#8e0152\"], [0.1, \"#c51b7d\"], [0.2, \"#de77ae\"], [0.3, \"#f1b6da\"], [0.4, \"#fde0ef\"], [0.5, \"#f7f7f7\"], [0.6, \"#e6f5d0\"], [0.7, \"#b8e186\"], [0.8, \"#7fbc41\"], [0.9, \"#4d9221\"], [1, \"#276419\"]], \"sequential\": [[0.0, \"#0d0887\"], [0.1111111111111111, \"#46039f\"], [0.2222222222222222, \"#7201a8\"], [0.3333333333333333, \"#9c179e\"], [0.4444444444444444, \"#bd3786\"], [0.5555555555555556, \"#d8576b\"], [0.6666666666666666, \"#ed7953\"], [0.7777777777777778, \"#fb9f3a\"], [0.8888888888888888, \"#fdca26\"], [1.0, \"#f0f921\"]], \"sequentialminus\": [[0.0, \"#0d0887\"], [0.1111111111111111, \"#46039f\"], [0.2222222222222222, \"#7201a8\"], [0.3333333333333333, \"#9c179e\"], [0.4444444444444444, \"#bd3786\"], [0.5555555555555556, \"#d8576b\"], [0.6666666666666666, \"#ed7953\"], [0.7777777777777778, \"#fb9f3a\"], [0.8888888888888888, \"#fdca26\"], [1.0, \"#f0f921\"]]}, \"colorway\": [\"#636efa\", \"#EF553B\", \"#00cc96\", \"#ab63fa\", \"#FFA15A\", \"#19d3f3\", \"#FF6692\", \"#B6E880\", \"#FF97FF\", \"#FECB52\"], \"font\": {\"color\": \"#2a3f5f\"}, \"geo\": {\"bgcolor\": \"white\", \"lakecolor\": \"white\", \"landcolor\": \"#E5ECF6\", \"showlakes\": true, \"showland\": true, \"subunitcolor\": \"white\"}, \"hoverlabel\": {\"align\": \"left\"}, \"hovermode\": \"closest\", \"mapbox\": {\"style\": \"light\"}, \"paper_bgcolor\": \"white\", \"plot_bgcolor\": \"#E5ECF6\", \"polar\": {\"angularaxis\": {\"gridcolor\": \"white\", \"linecolor\": \"white\", \"ticks\": \"\"}, \"bgcolor\": \"#E5ECF6\", \"radialaxis\": {\"gridcolor\": \"white\", \"linecolor\": \"white\", \"ticks\": \"\"}}, \"scene\": {\"xaxis\": {\"backgroundcolor\": \"#E5ECF6\", \"gridcolor\": \"white\", \"gridwidth\": 2, \"linecolor\": \"white\", \"showbackground\": true, \"ticks\": \"\", \"zerolinecolor\": \"white\"}, \"yaxis\": {\"backgroundcolor\": \"#E5ECF6\", \"gridcolor\": \"white\", \"gridwidth\": 2, \"linecolor\": \"white\", \"showbackground\": true, \"ticks\": \"\", \"zerolinecolor\": \"white\"}, \"zaxis\": {\"backgroundcolor\": \"#E5ECF6\", \"gridcolor\": \"white\", \"gridwidth\": 2, \"linecolor\": \"white\", \"showbackground\": true, \"ticks\": \"\", \"zerolinecolor\": \"white\"}}, \"shapedefaults\": {\"line\": {\"color\": \"#2a3f5f\"}}, \"ternary\": {\"aaxis\": {\"gridcolor\": \"white\", \"linecolor\": \"white\", \"ticks\": \"\"}, \"baxis\": {\"gridcolor\": \"white\", \"linecolor\": \"white\", \"ticks\": \"\"}, \"bgcolor\": \"#E5ECF6\", \"caxis\": {\"gridcolor\": \"white\", \"linecolor\": \"white\", \"ticks\": \"\"}}, \"title\": {\"x\": 0.05}, \"xaxis\": {\"automargin\": true, \"gridcolor\": \"white\", \"linecolor\": \"white\", \"ticks\": \"\", \"title\": {\"standoff\": 15}, \"zerolinecolor\": \"white\", \"zerolinewidth\": 2}, \"yaxis\": {\"automargin\": true, \"gridcolor\": \"white\", \"linecolor\": \"white\", \"ticks\": \"\", \"title\": {\"standoff\": 15}, \"zerolinecolor\": \"white\", \"zerolinewidth\": 2}}}, \"title\": {\"font\": {\"color\": \"#4D5663\"}}, \"xaxis\": {\"gridcolor\": \"#E1E5ED\", \"showgrid\": true, \"tickfont\": {\"color\": \"#4D5663\"}, \"title\": {\"font\": {\"color\": \"#4D5663\"}, \"text\": \"\"}, \"zerolinecolor\": \"#E1E5ED\"}, \"yaxis\": {\"gridcolor\": \"#E1E5ED\", \"showgrid\": true, \"tickfont\": {\"color\": \"#4D5663\"}, \"title\": {\"font\": {\"color\": \"#4D5663\"}, \"text\": \"\"}, \"zerolinecolor\": \"#E1E5ED\"}},                        {\"showLink\": true, \"linkText\": \"Export to plot.ly\", \"plotlyServerURL\": \"https://plot.ly\", \"responsive\": true}                    ).then(function(){\n                            \nvar gd = document.getElementById('bd0bf86f-5627-4fa3-b267-80b3b88901af');\nvar x = new MutationObserver(function (mutations, observer) {{\n        var display = window.getComputedStyle(gd).display;\n        if (!display || display === 'none') {{\n            console.log([gd, 'removed!']);\n            Plotly.purge(gd);\n            observer.disconnect();\n        }}\n}});\n\n// Listen for the removal of the full notebook cells\nvar notebookContainer = gd.closest('#notebook-container');\nif (notebookContainer) {{\n    x.observe(notebookContainer, {childList: true});\n}}\n\n// Listen for the clearing of the current output cell\nvar outputEl = gd.closest('.output');\nif (outputEl) {{\n    x.observe(outputEl, {childList: true});\n}}\n\n                        })                };                });            </script>        </div>"
     },
     "metadata": {}
    }
   ],
   "source": [
    "df.iplot(kind='bubble', x='A', y='B', size='C', colorscale='oranges')"
   ]
  },
  {
   "cell_type": "code",
   "execution_count": 42,
   "metadata": {},
   "outputs": [
    {
     "output_type": "display_data",
     "data": {
      "application/vnd.plotly.v1+json": {
       "config": {
        "linkText": "Export to plot.ly",
        "plotlyServerURL": "https://plot.ly",
        "showLink": true
       },
       "data": [
        {
         "histfunc": "count",
         "histnorm": "",
         "marker": {
          "color": "rgba(255, 153, 51, 1.0)",
          "line": {
           "color": "#4D5663",
           "width": 1.3
          }
         },
         "name": "A",
         "nbinsx": 10,
         "opacity": 0.8,
         "orientation": "v",
         "type": "histogram",
         "x": [
          0.5465783073064772,
          -0.29266683075288924,
          0.6231870996745854,
          -0.834383727710256,
          0.07267124236383367,
          0.546609283854429,
          -1.131288781160773,
          0.9726279769132807,
          1.3036471779533993,
          0.09456737726953622,
          -1.4909951751412387,
          0.2486809006031248,
          -0.5041954963214929,
          1.090313604126461,
          0.5271065162022843,
          0.72996298455288,
          -0.5727674434124677,
          0.6981473528513243,
          0.42646244691734936,
          0.22561770627475097,
          1.3964635891379957,
          -1.028076763783862,
          -0.7918548050193706,
          0.6424988861128034,
          0.07700092744047617,
          0.2639476843988694,
          -1.3939121056913943,
          0.8022040203343273,
          -0.46413394434136784,
          0.2220320510302532,
          0.935281027468148,
          -0.7800155400860896,
          -0.416128340694564,
          1.3185965143422556,
          -0.9440127360391387,
          -0.6366557329525351,
          0.44540615728871885,
          -2.2642998115862225,
          -0.2850565034199015,
          1.0506044703218136,
          0.8378528542175177,
          -0.12868954137371466,
          -0.33798990823686026,
          0.1679192582551076,
          -0.9308238698161303,
          0.07517507846869902,
          0.5529139051581751,
          -0.6550066638750623,
          1.6622073144790908,
          -0.9563738629799234,
          -0.9039901786142885,
          -0.9224207152656744,
          0.7853020720624344,
          -0.9078645469319825,
          -1.0065774903612925,
          -0.6513350487302739,
          0.607897606343382,
          -0.7121619992871777,
          -1.0062801835740622,
          0.4151934066896479,
          0.42890807858108176,
          -1.4465094346493927,
          1.7219331417962913,
          -1.5053103553567573,
          -1.5460676762516719,
          -1.334470385973534,
          1.3820705239206281,
          1.149948100182805,
          0.48581062454288443,
          -2.9220312235168104,
          0.9688469690572168,
          0.4005785671067927,
          -1.7729643682929506,
          -2.254444960561575,
          2.8558789888409377,
          0.11684368509114042,
          -0.5921664352451752,
          -0.7669775175253448,
          0.3944947793185067,
          0.17970836550271987,
          0.7320087898796422,
          -0.3718994683294069,
          0.6490335347378919,
          1.61451773742073,
          2.2200311879880092,
          0.2652884204844432,
          -1.138292642211443,
          -1.0916461301727252,
          -0.6552002466498384,
          -0.17573927465249542,
          0.19807054658965803,
          -0.3135938770961247,
          0.9100592564889136,
          1.389689501439636,
          0.4571725986883691,
          -1.147513235584393,
          -0.2641384924636912,
          -2.4750908872422532,
          -0.3052555238066782,
          0.5126311294281619
         ],
         "xaxis": "x",
         "yaxis": "y"
        },
        {
         "line": {
          "color": "rgba(128, 128, 128, 1.0)",
          "dash": "solid",
          "shape": "linear",
          "width": 1.3
         },
         "marker": {
          "size": 2,
          "symbol": "circle"
         },
         "mode": "markers",
         "name": "A",
         "text": "",
         "type": "scatter",
         "x": [
          -0.3210616890439768,
          0.014731334124076999,
          0.5366938623242867,
          -0.28347189457944116,
          0.045451557025280365,
          0.13459038631390496,
          0.7680897864672134,
          -0.5605600823698804,
          1.6570181797969776,
          0.6384146948817033,
          1.3887234430034054,
          -0.09505479464596212,
          0.3793871989929514,
          0.968138373003798,
          0.5570971336800378,
          -0.12022809907427562,
          1.225767443374642,
          -0.48103582404950523,
          0.31237187179067677,
          -1.5541642248570275,
          -0.0905732283356259,
          -0.7121648301099559,
          -0.8980559307398618,
          0.7505948170765744,
          -0.08743327787437438,
          0.7381569910231944,
          1.0578906584070804,
          0.609010499655325,
          -0.07991913941469375,
          -0.9809062194854374,
          -0.3927567552348754,
          1.1779490224473685,
          0.5861320936097942,
          -1.9586149587331063,
          -0.7503025630835873,
          2.111168813334928,
          1.1724683723332443,
          0.41124561482519084,
          -0.8073090559661715,
          -0.6001700359496503,
          0.924992852207575,
          0.564903133816479,
          -1.329485783727274,
          -0.9042900886398983,
          0.7446229259164912,
          -0.6664395834381821,
          1.790641696870415,
          -0.7000508417729924,
          -2.124025946845946,
          1.427339440341842,
          -0.023434047825694505,
          -2.184151730277451,
          -0.2743737245978753,
          0.08652959980978199,
          0.7073634897595449,
          0.5328211228340343,
          1.8902284648569976,
          0.21527531979477196,
          -1.7836858947922036,
          -0.3353688964873548,
          -1.1002301192684039,
          -0.6883952001486617,
          -1.5764860675414936,
          -0.6433657782077495,
          1.097576865535247,
          -0.023602921622034694,
          -0.029463692580862483,
          0.2358983482389432,
          0.27894641922849245,
          0.30550114510394016,
          0.8867657472418506,
          0.9319324919522,
          -0.01664626305233927,
          -0.5007055914851937,
          1.5554489026110867,
          0.3985089102148669,
          -1.7988728013549453,
          0.33490036387429,
          -0.3185069447544962,
          -0.10960628009446838,
          0.5677453220093496,
          -0.9445892255243346,
          -0.6654555763718258,
          1.3332815274819332,
          0.9620523328660819,
          0.0627271471645771,
          -1.5219745869359935,
          1.8456224867766633,
          0.35193461333641635,
          -0.6911844965770978,
          -1.9382109908973897,
          0.5101622352180557,
          0.04141713857864906,
          0.7348149162733385,
          0.08876588617886874,
          -0.20605819017878488,
          -0.5796140389078577,
          -0.27512891936251505,
          -1.108562305937151,
          0.83556234684711
         ],
         "xaxis": "x2",
         "y": [
          0.5465783073064772,
          -0.29266683075288924,
          0.6231870996745854,
          -0.834383727710256,
          0.07267124236383367,
          0.546609283854429,
          -1.131288781160773,
          0.9726279769132807,
          1.3036471779533993,
          0.09456737726953622,
          -1.4909951751412387,
          0.2486809006031248,
          -0.5041954963214929,
          1.090313604126461,
          0.5271065162022843,
          0.72996298455288,
          -0.5727674434124677,
          0.6981473528513243,
          0.42646244691734936,
          0.22561770627475097,
          1.3964635891379957,
          -1.028076763783862,
          -0.7918548050193706,
          0.6424988861128034,
          0.07700092744047617,
          0.2639476843988694,
          -1.3939121056913943,
          0.8022040203343273,
          -0.46413394434136784,
          0.2220320510302532,
          0.935281027468148,
          -0.7800155400860896,
          -0.416128340694564,
          1.3185965143422556,
          -0.9440127360391387,
          -0.6366557329525351,
          0.44540615728871885,
          -2.2642998115862225,
          -0.2850565034199015,
          1.0506044703218136,
          0.8378528542175177,
          -0.12868954137371466,
          -0.33798990823686026,
          0.1679192582551076,
          -0.9308238698161303,
          0.07517507846869902,
          0.5529139051581751,
          -0.6550066638750623,
          1.6622073144790908,
          -0.9563738629799234,
          -0.9039901786142885,
          -0.9224207152656744,
          0.7853020720624344,
          -0.9078645469319825,
          -1.0065774903612925,
          -0.6513350487302739,
          0.607897606343382,
          -0.7121619992871777,
          -1.0062801835740622,
          0.4151934066896479,
          0.42890807858108176,
          -1.4465094346493927,
          1.7219331417962913,
          -1.5053103553567573,
          -1.5460676762516719,
          -1.334470385973534,
          1.3820705239206281,
          1.149948100182805,
          0.48581062454288443,
          -2.9220312235168104,
          0.9688469690572168,
          0.4005785671067927,
          -1.7729643682929506,
          -2.254444960561575,
          2.8558789888409377,
          0.11684368509114042,
          -0.5921664352451752,
          -0.7669775175253448,
          0.3944947793185067,
          0.17970836550271987,
          0.7320087898796422,
          -0.3718994683294069,
          0.6490335347378919,
          1.61451773742073,
          2.2200311879880092,
          0.2652884204844432,
          -1.138292642211443,
          -1.0916461301727252,
          -0.6552002466498384,
          -0.17573927465249542,
          0.19807054658965803,
          -0.3135938770961247,
          0.9100592564889136,
          1.389689501439636,
          0.4571725986883691,
          -1.147513235584393,
          -0.2641384924636912,
          -2.4750908872422532,
          -0.3052555238066782,
          0.5126311294281619
         ],
         "yaxis": "y2"
        },
        {
         "line": {
          "color": "rgba(128, 128, 128, 1.0)",
          "dash": "solid",
          "shape": "linear",
          "width": 1.3
         },
         "marker": {
          "size": 2,
          "symbol": "circle"
         },
         "mode": "markers",
         "name": "A",
         "text": "",
         "type": "scatter",
         "x": [
          -1.5746635555132593,
          -0.8208519487525724,
          0.13411839178356635,
          -1.073405727107703,
          0.8492878024289273,
          2.254601176611265,
          -1.0878769204610368,
          0.05491395788764352,
          -0.938550021253144,
          0.0831501541026087,
          -0.37161067823376354,
          -0.8357041894404749,
          1.1719737829000128,
          -0.6860518985881422,
          0.8375667994557933,
          -0.9397053484941409,
          -1.7889322349233618,
          -0.13110549339808994,
          -0.21790251118483994,
          1.0243507066626305,
          -1.393511551476447,
          0.7960398950108859,
          0.3376177013303217,
          -0.27719455186705055,
          -0.599024528281968,
          -1.0448750802566376,
          -0.3299792930259386,
          0.9414823910779461,
          0.8128194717871082,
          -2.0017279544076882,
          -0.11565056175803837,
          -0.39887050385009104,
          0.24681073229257872,
          0.07438133150679462,
          0.7674862118999634,
          -0.2870042449544319,
          0.1874362991542395,
          0.8852072086506295,
          -1.5070637961266762,
          1.4263336865955873,
          0.19878349333474926,
          0.9749485819616145,
          -0.6868121389520477,
          0.9166637700665273,
          0.3502501972642983,
          -0.690876281143508,
          -1.2704903637223155,
          0.7390724833594484,
          1.547695798213712,
          -0.7232647324890362,
          -0.178124208961265,
          0.49891936425176653,
          -0.829477671631334,
          1.0726449576062738,
          1.1913989599956993,
          1.2782170998335898,
          0.7979436445528246,
          -0.9147442814326879,
          -0.08208447048785322,
          -1.9173840888427844,
          -0.5552102564992429,
          0.9741457675696146,
          0.11704030109082995,
          -0.9933189766534842,
          0.09936221246799455,
          -0.4242039091357622,
          0.58729575045313,
          -0.8066782132707256,
          0.29490148525810694,
          1.1530225437432087,
          1.5171876792595087,
          0.7673025283554721,
          0.9011567252593459,
          -1.3638062823045671,
          -1.8237245334450118,
          1.0923484618951989,
          -1.1349063046921946,
          -0.5663122283761413,
          1.343150277224588,
          1.423518043952554,
          0.15021591350662922,
          0.2517358159883754,
          -0.04953946581698489,
          -0.06582562263824401,
          0.5096721099198526,
          -1.0242755455221242,
          -0.4763164697743531,
          0.6918087074211218,
          -0.21631606753447347,
          1.6824576992982336,
          -0.9763443880200405,
          0.535678872534667,
          0.2758679542206118,
          -2.8352977193601707,
          -0.0008868871502166775,
          -0.3202137870334289,
          -0.9645916325091594,
          -0.3588390703210608,
          -1.5672693194465956,
          -0.43850581048894766
         ],
         "xaxis": "x3",
         "y": [
          0.5465783073064772,
          -0.29266683075288924,
          0.6231870996745854,
          -0.834383727710256,
          0.07267124236383367,
          0.546609283854429,
          -1.131288781160773,
          0.9726279769132807,
          1.3036471779533993,
          0.09456737726953622,
          -1.4909951751412387,
          0.2486809006031248,
          -0.5041954963214929,
          1.090313604126461,
          0.5271065162022843,
          0.72996298455288,
          -0.5727674434124677,
          0.6981473528513243,
          0.42646244691734936,
          0.22561770627475097,
          1.3964635891379957,
          -1.028076763783862,
          -0.7918548050193706,
          0.6424988861128034,
          0.07700092744047617,
          0.2639476843988694,
          -1.3939121056913943,
          0.8022040203343273,
          -0.46413394434136784,
          0.2220320510302532,
          0.935281027468148,
          -0.7800155400860896,
          -0.416128340694564,
          1.3185965143422556,
          -0.9440127360391387,
          -0.6366557329525351,
          0.44540615728871885,
          -2.2642998115862225,
          -0.2850565034199015,
          1.0506044703218136,
          0.8378528542175177,
          -0.12868954137371466,
          -0.33798990823686026,
          0.1679192582551076,
          -0.9308238698161303,
          0.07517507846869902,
          0.5529139051581751,
          -0.6550066638750623,
          1.6622073144790908,
          -0.9563738629799234,
          -0.9039901786142885,
          -0.9224207152656744,
          0.7853020720624344,
          -0.9078645469319825,
          -1.0065774903612925,
          -0.6513350487302739,
          0.607897606343382,
          -0.7121619992871777,
          -1.0062801835740622,
          0.4151934066896479,
          0.42890807858108176,
          -1.4465094346493927,
          1.7219331417962913,
          -1.5053103553567573,
          -1.5460676762516719,
          -1.334470385973534,
          1.3820705239206281,
          1.149948100182805,
          0.48581062454288443,
          -2.9220312235168104,
          0.9688469690572168,
          0.4005785671067927,
          -1.7729643682929506,
          -2.254444960561575,
          2.8558789888409377,
          0.11684368509114042,
          -0.5921664352451752,
          -0.7669775175253448,
          0.3944947793185067,
          0.17970836550271987,
          0.7320087898796422,
          -0.3718994683294069,
          0.6490335347378919,
          1.61451773742073,
          2.2200311879880092,
          0.2652884204844432,
          -1.138292642211443,
          -1.0916461301727252,
          -0.6552002466498384,
          -0.17573927465249542,
          0.19807054658965803,
          -0.3135938770961247,
          0.9100592564889136,
          1.389689501439636,
          0.4571725986883691,
          -1.147513235584393,
          -0.2641384924636912,
          -2.4750908872422532,
          -0.3052555238066782,
          0.5126311294281619
         ],
         "yaxis": "y3"
        },
        {
         "line": {
          "color": "rgba(128, 128, 128, 1.0)",
          "dash": "solid",
          "shape": "linear",
          "width": 1.3
         },
         "marker": {
          "size": 2,
          "symbol": "circle"
         },
         "mode": "markers",
         "name": "A",
         "text": "",
         "type": "scatter",
         "x": [
          1.3915284842186988,
          0.5185130094144702,
          -1.0606253421777951,
          -0.24460755193586287,
          0.8202241426829425,
          -0.887582315304925,
          -2.8538309597752867,
          -0.9735586571847238,
          1.450536278286463,
          1.2760657489482605,
          -1.5652882182832306,
          1.4645914708923071,
          0.09329788490746273,
          0.8057167710446781,
          1.0152273362785735,
          -0.7978662004859711,
          -0.8365744231983471,
          0.28424634824466244,
          -1.8915142256077258,
          0.3739809215343839,
          0.051329217894539,
          0.9256733937623756,
          -0.35179554429520843,
          -1.9033909214042593,
          0.45264744995978906,
          -0.5807322459220383,
          -0.11435315011914135,
          -0.30398911522147987,
          -0.08458819819471305,
          1.4295666865836059,
          -1.3657316946782658,
          0.5735423214731328,
          1.6572412107323413,
          -0.760872677119515,
          -1.2392615031108305,
          0.14803104558174862,
          -0.8561087960484719,
          -0.5128541761649891,
          -0.28488806627419583,
          -0.18465941989611753,
          -2.232825107959683,
          0.33473747004274823,
          0.6606241943088436,
          0.019623914803615285,
          -0.7584006645927847,
          2.8377835630481405,
          -0.6266276799272331,
          -0.6532095561165252,
          0.29170074098777793,
          -1.1665894943988193,
          -0.3376741908898411,
          1.0751891517480283,
          -0.6448449862168085,
          1.214573859061091,
          -0.034778294663861654,
          -0.6213694553867667,
          -1.0610596965100185,
          0.6479555596462478,
          0.9068247873074341,
          -1.5401656730162003,
          -0.7080391573628131,
          -0.7829170746864355,
          -0.4255437274019955,
          -0.3962885151997171,
          1.2386728246527157,
          -1.2016150089134001,
          0.5149137342604595,
          -0.7120689231800665,
          -0.9801118556510571,
          0.31712839974847895,
          0.9341300403425877,
          -0.7035089651286938,
          -0.5637510964979929,
          -0.40643637929223103,
          1.4717157907239993,
          -2.4316467529894203,
          1.8425226033591404,
          0.08085620949960143,
          -0.539388341835714,
          0.41145218196658184,
          1.7713082753781175,
          0.800238042387477,
          0.2907060923613845,
          0.6707859099022279,
          1.5618649336698032,
          0.6230978393033384,
          -0.9297961775205729,
          -2.369073884926949,
          -0.6835387244012849,
          1.4185669493114144,
          -0.449922261659089,
          0.37849098997281494,
          0.884469678375085,
          -2.378754245172478,
          -1.1934731790828719,
          0.12692321653002386,
          0.8237573446074903,
          -0.01818332015703452,
          0.9806165462699724,
          0.5801263631830152
         ],
         "xaxis": "x4",
         "y": [
          0.5465783073064772,
          -0.29266683075288924,
          0.6231870996745854,
          -0.834383727710256,
          0.07267124236383367,
          0.546609283854429,
          -1.131288781160773,
          0.9726279769132807,
          1.3036471779533993,
          0.09456737726953622,
          -1.4909951751412387,
          0.2486809006031248,
          -0.5041954963214929,
          1.090313604126461,
          0.5271065162022843,
          0.72996298455288,
          -0.5727674434124677,
          0.6981473528513243,
          0.42646244691734936,
          0.22561770627475097,
          1.3964635891379957,
          -1.028076763783862,
          -0.7918548050193706,
          0.6424988861128034,
          0.07700092744047617,
          0.2639476843988694,
          -1.3939121056913943,
          0.8022040203343273,
          -0.46413394434136784,
          0.2220320510302532,
          0.935281027468148,
          -0.7800155400860896,
          -0.416128340694564,
          1.3185965143422556,
          -0.9440127360391387,
          -0.6366557329525351,
          0.44540615728871885,
          -2.2642998115862225,
          -0.2850565034199015,
          1.0506044703218136,
          0.8378528542175177,
          -0.12868954137371466,
          -0.33798990823686026,
          0.1679192582551076,
          -0.9308238698161303,
          0.07517507846869902,
          0.5529139051581751,
          -0.6550066638750623,
          1.6622073144790908,
          -0.9563738629799234,
          -0.9039901786142885,
          -0.9224207152656744,
          0.7853020720624344,
          -0.9078645469319825,
          -1.0065774903612925,
          -0.6513350487302739,
          0.607897606343382,
          -0.7121619992871777,
          -1.0062801835740622,
          0.4151934066896479,
          0.42890807858108176,
          -1.4465094346493927,
          1.7219331417962913,
          -1.5053103553567573,
          -1.5460676762516719,
          -1.334470385973534,
          1.3820705239206281,
          1.149948100182805,
          0.48581062454288443,
          -2.9220312235168104,
          0.9688469690572168,
          0.4005785671067927,
          -1.7729643682929506,
          -2.254444960561575,
          2.8558789888409377,
          0.11684368509114042,
          -0.5921664352451752,
          -0.7669775175253448,
          0.3944947793185067,
          0.17970836550271987,
          0.7320087898796422,
          -0.3718994683294069,
          0.6490335347378919,
          1.61451773742073,
          2.2200311879880092,
          0.2652884204844432,
          -1.138292642211443,
          -1.0916461301727252,
          -0.6552002466498384,
          -0.17573927465249542,
          0.19807054658965803,
          -0.3135938770961247,
          0.9100592564889136,
          1.389689501439636,
          0.4571725986883691,
          -1.147513235584393,
          -0.2641384924636912,
          -2.4750908872422532,
          -0.3052555238066782,
          0.5126311294281619
         ],
         "yaxis": "y4"
        },
        {
         "line": {
          "color": "rgba(128, 128, 128, 1.0)",
          "dash": "solid",
          "shape": "linear",
          "width": 1.3
         },
         "marker": {
          "size": 2,
          "symbol": "circle"
         },
         "mode": "markers",
         "name": "B",
         "text": "",
         "type": "scatter",
         "x": [
          0.5465783073064772,
          -0.29266683075288924,
          0.6231870996745854,
          -0.834383727710256,
          0.07267124236383367,
          0.546609283854429,
          -1.131288781160773,
          0.9726279769132807,
          1.3036471779533993,
          0.09456737726953622,
          -1.4909951751412387,
          0.2486809006031248,
          -0.5041954963214929,
          1.090313604126461,
          0.5271065162022843,
          0.72996298455288,
          -0.5727674434124677,
          0.6981473528513243,
          0.42646244691734936,
          0.22561770627475097,
          1.3964635891379957,
          -1.028076763783862,
          -0.7918548050193706,
          0.6424988861128034,
          0.07700092744047617,
          0.2639476843988694,
          -1.3939121056913943,
          0.8022040203343273,
          -0.46413394434136784,
          0.2220320510302532,
          0.935281027468148,
          -0.7800155400860896,
          -0.416128340694564,
          1.3185965143422556,
          -0.9440127360391387,
          -0.6366557329525351,
          0.44540615728871885,
          -2.2642998115862225,
          -0.2850565034199015,
          1.0506044703218136,
          0.8378528542175177,
          -0.12868954137371466,
          -0.33798990823686026,
          0.1679192582551076,
          -0.9308238698161303,
          0.07517507846869902,
          0.5529139051581751,
          -0.6550066638750623,
          1.6622073144790908,
          -0.9563738629799234,
          -0.9039901786142885,
          -0.9224207152656744,
          0.7853020720624344,
          -0.9078645469319825,
          -1.0065774903612925,
          -0.6513350487302739,
          0.607897606343382,
          -0.7121619992871777,
          -1.0062801835740622,
          0.4151934066896479,
          0.42890807858108176,
          -1.4465094346493927,
          1.7219331417962913,
          -1.5053103553567573,
          -1.5460676762516719,
          -1.334470385973534,
          1.3820705239206281,
          1.149948100182805,
          0.48581062454288443,
          -2.9220312235168104,
          0.9688469690572168,
          0.4005785671067927,
          -1.7729643682929506,
          -2.254444960561575,
          2.8558789888409377,
          0.11684368509114042,
          -0.5921664352451752,
          -0.7669775175253448,
          0.3944947793185067,
          0.17970836550271987,
          0.7320087898796422,
          -0.3718994683294069,
          0.6490335347378919,
          1.61451773742073,
          2.2200311879880092,
          0.2652884204844432,
          -1.138292642211443,
          -1.0916461301727252,
          -0.6552002466498384,
          -0.17573927465249542,
          0.19807054658965803,
          -0.3135938770961247,
          0.9100592564889136,
          1.389689501439636,
          0.4571725986883691,
          -1.147513235584393,
          -0.2641384924636912,
          -2.4750908872422532,
          -0.3052555238066782,
          0.5126311294281619
         ],
         "xaxis": "x5",
         "y": [
          -0.3210616890439768,
          0.014731334124076999,
          0.5366938623242867,
          -0.28347189457944116,
          0.045451557025280365,
          0.13459038631390496,
          0.7680897864672134,
          -0.5605600823698804,
          1.6570181797969776,
          0.6384146948817033,
          1.3887234430034054,
          -0.09505479464596212,
          0.3793871989929514,
          0.968138373003798,
          0.5570971336800378,
          -0.12022809907427562,
          1.225767443374642,
          -0.48103582404950523,
          0.31237187179067677,
          -1.5541642248570275,
          -0.0905732283356259,
          -0.7121648301099559,
          -0.8980559307398618,
          0.7505948170765744,
          -0.08743327787437438,
          0.7381569910231944,
          1.0578906584070804,
          0.609010499655325,
          -0.07991913941469375,
          -0.9809062194854374,
          -0.3927567552348754,
          1.1779490224473685,
          0.5861320936097942,
          -1.9586149587331063,
          -0.7503025630835873,
          2.111168813334928,
          1.1724683723332443,
          0.41124561482519084,
          -0.8073090559661715,
          -0.6001700359496503,
          0.924992852207575,
          0.564903133816479,
          -1.329485783727274,
          -0.9042900886398983,
          0.7446229259164912,
          -0.6664395834381821,
          1.790641696870415,
          -0.7000508417729924,
          -2.124025946845946,
          1.427339440341842,
          -0.023434047825694505,
          -2.184151730277451,
          -0.2743737245978753,
          0.08652959980978199,
          0.7073634897595449,
          0.5328211228340343,
          1.8902284648569976,
          0.21527531979477196,
          -1.7836858947922036,
          -0.3353688964873548,
          -1.1002301192684039,
          -0.6883952001486617,
          -1.5764860675414936,
          -0.6433657782077495,
          1.097576865535247,
          -0.023602921622034694,
          -0.029463692580862483,
          0.2358983482389432,
          0.27894641922849245,
          0.30550114510394016,
          0.8867657472418506,
          0.9319324919522,
          -0.01664626305233927,
          -0.5007055914851937,
          1.5554489026110867,
          0.3985089102148669,
          -1.7988728013549453,
          0.33490036387429,
          -0.3185069447544962,
          -0.10960628009446838,
          0.5677453220093496,
          -0.9445892255243346,
          -0.6654555763718258,
          1.3332815274819332,
          0.9620523328660819,
          0.0627271471645771,
          -1.5219745869359935,
          1.8456224867766633,
          0.35193461333641635,
          -0.6911844965770978,
          -1.9382109908973897,
          0.5101622352180557,
          0.04141713857864906,
          0.7348149162733385,
          0.08876588617886874,
          -0.20605819017878488,
          -0.5796140389078577,
          -0.27512891936251505,
          -1.108562305937151,
          0.83556234684711
         ],
         "yaxis": "y5"
        },
        {
         "histfunc": "count",
         "histnorm": "",
         "marker": {
          "color": "rgba(55, 128, 191, 1.0)",
          "line": {
           "color": "#4D5663",
           "width": 1.3
          }
         },
         "name": "B",
         "nbinsx": 10,
         "opacity": 0.8,
         "orientation": "v",
         "type": "histogram",
         "x": [
          -0.3210616890439768,
          0.014731334124076999,
          0.5366938623242867,
          -0.28347189457944116,
          0.045451557025280365,
          0.13459038631390496,
          0.7680897864672134,
          -0.5605600823698804,
          1.6570181797969776,
          0.6384146948817033,
          1.3887234430034054,
          -0.09505479464596212,
          0.3793871989929514,
          0.968138373003798,
          0.5570971336800378,
          -0.12022809907427562,
          1.225767443374642,
          -0.48103582404950523,
          0.31237187179067677,
          -1.5541642248570275,
          -0.0905732283356259,
          -0.7121648301099559,
          -0.8980559307398618,
          0.7505948170765744,
          -0.08743327787437438,
          0.7381569910231944,
          1.0578906584070804,
          0.609010499655325,
          -0.07991913941469375,
          -0.9809062194854374,
          -0.3927567552348754,
          1.1779490224473685,
          0.5861320936097942,
          -1.9586149587331063,
          -0.7503025630835873,
          2.111168813334928,
          1.1724683723332443,
          0.41124561482519084,
          -0.8073090559661715,
          -0.6001700359496503,
          0.924992852207575,
          0.564903133816479,
          -1.329485783727274,
          -0.9042900886398983,
          0.7446229259164912,
          -0.6664395834381821,
          1.790641696870415,
          -0.7000508417729924,
          -2.124025946845946,
          1.427339440341842,
          -0.023434047825694505,
          -2.184151730277451,
          -0.2743737245978753,
          0.08652959980978199,
          0.7073634897595449,
          0.5328211228340343,
          1.8902284648569976,
          0.21527531979477196,
          -1.7836858947922036,
          -0.3353688964873548,
          -1.1002301192684039,
          -0.6883952001486617,
          -1.5764860675414936,
          -0.6433657782077495,
          1.097576865535247,
          -0.023602921622034694,
          -0.029463692580862483,
          0.2358983482389432,
          0.27894641922849245,
          0.30550114510394016,
          0.8867657472418506,
          0.9319324919522,
          -0.01664626305233927,
          -0.5007055914851937,
          1.5554489026110867,
          0.3985089102148669,
          -1.7988728013549453,
          0.33490036387429,
          -0.3185069447544962,
          -0.10960628009446838,
          0.5677453220093496,
          -0.9445892255243346,
          -0.6654555763718258,
          1.3332815274819332,
          0.9620523328660819,
          0.0627271471645771,
          -1.5219745869359935,
          1.8456224867766633,
          0.35193461333641635,
          -0.6911844965770978,
          -1.9382109908973897,
          0.5101622352180557,
          0.04141713857864906,
          0.7348149162733385,
          0.08876588617886874,
          -0.20605819017878488,
          -0.5796140389078577,
          -0.27512891936251505,
          -1.108562305937151,
          0.83556234684711
         ],
         "xaxis": "x6",
         "yaxis": "y6"
        },
        {
         "line": {
          "color": "rgba(128, 128, 128, 1.0)",
          "dash": "solid",
          "shape": "linear",
          "width": 1.3
         },
         "marker": {
          "size": 2,
          "symbol": "circle"
         },
         "mode": "markers",
         "name": "B",
         "text": "",
         "type": "scatter",
         "x": [
          -1.5746635555132593,
          -0.8208519487525724,
          0.13411839178356635,
          -1.073405727107703,
          0.8492878024289273,
          2.254601176611265,
          -1.0878769204610368,
          0.05491395788764352,
          -0.938550021253144,
          0.0831501541026087,
          -0.37161067823376354,
          -0.8357041894404749,
          1.1719737829000128,
          -0.6860518985881422,
          0.8375667994557933,
          -0.9397053484941409,
          -1.7889322349233618,
          -0.13110549339808994,
          -0.21790251118483994,
          1.0243507066626305,
          -1.393511551476447,
          0.7960398950108859,
          0.3376177013303217,
          -0.27719455186705055,
          -0.599024528281968,
          -1.0448750802566376,
          -0.3299792930259386,
          0.9414823910779461,
          0.8128194717871082,
          -2.0017279544076882,
          -0.11565056175803837,
          -0.39887050385009104,
          0.24681073229257872,
          0.07438133150679462,
          0.7674862118999634,
          -0.2870042449544319,
          0.1874362991542395,
          0.8852072086506295,
          -1.5070637961266762,
          1.4263336865955873,
          0.19878349333474926,
          0.9749485819616145,
          -0.6868121389520477,
          0.9166637700665273,
          0.3502501972642983,
          -0.690876281143508,
          -1.2704903637223155,
          0.7390724833594484,
          1.547695798213712,
          -0.7232647324890362,
          -0.178124208961265,
          0.49891936425176653,
          -0.829477671631334,
          1.0726449576062738,
          1.1913989599956993,
          1.2782170998335898,
          0.7979436445528246,
          -0.9147442814326879,
          -0.08208447048785322,
          -1.9173840888427844,
          -0.5552102564992429,
          0.9741457675696146,
          0.11704030109082995,
          -0.9933189766534842,
          0.09936221246799455,
          -0.4242039091357622,
          0.58729575045313,
          -0.8066782132707256,
          0.29490148525810694,
          1.1530225437432087,
          1.5171876792595087,
          0.7673025283554721,
          0.9011567252593459,
          -1.3638062823045671,
          -1.8237245334450118,
          1.0923484618951989,
          -1.1349063046921946,
          -0.5663122283761413,
          1.343150277224588,
          1.423518043952554,
          0.15021591350662922,
          0.2517358159883754,
          -0.04953946581698489,
          -0.06582562263824401,
          0.5096721099198526,
          -1.0242755455221242,
          -0.4763164697743531,
          0.6918087074211218,
          -0.21631606753447347,
          1.6824576992982336,
          -0.9763443880200405,
          0.535678872534667,
          0.2758679542206118,
          -2.8352977193601707,
          -0.0008868871502166775,
          -0.3202137870334289,
          -0.9645916325091594,
          -0.3588390703210608,
          -1.5672693194465956,
          -0.43850581048894766
         ],
         "xaxis": "x7",
         "y": [
          -0.3210616890439768,
          0.014731334124076999,
          0.5366938623242867,
          -0.28347189457944116,
          0.045451557025280365,
          0.13459038631390496,
          0.7680897864672134,
          -0.5605600823698804,
          1.6570181797969776,
          0.6384146948817033,
          1.3887234430034054,
          -0.09505479464596212,
          0.3793871989929514,
          0.968138373003798,
          0.5570971336800378,
          -0.12022809907427562,
          1.225767443374642,
          -0.48103582404950523,
          0.31237187179067677,
          -1.5541642248570275,
          -0.0905732283356259,
          -0.7121648301099559,
          -0.8980559307398618,
          0.7505948170765744,
          -0.08743327787437438,
          0.7381569910231944,
          1.0578906584070804,
          0.609010499655325,
          -0.07991913941469375,
          -0.9809062194854374,
          -0.3927567552348754,
          1.1779490224473685,
          0.5861320936097942,
          -1.9586149587331063,
          -0.7503025630835873,
          2.111168813334928,
          1.1724683723332443,
          0.41124561482519084,
          -0.8073090559661715,
          -0.6001700359496503,
          0.924992852207575,
          0.564903133816479,
          -1.329485783727274,
          -0.9042900886398983,
          0.7446229259164912,
          -0.6664395834381821,
          1.790641696870415,
          -0.7000508417729924,
          -2.124025946845946,
          1.427339440341842,
          -0.023434047825694505,
          -2.184151730277451,
          -0.2743737245978753,
          0.08652959980978199,
          0.7073634897595449,
          0.5328211228340343,
          1.8902284648569976,
          0.21527531979477196,
          -1.7836858947922036,
          -0.3353688964873548,
          -1.1002301192684039,
          -0.6883952001486617,
          -1.5764860675414936,
          -0.6433657782077495,
          1.097576865535247,
          -0.023602921622034694,
          -0.029463692580862483,
          0.2358983482389432,
          0.27894641922849245,
          0.30550114510394016,
          0.8867657472418506,
          0.9319324919522,
          -0.01664626305233927,
          -0.5007055914851937,
          1.5554489026110867,
          0.3985089102148669,
          -1.7988728013549453,
          0.33490036387429,
          -0.3185069447544962,
          -0.10960628009446838,
          0.5677453220093496,
          -0.9445892255243346,
          -0.6654555763718258,
          1.3332815274819332,
          0.9620523328660819,
          0.0627271471645771,
          -1.5219745869359935,
          1.8456224867766633,
          0.35193461333641635,
          -0.6911844965770978,
          -1.9382109908973897,
          0.5101622352180557,
          0.04141713857864906,
          0.7348149162733385,
          0.08876588617886874,
          -0.20605819017878488,
          -0.5796140389078577,
          -0.27512891936251505,
          -1.108562305937151,
          0.83556234684711
         ],
         "yaxis": "y7"
        },
        {
         "line": {
          "color": "rgba(128, 128, 128, 1.0)",
          "dash": "solid",
          "shape": "linear",
          "width": 1.3
         },
         "marker": {
          "size": 2,
          "symbol": "circle"
         },
         "mode": "markers",
         "name": "B",
         "text": "",
         "type": "scatter",
         "x": [
          1.3915284842186988,
          0.5185130094144702,
          -1.0606253421777951,
          -0.24460755193586287,
          0.8202241426829425,
          -0.887582315304925,
          -2.8538309597752867,
          -0.9735586571847238,
          1.450536278286463,
          1.2760657489482605,
          -1.5652882182832306,
          1.4645914708923071,
          0.09329788490746273,
          0.8057167710446781,
          1.0152273362785735,
          -0.7978662004859711,
          -0.8365744231983471,
          0.28424634824466244,
          -1.8915142256077258,
          0.3739809215343839,
          0.051329217894539,
          0.9256733937623756,
          -0.35179554429520843,
          -1.9033909214042593,
          0.45264744995978906,
          -0.5807322459220383,
          -0.11435315011914135,
          -0.30398911522147987,
          -0.08458819819471305,
          1.4295666865836059,
          -1.3657316946782658,
          0.5735423214731328,
          1.6572412107323413,
          -0.760872677119515,
          -1.2392615031108305,
          0.14803104558174862,
          -0.8561087960484719,
          -0.5128541761649891,
          -0.28488806627419583,
          -0.18465941989611753,
          -2.232825107959683,
          0.33473747004274823,
          0.6606241943088436,
          0.019623914803615285,
          -0.7584006645927847,
          2.8377835630481405,
          -0.6266276799272331,
          -0.6532095561165252,
          0.29170074098777793,
          -1.1665894943988193,
          -0.3376741908898411,
          1.0751891517480283,
          -0.6448449862168085,
          1.214573859061091,
          -0.034778294663861654,
          -0.6213694553867667,
          -1.0610596965100185,
          0.6479555596462478,
          0.9068247873074341,
          -1.5401656730162003,
          -0.7080391573628131,
          -0.7829170746864355,
          -0.4255437274019955,
          -0.3962885151997171,
          1.2386728246527157,
          -1.2016150089134001,
          0.5149137342604595,
          -0.7120689231800665,
          -0.9801118556510571,
          0.31712839974847895,
          0.9341300403425877,
          -0.7035089651286938,
          -0.5637510964979929,
          -0.40643637929223103,
          1.4717157907239993,
          -2.4316467529894203,
          1.8425226033591404,
          0.08085620949960143,
          -0.539388341835714,
          0.41145218196658184,
          1.7713082753781175,
          0.800238042387477,
          0.2907060923613845,
          0.6707859099022279,
          1.5618649336698032,
          0.6230978393033384,
          -0.9297961775205729,
          -2.369073884926949,
          -0.6835387244012849,
          1.4185669493114144,
          -0.449922261659089,
          0.37849098997281494,
          0.884469678375085,
          -2.378754245172478,
          -1.1934731790828719,
          0.12692321653002386,
          0.8237573446074903,
          -0.01818332015703452,
          0.9806165462699724,
          0.5801263631830152
         ],
         "xaxis": "x8",
         "y": [
          -0.3210616890439768,
          0.014731334124076999,
          0.5366938623242867,
          -0.28347189457944116,
          0.045451557025280365,
          0.13459038631390496,
          0.7680897864672134,
          -0.5605600823698804,
          1.6570181797969776,
          0.6384146948817033,
          1.3887234430034054,
          -0.09505479464596212,
          0.3793871989929514,
          0.968138373003798,
          0.5570971336800378,
          -0.12022809907427562,
          1.225767443374642,
          -0.48103582404950523,
          0.31237187179067677,
          -1.5541642248570275,
          -0.0905732283356259,
          -0.7121648301099559,
          -0.8980559307398618,
          0.7505948170765744,
          -0.08743327787437438,
          0.7381569910231944,
          1.0578906584070804,
          0.609010499655325,
          -0.07991913941469375,
          -0.9809062194854374,
          -0.3927567552348754,
          1.1779490224473685,
          0.5861320936097942,
          -1.9586149587331063,
          -0.7503025630835873,
          2.111168813334928,
          1.1724683723332443,
          0.41124561482519084,
          -0.8073090559661715,
          -0.6001700359496503,
          0.924992852207575,
          0.564903133816479,
          -1.329485783727274,
          -0.9042900886398983,
          0.7446229259164912,
          -0.6664395834381821,
          1.790641696870415,
          -0.7000508417729924,
          -2.124025946845946,
          1.427339440341842,
          -0.023434047825694505,
          -2.184151730277451,
          -0.2743737245978753,
          0.08652959980978199,
          0.7073634897595449,
          0.5328211228340343,
          1.8902284648569976,
          0.21527531979477196,
          -1.7836858947922036,
          -0.3353688964873548,
          -1.1002301192684039,
          -0.6883952001486617,
          -1.5764860675414936,
          -0.6433657782077495,
          1.097576865535247,
          -0.023602921622034694,
          -0.029463692580862483,
          0.2358983482389432,
          0.27894641922849245,
          0.30550114510394016,
          0.8867657472418506,
          0.9319324919522,
          -0.01664626305233927,
          -0.5007055914851937,
          1.5554489026110867,
          0.3985089102148669,
          -1.7988728013549453,
          0.33490036387429,
          -0.3185069447544962,
          -0.10960628009446838,
          0.5677453220093496,
          -0.9445892255243346,
          -0.6654555763718258,
          1.3332815274819332,
          0.9620523328660819,
          0.0627271471645771,
          -1.5219745869359935,
          1.8456224867766633,
          0.35193461333641635,
          -0.6911844965770978,
          -1.9382109908973897,
          0.5101622352180557,
          0.04141713857864906,
          0.7348149162733385,
          0.08876588617886874,
          -0.20605819017878488,
          -0.5796140389078577,
          -0.27512891936251505,
          -1.108562305937151,
          0.83556234684711
         ],
         "yaxis": "y8"
        },
        {
         "line": {
          "color": "rgba(128, 128, 128, 1.0)",
          "dash": "solid",
          "shape": "linear",
          "width": 1.3
         },
         "marker": {
          "size": 2,
          "symbol": "circle"
         },
         "mode": "markers",
         "name": "C",
         "text": "",
         "type": "scatter",
         "x": [
          0.5465783073064772,
          -0.29266683075288924,
          0.6231870996745854,
          -0.834383727710256,
          0.07267124236383367,
          0.546609283854429,
          -1.131288781160773,
          0.9726279769132807,
          1.3036471779533993,
          0.09456737726953622,
          -1.4909951751412387,
          0.2486809006031248,
          -0.5041954963214929,
          1.090313604126461,
          0.5271065162022843,
          0.72996298455288,
          -0.5727674434124677,
          0.6981473528513243,
          0.42646244691734936,
          0.22561770627475097,
          1.3964635891379957,
          -1.028076763783862,
          -0.7918548050193706,
          0.6424988861128034,
          0.07700092744047617,
          0.2639476843988694,
          -1.3939121056913943,
          0.8022040203343273,
          -0.46413394434136784,
          0.2220320510302532,
          0.935281027468148,
          -0.7800155400860896,
          -0.416128340694564,
          1.3185965143422556,
          -0.9440127360391387,
          -0.6366557329525351,
          0.44540615728871885,
          -2.2642998115862225,
          -0.2850565034199015,
          1.0506044703218136,
          0.8378528542175177,
          -0.12868954137371466,
          -0.33798990823686026,
          0.1679192582551076,
          -0.9308238698161303,
          0.07517507846869902,
          0.5529139051581751,
          -0.6550066638750623,
          1.6622073144790908,
          -0.9563738629799234,
          -0.9039901786142885,
          -0.9224207152656744,
          0.7853020720624344,
          -0.9078645469319825,
          -1.0065774903612925,
          -0.6513350487302739,
          0.607897606343382,
          -0.7121619992871777,
          -1.0062801835740622,
          0.4151934066896479,
          0.42890807858108176,
          -1.4465094346493927,
          1.7219331417962913,
          -1.5053103553567573,
          -1.5460676762516719,
          -1.334470385973534,
          1.3820705239206281,
          1.149948100182805,
          0.48581062454288443,
          -2.9220312235168104,
          0.9688469690572168,
          0.4005785671067927,
          -1.7729643682929506,
          -2.254444960561575,
          2.8558789888409377,
          0.11684368509114042,
          -0.5921664352451752,
          -0.7669775175253448,
          0.3944947793185067,
          0.17970836550271987,
          0.7320087898796422,
          -0.3718994683294069,
          0.6490335347378919,
          1.61451773742073,
          2.2200311879880092,
          0.2652884204844432,
          -1.138292642211443,
          -1.0916461301727252,
          -0.6552002466498384,
          -0.17573927465249542,
          0.19807054658965803,
          -0.3135938770961247,
          0.9100592564889136,
          1.389689501439636,
          0.4571725986883691,
          -1.147513235584393,
          -0.2641384924636912,
          -2.4750908872422532,
          -0.3052555238066782,
          0.5126311294281619
         ],
         "xaxis": "x9",
         "y": [
          -1.5746635555132593,
          -0.8208519487525724,
          0.13411839178356635,
          -1.073405727107703,
          0.8492878024289273,
          2.254601176611265,
          -1.0878769204610368,
          0.05491395788764352,
          -0.938550021253144,
          0.0831501541026087,
          -0.37161067823376354,
          -0.8357041894404749,
          1.1719737829000128,
          -0.6860518985881422,
          0.8375667994557933,
          -0.9397053484941409,
          -1.7889322349233618,
          -0.13110549339808994,
          -0.21790251118483994,
          1.0243507066626305,
          -1.393511551476447,
          0.7960398950108859,
          0.3376177013303217,
          -0.27719455186705055,
          -0.599024528281968,
          -1.0448750802566376,
          -0.3299792930259386,
          0.9414823910779461,
          0.8128194717871082,
          -2.0017279544076882,
          -0.11565056175803837,
          -0.39887050385009104,
          0.24681073229257872,
          0.07438133150679462,
          0.7674862118999634,
          -0.2870042449544319,
          0.1874362991542395,
          0.8852072086506295,
          -1.5070637961266762,
          1.4263336865955873,
          0.19878349333474926,
          0.9749485819616145,
          -0.6868121389520477,
          0.9166637700665273,
          0.3502501972642983,
          -0.690876281143508,
          -1.2704903637223155,
          0.7390724833594484,
          1.547695798213712,
          -0.7232647324890362,
          -0.178124208961265,
          0.49891936425176653,
          -0.829477671631334,
          1.0726449576062738,
          1.1913989599956993,
          1.2782170998335898,
          0.7979436445528246,
          -0.9147442814326879,
          -0.08208447048785322,
          -1.9173840888427844,
          -0.5552102564992429,
          0.9741457675696146,
          0.11704030109082995,
          -0.9933189766534842,
          0.09936221246799455,
          -0.4242039091357622,
          0.58729575045313,
          -0.8066782132707256,
          0.29490148525810694,
          1.1530225437432087,
          1.5171876792595087,
          0.7673025283554721,
          0.9011567252593459,
          -1.3638062823045671,
          -1.8237245334450118,
          1.0923484618951989,
          -1.1349063046921946,
          -0.5663122283761413,
          1.343150277224588,
          1.423518043952554,
          0.15021591350662922,
          0.2517358159883754,
          -0.04953946581698489,
          -0.06582562263824401,
          0.5096721099198526,
          -1.0242755455221242,
          -0.4763164697743531,
          0.6918087074211218,
          -0.21631606753447347,
          1.6824576992982336,
          -0.9763443880200405,
          0.535678872534667,
          0.2758679542206118,
          -2.8352977193601707,
          -0.0008868871502166775,
          -0.3202137870334289,
          -0.9645916325091594,
          -0.3588390703210608,
          -1.5672693194465956,
          -0.43850581048894766
         ],
         "yaxis": "y9"
        },
        {
         "line": {
          "color": "rgba(128, 128, 128, 1.0)",
          "dash": "solid",
          "shape": "linear",
          "width": 1.3
         },
         "marker": {
          "size": 2,
          "symbol": "circle"
         },
         "mode": "markers",
         "name": "C",
         "text": "",
         "type": "scatter",
         "x": [
          -0.3210616890439768,
          0.014731334124076999,
          0.5366938623242867,
          -0.28347189457944116,
          0.045451557025280365,
          0.13459038631390496,
          0.7680897864672134,
          -0.5605600823698804,
          1.6570181797969776,
          0.6384146948817033,
          1.3887234430034054,
          -0.09505479464596212,
          0.3793871989929514,
          0.968138373003798,
          0.5570971336800378,
          -0.12022809907427562,
          1.225767443374642,
          -0.48103582404950523,
          0.31237187179067677,
          -1.5541642248570275,
          -0.0905732283356259,
          -0.7121648301099559,
          -0.8980559307398618,
          0.7505948170765744,
          -0.08743327787437438,
          0.7381569910231944,
          1.0578906584070804,
          0.609010499655325,
          -0.07991913941469375,
          -0.9809062194854374,
          -0.3927567552348754,
          1.1779490224473685,
          0.5861320936097942,
          -1.9586149587331063,
          -0.7503025630835873,
          2.111168813334928,
          1.1724683723332443,
          0.41124561482519084,
          -0.8073090559661715,
          -0.6001700359496503,
          0.924992852207575,
          0.564903133816479,
          -1.329485783727274,
          -0.9042900886398983,
          0.7446229259164912,
          -0.6664395834381821,
          1.790641696870415,
          -0.7000508417729924,
          -2.124025946845946,
          1.427339440341842,
          -0.023434047825694505,
          -2.184151730277451,
          -0.2743737245978753,
          0.08652959980978199,
          0.7073634897595449,
          0.5328211228340343,
          1.8902284648569976,
          0.21527531979477196,
          -1.7836858947922036,
          -0.3353688964873548,
          -1.1002301192684039,
          -0.6883952001486617,
          -1.5764860675414936,
          -0.6433657782077495,
          1.097576865535247,
          -0.023602921622034694,
          -0.029463692580862483,
          0.2358983482389432,
          0.27894641922849245,
          0.30550114510394016,
          0.8867657472418506,
          0.9319324919522,
          -0.01664626305233927,
          -0.5007055914851937,
          1.5554489026110867,
          0.3985089102148669,
          -1.7988728013549453,
          0.33490036387429,
          -0.3185069447544962,
          -0.10960628009446838,
          0.5677453220093496,
          -0.9445892255243346,
          -0.6654555763718258,
          1.3332815274819332,
          0.9620523328660819,
          0.0627271471645771,
          -1.5219745869359935,
          1.8456224867766633,
          0.35193461333641635,
          -0.6911844965770978,
          -1.9382109908973897,
          0.5101622352180557,
          0.04141713857864906,
          0.7348149162733385,
          0.08876588617886874,
          -0.20605819017878488,
          -0.5796140389078577,
          -0.27512891936251505,
          -1.108562305937151,
          0.83556234684711
         ],
         "xaxis": "x10",
         "y": [
          -1.5746635555132593,
          -0.8208519487525724,
          0.13411839178356635,
          -1.073405727107703,
          0.8492878024289273,
          2.254601176611265,
          -1.0878769204610368,
          0.05491395788764352,
          -0.938550021253144,
          0.0831501541026087,
          -0.37161067823376354,
          -0.8357041894404749,
          1.1719737829000128,
          -0.6860518985881422,
          0.8375667994557933,
          -0.9397053484941409,
          -1.7889322349233618,
          -0.13110549339808994,
          -0.21790251118483994,
          1.0243507066626305,
          -1.393511551476447,
          0.7960398950108859,
          0.3376177013303217,
          -0.27719455186705055,
          -0.599024528281968,
          -1.0448750802566376,
          -0.3299792930259386,
          0.9414823910779461,
          0.8128194717871082,
          -2.0017279544076882,
          -0.11565056175803837,
          -0.39887050385009104,
          0.24681073229257872,
          0.07438133150679462,
          0.7674862118999634,
          -0.2870042449544319,
          0.1874362991542395,
          0.8852072086506295,
          -1.5070637961266762,
          1.4263336865955873,
          0.19878349333474926,
          0.9749485819616145,
          -0.6868121389520477,
          0.9166637700665273,
          0.3502501972642983,
          -0.690876281143508,
          -1.2704903637223155,
          0.7390724833594484,
          1.547695798213712,
          -0.7232647324890362,
          -0.178124208961265,
          0.49891936425176653,
          -0.829477671631334,
          1.0726449576062738,
          1.1913989599956993,
          1.2782170998335898,
          0.7979436445528246,
          -0.9147442814326879,
          -0.08208447048785322,
          -1.9173840888427844,
          -0.5552102564992429,
          0.9741457675696146,
          0.11704030109082995,
          -0.9933189766534842,
          0.09936221246799455,
          -0.4242039091357622,
          0.58729575045313,
          -0.8066782132707256,
          0.29490148525810694,
          1.1530225437432087,
          1.5171876792595087,
          0.7673025283554721,
          0.9011567252593459,
          -1.3638062823045671,
          -1.8237245334450118,
          1.0923484618951989,
          -1.1349063046921946,
          -0.5663122283761413,
          1.343150277224588,
          1.423518043952554,
          0.15021591350662922,
          0.2517358159883754,
          -0.04953946581698489,
          -0.06582562263824401,
          0.5096721099198526,
          -1.0242755455221242,
          -0.4763164697743531,
          0.6918087074211218,
          -0.21631606753447347,
          1.6824576992982336,
          -0.9763443880200405,
          0.535678872534667,
          0.2758679542206118,
          -2.8352977193601707,
          -0.0008868871502166775,
          -0.3202137870334289,
          -0.9645916325091594,
          -0.3588390703210608,
          -1.5672693194465956,
          -0.43850581048894766
         ],
         "yaxis": "y10"
        },
        {
         "histfunc": "count",
         "histnorm": "",
         "marker": {
          "color": "rgba(50, 171, 96, 1.0)",
          "line": {
           "color": "#4D5663",
           "width": 1.3
          }
         },
         "name": "C",
         "nbinsx": 10,
         "opacity": 0.8,
         "orientation": "v",
         "type": "histogram",
         "x": [
          -1.5746635555132593,
          -0.8208519487525724,
          0.13411839178356635,
          -1.073405727107703,
          0.8492878024289273,
          2.254601176611265,
          -1.0878769204610368,
          0.05491395788764352,
          -0.938550021253144,
          0.0831501541026087,
          -0.37161067823376354,
          -0.8357041894404749,
          1.1719737829000128,
          -0.6860518985881422,
          0.8375667994557933,
          -0.9397053484941409,
          -1.7889322349233618,
          -0.13110549339808994,
          -0.21790251118483994,
          1.0243507066626305,
          -1.393511551476447,
          0.7960398950108859,
          0.3376177013303217,
          -0.27719455186705055,
          -0.599024528281968,
          -1.0448750802566376,
          -0.3299792930259386,
          0.9414823910779461,
          0.8128194717871082,
          -2.0017279544076882,
          -0.11565056175803837,
          -0.39887050385009104,
          0.24681073229257872,
          0.07438133150679462,
          0.7674862118999634,
          -0.2870042449544319,
          0.1874362991542395,
          0.8852072086506295,
          -1.5070637961266762,
          1.4263336865955873,
          0.19878349333474926,
          0.9749485819616145,
          -0.6868121389520477,
          0.9166637700665273,
          0.3502501972642983,
          -0.690876281143508,
          -1.2704903637223155,
          0.7390724833594484,
          1.547695798213712,
          -0.7232647324890362,
          -0.178124208961265,
          0.49891936425176653,
          -0.829477671631334,
          1.0726449576062738,
          1.1913989599956993,
          1.2782170998335898,
          0.7979436445528246,
          -0.9147442814326879,
          -0.08208447048785322,
          -1.9173840888427844,
          -0.5552102564992429,
          0.9741457675696146,
          0.11704030109082995,
          -0.9933189766534842,
          0.09936221246799455,
          -0.4242039091357622,
          0.58729575045313,
          -0.8066782132707256,
          0.29490148525810694,
          1.1530225437432087,
          1.5171876792595087,
          0.7673025283554721,
          0.9011567252593459,
          -1.3638062823045671,
          -1.8237245334450118,
          1.0923484618951989,
          -1.1349063046921946,
          -0.5663122283761413,
          1.343150277224588,
          1.423518043952554,
          0.15021591350662922,
          0.2517358159883754,
          -0.04953946581698489,
          -0.06582562263824401,
          0.5096721099198526,
          -1.0242755455221242,
          -0.4763164697743531,
          0.6918087074211218,
          -0.21631606753447347,
          1.6824576992982336,
          -0.9763443880200405,
          0.535678872534667,
          0.2758679542206118,
          -2.8352977193601707,
          -0.0008868871502166775,
          -0.3202137870334289,
          -0.9645916325091594,
          -0.3588390703210608,
          -1.5672693194465956,
          -0.43850581048894766
         ],
         "xaxis": "x11",
         "yaxis": "y11"
        },
        {
         "line": {
          "color": "rgba(128, 128, 128, 1.0)",
          "dash": "solid",
          "shape": "linear",
          "width": 1.3
         },
         "marker": {
          "size": 2,
          "symbol": "circle"
         },
         "mode": "markers",
         "name": "C",
         "text": "",
         "type": "scatter",
         "x": [
          1.3915284842186988,
          0.5185130094144702,
          -1.0606253421777951,
          -0.24460755193586287,
          0.8202241426829425,
          -0.887582315304925,
          -2.8538309597752867,
          -0.9735586571847238,
          1.450536278286463,
          1.2760657489482605,
          -1.5652882182832306,
          1.4645914708923071,
          0.09329788490746273,
          0.8057167710446781,
          1.0152273362785735,
          -0.7978662004859711,
          -0.8365744231983471,
          0.28424634824466244,
          -1.8915142256077258,
          0.3739809215343839,
          0.051329217894539,
          0.9256733937623756,
          -0.35179554429520843,
          -1.9033909214042593,
          0.45264744995978906,
          -0.5807322459220383,
          -0.11435315011914135,
          -0.30398911522147987,
          -0.08458819819471305,
          1.4295666865836059,
          -1.3657316946782658,
          0.5735423214731328,
          1.6572412107323413,
          -0.760872677119515,
          -1.2392615031108305,
          0.14803104558174862,
          -0.8561087960484719,
          -0.5128541761649891,
          -0.28488806627419583,
          -0.18465941989611753,
          -2.232825107959683,
          0.33473747004274823,
          0.6606241943088436,
          0.019623914803615285,
          -0.7584006645927847,
          2.8377835630481405,
          -0.6266276799272331,
          -0.6532095561165252,
          0.29170074098777793,
          -1.1665894943988193,
          -0.3376741908898411,
          1.0751891517480283,
          -0.6448449862168085,
          1.214573859061091,
          -0.034778294663861654,
          -0.6213694553867667,
          -1.0610596965100185,
          0.6479555596462478,
          0.9068247873074341,
          -1.5401656730162003,
          -0.7080391573628131,
          -0.7829170746864355,
          -0.4255437274019955,
          -0.3962885151997171,
          1.2386728246527157,
          -1.2016150089134001,
          0.5149137342604595,
          -0.7120689231800665,
          -0.9801118556510571,
          0.31712839974847895,
          0.9341300403425877,
          -0.7035089651286938,
          -0.5637510964979929,
          -0.40643637929223103,
          1.4717157907239993,
          -2.4316467529894203,
          1.8425226033591404,
          0.08085620949960143,
          -0.539388341835714,
          0.41145218196658184,
          1.7713082753781175,
          0.800238042387477,
          0.2907060923613845,
          0.6707859099022279,
          1.5618649336698032,
          0.6230978393033384,
          -0.9297961775205729,
          -2.369073884926949,
          -0.6835387244012849,
          1.4185669493114144,
          -0.449922261659089,
          0.37849098997281494,
          0.884469678375085,
          -2.378754245172478,
          -1.1934731790828719,
          0.12692321653002386,
          0.8237573446074903,
          -0.01818332015703452,
          0.9806165462699724,
          0.5801263631830152
         ],
         "xaxis": "x12",
         "y": [
          -1.5746635555132593,
          -0.8208519487525724,
          0.13411839178356635,
          -1.073405727107703,
          0.8492878024289273,
          2.254601176611265,
          -1.0878769204610368,
          0.05491395788764352,
          -0.938550021253144,
          0.0831501541026087,
          -0.37161067823376354,
          -0.8357041894404749,
          1.1719737829000128,
          -0.6860518985881422,
          0.8375667994557933,
          -0.9397053484941409,
          -1.7889322349233618,
          -0.13110549339808994,
          -0.21790251118483994,
          1.0243507066626305,
          -1.393511551476447,
          0.7960398950108859,
          0.3376177013303217,
          -0.27719455186705055,
          -0.599024528281968,
          -1.0448750802566376,
          -0.3299792930259386,
          0.9414823910779461,
          0.8128194717871082,
          -2.0017279544076882,
          -0.11565056175803837,
          -0.39887050385009104,
          0.24681073229257872,
          0.07438133150679462,
          0.7674862118999634,
          -0.2870042449544319,
          0.1874362991542395,
          0.8852072086506295,
          -1.5070637961266762,
          1.4263336865955873,
          0.19878349333474926,
          0.9749485819616145,
          -0.6868121389520477,
          0.9166637700665273,
          0.3502501972642983,
          -0.690876281143508,
          -1.2704903637223155,
          0.7390724833594484,
          1.547695798213712,
          -0.7232647324890362,
          -0.178124208961265,
          0.49891936425176653,
          -0.829477671631334,
          1.0726449576062738,
          1.1913989599956993,
          1.2782170998335898,
          0.7979436445528246,
          -0.9147442814326879,
          -0.08208447048785322,
          -1.9173840888427844,
          -0.5552102564992429,
          0.9741457675696146,
          0.11704030109082995,
          -0.9933189766534842,
          0.09936221246799455,
          -0.4242039091357622,
          0.58729575045313,
          -0.8066782132707256,
          0.29490148525810694,
          1.1530225437432087,
          1.5171876792595087,
          0.7673025283554721,
          0.9011567252593459,
          -1.3638062823045671,
          -1.8237245334450118,
          1.0923484618951989,
          -1.1349063046921946,
          -0.5663122283761413,
          1.343150277224588,
          1.423518043952554,
          0.15021591350662922,
          0.2517358159883754,
          -0.04953946581698489,
          -0.06582562263824401,
          0.5096721099198526,
          -1.0242755455221242,
          -0.4763164697743531,
          0.6918087074211218,
          -0.21631606753447347,
          1.6824576992982336,
          -0.9763443880200405,
          0.535678872534667,
          0.2758679542206118,
          -2.8352977193601707,
          -0.0008868871502166775,
          -0.3202137870334289,
          -0.9645916325091594,
          -0.3588390703210608,
          -1.5672693194465956,
          -0.43850581048894766
         ],
         "yaxis": "y12"
        },
        {
         "line": {
          "color": "rgba(128, 128, 128, 1.0)",
          "dash": "solid",
          "shape": "linear",
          "width": 1.3
         },
         "marker": {
          "size": 2,
          "symbol": "circle"
         },
         "mode": "markers",
         "name": "D",
         "text": "",
         "type": "scatter",
         "x": [
          0.5465783073064772,
          -0.29266683075288924,
          0.6231870996745854,
          -0.834383727710256,
          0.07267124236383367,
          0.546609283854429,
          -1.131288781160773,
          0.9726279769132807,
          1.3036471779533993,
          0.09456737726953622,
          -1.4909951751412387,
          0.2486809006031248,
          -0.5041954963214929,
          1.090313604126461,
          0.5271065162022843,
          0.72996298455288,
          -0.5727674434124677,
          0.6981473528513243,
          0.42646244691734936,
          0.22561770627475097,
          1.3964635891379957,
          -1.028076763783862,
          -0.7918548050193706,
          0.6424988861128034,
          0.07700092744047617,
          0.2639476843988694,
          -1.3939121056913943,
          0.8022040203343273,
          -0.46413394434136784,
          0.2220320510302532,
          0.935281027468148,
          -0.7800155400860896,
          -0.416128340694564,
          1.3185965143422556,
          -0.9440127360391387,
          -0.6366557329525351,
          0.44540615728871885,
          -2.2642998115862225,
          -0.2850565034199015,
          1.0506044703218136,
          0.8378528542175177,
          -0.12868954137371466,
          -0.33798990823686026,
          0.1679192582551076,
          -0.9308238698161303,
          0.07517507846869902,
          0.5529139051581751,
          -0.6550066638750623,
          1.6622073144790908,
          -0.9563738629799234,
          -0.9039901786142885,
          -0.9224207152656744,
          0.7853020720624344,
          -0.9078645469319825,
          -1.0065774903612925,
          -0.6513350487302739,
          0.607897606343382,
          -0.7121619992871777,
          -1.0062801835740622,
          0.4151934066896479,
          0.42890807858108176,
          -1.4465094346493927,
          1.7219331417962913,
          -1.5053103553567573,
          -1.5460676762516719,
          -1.334470385973534,
          1.3820705239206281,
          1.149948100182805,
          0.48581062454288443,
          -2.9220312235168104,
          0.9688469690572168,
          0.4005785671067927,
          -1.7729643682929506,
          -2.254444960561575,
          2.8558789888409377,
          0.11684368509114042,
          -0.5921664352451752,
          -0.7669775175253448,
          0.3944947793185067,
          0.17970836550271987,
          0.7320087898796422,
          -0.3718994683294069,
          0.6490335347378919,
          1.61451773742073,
          2.2200311879880092,
          0.2652884204844432,
          -1.138292642211443,
          -1.0916461301727252,
          -0.6552002466498384,
          -0.17573927465249542,
          0.19807054658965803,
          -0.3135938770961247,
          0.9100592564889136,
          1.389689501439636,
          0.4571725986883691,
          -1.147513235584393,
          -0.2641384924636912,
          -2.4750908872422532,
          -0.3052555238066782,
          0.5126311294281619
         ],
         "xaxis": "x13",
         "y": [
          1.3915284842186988,
          0.5185130094144702,
          -1.0606253421777951,
          -0.24460755193586287,
          0.8202241426829425,
          -0.887582315304925,
          -2.8538309597752867,
          -0.9735586571847238,
          1.450536278286463,
          1.2760657489482605,
          -1.5652882182832306,
          1.4645914708923071,
          0.09329788490746273,
          0.8057167710446781,
          1.0152273362785735,
          -0.7978662004859711,
          -0.8365744231983471,
          0.28424634824466244,
          -1.8915142256077258,
          0.3739809215343839,
          0.051329217894539,
          0.9256733937623756,
          -0.35179554429520843,
          -1.9033909214042593,
          0.45264744995978906,
          -0.5807322459220383,
          -0.11435315011914135,
          -0.30398911522147987,
          -0.08458819819471305,
          1.4295666865836059,
          -1.3657316946782658,
          0.5735423214731328,
          1.6572412107323413,
          -0.760872677119515,
          -1.2392615031108305,
          0.14803104558174862,
          -0.8561087960484719,
          -0.5128541761649891,
          -0.28488806627419583,
          -0.18465941989611753,
          -2.232825107959683,
          0.33473747004274823,
          0.6606241943088436,
          0.019623914803615285,
          -0.7584006645927847,
          2.8377835630481405,
          -0.6266276799272331,
          -0.6532095561165252,
          0.29170074098777793,
          -1.1665894943988193,
          -0.3376741908898411,
          1.0751891517480283,
          -0.6448449862168085,
          1.214573859061091,
          -0.034778294663861654,
          -0.6213694553867667,
          -1.0610596965100185,
          0.6479555596462478,
          0.9068247873074341,
          -1.5401656730162003,
          -0.7080391573628131,
          -0.7829170746864355,
          -0.4255437274019955,
          -0.3962885151997171,
          1.2386728246527157,
          -1.2016150089134001,
          0.5149137342604595,
          -0.7120689231800665,
          -0.9801118556510571,
          0.31712839974847895,
          0.9341300403425877,
          -0.7035089651286938,
          -0.5637510964979929,
          -0.40643637929223103,
          1.4717157907239993,
          -2.4316467529894203,
          1.8425226033591404,
          0.08085620949960143,
          -0.539388341835714,
          0.41145218196658184,
          1.7713082753781175,
          0.800238042387477,
          0.2907060923613845,
          0.6707859099022279,
          1.5618649336698032,
          0.6230978393033384,
          -0.9297961775205729,
          -2.369073884926949,
          -0.6835387244012849,
          1.4185669493114144,
          -0.449922261659089,
          0.37849098997281494,
          0.884469678375085,
          -2.378754245172478,
          -1.1934731790828719,
          0.12692321653002386,
          0.8237573446074903,
          -0.01818332015703452,
          0.9806165462699724,
          0.5801263631830152
         ],
         "yaxis": "y13"
        },
        {
         "line": {
          "color": "rgba(128, 128, 128, 1.0)",
          "dash": "solid",
          "shape": "linear",
          "width": 1.3
         },
         "marker": {
          "size": 2,
          "symbol": "circle"
         },
         "mode": "markers",
         "name": "D",
         "text": "",
         "type": "scatter",
         "x": [
          -0.3210616890439768,
          0.014731334124076999,
          0.5366938623242867,
          -0.28347189457944116,
          0.045451557025280365,
          0.13459038631390496,
          0.7680897864672134,
          -0.5605600823698804,
          1.6570181797969776,
          0.6384146948817033,
          1.3887234430034054,
          -0.09505479464596212,
          0.3793871989929514,
          0.968138373003798,
          0.5570971336800378,
          -0.12022809907427562,
          1.225767443374642,
          -0.48103582404950523,
          0.31237187179067677,
          -1.5541642248570275,
          -0.0905732283356259,
          -0.7121648301099559,
          -0.8980559307398618,
          0.7505948170765744,
          -0.08743327787437438,
          0.7381569910231944,
          1.0578906584070804,
          0.609010499655325,
          -0.07991913941469375,
          -0.9809062194854374,
          -0.3927567552348754,
          1.1779490224473685,
          0.5861320936097942,
          -1.9586149587331063,
          -0.7503025630835873,
          2.111168813334928,
          1.1724683723332443,
          0.41124561482519084,
          -0.8073090559661715,
          -0.6001700359496503,
          0.924992852207575,
          0.564903133816479,
          -1.329485783727274,
          -0.9042900886398983,
          0.7446229259164912,
          -0.6664395834381821,
          1.790641696870415,
          -0.7000508417729924,
          -2.124025946845946,
          1.427339440341842,
          -0.023434047825694505,
          -2.184151730277451,
          -0.2743737245978753,
          0.08652959980978199,
          0.7073634897595449,
          0.5328211228340343,
          1.8902284648569976,
          0.21527531979477196,
          -1.7836858947922036,
          -0.3353688964873548,
          -1.1002301192684039,
          -0.6883952001486617,
          -1.5764860675414936,
          -0.6433657782077495,
          1.097576865535247,
          -0.023602921622034694,
          -0.029463692580862483,
          0.2358983482389432,
          0.27894641922849245,
          0.30550114510394016,
          0.8867657472418506,
          0.9319324919522,
          -0.01664626305233927,
          -0.5007055914851937,
          1.5554489026110867,
          0.3985089102148669,
          -1.7988728013549453,
          0.33490036387429,
          -0.3185069447544962,
          -0.10960628009446838,
          0.5677453220093496,
          -0.9445892255243346,
          -0.6654555763718258,
          1.3332815274819332,
          0.9620523328660819,
          0.0627271471645771,
          -1.5219745869359935,
          1.8456224867766633,
          0.35193461333641635,
          -0.6911844965770978,
          -1.9382109908973897,
          0.5101622352180557,
          0.04141713857864906,
          0.7348149162733385,
          0.08876588617886874,
          -0.20605819017878488,
          -0.5796140389078577,
          -0.27512891936251505,
          -1.108562305937151,
          0.83556234684711
         ],
         "xaxis": "x14",
         "y": [
          1.3915284842186988,
          0.5185130094144702,
          -1.0606253421777951,
          -0.24460755193586287,
          0.8202241426829425,
          -0.887582315304925,
          -2.8538309597752867,
          -0.9735586571847238,
          1.450536278286463,
          1.2760657489482605,
          -1.5652882182832306,
          1.4645914708923071,
          0.09329788490746273,
          0.8057167710446781,
          1.0152273362785735,
          -0.7978662004859711,
          -0.8365744231983471,
          0.28424634824466244,
          -1.8915142256077258,
          0.3739809215343839,
          0.051329217894539,
          0.9256733937623756,
          -0.35179554429520843,
          -1.9033909214042593,
          0.45264744995978906,
          -0.5807322459220383,
          -0.11435315011914135,
          -0.30398911522147987,
          -0.08458819819471305,
          1.4295666865836059,
          -1.3657316946782658,
          0.5735423214731328,
          1.6572412107323413,
          -0.760872677119515,
          -1.2392615031108305,
          0.14803104558174862,
          -0.8561087960484719,
          -0.5128541761649891,
          -0.28488806627419583,
          -0.18465941989611753,
          -2.232825107959683,
          0.33473747004274823,
          0.6606241943088436,
          0.019623914803615285,
          -0.7584006645927847,
          2.8377835630481405,
          -0.6266276799272331,
          -0.6532095561165252,
          0.29170074098777793,
          -1.1665894943988193,
          -0.3376741908898411,
          1.0751891517480283,
          -0.6448449862168085,
          1.214573859061091,
          -0.034778294663861654,
          -0.6213694553867667,
          -1.0610596965100185,
          0.6479555596462478,
          0.9068247873074341,
          -1.5401656730162003,
          -0.7080391573628131,
          -0.7829170746864355,
          -0.4255437274019955,
          -0.3962885151997171,
          1.2386728246527157,
          -1.2016150089134001,
          0.5149137342604595,
          -0.7120689231800665,
          -0.9801118556510571,
          0.31712839974847895,
          0.9341300403425877,
          -0.7035089651286938,
          -0.5637510964979929,
          -0.40643637929223103,
          1.4717157907239993,
          -2.4316467529894203,
          1.8425226033591404,
          0.08085620949960143,
          -0.539388341835714,
          0.41145218196658184,
          1.7713082753781175,
          0.800238042387477,
          0.2907060923613845,
          0.6707859099022279,
          1.5618649336698032,
          0.6230978393033384,
          -0.9297961775205729,
          -2.369073884926949,
          -0.6835387244012849,
          1.4185669493114144,
          -0.449922261659089,
          0.37849098997281494,
          0.884469678375085,
          -2.378754245172478,
          -1.1934731790828719,
          0.12692321653002386,
          0.8237573446074903,
          -0.01818332015703452,
          0.9806165462699724,
          0.5801263631830152
         ],
         "yaxis": "y14"
        },
        {
         "line": {
          "color": "rgba(128, 128, 128, 1.0)",
          "dash": "solid",
          "shape": "linear",
          "width": 1.3
         },
         "marker": {
          "size": 2,
          "symbol": "circle"
         },
         "mode": "markers",
         "name": "D",
         "text": "",
         "type": "scatter",
         "x": [
          -1.5746635555132593,
          -0.8208519487525724,
          0.13411839178356635,
          -1.073405727107703,
          0.8492878024289273,
          2.254601176611265,
          -1.0878769204610368,
          0.05491395788764352,
          -0.938550021253144,
          0.0831501541026087,
          -0.37161067823376354,
          -0.8357041894404749,
          1.1719737829000128,
          -0.6860518985881422,
          0.8375667994557933,
          -0.9397053484941409,
          -1.7889322349233618,
          -0.13110549339808994,
          -0.21790251118483994,
          1.0243507066626305,
          -1.393511551476447,
          0.7960398950108859,
          0.3376177013303217,
          -0.27719455186705055,
          -0.599024528281968,
          -1.0448750802566376,
          -0.3299792930259386,
          0.9414823910779461,
          0.8128194717871082,
          -2.0017279544076882,
          -0.11565056175803837,
          -0.39887050385009104,
          0.24681073229257872,
          0.07438133150679462,
          0.7674862118999634,
          -0.2870042449544319,
          0.1874362991542395,
          0.8852072086506295,
          -1.5070637961266762,
          1.4263336865955873,
          0.19878349333474926,
          0.9749485819616145,
          -0.6868121389520477,
          0.9166637700665273,
          0.3502501972642983,
          -0.690876281143508,
          -1.2704903637223155,
          0.7390724833594484,
          1.547695798213712,
          -0.7232647324890362,
          -0.178124208961265,
          0.49891936425176653,
          -0.829477671631334,
          1.0726449576062738,
          1.1913989599956993,
          1.2782170998335898,
          0.7979436445528246,
          -0.9147442814326879,
          -0.08208447048785322,
          -1.9173840888427844,
          -0.5552102564992429,
          0.9741457675696146,
          0.11704030109082995,
          -0.9933189766534842,
          0.09936221246799455,
          -0.4242039091357622,
          0.58729575045313,
          -0.8066782132707256,
          0.29490148525810694,
          1.1530225437432087,
          1.5171876792595087,
          0.7673025283554721,
          0.9011567252593459,
          -1.3638062823045671,
          -1.8237245334450118,
          1.0923484618951989,
          -1.1349063046921946,
          -0.5663122283761413,
          1.343150277224588,
          1.423518043952554,
          0.15021591350662922,
          0.2517358159883754,
          -0.04953946581698489,
          -0.06582562263824401,
          0.5096721099198526,
          -1.0242755455221242,
          -0.4763164697743531,
          0.6918087074211218,
          -0.21631606753447347,
          1.6824576992982336,
          -0.9763443880200405,
          0.535678872534667,
          0.2758679542206118,
          -2.8352977193601707,
          -0.0008868871502166775,
          -0.3202137870334289,
          -0.9645916325091594,
          -0.3588390703210608,
          -1.5672693194465956,
          -0.43850581048894766
         ],
         "xaxis": "x15",
         "y": [
          1.3915284842186988,
          0.5185130094144702,
          -1.0606253421777951,
          -0.24460755193586287,
          0.8202241426829425,
          -0.887582315304925,
          -2.8538309597752867,
          -0.9735586571847238,
          1.450536278286463,
          1.2760657489482605,
          -1.5652882182832306,
          1.4645914708923071,
          0.09329788490746273,
          0.8057167710446781,
          1.0152273362785735,
          -0.7978662004859711,
          -0.8365744231983471,
          0.28424634824466244,
          -1.8915142256077258,
          0.3739809215343839,
          0.051329217894539,
          0.9256733937623756,
          -0.35179554429520843,
          -1.9033909214042593,
          0.45264744995978906,
          -0.5807322459220383,
          -0.11435315011914135,
          -0.30398911522147987,
          -0.08458819819471305,
          1.4295666865836059,
          -1.3657316946782658,
          0.5735423214731328,
          1.6572412107323413,
          -0.760872677119515,
          -1.2392615031108305,
          0.14803104558174862,
          -0.8561087960484719,
          -0.5128541761649891,
          -0.28488806627419583,
          -0.18465941989611753,
          -2.232825107959683,
          0.33473747004274823,
          0.6606241943088436,
          0.019623914803615285,
          -0.7584006645927847,
          2.8377835630481405,
          -0.6266276799272331,
          -0.6532095561165252,
          0.29170074098777793,
          -1.1665894943988193,
          -0.3376741908898411,
          1.0751891517480283,
          -0.6448449862168085,
          1.214573859061091,
          -0.034778294663861654,
          -0.6213694553867667,
          -1.0610596965100185,
          0.6479555596462478,
          0.9068247873074341,
          -1.5401656730162003,
          -0.7080391573628131,
          -0.7829170746864355,
          -0.4255437274019955,
          -0.3962885151997171,
          1.2386728246527157,
          -1.2016150089134001,
          0.5149137342604595,
          -0.7120689231800665,
          -0.9801118556510571,
          0.31712839974847895,
          0.9341300403425877,
          -0.7035089651286938,
          -0.5637510964979929,
          -0.40643637929223103,
          1.4717157907239993,
          -2.4316467529894203,
          1.8425226033591404,
          0.08085620949960143,
          -0.539388341835714,
          0.41145218196658184,
          1.7713082753781175,
          0.800238042387477,
          0.2907060923613845,
          0.6707859099022279,
          1.5618649336698032,
          0.6230978393033384,
          -0.9297961775205729,
          -2.369073884926949,
          -0.6835387244012849,
          1.4185669493114144,
          -0.449922261659089,
          0.37849098997281494,
          0.884469678375085,
          -2.378754245172478,
          -1.1934731790828719,
          0.12692321653002386,
          0.8237573446074903,
          -0.01818332015703452,
          0.9806165462699724,
          0.5801263631830152
         ],
         "yaxis": "y15"
        },
        {
         "histfunc": "count",
         "histnorm": "",
         "marker": {
          "color": "rgba(128, 0, 128, 1.0)",
          "line": {
           "color": "#4D5663",
           "width": 1.3
          }
         },
         "name": "D",
         "nbinsx": 10,
         "opacity": 0.8,
         "orientation": "v",
         "type": "histogram",
         "x": [
          1.3915284842186988,
          0.5185130094144702,
          -1.0606253421777951,
          -0.24460755193586287,
          0.8202241426829425,
          -0.887582315304925,
          -2.8538309597752867,
          -0.9735586571847238,
          1.450536278286463,
          1.2760657489482605,
          -1.5652882182832306,
          1.4645914708923071,
          0.09329788490746273,
          0.8057167710446781,
          1.0152273362785735,
          -0.7978662004859711,
          -0.8365744231983471,
          0.28424634824466244,
          -1.8915142256077258,
          0.3739809215343839,
          0.051329217894539,
          0.9256733937623756,
          -0.35179554429520843,
          -1.9033909214042593,
          0.45264744995978906,
          -0.5807322459220383,
          -0.11435315011914135,
          -0.30398911522147987,
          -0.08458819819471305,
          1.4295666865836059,
          -1.3657316946782658,
          0.5735423214731328,
          1.6572412107323413,
          -0.760872677119515,
          -1.2392615031108305,
          0.14803104558174862,
          -0.8561087960484719,
          -0.5128541761649891,
          -0.28488806627419583,
          -0.18465941989611753,
          -2.232825107959683,
          0.33473747004274823,
          0.6606241943088436,
          0.019623914803615285,
          -0.7584006645927847,
          2.8377835630481405,
          -0.6266276799272331,
          -0.6532095561165252,
          0.29170074098777793,
          -1.1665894943988193,
          -0.3376741908898411,
          1.0751891517480283,
          -0.6448449862168085,
          1.214573859061091,
          -0.034778294663861654,
          -0.6213694553867667,
          -1.0610596965100185,
          0.6479555596462478,
          0.9068247873074341,
          -1.5401656730162003,
          -0.7080391573628131,
          -0.7829170746864355,
          -0.4255437274019955,
          -0.3962885151997171,
          1.2386728246527157,
          -1.2016150089134001,
          0.5149137342604595,
          -0.7120689231800665,
          -0.9801118556510571,
          0.31712839974847895,
          0.9341300403425877,
          -0.7035089651286938,
          -0.5637510964979929,
          -0.40643637929223103,
          1.4717157907239993,
          -2.4316467529894203,
          1.8425226033591404,
          0.08085620949960143,
          -0.539388341835714,
          0.41145218196658184,
          1.7713082753781175,
          0.800238042387477,
          0.2907060923613845,
          0.6707859099022279,
          1.5618649336698032,
          0.6230978393033384,
          -0.9297961775205729,
          -2.369073884926949,
          -0.6835387244012849,
          1.4185669493114144,
          -0.449922261659089,
          0.37849098997281494,
          0.884469678375085,
          -2.378754245172478,
          -1.1934731790828719,
          0.12692321653002386,
          0.8237573446074903,
          -0.01818332015703452,
          0.9806165462699724,
          0.5801263631830152
         ],
         "xaxis": "x16",
         "yaxis": "y16"
        }
       ],
       "layout": {
        "bargap": 0.02,
        "legend": {
         "bgcolor": "#F5F6F9",
         "font": {
          "color": "#4D5663"
         }
        },
        "paper_bgcolor": "#F5F6F9",
        "plot_bgcolor": "#F5F6F9",
        "showlegend": false,
        "template": {
         "data": {
          "bar": [
           {
            "error_x": {
             "color": "#2a3f5f"
            },
            "error_y": {
             "color": "#2a3f5f"
            },
            "marker": {
             "line": {
              "color": "#E5ECF6",
              "width": 0.5
             }
            },
            "type": "bar"
           }
          ],
          "barpolar": [
           {
            "marker": {
             "line": {
              "color": "#E5ECF6",
              "width": 0.5
             }
            },
            "type": "barpolar"
           }
          ],
          "carpet": [
           {
            "aaxis": {
             "endlinecolor": "#2a3f5f",
             "gridcolor": "white",
             "linecolor": "white",
             "minorgridcolor": "white",
             "startlinecolor": "#2a3f5f"
            },
            "baxis": {
             "endlinecolor": "#2a3f5f",
             "gridcolor": "white",
             "linecolor": "white",
             "minorgridcolor": "white",
             "startlinecolor": "#2a3f5f"
            },
            "type": "carpet"
           }
          ],
          "choropleth": [
           {
            "colorbar": {
             "outlinewidth": 0,
             "ticks": ""
            },
            "type": "choropleth"
           }
          ],
          "contour": [
           {
            "colorbar": {
             "outlinewidth": 0,
             "ticks": ""
            },
            "colorscale": [
             [
              0,
              "#0d0887"
             ],
             [
              0.1111111111111111,
              "#46039f"
             ],
             [
              0.2222222222222222,
              "#7201a8"
             ],
             [
              0.3333333333333333,
              "#9c179e"
             ],
             [
              0.4444444444444444,
              "#bd3786"
             ],
             [
              0.5555555555555556,
              "#d8576b"
             ],
             [
              0.6666666666666666,
              "#ed7953"
             ],
             [
              0.7777777777777778,
              "#fb9f3a"
             ],
             [
              0.8888888888888888,
              "#fdca26"
             ],
             [
              1,
              "#f0f921"
             ]
            ],
            "type": "contour"
           }
          ],
          "contourcarpet": [
           {
            "colorbar": {
             "outlinewidth": 0,
             "ticks": ""
            },
            "type": "contourcarpet"
           }
          ],
          "heatmap": [
           {
            "colorbar": {
             "outlinewidth": 0,
             "ticks": ""
            },
            "colorscale": [
             [
              0,
              "#0d0887"
             ],
             [
              0.1111111111111111,
              "#46039f"
             ],
             [
              0.2222222222222222,
              "#7201a8"
             ],
             [
              0.3333333333333333,
              "#9c179e"
             ],
             [
              0.4444444444444444,
              "#bd3786"
             ],
             [
              0.5555555555555556,
              "#d8576b"
             ],
             [
              0.6666666666666666,
              "#ed7953"
             ],
             [
              0.7777777777777778,
              "#fb9f3a"
             ],
             [
              0.8888888888888888,
              "#fdca26"
             ],
             [
              1,
              "#f0f921"
             ]
            ],
            "type": "heatmap"
           }
          ],
          "heatmapgl": [
           {
            "colorbar": {
             "outlinewidth": 0,
             "ticks": ""
            },
            "colorscale": [
             [
              0,
              "#0d0887"
             ],
             [
              0.1111111111111111,
              "#46039f"
             ],
             [
              0.2222222222222222,
              "#7201a8"
             ],
             [
              0.3333333333333333,
              "#9c179e"
             ],
             [
              0.4444444444444444,
              "#bd3786"
             ],
             [
              0.5555555555555556,
              "#d8576b"
             ],
             [
              0.6666666666666666,
              "#ed7953"
             ],
             [
              0.7777777777777778,
              "#fb9f3a"
             ],
             [
              0.8888888888888888,
              "#fdca26"
             ],
             [
              1,
              "#f0f921"
             ]
            ],
            "type": "heatmapgl"
           }
          ],
          "histogram": [
           {
            "marker": {
             "colorbar": {
              "outlinewidth": 0,
              "ticks": ""
             }
            },
            "type": "histogram"
           }
          ],
          "histogram2d": [
           {
            "colorbar": {
             "outlinewidth": 0,
             "ticks": ""
            },
            "colorscale": [
             [
              0,
              "#0d0887"
             ],
             [
              0.1111111111111111,
              "#46039f"
             ],
             [
              0.2222222222222222,
              "#7201a8"
             ],
             [
              0.3333333333333333,
              "#9c179e"
             ],
             [
              0.4444444444444444,
              "#bd3786"
             ],
             [
              0.5555555555555556,
              "#d8576b"
             ],
             [
              0.6666666666666666,
              "#ed7953"
             ],
             [
              0.7777777777777778,
              "#fb9f3a"
             ],
             [
              0.8888888888888888,
              "#fdca26"
             ],
             [
              1,
              "#f0f921"
             ]
            ],
            "type": "histogram2d"
           }
          ],
          "histogram2dcontour": [
           {
            "colorbar": {
             "outlinewidth": 0,
             "ticks": ""
            },
            "colorscale": [
             [
              0,
              "#0d0887"
             ],
             [
              0.1111111111111111,
              "#46039f"
             ],
             [
              0.2222222222222222,
              "#7201a8"
             ],
             [
              0.3333333333333333,
              "#9c179e"
             ],
             [
              0.4444444444444444,
              "#bd3786"
             ],
             [
              0.5555555555555556,
              "#d8576b"
             ],
             [
              0.6666666666666666,
              "#ed7953"
             ],
             [
              0.7777777777777778,
              "#fb9f3a"
             ],
             [
              0.8888888888888888,
              "#fdca26"
             ],
             [
              1,
              "#f0f921"
             ]
            ],
            "type": "histogram2dcontour"
           }
          ],
          "mesh3d": [
           {
            "colorbar": {
             "outlinewidth": 0,
             "ticks": ""
            },
            "type": "mesh3d"
           }
          ],
          "parcoords": [
           {
            "line": {
             "colorbar": {
              "outlinewidth": 0,
              "ticks": ""
             }
            },
            "type": "parcoords"
           }
          ],
          "pie": [
           {
            "automargin": true,
            "type": "pie"
           }
          ],
          "scatter": [
           {
            "marker": {
             "colorbar": {
              "outlinewidth": 0,
              "ticks": ""
             }
            },
            "type": "scatter"
           }
          ],
          "scatter3d": [
           {
            "line": {
             "colorbar": {
              "outlinewidth": 0,
              "ticks": ""
             }
            },
            "marker": {
             "colorbar": {
              "outlinewidth": 0,
              "ticks": ""
             }
            },
            "type": "scatter3d"
           }
          ],
          "scattercarpet": [
           {
            "marker": {
             "colorbar": {
              "outlinewidth": 0,
              "ticks": ""
             }
            },
            "type": "scattercarpet"
           }
          ],
          "scattergeo": [
           {
            "marker": {
             "colorbar": {
              "outlinewidth": 0,
              "ticks": ""
             }
            },
            "type": "scattergeo"
           }
          ],
          "scattergl": [
           {
            "marker": {
             "colorbar": {
              "outlinewidth": 0,
              "ticks": ""
             }
            },
            "type": "scattergl"
           }
          ],
          "scattermapbox": [
           {
            "marker": {
             "colorbar": {
              "outlinewidth": 0,
              "ticks": ""
             }
            },
            "type": "scattermapbox"
           }
          ],
          "scatterpolar": [
           {
            "marker": {
             "colorbar": {
              "outlinewidth": 0,
              "ticks": ""
             }
            },
            "type": "scatterpolar"
           }
          ],
          "scatterpolargl": [
           {
            "marker": {
             "colorbar": {
              "outlinewidth": 0,
              "ticks": ""
             }
            },
            "type": "scatterpolargl"
           }
          ],
          "scatterternary": [
           {
            "marker": {
             "colorbar": {
              "outlinewidth": 0,
              "ticks": ""
             }
            },
            "type": "scatterternary"
           }
          ],
          "surface": [
           {
            "colorbar": {
             "outlinewidth": 0,
             "ticks": ""
            },
            "colorscale": [
             [
              0,
              "#0d0887"
             ],
             [
              0.1111111111111111,
              "#46039f"
             ],
             [
              0.2222222222222222,
              "#7201a8"
             ],
             [
              0.3333333333333333,
              "#9c179e"
             ],
             [
              0.4444444444444444,
              "#bd3786"
             ],
             [
              0.5555555555555556,
              "#d8576b"
             ],
             [
              0.6666666666666666,
              "#ed7953"
             ],
             [
              0.7777777777777778,
              "#fb9f3a"
             ],
             [
              0.8888888888888888,
              "#fdca26"
             ],
             [
              1,
              "#f0f921"
             ]
            ],
            "type": "surface"
           }
          ],
          "table": [
           {
            "cells": {
             "fill": {
              "color": "#EBF0F8"
             },
             "line": {
              "color": "white"
             }
            },
            "header": {
             "fill": {
              "color": "#C8D4E3"
             },
             "line": {
              "color": "white"
             }
            },
            "type": "table"
           }
          ]
         },
         "layout": {
          "annotationdefaults": {
           "arrowcolor": "#2a3f5f",
           "arrowhead": 0,
           "arrowwidth": 1
          },
          "autotypenumbers": "strict",
          "coloraxis": {
           "colorbar": {
            "outlinewidth": 0,
            "ticks": ""
           }
          },
          "colorscale": {
           "diverging": [
            [
             0,
             "#8e0152"
            ],
            [
             0.1,
             "#c51b7d"
            ],
            [
             0.2,
             "#de77ae"
            ],
            [
             0.3,
             "#f1b6da"
            ],
            [
             0.4,
             "#fde0ef"
            ],
            [
             0.5,
             "#f7f7f7"
            ],
            [
             0.6,
             "#e6f5d0"
            ],
            [
             0.7,
             "#b8e186"
            ],
            [
             0.8,
             "#7fbc41"
            ],
            [
             0.9,
             "#4d9221"
            ],
            [
             1,
             "#276419"
            ]
           ],
           "sequential": [
            [
             0,
             "#0d0887"
            ],
            [
             0.1111111111111111,
             "#46039f"
            ],
            [
             0.2222222222222222,
             "#7201a8"
            ],
            [
             0.3333333333333333,
             "#9c179e"
            ],
            [
             0.4444444444444444,
             "#bd3786"
            ],
            [
             0.5555555555555556,
             "#d8576b"
            ],
            [
             0.6666666666666666,
             "#ed7953"
            ],
            [
             0.7777777777777778,
             "#fb9f3a"
            ],
            [
             0.8888888888888888,
             "#fdca26"
            ],
            [
             1,
             "#f0f921"
            ]
           ],
           "sequentialminus": [
            [
             0,
             "#0d0887"
            ],
            [
             0.1111111111111111,
             "#46039f"
            ],
            [
             0.2222222222222222,
             "#7201a8"
            ],
            [
             0.3333333333333333,
             "#9c179e"
            ],
            [
             0.4444444444444444,
             "#bd3786"
            ],
            [
             0.5555555555555556,
             "#d8576b"
            ],
            [
             0.6666666666666666,
             "#ed7953"
            ],
            [
             0.7777777777777778,
             "#fb9f3a"
            ],
            [
             0.8888888888888888,
             "#fdca26"
            ],
            [
             1,
             "#f0f921"
            ]
           ]
          },
          "colorway": [
           "#636efa",
           "#EF553B",
           "#00cc96",
           "#ab63fa",
           "#FFA15A",
           "#19d3f3",
           "#FF6692",
           "#B6E880",
           "#FF97FF",
           "#FECB52"
          ],
          "font": {
           "color": "#2a3f5f"
          },
          "geo": {
           "bgcolor": "white",
           "lakecolor": "white",
           "landcolor": "#E5ECF6",
           "showlakes": true,
           "showland": true,
           "subunitcolor": "white"
          },
          "hoverlabel": {
           "align": "left"
          },
          "hovermode": "closest",
          "mapbox": {
           "style": "light"
          },
          "paper_bgcolor": "white",
          "plot_bgcolor": "#E5ECF6",
          "polar": {
           "angularaxis": {
            "gridcolor": "white",
            "linecolor": "white",
            "ticks": ""
           },
           "bgcolor": "#E5ECF6",
           "radialaxis": {
            "gridcolor": "white",
            "linecolor": "white",
            "ticks": ""
           }
          },
          "scene": {
           "xaxis": {
            "backgroundcolor": "#E5ECF6",
            "gridcolor": "white",
            "gridwidth": 2,
            "linecolor": "white",
            "showbackground": true,
            "ticks": "",
            "zerolinecolor": "white"
           },
           "yaxis": {
            "backgroundcolor": "#E5ECF6",
            "gridcolor": "white",
            "gridwidth": 2,
            "linecolor": "white",
            "showbackground": true,
            "ticks": "",
            "zerolinecolor": "white"
           },
           "zaxis": {
            "backgroundcolor": "#E5ECF6",
            "gridcolor": "white",
            "gridwidth": 2,
            "linecolor": "white",
            "showbackground": true,
            "ticks": "",
            "zerolinecolor": "white"
           }
          },
          "shapedefaults": {
           "line": {
            "color": "#2a3f5f"
           }
          },
          "ternary": {
           "aaxis": {
            "gridcolor": "white",
            "linecolor": "white",
            "ticks": ""
           },
           "baxis": {
            "gridcolor": "white",
            "linecolor": "white",
            "ticks": ""
           },
           "bgcolor": "#E5ECF6",
           "caxis": {
            "gridcolor": "white",
            "linecolor": "white",
            "ticks": ""
           }
          },
          "title": {
           "x": 0.05
          },
          "xaxis": {
           "automargin": true,
           "gridcolor": "white",
           "linecolor": "white",
           "ticks": "",
           "title": {
            "standoff": 15
           },
           "zerolinecolor": "white",
           "zerolinewidth": 2
          },
          "yaxis": {
           "automargin": true,
           "gridcolor": "white",
           "linecolor": "white",
           "ticks": "",
           "title": {
            "standoff": 15
           },
           "zerolinecolor": "white",
           "zerolinewidth": 2
          }
         }
        },
        "title": {
         "font": {
          "color": "#4D5663"
         }
        },
        "xaxis": {
         "anchor": "y",
         "domain": [
          0,
          0.2125
         ],
         "gridcolor": "#E1E5ED",
         "showgrid": false,
         "tickfont": {
          "color": "#4D5663"
         },
         "title": {
          "font": {
           "color": "#4D5663"
          },
          "text": ""
         },
         "zerolinecolor": "#E1E5ED"
        },
        "xaxis10": {
         "anchor": "y10",
         "domain": [
          0.2625,
          0.475
         ],
         "gridcolor": "#E1E5ED",
         "showgrid": false,
         "tickfont": {
          "color": "#4D5663"
         },
         "title": {
          "font": {
           "color": "#4D5663"
          },
          "text": ""
         },
         "zerolinecolor": "#E1E5ED"
        },
        "xaxis11": {
         "anchor": "y11",
         "domain": [
          0.525,
          0.7375
         ],
         "gridcolor": "#E1E5ED",
         "showgrid": false,
         "tickfont": {
          "color": "#4D5663"
         },
         "title": {
          "font": {
           "color": "#4D5663"
          },
          "text": ""
         },
         "zerolinecolor": "#E1E5ED"
        },
        "xaxis12": {
         "anchor": "y12",
         "domain": [
          0.7875,
          1
         ],
         "gridcolor": "#E1E5ED",
         "showgrid": false,
         "tickfont": {
          "color": "#4D5663"
         },
         "title": {
          "font": {
           "color": "#4D5663"
          },
          "text": ""
         },
         "zerolinecolor": "#E1E5ED"
        },
        "xaxis13": {
         "anchor": "y13",
         "domain": [
          0,
          0.2125
         ],
         "gridcolor": "#E1E5ED",
         "showgrid": false,
         "tickfont": {
          "color": "#4D5663"
         },
         "title": {
          "font": {
           "color": "#4D5663"
          },
          "text": ""
         },
         "zerolinecolor": "#E1E5ED"
        },
        "xaxis14": {
         "anchor": "y14",
         "domain": [
          0.2625,
          0.475
         ],
         "gridcolor": "#E1E5ED",
         "showgrid": false,
         "tickfont": {
          "color": "#4D5663"
         },
         "title": {
          "font": {
           "color": "#4D5663"
          },
          "text": ""
         },
         "zerolinecolor": "#E1E5ED"
        },
        "xaxis15": {
         "anchor": "y15",
         "domain": [
          0.525,
          0.7375
         ],
         "gridcolor": "#E1E5ED",
         "showgrid": false,
         "tickfont": {
          "color": "#4D5663"
         },
         "title": {
          "font": {
           "color": "#4D5663"
          },
          "text": ""
         },
         "zerolinecolor": "#E1E5ED"
        },
        "xaxis16": {
         "anchor": "y16",
         "domain": [
          0.7875,
          1
         ],
         "gridcolor": "#E1E5ED",
         "showgrid": false,
         "tickfont": {
          "color": "#4D5663"
         },
         "title": {
          "font": {
           "color": "#4D5663"
          },
          "text": ""
         },
         "zerolinecolor": "#E1E5ED"
        },
        "xaxis2": {
         "anchor": "y2",
         "domain": [
          0.2625,
          0.475
         ],
         "gridcolor": "#E1E5ED",
         "showgrid": false,
         "tickfont": {
          "color": "#4D5663"
         },
         "title": {
          "font": {
           "color": "#4D5663"
          },
          "text": ""
         },
         "zerolinecolor": "#E1E5ED"
        },
        "xaxis3": {
         "anchor": "y3",
         "domain": [
          0.525,
          0.7375
         ],
         "gridcolor": "#E1E5ED",
         "showgrid": false,
         "tickfont": {
          "color": "#4D5663"
         },
         "title": {
          "font": {
           "color": "#4D5663"
          },
          "text": ""
         },
         "zerolinecolor": "#E1E5ED"
        },
        "xaxis4": {
         "anchor": "y4",
         "domain": [
          0.7875,
          1
         ],
         "gridcolor": "#E1E5ED",
         "showgrid": false,
         "tickfont": {
          "color": "#4D5663"
         },
         "title": {
          "font": {
           "color": "#4D5663"
          },
          "text": ""
         },
         "zerolinecolor": "#E1E5ED"
        },
        "xaxis5": {
         "anchor": "y5",
         "domain": [
          0,
          0.2125
         ],
         "gridcolor": "#E1E5ED",
         "showgrid": false,
         "tickfont": {
          "color": "#4D5663"
         },
         "title": {
          "font": {
           "color": "#4D5663"
          },
          "text": ""
         },
         "zerolinecolor": "#E1E5ED"
        },
        "xaxis6": {
         "anchor": "y6",
         "domain": [
          0.2625,
          0.475
         ],
         "gridcolor": "#E1E5ED",
         "showgrid": false,
         "tickfont": {
          "color": "#4D5663"
         },
         "title": {
          "font": {
           "color": "#4D5663"
          },
          "text": ""
         },
         "zerolinecolor": "#E1E5ED"
        },
        "xaxis7": {
         "anchor": "y7",
         "domain": [
          0.525,
          0.7375
         ],
         "gridcolor": "#E1E5ED",
         "showgrid": false,
         "tickfont": {
          "color": "#4D5663"
         },
         "title": {
          "font": {
           "color": "#4D5663"
          },
          "text": ""
         },
         "zerolinecolor": "#E1E5ED"
        },
        "xaxis8": {
         "anchor": "y8",
         "domain": [
          0.7875,
          1
         ],
         "gridcolor": "#E1E5ED",
         "showgrid": false,
         "tickfont": {
          "color": "#4D5663"
         },
         "title": {
          "font": {
           "color": "#4D5663"
          },
          "text": ""
         },
         "zerolinecolor": "#E1E5ED"
        },
        "xaxis9": {
         "anchor": "y9",
         "domain": [
          0,
          0.2125
         ],
         "gridcolor": "#E1E5ED",
         "showgrid": false,
         "tickfont": {
          "color": "#4D5663"
         },
         "title": {
          "font": {
           "color": "#4D5663"
          },
          "text": ""
         },
         "zerolinecolor": "#E1E5ED"
        },
        "yaxis": {
         "anchor": "x",
         "domain": [
          0.8025,
          1
         ],
         "gridcolor": "#E1E5ED",
         "showgrid": false,
         "tickfont": {
          "color": "#4D5663"
         },
         "title": {
          "font": {
           "color": "#4D5663"
          },
          "text": ""
         },
         "zerolinecolor": "#E1E5ED"
        },
        "yaxis10": {
         "anchor": "x10",
         "domain": [
          0.2675,
          0.465
         ],
         "gridcolor": "#E1E5ED",
         "showgrid": false,
         "tickfont": {
          "color": "#4D5663"
         },
         "title": {
          "font": {
           "color": "#4D5663"
          },
          "text": ""
         },
         "zerolinecolor": "#E1E5ED"
        },
        "yaxis11": {
         "anchor": "x11",
         "domain": [
          0.2675,
          0.465
         ],
         "gridcolor": "#E1E5ED",
         "showgrid": false,
         "tickfont": {
          "color": "#4D5663"
         },
         "title": {
          "font": {
           "color": "#4D5663"
          },
          "text": ""
         },
         "zerolinecolor": "#E1E5ED"
        },
        "yaxis12": {
         "anchor": "x12",
         "domain": [
          0.2675,
          0.465
         ],
         "gridcolor": "#E1E5ED",
         "showgrid": false,
         "tickfont": {
          "color": "#4D5663"
         },
         "title": {
          "font": {
           "color": "#4D5663"
          },
          "text": ""
         },
         "zerolinecolor": "#E1E5ED"
        },
        "yaxis13": {
         "anchor": "x13",
         "domain": [
          0,
          0.1975
         ],
         "gridcolor": "#E1E5ED",
         "showgrid": false,
         "tickfont": {
          "color": "#4D5663"
         },
         "title": {
          "font": {
           "color": "#4D5663"
          },
          "text": ""
         },
         "zerolinecolor": "#E1E5ED"
        },
        "yaxis14": {
         "anchor": "x14",
         "domain": [
          0,
          0.1975
         ],
         "gridcolor": "#E1E5ED",
         "showgrid": false,
         "tickfont": {
          "color": "#4D5663"
         },
         "title": {
          "font": {
           "color": "#4D5663"
          },
          "text": ""
         },
         "zerolinecolor": "#E1E5ED"
        },
        "yaxis15": {
         "anchor": "x15",
         "domain": [
          0,
          0.1975
         ],
         "gridcolor": "#E1E5ED",
         "showgrid": false,
         "tickfont": {
          "color": "#4D5663"
         },
         "title": {
          "font": {
           "color": "#4D5663"
          },
          "text": ""
         },
         "zerolinecolor": "#E1E5ED"
        },
        "yaxis16": {
         "anchor": "x16",
         "domain": [
          0,
          0.1975
         ],
         "gridcolor": "#E1E5ED",
         "showgrid": false,
         "tickfont": {
          "color": "#4D5663"
         },
         "title": {
          "font": {
           "color": "#4D5663"
          },
          "text": ""
         },
         "zerolinecolor": "#E1E5ED"
        },
        "yaxis2": {
         "anchor": "x2",
         "domain": [
          0.8025,
          1
         ],
         "gridcolor": "#E1E5ED",
         "showgrid": false,
         "tickfont": {
          "color": "#4D5663"
         },
         "title": {
          "font": {
           "color": "#4D5663"
          },
          "text": ""
         },
         "zerolinecolor": "#E1E5ED"
        },
        "yaxis3": {
         "anchor": "x3",
         "domain": [
          0.8025,
          1
         ],
         "gridcolor": "#E1E5ED",
         "showgrid": false,
         "tickfont": {
          "color": "#4D5663"
         },
         "title": {
          "font": {
           "color": "#4D5663"
          },
          "text": ""
         },
         "zerolinecolor": "#E1E5ED"
        },
        "yaxis4": {
         "anchor": "x4",
         "domain": [
          0.8025,
          1
         ],
         "gridcolor": "#E1E5ED",
         "showgrid": false,
         "tickfont": {
          "color": "#4D5663"
         },
         "title": {
          "font": {
           "color": "#4D5663"
          },
          "text": ""
         },
         "zerolinecolor": "#E1E5ED"
        },
        "yaxis5": {
         "anchor": "x5",
         "domain": [
          0.535,
          0.7325
         ],
         "gridcolor": "#E1E5ED",
         "showgrid": false,
         "tickfont": {
          "color": "#4D5663"
         },
         "title": {
          "font": {
           "color": "#4D5663"
          },
          "text": ""
         },
         "zerolinecolor": "#E1E5ED"
        },
        "yaxis6": {
         "anchor": "x6",
         "domain": [
          0.535,
          0.7325
         ],
         "gridcolor": "#E1E5ED",
         "showgrid": false,
         "tickfont": {
          "color": "#4D5663"
         },
         "title": {
          "font": {
           "color": "#4D5663"
          },
          "text": ""
         },
         "zerolinecolor": "#E1E5ED"
        },
        "yaxis7": {
         "anchor": "x7",
         "domain": [
          0.535,
          0.7325
         ],
         "gridcolor": "#E1E5ED",
         "showgrid": false,
         "tickfont": {
          "color": "#4D5663"
         },
         "title": {
          "font": {
           "color": "#4D5663"
          },
          "text": ""
         },
         "zerolinecolor": "#E1E5ED"
        },
        "yaxis8": {
         "anchor": "x8",
         "domain": [
          0.535,
          0.7325
         ],
         "gridcolor": "#E1E5ED",
         "showgrid": false,
         "tickfont": {
          "color": "#4D5663"
         },
         "title": {
          "font": {
           "color": "#4D5663"
          },
          "text": ""
         },
         "zerolinecolor": "#E1E5ED"
        },
        "yaxis9": {
         "anchor": "x9",
         "domain": [
          0.2675,
          0.465
         ],
         "gridcolor": "#E1E5ED",
         "showgrid": false,
         "tickfont": {
          "color": "#4D5663"
         },
         "title": {
          "font": {
           "color": "#4D5663"
          },
          "text": ""
         },
         "zerolinecolor": "#E1E5ED"
        }
       }
      },
      "text/html": "<div>                            <div id=\"834034d7-df6f-4ca7-8ad1-d9244938db76\" class=\"plotly-graph-div\" style=\"height:525px; width:100%;\"></div>            <script type=\"text/javascript\">                require([\"plotly\"], function(Plotly) {                    window.PLOTLYENV=window.PLOTLYENV || {};\n                    window.PLOTLYENV.BASE_URL='https://plot.ly';                                    if (document.getElementById(\"834034d7-df6f-4ca7-8ad1-d9244938db76\")) {                    Plotly.newPlot(                        \"834034d7-df6f-4ca7-8ad1-d9244938db76\",                        [{\"histfunc\": \"count\", \"histnorm\": \"\", \"marker\": {\"color\": \"rgba(255, 153, 51, 1.0)\", \"line\": {\"color\": \"#4D5663\", \"width\": 1.3}}, \"name\": \"A\", \"nbinsx\": 10, \"opacity\": 0.8, \"orientation\": \"v\", \"type\": \"histogram\", \"x\": [0.5465783073064772, -0.29266683075288924, 0.6231870996745854, -0.834383727710256, 0.07267124236383367, 0.546609283854429, -1.131288781160773, 0.9726279769132807, 1.3036471779533993, 0.09456737726953622, -1.4909951751412387, 0.2486809006031248, -0.5041954963214929, 1.090313604126461, 0.5271065162022843, 0.72996298455288, -0.5727674434124677, 0.6981473528513243, 0.42646244691734936, 0.22561770627475097, 1.3964635891379957, -1.028076763783862, -0.7918548050193706, 0.6424988861128034, 0.07700092744047617, 0.2639476843988694, -1.3939121056913943, 0.8022040203343273, -0.46413394434136784, 0.2220320510302532, 0.935281027468148, -0.7800155400860896, -0.416128340694564, 1.3185965143422556, -0.9440127360391387, -0.6366557329525351, 0.44540615728871885, -2.2642998115862225, -0.2850565034199015, 1.0506044703218136, 0.8378528542175177, -0.12868954137371466, -0.33798990823686026, 0.1679192582551076, -0.9308238698161303, 0.07517507846869902, 0.5529139051581751, -0.6550066638750623, 1.6622073144790908, -0.9563738629799234, -0.9039901786142885, -0.9224207152656744, 0.7853020720624344, -0.9078645469319825, -1.0065774903612925, -0.6513350487302739, 0.607897606343382, -0.7121619992871777, -1.0062801835740622, 0.4151934066896479, 0.42890807858108176, -1.4465094346493927, 1.7219331417962913, -1.5053103553567573, -1.5460676762516719, -1.334470385973534, 1.3820705239206281, 1.149948100182805, 0.48581062454288443, -2.9220312235168104, 0.9688469690572168, 0.4005785671067927, -1.7729643682929506, -2.254444960561575, 2.8558789888409377, 0.11684368509114042, -0.5921664352451752, -0.7669775175253448, 0.3944947793185067, 0.17970836550271987, 0.7320087898796422, -0.3718994683294069, 0.6490335347378919, 1.61451773742073, 2.2200311879880092, 0.2652884204844432, -1.138292642211443, -1.0916461301727252, -0.6552002466498384, -0.17573927465249542, 0.19807054658965803, -0.3135938770961247, 0.9100592564889136, 1.389689501439636, 0.4571725986883691, -1.147513235584393, -0.2641384924636912, -2.4750908872422532, -0.3052555238066782, 0.5126311294281619], \"xaxis\": \"x\", \"yaxis\": \"y\"}, {\"line\": {\"color\": \"rgba(128, 128, 128, 1.0)\", \"dash\": \"solid\", \"shape\": \"linear\", \"width\": 1.3}, \"marker\": {\"size\": 2, \"symbol\": \"circle\"}, \"mode\": \"markers\", \"name\": \"A\", \"text\": \"\", \"type\": \"scatter\", \"x\": [-0.3210616890439768, 0.014731334124076999, 0.5366938623242867, -0.28347189457944116, 0.045451557025280365, 0.13459038631390496, 0.7680897864672134, -0.5605600823698804, 1.6570181797969776, 0.6384146948817033, 1.3887234430034054, -0.09505479464596212, 0.3793871989929514, 0.968138373003798, 0.5570971336800378, -0.12022809907427562, 1.225767443374642, -0.48103582404950523, 0.31237187179067677, -1.5541642248570275, -0.0905732283356259, -0.7121648301099559, -0.8980559307398618, 0.7505948170765744, -0.08743327787437438, 0.7381569910231944, 1.0578906584070804, 0.609010499655325, -0.07991913941469375, -0.9809062194854374, -0.3927567552348754, 1.1779490224473685, 0.5861320936097942, -1.9586149587331063, -0.7503025630835873, 2.111168813334928, 1.1724683723332443, 0.41124561482519084, -0.8073090559661715, -0.6001700359496503, 0.924992852207575, 0.564903133816479, -1.329485783727274, -0.9042900886398983, 0.7446229259164912, -0.6664395834381821, 1.790641696870415, -0.7000508417729924, -2.124025946845946, 1.427339440341842, -0.023434047825694505, -2.184151730277451, -0.2743737245978753, 0.08652959980978199, 0.7073634897595449, 0.5328211228340343, 1.8902284648569976, 0.21527531979477196, -1.7836858947922036, -0.3353688964873548, -1.1002301192684039, -0.6883952001486617, -1.5764860675414936, -0.6433657782077495, 1.097576865535247, -0.023602921622034694, -0.029463692580862483, 0.2358983482389432, 0.27894641922849245, 0.30550114510394016, 0.8867657472418506, 0.9319324919522, -0.01664626305233927, -0.5007055914851937, 1.5554489026110867, 0.3985089102148669, -1.7988728013549453, 0.33490036387429, -0.3185069447544962, -0.10960628009446838, 0.5677453220093496, -0.9445892255243346, -0.6654555763718258, 1.3332815274819332, 0.9620523328660819, 0.0627271471645771, -1.5219745869359935, 1.8456224867766633, 0.35193461333641635, -0.6911844965770978, -1.9382109908973897, 0.5101622352180557, 0.04141713857864906, 0.7348149162733385, 0.08876588617886874, -0.20605819017878488, -0.5796140389078577, -0.27512891936251505, -1.108562305937151, 0.83556234684711], \"xaxis\": \"x2\", \"y\": [0.5465783073064772, -0.29266683075288924, 0.6231870996745854, -0.834383727710256, 0.07267124236383367, 0.546609283854429, -1.131288781160773, 0.9726279769132807, 1.3036471779533993, 0.09456737726953622, -1.4909951751412387, 0.2486809006031248, -0.5041954963214929, 1.090313604126461, 0.5271065162022843, 0.72996298455288, -0.5727674434124677, 0.6981473528513243, 0.42646244691734936, 0.22561770627475097, 1.3964635891379957, -1.028076763783862, -0.7918548050193706, 0.6424988861128034, 0.07700092744047617, 0.2639476843988694, -1.3939121056913943, 0.8022040203343273, -0.46413394434136784, 0.2220320510302532, 0.935281027468148, -0.7800155400860896, -0.416128340694564, 1.3185965143422556, -0.9440127360391387, -0.6366557329525351, 0.44540615728871885, -2.2642998115862225, -0.2850565034199015, 1.0506044703218136, 0.8378528542175177, -0.12868954137371466, -0.33798990823686026, 0.1679192582551076, -0.9308238698161303, 0.07517507846869902, 0.5529139051581751, -0.6550066638750623, 1.6622073144790908, -0.9563738629799234, -0.9039901786142885, -0.9224207152656744, 0.7853020720624344, -0.9078645469319825, -1.0065774903612925, -0.6513350487302739, 0.607897606343382, -0.7121619992871777, -1.0062801835740622, 0.4151934066896479, 0.42890807858108176, -1.4465094346493927, 1.7219331417962913, -1.5053103553567573, -1.5460676762516719, -1.334470385973534, 1.3820705239206281, 1.149948100182805, 0.48581062454288443, -2.9220312235168104, 0.9688469690572168, 0.4005785671067927, -1.7729643682929506, -2.254444960561575, 2.8558789888409377, 0.11684368509114042, -0.5921664352451752, -0.7669775175253448, 0.3944947793185067, 0.17970836550271987, 0.7320087898796422, -0.3718994683294069, 0.6490335347378919, 1.61451773742073, 2.2200311879880092, 0.2652884204844432, -1.138292642211443, -1.0916461301727252, -0.6552002466498384, -0.17573927465249542, 0.19807054658965803, -0.3135938770961247, 0.9100592564889136, 1.389689501439636, 0.4571725986883691, -1.147513235584393, -0.2641384924636912, -2.4750908872422532, -0.3052555238066782, 0.5126311294281619], \"yaxis\": \"y2\"}, {\"line\": {\"color\": \"rgba(128, 128, 128, 1.0)\", \"dash\": \"solid\", \"shape\": \"linear\", \"width\": 1.3}, \"marker\": {\"size\": 2, \"symbol\": \"circle\"}, \"mode\": \"markers\", \"name\": \"A\", \"text\": \"\", \"type\": \"scatter\", \"x\": [-1.5746635555132593, -0.8208519487525724, 0.13411839178356635, -1.073405727107703, 0.8492878024289273, 2.254601176611265, -1.0878769204610368, 0.05491395788764352, -0.938550021253144, 0.0831501541026087, -0.37161067823376354, -0.8357041894404749, 1.1719737829000128, -0.6860518985881422, 0.8375667994557933, -0.9397053484941409, -1.7889322349233618, -0.13110549339808994, -0.21790251118483994, 1.0243507066626305, -1.393511551476447, 0.7960398950108859, 0.3376177013303217, -0.27719455186705055, -0.599024528281968, -1.0448750802566376, -0.3299792930259386, 0.9414823910779461, 0.8128194717871082, -2.0017279544076882, -0.11565056175803837, -0.39887050385009104, 0.24681073229257872, 0.07438133150679462, 0.7674862118999634, -0.2870042449544319, 0.1874362991542395, 0.8852072086506295, -1.5070637961266762, 1.4263336865955873, 0.19878349333474926, 0.9749485819616145, -0.6868121389520477, 0.9166637700665273, 0.3502501972642983, -0.690876281143508, -1.2704903637223155, 0.7390724833594484, 1.547695798213712, -0.7232647324890362, -0.178124208961265, 0.49891936425176653, -0.829477671631334, 1.0726449576062738, 1.1913989599956993, 1.2782170998335898, 0.7979436445528246, -0.9147442814326879, -0.08208447048785322, -1.9173840888427844, -0.5552102564992429, 0.9741457675696146, 0.11704030109082995, -0.9933189766534842, 0.09936221246799455, -0.4242039091357622, 0.58729575045313, -0.8066782132707256, 0.29490148525810694, 1.1530225437432087, 1.5171876792595087, 0.7673025283554721, 0.9011567252593459, -1.3638062823045671, -1.8237245334450118, 1.0923484618951989, -1.1349063046921946, -0.5663122283761413, 1.343150277224588, 1.423518043952554, 0.15021591350662922, 0.2517358159883754, -0.04953946581698489, -0.06582562263824401, 0.5096721099198526, -1.0242755455221242, -0.4763164697743531, 0.6918087074211218, -0.21631606753447347, 1.6824576992982336, -0.9763443880200405, 0.535678872534667, 0.2758679542206118, -2.8352977193601707, -0.0008868871502166775, -0.3202137870334289, -0.9645916325091594, -0.3588390703210608, -1.5672693194465956, -0.43850581048894766], \"xaxis\": \"x3\", \"y\": [0.5465783073064772, -0.29266683075288924, 0.6231870996745854, -0.834383727710256, 0.07267124236383367, 0.546609283854429, -1.131288781160773, 0.9726279769132807, 1.3036471779533993, 0.09456737726953622, -1.4909951751412387, 0.2486809006031248, -0.5041954963214929, 1.090313604126461, 0.5271065162022843, 0.72996298455288, -0.5727674434124677, 0.6981473528513243, 0.42646244691734936, 0.22561770627475097, 1.3964635891379957, -1.028076763783862, -0.7918548050193706, 0.6424988861128034, 0.07700092744047617, 0.2639476843988694, -1.3939121056913943, 0.8022040203343273, -0.46413394434136784, 0.2220320510302532, 0.935281027468148, -0.7800155400860896, -0.416128340694564, 1.3185965143422556, -0.9440127360391387, -0.6366557329525351, 0.44540615728871885, -2.2642998115862225, -0.2850565034199015, 1.0506044703218136, 0.8378528542175177, -0.12868954137371466, -0.33798990823686026, 0.1679192582551076, -0.9308238698161303, 0.07517507846869902, 0.5529139051581751, -0.6550066638750623, 1.6622073144790908, -0.9563738629799234, -0.9039901786142885, -0.9224207152656744, 0.7853020720624344, -0.9078645469319825, -1.0065774903612925, -0.6513350487302739, 0.607897606343382, -0.7121619992871777, -1.0062801835740622, 0.4151934066896479, 0.42890807858108176, -1.4465094346493927, 1.7219331417962913, -1.5053103553567573, -1.5460676762516719, -1.334470385973534, 1.3820705239206281, 1.149948100182805, 0.48581062454288443, -2.9220312235168104, 0.9688469690572168, 0.4005785671067927, -1.7729643682929506, -2.254444960561575, 2.8558789888409377, 0.11684368509114042, -0.5921664352451752, -0.7669775175253448, 0.3944947793185067, 0.17970836550271987, 0.7320087898796422, -0.3718994683294069, 0.6490335347378919, 1.61451773742073, 2.2200311879880092, 0.2652884204844432, -1.138292642211443, -1.0916461301727252, -0.6552002466498384, -0.17573927465249542, 0.19807054658965803, -0.3135938770961247, 0.9100592564889136, 1.389689501439636, 0.4571725986883691, -1.147513235584393, -0.2641384924636912, -2.4750908872422532, -0.3052555238066782, 0.5126311294281619], \"yaxis\": \"y3\"}, {\"line\": {\"color\": \"rgba(128, 128, 128, 1.0)\", \"dash\": \"solid\", \"shape\": \"linear\", \"width\": 1.3}, \"marker\": {\"size\": 2, \"symbol\": \"circle\"}, \"mode\": \"markers\", \"name\": \"A\", \"text\": \"\", \"type\": \"scatter\", \"x\": [1.3915284842186988, 0.5185130094144702, -1.0606253421777951, -0.24460755193586287, 0.8202241426829425, -0.887582315304925, -2.8538309597752867, -0.9735586571847238, 1.450536278286463, 1.2760657489482605, -1.5652882182832306, 1.4645914708923071, 0.09329788490746273, 0.8057167710446781, 1.0152273362785735, -0.7978662004859711, -0.8365744231983471, 0.28424634824466244, -1.8915142256077258, 0.3739809215343839, 0.051329217894539, 0.9256733937623756, -0.35179554429520843, -1.9033909214042593, 0.45264744995978906, -0.5807322459220383, -0.11435315011914135, -0.30398911522147987, -0.08458819819471305, 1.4295666865836059, -1.3657316946782658, 0.5735423214731328, 1.6572412107323413, -0.760872677119515, -1.2392615031108305, 0.14803104558174862, -0.8561087960484719, -0.5128541761649891, -0.28488806627419583, -0.18465941989611753, -2.232825107959683, 0.33473747004274823, 0.6606241943088436, 0.019623914803615285, -0.7584006645927847, 2.8377835630481405, -0.6266276799272331, -0.6532095561165252, 0.29170074098777793, -1.1665894943988193, -0.3376741908898411, 1.0751891517480283, -0.6448449862168085, 1.214573859061091, -0.034778294663861654, -0.6213694553867667, -1.0610596965100185, 0.6479555596462478, 0.9068247873074341, -1.5401656730162003, -0.7080391573628131, -0.7829170746864355, -0.4255437274019955, -0.3962885151997171, 1.2386728246527157, -1.2016150089134001, 0.5149137342604595, -0.7120689231800665, -0.9801118556510571, 0.31712839974847895, 0.9341300403425877, -0.7035089651286938, -0.5637510964979929, -0.40643637929223103, 1.4717157907239993, -2.4316467529894203, 1.8425226033591404, 0.08085620949960143, -0.539388341835714, 0.41145218196658184, 1.7713082753781175, 0.800238042387477, 0.2907060923613845, 0.6707859099022279, 1.5618649336698032, 0.6230978393033384, -0.9297961775205729, -2.369073884926949, -0.6835387244012849, 1.4185669493114144, -0.449922261659089, 0.37849098997281494, 0.884469678375085, -2.378754245172478, -1.1934731790828719, 0.12692321653002386, 0.8237573446074903, -0.01818332015703452, 0.9806165462699724, 0.5801263631830152], \"xaxis\": \"x4\", \"y\": [0.5465783073064772, -0.29266683075288924, 0.6231870996745854, -0.834383727710256, 0.07267124236383367, 0.546609283854429, -1.131288781160773, 0.9726279769132807, 1.3036471779533993, 0.09456737726953622, -1.4909951751412387, 0.2486809006031248, -0.5041954963214929, 1.090313604126461, 0.5271065162022843, 0.72996298455288, -0.5727674434124677, 0.6981473528513243, 0.42646244691734936, 0.22561770627475097, 1.3964635891379957, -1.028076763783862, -0.7918548050193706, 0.6424988861128034, 0.07700092744047617, 0.2639476843988694, -1.3939121056913943, 0.8022040203343273, -0.46413394434136784, 0.2220320510302532, 0.935281027468148, -0.7800155400860896, -0.416128340694564, 1.3185965143422556, -0.9440127360391387, -0.6366557329525351, 0.44540615728871885, -2.2642998115862225, -0.2850565034199015, 1.0506044703218136, 0.8378528542175177, -0.12868954137371466, -0.33798990823686026, 0.1679192582551076, -0.9308238698161303, 0.07517507846869902, 0.5529139051581751, -0.6550066638750623, 1.6622073144790908, -0.9563738629799234, -0.9039901786142885, -0.9224207152656744, 0.7853020720624344, -0.9078645469319825, -1.0065774903612925, -0.6513350487302739, 0.607897606343382, -0.7121619992871777, -1.0062801835740622, 0.4151934066896479, 0.42890807858108176, -1.4465094346493927, 1.7219331417962913, -1.5053103553567573, -1.5460676762516719, -1.334470385973534, 1.3820705239206281, 1.149948100182805, 0.48581062454288443, -2.9220312235168104, 0.9688469690572168, 0.4005785671067927, -1.7729643682929506, -2.254444960561575, 2.8558789888409377, 0.11684368509114042, -0.5921664352451752, -0.7669775175253448, 0.3944947793185067, 0.17970836550271987, 0.7320087898796422, -0.3718994683294069, 0.6490335347378919, 1.61451773742073, 2.2200311879880092, 0.2652884204844432, -1.138292642211443, -1.0916461301727252, -0.6552002466498384, -0.17573927465249542, 0.19807054658965803, -0.3135938770961247, 0.9100592564889136, 1.389689501439636, 0.4571725986883691, -1.147513235584393, -0.2641384924636912, -2.4750908872422532, -0.3052555238066782, 0.5126311294281619], \"yaxis\": \"y4\"}, {\"line\": {\"color\": \"rgba(128, 128, 128, 1.0)\", \"dash\": \"solid\", \"shape\": \"linear\", \"width\": 1.3}, \"marker\": {\"size\": 2, \"symbol\": \"circle\"}, \"mode\": \"markers\", \"name\": \"B\", \"text\": \"\", \"type\": \"scatter\", \"x\": [0.5465783073064772, -0.29266683075288924, 0.6231870996745854, -0.834383727710256, 0.07267124236383367, 0.546609283854429, -1.131288781160773, 0.9726279769132807, 1.3036471779533993, 0.09456737726953622, -1.4909951751412387, 0.2486809006031248, -0.5041954963214929, 1.090313604126461, 0.5271065162022843, 0.72996298455288, -0.5727674434124677, 0.6981473528513243, 0.42646244691734936, 0.22561770627475097, 1.3964635891379957, -1.028076763783862, -0.7918548050193706, 0.6424988861128034, 0.07700092744047617, 0.2639476843988694, -1.3939121056913943, 0.8022040203343273, -0.46413394434136784, 0.2220320510302532, 0.935281027468148, -0.7800155400860896, -0.416128340694564, 1.3185965143422556, -0.9440127360391387, -0.6366557329525351, 0.44540615728871885, -2.2642998115862225, -0.2850565034199015, 1.0506044703218136, 0.8378528542175177, -0.12868954137371466, -0.33798990823686026, 0.1679192582551076, -0.9308238698161303, 0.07517507846869902, 0.5529139051581751, -0.6550066638750623, 1.6622073144790908, -0.9563738629799234, -0.9039901786142885, -0.9224207152656744, 0.7853020720624344, -0.9078645469319825, -1.0065774903612925, -0.6513350487302739, 0.607897606343382, -0.7121619992871777, -1.0062801835740622, 0.4151934066896479, 0.42890807858108176, -1.4465094346493927, 1.7219331417962913, -1.5053103553567573, -1.5460676762516719, -1.334470385973534, 1.3820705239206281, 1.149948100182805, 0.48581062454288443, -2.9220312235168104, 0.9688469690572168, 0.4005785671067927, -1.7729643682929506, -2.254444960561575, 2.8558789888409377, 0.11684368509114042, -0.5921664352451752, -0.7669775175253448, 0.3944947793185067, 0.17970836550271987, 0.7320087898796422, -0.3718994683294069, 0.6490335347378919, 1.61451773742073, 2.2200311879880092, 0.2652884204844432, -1.138292642211443, -1.0916461301727252, -0.6552002466498384, -0.17573927465249542, 0.19807054658965803, -0.3135938770961247, 0.9100592564889136, 1.389689501439636, 0.4571725986883691, -1.147513235584393, -0.2641384924636912, -2.4750908872422532, -0.3052555238066782, 0.5126311294281619], \"xaxis\": \"x5\", \"y\": [-0.3210616890439768, 0.014731334124076999, 0.5366938623242867, -0.28347189457944116, 0.045451557025280365, 0.13459038631390496, 0.7680897864672134, -0.5605600823698804, 1.6570181797969776, 0.6384146948817033, 1.3887234430034054, -0.09505479464596212, 0.3793871989929514, 0.968138373003798, 0.5570971336800378, -0.12022809907427562, 1.225767443374642, -0.48103582404950523, 0.31237187179067677, -1.5541642248570275, -0.0905732283356259, -0.7121648301099559, -0.8980559307398618, 0.7505948170765744, -0.08743327787437438, 0.7381569910231944, 1.0578906584070804, 0.609010499655325, -0.07991913941469375, -0.9809062194854374, -0.3927567552348754, 1.1779490224473685, 0.5861320936097942, -1.9586149587331063, -0.7503025630835873, 2.111168813334928, 1.1724683723332443, 0.41124561482519084, -0.8073090559661715, -0.6001700359496503, 0.924992852207575, 0.564903133816479, -1.329485783727274, -0.9042900886398983, 0.7446229259164912, -0.6664395834381821, 1.790641696870415, -0.7000508417729924, -2.124025946845946, 1.427339440341842, -0.023434047825694505, -2.184151730277451, -0.2743737245978753, 0.08652959980978199, 0.7073634897595449, 0.5328211228340343, 1.8902284648569976, 0.21527531979477196, -1.7836858947922036, -0.3353688964873548, -1.1002301192684039, -0.6883952001486617, -1.5764860675414936, -0.6433657782077495, 1.097576865535247, -0.023602921622034694, -0.029463692580862483, 0.2358983482389432, 0.27894641922849245, 0.30550114510394016, 0.8867657472418506, 0.9319324919522, -0.01664626305233927, -0.5007055914851937, 1.5554489026110867, 0.3985089102148669, -1.7988728013549453, 0.33490036387429, -0.3185069447544962, -0.10960628009446838, 0.5677453220093496, -0.9445892255243346, -0.6654555763718258, 1.3332815274819332, 0.9620523328660819, 0.0627271471645771, -1.5219745869359935, 1.8456224867766633, 0.35193461333641635, -0.6911844965770978, -1.9382109908973897, 0.5101622352180557, 0.04141713857864906, 0.7348149162733385, 0.08876588617886874, -0.20605819017878488, -0.5796140389078577, -0.27512891936251505, -1.108562305937151, 0.83556234684711], \"yaxis\": \"y5\"}, {\"histfunc\": \"count\", \"histnorm\": \"\", \"marker\": {\"color\": \"rgba(55, 128, 191, 1.0)\", \"line\": {\"color\": \"#4D5663\", \"width\": 1.3}}, \"name\": \"B\", \"nbinsx\": 10, \"opacity\": 0.8, \"orientation\": \"v\", \"type\": \"histogram\", \"x\": [-0.3210616890439768, 0.014731334124076999, 0.5366938623242867, -0.28347189457944116, 0.045451557025280365, 0.13459038631390496, 0.7680897864672134, -0.5605600823698804, 1.6570181797969776, 0.6384146948817033, 1.3887234430034054, -0.09505479464596212, 0.3793871989929514, 0.968138373003798, 0.5570971336800378, -0.12022809907427562, 1.225767443374642, -0.48103582404950523, 0.31237187179067677, -1.5541642248570275, -0.0905732283356259, -0.7121648301099559, -0.8980559307398618, 0.7505948170765744, -0.08743327787437438, 0.7381569910231944, 1.0578906584070804, 0.609010499655325, -0.07991913941469375, -0.9809062194854374, -0.3927567552348754, 1.1779490224473685, 0.5861320936097942, -1.9586149587331063, -0.7503025630835873, 2.111168813334928, 1.1724683723332443, 0.41124561482519084, -0.8073090559661715, -0.6001700359496503, 0.924992852207575, 0.564903133816479, -1.329485783727274, -0.9042900886398983, 0.7446229259164912, -0.6664395834381821, 1.790641696870415, -0.7000508417729924, -2.124025946845946, 1.427339440341842, -0.023434047825694505, -2.184151730277451, -0.2743737245978753, 0.08652959980978199, 0.7073634897595449, 0.5328211228340343, 1.8902284648569976, 0.21527531979477196, -1.7836858947922036, -0.3353688964873548, -1.1002301192684039, -0.6883952001486617, -1.5764860675414936, -0.6433657782077495, 1.097576865535247, -0.023602921622034694, -0.029463692580862483, 0.2358983482389432, 0.27894641922849245, 0.30550114510394016, 0.8867657472418506, 0.9319324919522, -0.01664626305233927, -0.5007055914851937, 1.5554489026110867, 0.3985089102148669, -1.7988728013549453, 0.33490036387429, -0.3185069447544962, -0.10960628009446838, 0.5677453220093496, -0.9445892255243346, -0.6654555763718258, 1.3332815274819332, 0.9620523328660819, 0.0627271471645771, -1.5219745869359935, 1.8456224867766633, 0.35193461333641635, -0.6911844965770978, -1.9382109908973897, 0.5101622352180557, 0.04141713857864906, 0.7348149162733385, 0.08876588617886874, -0.20605819017878488, -0.5796140389078577, -0.27512891936251505, -1.108562305937151, 0.83556234684711], \"xaxis\": \"x6\", \"yaxis\": \"y6\"}, {\"line\": {\"color\": \"rgba(128, 128, 128, 1.0)\", \"dash\": \"solid\", \"shape\": \"linear\", \"width\": 1.3}, \"marker\": {\"size\": 2, \"symbol\": \"circle\"}, \"mode\": \"markers\", \"name\": \"B\", \"text\": \"\", \"type\": \"scatter\", \"x\": [-1.5746635555132593, -0.8208519487525724, 0.13411839178356635, -1.073405727107703, 0.8492878024289273, 2.254601176611265, -1.0878769204610368, 0.05491395788764352, -0.938550021253144, 0.0831501541026087, -0.37161067823376354, -0.8357041894404749, 1.1719737829000128, -0.6860518985881422, 0.8375667994557933, -0.9397053484941409, -1.7889322349233618, -0.13110549339808994, -0.21790251118483994, 1.0243507066626305, -1.393511551476447, 0.7960398950108859, 0.3376177013303217, -0.27719455186705055, -0.599024528281968, -1.0448750802566376, -0.3299792930259386, 0.9414823910779461, 0.8128194717871082, -2.0017279544076882, -0.11565056175803837, -0.39887050385009104, 0.24681073229257872, 0.07438133150679462, 0.7674862118999634, -0.2870042449544319, 0.1874362991542395, 0.8852072086506295, -1.5070637961266762, 1.4263336865955873, 0.19878349333474926, 0.9749485819616145, -0.6868121389520477, 0.9166637700665273, 0.3502501972642983, -0.690876281143508, -1.2704903637223155, 0.7390724833594484, 1.547695798213712, -0.7232647324890362, -0.178124208961265, 0.49891936425176653, -0.829477671631334, 1.0726449576062738, 1.1913989599956993, 1.2782170998335898, 0.7979436445528246, -0.9147442814326879, -0.08208447048785322, -1.9173840888427844, -0.5552102564992429, 0.9741457675696146, 0.11704030109082995, -0.9933189766534842, 0.09936221246799455, -0.4242039091357622, 0.58729575045313, -0.8066782132707256, 0.29490148525810694, 1.1530225437432087, 1.5171876792595087, 0.7673025283554721, 0.9011567252593459, -1.3638062823045671, -1.8237245334450118, 1.0923484618951989, -1.1349063046921946, -0.5663122283761413, 1.343150277224588, 1.423518043952554, 0.15021591350662922, 0.2517358159883754, -0.04953946581698489, -0.06582562263824401, 0.5096721099198526, -1.0242755455221242, -0.4763164697743531, 0.6918087074211218, -0.21631606753447347, 1.6824576992982336, -0.9763443880200405, 0.535678872534667, 0.2758679542206118, -2.8352977193601707, -0.0008868871502166775, -0.3202137870334289, -0.9645916325091594, -0.3588390703210608, -1.5672693194465956, -0.43850581048894766], \"xaxis\": \"x7\", \"y\": [-0.3210616890439768, 0.014731334124076999, 0.5366938623242867, -0.28347189457944116, 0.045451557025280365, 0.13459038631390496, 0.7680897864672134, -0.5605600823698804, 1.6570181797969776, 0.6384146948817033, 1.3887234430034054, -0.09505479464596212, 0.3793871989929514, 0.968138373003798, 0.5570971336800378, -0.12022809907427562, 1.225767443374642, -0.48103582404950523, 0.31237187179067677, -1.5541642248570275, -0.0905732283356259, -0.7121648301099559, -0.8980559307398618, 0.7505948170765744, -0.08743327787437438, 0.7381569910231944, 1.0578906584070804, 0.609010499655325, -0.07991913941469375, -0.9809062194854374, -0.3927567552348754, 1.1779490224473685, 0.5861320936097942, -1.9586149587331063, -0.7503025630835873, 2.111168813334928, 1.1724683723332443, 0.41124561482519084, -0.8073090559661715, -0.6001700359496503, 0.924992852207575, 0.564903133816479, -1.329485783727274, -0.9042900886398983, 0.7446229259164912, -0.6664395834381821, 1.790641696870415, -0.7000508417729924, -2.124025946845946, 1.427339440341842, -0.023434047825694505, -2.184151730277451, -0.2743737245978753, 0.08652959980978199, 0.7073634897595449, 0.5328211228340343, 1.8902284648569976, 0.21527531979477196, -1.7836858947922036, -0.3353688964873548, -1.1002301192684039, -0.6883952001486617, -1.5764860675414936, -0.6433657782077495, 1.097576865535247, -0.023602921622034694, -0.029463692580862483, 0.2358983482389432, 0.27894641922849245, 0.30550114510394016, 0.8867657472418506, 0.9319324919522, -0.01664626305233927, -0.5007055914851937, 1.5554489026110867, 0.3985089102148669, -1.7988728013549453, 0.33490036387429, -0.3185069447544962, -0.10960628009446838, 0.5677453220093496, -0.9445892255243346, -0.6654555763718258, 1.3332815274819332, 0.9620523328660819, 0.0627271471645771, -1.5219745869359935, 1.8456224867766633, 0.35193461333641635, -0.6911844965770978, -1.9382109908973897, 0.5101622352180557, 0.04141713857864906, 0.7348149162733385, 0.08876588617886874, -0.20605819017878488, -0.5796140389078577, -0.27512891936251505, -1.108562305937151, 0.83556234684711], \"yaxis\": \"y7\"}, {\"line\": {\"color\": \"rgba(128, 128, 128, 1.0)\", \"dash\": \"solid\", \"shape\": \"linear\", \"width\": 1.3}, \"marker\": {\"size\": 2, \"symbol\": \"circle\"}, \"mode\": \"markers\", \"name\": \"B\", \"text\": \"\", \"type\": \"scatter\", \"x\": [1.3915284842186988, 0.5185130094144702, -1.0606253421777951, -0.24460755193586287, 0.8202241426829425, -0.887582315304925, -2.8538309597752867, -0.9735586571847238, 1.450536278286463, 1.2760657489482605, -1.5652882182832306, 1.4645914708923071, 0.09329788490746273, 0.8057167710446781, 1.0152273362785735, -0.7978662004859711, -0.8365744231983471, 0.28424634824466244, -1.8915142256077258, 0.3739809215343839, 0.051329217894539, 0.9256733937623756, -0.35179554429520843, -1.9033909214042593, 0.45264744995978906, -0.5807322459220383, -0.11435315011914135, -0.30398911522147987, -0.08458819819471305, 1.4295666865836059, -1.3657316946782658, 0.5735423214731328, 1.6572412107323413, -0.760872677119515, -1.2392615031108305, 0.14803104558174862, -0.8561087960484719, -0.5128541761649891, -0.28488806627419583, -0.18465941989611753, -2.232825107959683, 0.33473747004274823, 0.6606241943088436, 0.019623914803615285, -0.7584006645927847, 2.8377835630481405, -0.6266276799272331, -0.6532095561165252, 0.29170074098777793, -1.1665894943988193, -0.3376741908898411, 1.0751891517480283, -0.6448449862168085, 1.214573859061091, -0.034778294663861654, -0.6213694553867667, -1.0610596965100185, 0.6479555596462478, 0.9068247873074341, -1.5401656730162003, -0.7080391573628131, -0.7829170746864355, -0.4255437274019955, -0.3962885151997171, 1.2386728246527157, -1.2016150089134001, 0.5149137342604595, -0.7120689231800665, -0.9801118556510571, 0.31712839974847895, 0.9341300403425877, -0.7035089651286938, -0.5637510964979929, -0.40643637929223103, 1.4717157907239993, -2.4316467529894203, 1.8425226033591404, 0.08085620949960143, -0.539388341835714, 0.41145218196658184, 1.7713082753781175, 0.800238042387477, 0.2907060923613845, 0.6707859099022279, 1.5618649336698032, 0.6230978393033384, -0.9297961775205729, -2.369073884926949, -0.6835387244012849, 1.4185669493114144, -0.449922261659089, 0.37849098997281494, 0.884469678375085, -2.378754245172478, -1.1934731790828719, 0.12692321653002386, 0.8237573446074903, -0.01818332015703452, 0.9806165462699724, 0.5801263631830152], \"xaxis\": \"x8\", \"y\": [-0.3210616890439768, 0.014731334124076999, 0.5366938623242867, -0.28347189457944116, 0.045451557025280365, 0.13459038631390496, 0.7680897864672134, -0.5605600823698804, 1.6570181797969776, 0.6384146948817033, 1.3887234430034054, -0.09505479464596212, 0.3793871989929514, 0.968138373003798, 0.5570971336800378, -0.12022809907427562, 1.225767443374642, -0.48103582404950523, 0.31237187179067677, -1.5541642248570275, -0.0905732283356259, -0.7121648301099559, -0.8980559307398618, 0.7505948170765744, -0.08743327787437438, 0.7381569910231944, 1.0578906584070804, 0.609010499655325, -0.07991913941469375, -0.9809062194854374, -0.3927567552348754, 1.1779490224473685, 0.5861320936097942, -1.9586149587331063, -0.7503025630835873, 2.111168813334928, 1.1724683723332443, 0.41124561482519084, -0.8073090559661715, -0.6001700359496503, 0.924992852207575, 0.564903133816479, -1.329485783727274, -0.9042900886398983, 0.7446229259164912, -0.6664395834381821, 1.790641696870415, -0.7000508417729924, -2.124025946845946, 1.427339440341842, -0.023434047825694505, -2.184151730277451, -0.2743737245978753, 0.08652959980978199, 0.7073634897595449, 0.5328211228340343, 1.8902284648569976, 0.21527531979477196, -1.7836858947922036, -0.3353688964873548, -1.1002301192684039, -0.6883952001486617, -1.5764860675414936, -0.6433657782077495, 1.097576865535247, -0.023602921622034694, -0.029463692580862483, 0.2358983482389432, 0.27894641922849245, 0.30550114510394016, 0.8867657472418506, 0.9319324919522, -0.01664626305233927, -0.5007055914851937, 1.5554489026110867, 0.3985089102148669, -1.7988728013549453, 0.33490036387429, -0.3185069447544962, -0.10960628009446838, 0.5677453220093496, -0.9445892255243346, -0.6654555763718258, 1.3332815274819332, 0.9620523328660819, 0.0627271471645771, -1.5219745869359935, 1.8456224867766633, 0.35193461333641635, -0.6911844965770978, -1.9382109908973897, 0.5101622352180557, 0.04141713857864906, 0.7348149162733385, 0.08876588617886874, -0.20605819017878488, -0.5796140389078577, -0.27512891936251505, -1.108562305937151, 0.83556234684711], \"yaxis\": \"y8\"}, {\"line\": {\"color\": \"rgba(128, 128, 128, 1.0)\", \"dash\": \"solid\", \"shape\": \"linear\", \"width\": 1.3}, \"marker\": {\"size\": 2, \"symbol\": \"circle\"}, \"mode\": \"markers\", \"name\": \"C\", \"text\": \"\", \"type\": \"scatter\", \"x\": [0.5465783073064772, -0.29266683075288924, 0.6231870996745854, -0.834383727710256, 0.07267124236383367, 0.546609283854429, -1.131288781160773, 0.9726279769132807, 1.3036471779533993, 0.09456737726953622, -1.4909951751412387, 0.2486809006031248, -0.5041954963214929, 1.090313604126461, 0.5271065162022843, 0.72996298455288, -0.5727674434124677, 0.6981473528513243, 0.42646244691734936, 0.22561770627475097, 1.3964635891379957, -1.028076763783862, -0.7918548050193706, 0.6424988861128034, 0.07700092744047617, 0.2639476843988694, -1.3939121056913943, 0.8022040203343273, -0.46413394434136784, 0.2220320510302532, 0.935281027468148, -0.7800155400860896, -0.416128340694564, 1.3185965143422556, -0.9440127360391387, -0.6366557329525351, 0.44540615728871885, -2.2642998115862225, -0.2850565034199015, 1.0506044703218136, 0.8378528542175177, -0.12868954137371466, -0.33798990823686026, 0.1679192582551076, -0.9308238698161303, 0.07517507846869902, 0.5529139051581751, -0.6550066638750623, 1.6622073144790908, -0.9563738629799234, -0.9039901786142885, -0.9224207152656744, 0.7853020720624344, -0.9078645469319825, -1.0065774903612925, -0.6513350487302739, 0.607897606343382, -0.7121619992871777, -1.0062801835740622, 0.4151934066896479, 0.42890807858108176, -1.4465094346493927, 1.7219331417962913, -1.5053103553567573, -1.5460676762516719, -1.334470385973534, 1.3820705239206281, 1.149948100182805, 0.48581062454288443, -2.9220312235168104, 0.9688469690572168, 0.4005785671067927, -1.7729643682929506, -2.254444960561575, 2.8558789888409377, 0.11684368509114042, -0.5921664352451752, -0.7669775175253448, 0.3944947793185067, 0.17970836550271987, 0.7320087898796422, -0.3718994683294069, 0.6490335347378919, 1.61451773742073, 2.2200311879880092, 0.2652884204844432, -1.138292642211443, -1.0916461301727252, -0.6552002466498384, -0.17573927465249542, 0.19807054658965803, -0.3135938770961247, 0.9100592564889136, 1.389689501439636, 0.4571725986883691, -1.147513235584393, -0.2641384924636912, -2.4750908872422532, -0.3052555238066782, 0.5126311294281619], \"xaxis\": \"x9\", \"y\": [-1.5746635555132593, -0.8208519487525724, 0.13411839178356635, -1.073405727107703, 0.8492878024289273, 2.254601176611265, -1.0878769204610368, 0.05491395788764352, -0.938550021253144, 0.0831501541026087, -0.37161067823376354, -0.8357041894404749, 1.1719737829000128, -0.6860518985881422, 0.8375667994557933, -0.9397053484941409, -1.7889322349233618, -0.13110549339808994, -0.21790251118483994, 1.0243507066626305, -1.393511551476447, 0.7960398950108859, 0.3376177013303217, -0.27719455186705055, -0.599024528281968, -1.0448750802566376, -0.3299792930259386, 0.9414823910779461, 0.8128194717871082, -2.0017279544076882, -0.11565056175803837, -0.39887050385009104, 0.24681073229257872, 0.07438133150679462, 0.7674862118999634, -0.2870042449544319, 0.1874362991542395, 0.8852072086506295, -1.5070637961266762, 1.4263336865955873, 0.19878349333474926, 0.9749485819616145, -0.6868121389520477, 0.9166637700665273, 0.3502501972642983, -0.690876281143508, -1.2704903637223155, 0.7390724833594484, 1.547695798213712, -0.7232647324890362, -0.178124208961265, 0.49891936425176653, -0.829477671631334, 1.0726449576062738, 1.1913989599956993, 1.2782170998335898, 0.7979436445528246, -0.9147442814326879, -0.08208447048785322, -1.9173840888427844, -0.5552102564992429, 0.9741457675696146, 0.11704030109082995, -0.9933189766534842, 0.09936221246799455, -0.4242039091357622, 0.58729575045313, -0.8066782132707256, 0.29490148525810694, 1.1530225437432087, 1.5171876792595087, 0.7673025283554721, 0.9011567252593459, -1.3638062823045671, -1.8237245334450118, 1.0923484618951989, -1.1349063046921946, -0.5663122283761413, 1.343150277224588, 1.423518043952554, 0.15021591350662922, 0.2517358159883754, -0.04953946581698489, -0.06582562263824401, 0.5096721099198526, -1.0242755455221242, -0.4763164697743531, 0.6918087074211218, -0.21631606753447347, 1.6824576992982336, -0.9763443880200405, 0.535678872534667, 0.2758679542206118, -2.8352977193601707, -0.0008868871502166775, -0.3202137870334289, -0.9645916325091594, -0.3588390703210608, -1.5672693194465956, -0.43850581048894766], \"yaxis\": \"y9\"}, {\"line\": {\"color\": \"rgba(128, 128, 128, 1.0)\", \"dash\": \"solid\", \"shape\": \"linear\", \"width\": 1.3}, \"marker\": {\"size\": 2, \"symbol\": \"circle\"}, \"mode\": \"markers\", \"name\": \"C\", \"text\": \"\", \"type\": \"scatter\", \"x\": [-0.3210616890439768, 0.014731334124076999, 0.5366938623242867, -0.28347189457944116, 0.045451557025280365, 0.13459038631390496, 0.7680897864672134, -0.5605600823698804, 1.6570181797969776, 0.6384146948817033, 1.3887234430034054, -0.09505479464596212, 0.3793871989929514, 0.968138373003798, 0.5570971336800378, -0.12022809907427562, 1.225767443374642, -0.48103582404950523, 0.31237187179067677, -1.5541642248570275, -0.0905732283356259, -0.7121648301099559, -0.8980559307398618, 0.7505948170765744, -0.08743327787437438, 0.7381569910231944, 1.0578906584070804, 0.609010499655325, -0.07991913941469375, -0.9809062194854374, -0.3927567552348754, 1.1779490224473685, 0.5861320936097942, -1.9586149587331063, -0.7503025630835873, 2.111168813334928, 1.1724683723332443, 0.41124561482519084, -0.8073090559661715, -0.6001700359496503, 0.924992852207575, 0.564903133816479, -1.329485783727274, -0.9042900886398983, 0.7446229259164912, -0.6664395834381821, 1.790641696870415, -0.7000508417729924, -2.124025946845946, 1.427339440341842, -0.023434047825694505, -2.184151730277451, -0.2743737245978753, 0.08652959980978199, 0.7073634897595449, 0.5328211228340343, 1.8902284648569976, 0.21527531979477196, -1.7836858947922036, -0.3353688964873548, -1.1002301192684039, -0.6883952001486617, -1.5764860675414936, -0.6433657782077495, 1.097576865535247, -0.023602921622034694, -0.029463692580862483, 0.2358983482389432, 0.27894641922849245, 0.30550114510394016, 0.8867657472418506, 0.9319324919522, -0.01664626305233927, -0.5007055914851937, 1.5554489026110867, 0.3985089102148669, -1.7988728013549453, 0.33490036387429, -0.3185069447544962, -0.10960628009446838, 0.5677453220093496, -0.9445892255243346, -0.6654555763718258, 1.3332815274819332, 0.9620523328660819, 0.0627271471645771, -1.5219745869359935, 1.8456224867766633, 0.35193461333641635, -0.6911844965770978, -1.9382109908973897, 0.5101622352180557, 0.04141713857864906, 0.7348149162733385, 0.08876588617886874, -0.20605819017878488, -0.5796140389078577, -0.27512891936251505, -1.108562305937151, 0.83556234684711], \"xaxis\": \"x10\", \"y\": [-1.5746635555132593, -0.8208519487525724, 0.13411839178356635, -1.073405727107703, 0.8492878024289273, 2.254601176611265, -1.0878769204610368, 0.05491395788764352, -0.938550021253144, 0.0831501541026087, -0.37161067823376354, -0.8357041894404749, 1.1719737829000128, -0.6860518985881422, 0.8375667994557933, -0.9397053484941409, -1.7889322349233618, -0.13110549339808994, -0.21790251118483994, 1.0243507066626305, -1.393511551476447, 0.7960398950108859, 0.3376177013303217, -0.27719455186705055, -0.599024528281968, -1.0448750802566376, -0.3299792930259386, 0.9414823910779461, 0.8128194717871082, -2.0017279544076882, -0.11565056175803837, -0.39887050385009104, 0.24681073229257872, 0.07438133150679462, 0.7674862118999634, -0.2870042449544319, 0.1874362991542395, 0.8852072086506295, -1.5070637961266762, 1.4263336865955873, 0.19878349333474926, 0.9749485819616145, -0.6868121389520477, 0.9166637700665273, 0.3502501972642983, -0.690876281143508, -1.2704903637223155, 0.7390724833594484, 1.547695798213712, -0.7232647324890362, -0.178124208961265, 0.49891936425176653, -0.829477671631334, 1.0726449576062738, 1.1913989599956993, 1.2782170998335898, 0.7979436445528246, -0.9147442814326879, -0.08208447048785322, -1.9173840888427844, -0.5552102564992429, 0.9741457675696146, 0.11704030109082995, -0.9933189766534842, 0.09936221246799455, -0.4242039091357622, 0.58729575045313, -0.8066782132707256, 0.29490148525810694, 1.1530225437432087, 1.5171876792595087, 0.7673025283554721, 0.9011567252593459, -1.3638062823045671, -1.8237245334450118, 1.0923484618951989, -1.1349063046921946, -0.5663122283761413, 1.343150277224588, 1.423518043952554, 0.15021591350662922, 0.2517358159883754, -0.04953946581698489, -0.06582562263824401, 0.5096721099198526, -1.0242755455221242, -0.4763164697743531, 0.6918087074211218, -0.21631606753447347, 1.6824576992982336, -0.9763443880200405, 0.535678872534667, 0.2758679542206118, -2.8352977193601707, -0.0008868871502166775, -0.3202137870334289, -0.9645916325091594, -0.3588390703210608, -1.5672693194465956, -0.43850581048894766], \"yaxis\": \"y10\"}, {\"histfunc\": \"count\", \"histnorm\": \"\", \"marker\": {\"color\": \"rgba(50, 171, 96, 1.0)\", \"line\": {\"color\": \"#4D5663\", \"width\": 1.3}}, \"name\": \"C\", \"nbinsx\": 10, \"opacity\": 0.8, \"orientation\": \"v\", \"type\": \"histogram\", \"x\": [-1.5746635555132593, -0.8208519487525724, 0.13411839178356635, -1.073405727107703, 0.8492878024289273, 2.254601176611265, -1.0878769204610368, 0.05491395788764352, -0.938550021253144, 0.0831501541026087, -0.37161067823376354, -0.8357041894404749, 1.1719737829000128, -0.6860518985881422, 0.8375667994557933, -0.9397053484941409, -1.7889322349233618, -0.13110549339808994, -0.21790251118483994, 1.0243507066626305, -1.393511551476447, 0.7960398950108859, 0.3376177013303217, -0.27719455186705055, -0.599024528281968, -1.0448750802566376, -0.3299792930259386, 0.9414823910779461, 0.8128194717871082, -2.0017279544076882, -0.11565056175803837, -0.39887050385009104, 0.24681073229257872, 0.07438133150679462, 0.7674862118999634, -0.2870042449544319, 0.1874362991542395, 0.8852072086506295, -1.5070637961266762, 1.4263336865955873, 0.19878349333474926, 0.9749485819616145, -0.6868121389520477, 0.9166637700665273, 0.3502501972642983, -0.690876281143508, -1.2704903637223155, 0.7390724833594484, 1.547695798213712, -0.7232647324890362, -0.178124208961265, 0.49891936425176653, -0.829477671631334, 1.0726449576062738, 1.1913989599956993, 1.2782170998335898, 0.7979436445528246, -0.9147442814326879, -0.08208447048785322, -1.9173840888427844, -0.5552102564992429, 0.9741457675696146, 0.11704030109082995, -0.9933189766534842, 0.09936221246799455, -0.4242039091357622, 0.58729575045313, -0.8066782132707256, 0.29490148525810694, 1.1530225437432087, 1.5171876792595087, 0.7673025283554721, 0.9011567252593459, -1.3638062823045671, -1.8237245334450118, 1.0923484618951989, -1.1349063046921946, -0.5663122283761413, 1.343150277224588, 1.423518043952554, 0.15021591350662922, 0.2517358159883754, -0.04953946581698489, -0.06582562263824401, 0.5096721099198526, -1.0242755455221242, -0.4763164697743531, 0.6918087074211218, -0.21631606753447347, 1.6824576992982336, -0.9763443880200405, 0.535678872534667, 0.2758679542206118, -2.8352977193601707, -0.0008868871502166775, -0.3202137870334289, -0.9645916325091594, -0.3588390703210608, -1.5672693194465956, -0.43850581048894766], \"xaxis\": \"x11\", \"yaxis\": \"y11\"}, {\"line\": {\"color\": \"rgba(128, 128, 128, 1.0)\", \"dash\": \"solid\", \"shape\": \"linear\", \"width\": 1.3}, \"marker\": {\"size\": 2, \"symbol\": \"circle\"}, \"mode\": \"markers\", \"name\": \"C\", \"text\": \"\", \"type\": \"scatter\", \"x\": [1.3915284842186988, 0.5185130094144702, -1.0606253421777951, -0.24460755193586287, 0.8202241426829425, -0.887582315304925, -2.8538309597752867, -0.9735586571847238, 1.450536278286463, 1.2760657489482605, -1.5652882182832306, 1.4645914708923071, 0.09329788490746273, 0.8057167710446781, 1.0152273362785735, -0.7978662004859711, -0.8365744231983471, 0.28424634824466244, -1.8915142256077258, 0.3739809215343839, 0.051329217894539, 0.9256733937623756, -0.35179554429520843, -1.9033909214042593, 0.45264744995978906, -0.5807322459220383, -0.11435315011914135, -0.30398911522147987, -0.08458819819471305, 1.4295666865836059, -1.3657316946782658, 0.5735423214731328, 1.6572412107323413, -0.760872677119515, -1.2392615031108305, 0.14803104558174862, -0.8561087960484719, -0.5128541761649891, -0.28488806627419583, -0.18465941989611753, -2.232825107959683, 0.33473747004274823, 0.6606241943088436, 0.019623914803615285, -0.7584006645927847, 2.8377835630481405, -0.6266276799272331, -0.6532095561165252, 0.29170074098777793, -1.1665894943988193, -0.3376741908898411, 1.0751891517480283, -0.6448449862168085, 1.214573859061091, -0.034778294663861654, -0.6213694553867667, -1.0610596965100185, 0.6479555596462478, 0.9068247873074341, -1.5401656730162003, -0.7080391573628131, -0.7829170746864355, -0.4255437274019955, -0.3962885151997171, 1.2386728246527157, -1.2016150089134001, 0.5149137342604595, -0.7120689231800665, -0.9801118556510571, 0.31712839974847895, 0.9341300403425877, -0.7035089651286938, -0.5637510964979929, -0.40643637929223103, 1.4717157907239993, -2.4316467529894203, 1.8425226033591404, 0.08085620949960143, -0.539388341835714, 0.41145218196658184, 1.7713082753781175, 0.800238042387477, 0.2907060923613845, 0.6707859099022279, 1.5618649336698032, 0.6230978393033384, -0.9297961775205729, -2.369073884926949, -0.6835387244012849, 1.4185669493114144, -0.449922261659089, 0.37849098997281494, 0.884469678375085, -2.378754245172478, -1.1934731790828719, 0.12692321653002386, 0.8237573446074903, -0.01818332015703452, 0.9806165462699724, 0.5801263631830152], \"xaxis\": \"x12\", \"y\": [-1.5746635555132593, -0.8208519487525724, 0.13411839178356635, -1.073405727107703, 0.8492878024289273, 2.254601176611265, -1.0878769204610368, 0.05491395788764352, -0.938550021253144, 0.0831501541026087, -0.37161067823376354, -0.8357041894404749, 1.1719737829000128, -0.6860518985881422, 0.8375667994557933, -0.9397053484941409, -1.7889322349233618, -0.13110549339808994, -0.21790251118483994, 1.0243507066626305, -1.393511551476447, 0.7960398950108859, 0.3376177013303217, -0.27719455186705055, -0.599024528281968, -1.0448750802566376, -0.3299792930259386, 0.9414823910779461, 0.8128194717871082, -2.0017279544076882, -0.11565056175803837, -0.39887050385009104, 0.24681073229257872, 0.07438133150679462, 0.7674862118999634, -0.2870042449544319, 0.1874362991542395, 0.8852072086506295, -1.5070637961266762, 1.4263336865955873, 0.19878349333474926, 0.9749485819616145, -0.6868121389520477, 0.9166637700665273, 0.3502501972642983, -0.690876281143508, -1.2704903637223155, 0.7390724833594484, 1.547695798213712, -0.7232647324890362, -0.178124208961265, 0.49891936425176653, -0.829477671631334, 1.0726449576062738, 1.1913989599956993, 1.2782170998335898, 0.7979436445528246, -0.9147442814326879, -0.08208447048785322, -1.9173840888427844, -0.5552102564992429, 0.9741457675696146, 0.11704030109082995, -0.9933189766534842, 0.09936221246799455, -0.4242039091357622, 0.58729575045313, -0.8066782132707256, 0.29490148525810694, 1.1530225437432087, 1.5171876792595087, 0.7673025283554721, 0.9011567252593459, -1.3638062823045671, -1.8237245334450118, 1.0923484618951989, -1.1349063046921946, -0.5663122283761413, 1.343150277224588, 1.423518043952554, 0.15021591350662922, 0.2517358159883754, -0.04953946581698489, -0.06582562263824401, 0.5096721099198526, -1.0242755455221242, -0.4763164697743531, 0.6918087074211218, -0.21631606753447347, 1.6824576992982336, -0.9763443880200405, 0.535678872534667, 0.2758679542206118, -2.8352977193601707, -0.0008868871502166775, -0.3202137870334289, -0.9645916325091594, -0.3588390703210608, -1.5672693194465956, -0.43850581048894766], \"yaxis\": \"y12\"}, {\"line\": {\"color\": \"rgba(128, 128, 128, 1.0)\", \"dash\": \"solid\", \"shape\": \"linear\", \"width\": 1.3}, \"marker\": {\"size\": 2, \"symbol\": \"circle\"}, \"mode\": \"markers\", \"name\": \"D\", \"text\": \"\", \"type\": \"scatter\", \"x\": [0.5465783073064772, -0.29266683075288924, 0.6231870996745854, -0.834383727710256, 0.07267124236383367, 0.546609283854429, -1.131288781160773, 0.9726279769132807, 1.3036471779533993, 0.09456737726953622, -1.4909951751412387, 0.2486809006031248, -0.5041954963214929, 1.090313604126461, 0.5271065162022843, 0.72996298455288, -0.5727674434124677, 0.6981473528513243, 0.42646244691734936, 0.22561770627475097, 1.3964635891379957, -1.028076763783862, -0.7918548050193706, 0.6424988861128034, 0.07700092744047617, 0.2639476843988694, -1.3939121056913943, 0.8022040203343273, -0.46413394434136784, 0.2220320510302532, 0.935281027468148, -0.7800155400860896, -0.416128340694564, 1.3185965143422556, -0.9440127360391387, -0.6366557329525351, 0.44540615728871885, -2.2642998115862225, -0.2850565034199015, 1.0506044703218136, 0.8378528542175177, -0.12868954137371466, -0.33798990823686026, 0.1679192582551076, -0.9308238698161303, 0.07517507846869902, 0.5529139051581751, -0.6550066638750623, 1.6622073144790908, -0.9563738629799234, -0.9039901786142885, -0.9224207152656744, 0.7853020720624344, -0.9078645469319825, -1.0065774903612925, -0.6513350487302739, 0.607897606343382, -0.7121619992871777, -1.0062801835740622, 0.4151934066896479, 0.42890807858108176, -1.4465094346493927, 1.7219331417962913, -1.5053103553567573, -1.5460676762516719, -1.334470385973534, 1.3820705239206281, 1.149948100182805, 0.48581062454288443, -2.9220312235168104, 0.9688469690572168, 0.4005785671067927, -1.7729643682929506, -2.254444960561575, 2.8558789888409377, 0.11684368509114042, -0.5921664352451752, -0.7669775175253448, 0.3944947793185067, 0.17970836550271987, 0.7320087898796422, -0.3718994683294069, 0.6490335347378919, 1.61451773742073, 2.2200311879880092, 0.2652884204844432, -1.138292642211443, -1.0916461301727252, -0.6552002466498384, -0.17573927465249542, 0.19807054658965803, -0.3135938770961247, 0.9100592564889136, 1.389689501439636, 0.4571725986883691, -1.147513235584393, -0.2641384924636912, -2.4750908872422532, -0.3052555238066782, 0.5126311294281619], \"xaxis\": \"x13\", \"y\": [1.3915284842186988, 0.5185130094144702, -1.0606253421777951, -0.24460755193586287, 0.8202241426829425, -0.887582315304925, -2.8538309597752867, -0.9735586571847238, 1.450536278286463, 1.2760657489482605, -1.5652882182832306, 1.4645914708923071, 0.09329788490746273, 0.8057167710446781, 1.0152273362785735, -0.7978662004859711, -0.8365744231983471, 0.28424634824466244, -1.8915142256077258, 0.3739809215343839, 0.051329217894539, 0.9256733937623756, -0.35179554429520843, -1.9033909214042593, 0.45264744995978906, -0.5807322459220383, -0.11435315011914135, -0.30398911522147987, -0.08458819819471305, 1.4295666865836059, -1.3657316946782658, 0.5735423214731328, 1.6572412107323413, -0.760872677119515, -1.2392615031108305, 0.14803104558174862, -0.8561087960484719, -0.5128541761649891, -0.28488806627419583, -0.18465941989611753, -2.232825107959683, 0.33473747004274823, 0.6606241943088436, 0.019623914803615285, -0.7584006645927847, 2.8377835630481405, -0.6266276799272331, -0.6532095561165252, 0.29170074098777793, -1.1665894943988193, -0.3376741908898411, 1.0751891517480283, -0.6448449862168085, 1.214573859061091, -0.034778294663861654, -0.6213694553867667, -1.0610596965100185, 0.6479555596462478, 0.9068247873074341, -1.5401656730162003, -0.7080391573628131, -0.7829170746864355, -0.4255437274019955, -0.3962885151997171, 1.2386728246527157, -1.2016150089134001, 0.5149137342604595, -0.7120689231800665, -0.9801118556510571, 0.31712839974847895, 0.9341300403425877, -0.7035089651286938, -0.5637510964979929, -0.40643637929223103, 1.4717157907239993, -2.4316467529894203, 1.8425226033591404, 0.08085620949960143, -0.539388341835714, 0.41145218196658184, 1.7713082753781175, 0.800238042387477, 0.2907060923613845, 0.6707859099022279, 1.5618649336698032, 0.6230978393033384, -0.9297961775205729, -2.369073884926949, -0.6835387244012849, 1.4185669493114144, -0.449922261659089, 0.37849098997281494, 0.884469678375085, -2.378754245172478, -1.1934731790828719, 0.12692321653002386, 0.8237573446074903, -0.01818332015703452, 0.9806165462699724, 0.5801263631830152], \"yaxis\": \"y13\"}, {\"line\": {\"color\": \"rgba(128, 128, 128, 1.0)\", \"dash\": \"solid\", \"shape\": \"linear\", \"width\": 1.3}, \"marker\": {\"size\": 2, \"symbol\": \"circle\"}, \"mode\": \"markers\", \"name\": \"D\", \"text\": \"\", \"type\": \"scatter\", \"x\": [-0.3210616890439768, 0.014731334124076999, 0.5366938623242867, -0.28347189457944116, 0.045451557025280365, 0.13459038631390496, 0.7680897864672134, -0.5605600823698804, 1.6570181797969776, 0.6384146948817033, 1.3887234430034054, -0.09505479464596212, 0.3793871989929514, 0.968138373003798, 0.5570971336800378, -0.12022809907427562, 1.225767443374642, -0.48103582404950523, 0.31237187179067677, -1.5541642248570275, -0.0905732283356259, -0.7121648301099559, -0.8980559307398618, 0.7505948170765744, -0.08743327787437438, 0.7381569910231944, 1.0578906584070804, 0.609010499655325, -0.07991913941469375, -0.9809062194854374, -0.3927567552348754, 1.1779490224473685, 0.5861320936097942, -1.9586149587331063, -0.7503025630835873, 2.111168813334928, 1.1724683723332443, 0.41124561482519084, -0.8073090559661715, -0.6001700359496503, 0.924992852207575, 0.564903133816479, -1.329485783727274, -0.9042900886398983, 0.7446229259164912, -0.6664395834381821, 1.790641696870415, -0.7000508417729924, -2.124025946845946, 1.427339440341842, -0.023434047825694505, -2.184151730277451, -0.2743737245978753, 0.08652959980978199, 0.7073634897595449, 0.5328211228340343, 1.8902284648569976, 0.21527531979477196, -1.7836858947922036, -0.3353688964873548, -1.1002301192684039, -0.6883952001486617, -1.5764860675414936, -0.6433657782077495, 1.097576865535247, -0.023602921622034694, -0.029463692580862483, 0.2358983482389432, 0.27894641922849245, 0.30550114510394016, 0.8867657472418506, 0.9319324919522, -0.01664626305233927, -0.5007055914851937, 1.5554489026110867, 0.3985089102148669, -1.7988728013549453, 0.33490036387429, -0.3185069447544962, -0.10960628009446838, 0.5677453220093496, -0.9445892255243346, -0.6654555763718258, 1.3332815274819332, 0.9620523328660819, 0.0627271471645771, -1.5219745869359935, 1.8456224867766633, 0.35193461333641635, -0.6911844965770978, -1.9382109908973897, 0.5101622352180557, 0.04141713857864906, 0.7348149162733385, 0.08876588617886874, -0.20605819017878488, -0.5796140389078577, -0.27512891936251505, -1.108562305937151, 0.83556234684711], \"xaxis\": \"x14\", \"y\": [1.3915284842186988, 0.5185130094144702, -1.0606253421777951, -0.24460755193586287, 0.8202241426829425, -0.887582315304925, -2.8538309597752867, -0.9735586571847238, 1.450536278286463, 1.2760657489482605, -1.5652882182832306, 1.4645914708923071, 0.09329788490746273, 0.8057167710446781, 1.0152273362785735, -0.7978662004859711, -0.8365744231983471, 0.28424634824466244, -1.8915142256077258, 0.3739809215343839, 0.051329217894539, 0.9256733937623756, -0.35179554429520843, -1.9033909214042593, 0.45264744995978906, -0.5807322459220383, -0.11435315011914135, -0.30398911522147987, -0.08458819819471305, 1.4295666865836059, -1.3657316946782658, 0.5735423214731328, 1.6572412107323413, -0.760872677119515, -1.2392615031108305, 0.14803104558174862, -0.8561087960484719, -0.5128541761649891, -0.28488806627419583, -0.18465941989611753, -2.232825107959683, 0.33473747004274823, 0.6606241943088436, 0.019623914803615285, -0.7584006645927847, 2.8377835630481405, -0.6266276799272331, -0.6532095561165252, 0.29170074098777793, -1.1665894943988193, -0.3376741908898411, 1.0751891517480283, -0.6448449862168085, 1.214573859061091, -0.034778294663861654, -0.6213694553867667, -1.0610596965100185, 0.6479555596462478, 0.9068247873074341, -1.5401656730162003, -0.7080391573628131, -0.7829170746864355, -0.4255437274019955, -0.3962885151997171, 1.2386728246527157, -1.2016150089134001, 0.5149137342604595, -0.7120689231800665, -0.9801118556510571, 0.31712839974847895, 0.9341300403425877, -0.7035089651286938, -0.5637510964979929, -0.40643637929223103, 1.4717157907239993, -2.4316467529894203, 1.8425226033591404, 0.08085620949960143, -0.539388341835714, 0.41145218196658184, 1.7713082753781175, 0.800238042387477, 0.2907060923613845, 0.6707859099022279, 1.5618649336698032, 0.6230978393033384, -0.9297961775205729, -2.369073884926949, -0.6835387244012849, 1.4185669493114144, -0.449922261659089, 0.37849098997281494, 0.884469678375085, -2.378754245172478, -1.1934731790828719, 0.12692321653002386, 0.8237573446074903, -0.01818332015703452, 0.9806165462699724, 0.5801263631830152], \"yaxis\": \"y14\"}, {\"line\": {\"color\": \"rgba(128, 128, 128, 1.0)\", \"dash\": \"solid\", \"shape\": \"linear\", \"width\": 1.3}, \"marker\": {\"size\": 2, \"symbol\": \"circle\"}, \"mode\": \"markers\", \"name\": \"D\", \"text\": \"\", \"type\": \"scatter\", \"x\": [-1.5746635555132593, -0.8208519487525724, 0.13411839178356635, -1.073405727107703, 0.8492878024289273, 2.254601176611265, -1.0878769204610368, 0.05491395788764352, -0.938550021253144, 0.0831501541026087, -0.37161067823376354, -0.8357041894404749, 1.1719737829000128, -0.6860518985881422, 0.8375667994557933, -0.9397053484941409, -1.7889322349233618, -0.13110549339808994, -0.21790251118483994, 1.0243507066626305, -1.393511551476447, 0.7960398950108859, 0.3376177013303217, -0.27719455186705055, -0.599024528281968, -1.0448750802566376, -0.3299792930259386, 0.9414823910779461, 0.8128194717871082, -2.0017279544076882, -0.11565056175803837, -0.39887050385009104, 0.24681073229257872, 0.07438133150679462, 0.7674862118999634, -0.2870042449544319, 0.1874362991542395, 0.8852072086506295, -1.5070637961266762, 1.4263336865955873, 0.19878349333474926, 0.9749485819616145, -0.6868121389520477, 0.9166637700665273, 0.3502501972642983, -0.690876281143508, -1.2704903637223155, 0.7390724833594484, 1.547695798213712, -0.7232647324890362, -0.178124208961265, 0.49891936425176653, -0.829477671631334, 1.0726449576062738, 1.1913989599956993, 1.2782170998335898, 0.7979436445528246, -0.9147442814326879, -0.08208447048785322, -1.9173840888427844, -0.5552102564992429, 0.9741457675696146, 0.11704030109082995, -0.9933189766534842, 0.09936221246799455, -0.4242039091357622, 0.58729575045313, -0.8066782132707256, 0.29490148525810694, 1.1530225437432087, 1.5171876792595087, 0.7673025283554721, 0.9011567252593459, -1.3638062823045671, -1.8237245334450118, 1.0923484618951989, -1.1349063046921946, -0.5663122283761413, 1.343150277224588, 1.423518043952554, 0.15021591350662922, 0.2517358159883754, -0.04953946581698489, -0.06582562263824401, 0.5096721099198526, -1.0242755455221242, -0.4763164697743531, 0.6918087074211218, -0.21631606753447347, 1.6824576992982336, -0.9763443880200405, 0.535678872534667, 0.2758679542206118, -2.8352977193601707, -0.0008868871502166775, -0.3202137870334289, -0.9645916325091594, -0.3588390703210608, -1.5672693194465956, -0.43850581048894766], \"xaxis\": \"x15\", \"y\": [1.3915284842186988, 0.5185130094144702, -1.0606253421777951, -0.24460755193586287, 0.8202241426829425, -0.887582315304925, -2.8538309597752867, -0.9735586571847238, 1.450536278286463, 1.2760657489482605, -1.5652882182832306, 1.4645914708923071, 0.09329788490746273, 0.8057167710446781, 1.0152273362785735, -0.7978662004859711, -0.8365744231983471, 0.28424634824466244, -1.8915142256077258, 0.3739809215343839, 0.051329217894539, 0.9256733937623756, -0.35179554429520843, -1.9033909214042593, 0.45264744995978906, -0.5807322459220383, -0.11435315011914135, -0.30398911522147987, -0.08458819819471305, 1.4295666865836059, -1.3657316946782658, 0.5735423214731328, 1.6572412107323413, -0.760872677119515, -1.2392615031108305, 0.14803104558174862, -0.8561087960484719, -0.5128541761649891, -0.28488806627419583, -0.18465941989611753, -2.232825107959683, 0.33473747004274823, 0.6606241943088436, 0.019623914803615285, -0.7584006645927847, 2.8377835630481405, -0.6266276799272331, -0.6532095561165252, 0.29170074098777793, -1.1665894943988193, -0.3376741908898411, 1.0751891517480283, -0.6448449862168085, 1.214573859061091, -0.034778294663861654, -0.6213694553867667, -1.0610596965100185, 0.6479555596462478, 0.9068247873074341, -1.5401656730162003, -0.7080391573628131, -0.7829170746864355, -0.4255437274019955, -0.3962885151997171, 1.2386728246527157, -1.2016150089134001, 0.5149137342604595, -0.7120689231800665, -0.9801118556510571, 0.31712839974847895, 0.9341300403425877, -0.7035089651286938, -0.5637510964979929, -0.40643637929223103, 1.4717157907239993, -2.4316467529894203, 1.8425226033591404, 0.08085620949960143, -0.539388341835714, 0.41145218196658184, 1.7713082753781175, 0.800238042387477, 0.2907060923613845, 0.6707859099022279, 1.5618649336698032, 0.6230978393033384, -0.9297961775205729, -2.369073884926949, -0.6835387244012849, 1.4185669493114144, -0.449922261659089, 0.37849098997281494, 0.884469678375085, -2.378754245172478, -1.1934731790828719, 0.12692321653002386, 0.8237573446074903, -0.01818332015703452, 0.9806165462699724, 0.5801263631830152], \"yaxis\": \"y15\"}, {\"histfunc\": \"count\", \"histnorm\": \"\", \"marker\": {\"color\": \"rgba(128, 0, 128, 1.0)\", \"line\": {\"color\": \"#4D5663\", \"width\": 1.3}}, \"name\": \"D\", \"nbinsx\": 10, \"opacity\": 0.8, \"orientation\": \"v\", \"type\": \"histogram\", \"x\": [1.3915284842186988, 0.5185130094144702, -1.0606253421777951, -0.24460755193586287, 0.8202241426829425, -0.887582315304925, -2.8538309597752867, -0.9735586571847238, 1.450536278286463, 1.2760657489482605, -1.5652882182832306, 1.4645914708923071, 0.09329788490746273, 0.8057167710446781, 1.0152273362785735, -0.7978662004859711, -0.8365744231983471, 0.28424634824466244, -1.8915142256077258, 0.3739809215343839, 0.051329217894539, 0.9256733937623756, -0.35179554429520843, -1.9033909214042593, 0.45264744995978906, -0.5807322459220383, -0.11435315011914135, -0.30398911522147987, -0.08458819819471305, 1.4295666865836059, -1.3657316946782658, 0.5735423214731328, 1.6572412107323413, -0.760872677119515, -1.2392615031108305, 0.14803104558174862, -0.8561087960484719, -0.5128541761649891, -0.28488806627419583, -0.18465941989611753, -2.232825107959683, 0.33473747004274823, 0.6606241943088436, 0.019623914803615285, -0.7584006645927847, 2.8377835630481405, -0.6266276799272331, -0.6532095561165252, 0.29170074098777793, -1.1665894943988193, -0.3376741908898411, 1.0751891517480283, -0.6448449862168085, 1.214573859061091, -0.034778294663861654, -0.6213694553867667, -1.0610596965100185, 0.6479555596462478, 0.9068247873074341, -1.5401656730162003, -0.7080391573628131, -0.7829170746864355, -0.4255437274019955, -0.3962885151997171, 1.2386728246527157, -1.2016150089134001, 0.5149137342604595, -0.7120689231800665, -0.9801118556510571, 0.31712839974847895, 0.9341300403425877, -0.7035089651286938, -0.5637510964979929, -0.40643637929223103, 1.4717157907239993, -2.4316467529894203, 1.8425226033591404, 0.08085620949960143, -0.539388341835714, 0.41145218196658184, 1.7713082753781175, 0.800238042387477, 0.2907060923613845, 0.6707859099022279, 1.5618649336698032, 0.6230978393033384, -0.9297961775205729, -2.369073884926949, -0.6835387244012849, 1.4185669493114144, -0.449922261659089, 0.37849098997281494, 0.884469678375085, -2.378754245172478, -1.1934731790828719, 0.12692321653002386, 0.8237573446074903, -0.01818332015703452, 0.9806165462699724, 0.5801263631830152], \"xaxis\": \"x16\", \"yaxis\": \"y16\"}],                        {\"bargap\": 0.02, \"legend\": {\"bgcolor\": \"#F5F6F9\", \"font\": {\"color\": \"#4D5663\"}}, \"paper_bgcolor\": \"#F5F6F9\", \"plot_bgcolor\": \"#F5F6F9\", \"showlegend\": false, \"template\": {\"data\": {\"bar\": [{\"error_x\": {\"color\": \"#2a3f5f\"}, \"error_y\": {\"color\": \"#2a3f5f\"}, \"marker\": {\"line\": {\"color\": \"#E5ECF6\", \"width\": 0.5}}, \"type\": \"bar\"}], \"barpolar\": [{\"marker\": {\"line\": {\"color\": \"#E5ECF6\", \"width\": 0.5}}, \"type\": \"barpolar\"}], \"carpet\": [{\"aaxis\": {\"endlinecolor\": \"#2a3f5f\", \"gridcolor\": \"white\", \"linecolor\": \"white\", \"minorgridcolor\": \"white\", \"startlinecolor\": \"#2a3f5f\"}, \"baxis\": {\"endlinecolor\": \"#2a3f5f\", \"gridcolor\": \"white\", \"linecolor\": \"white\", \"minorgridcolor\": \"white\", \"startlinecolor\": \"#2a3f5f\"}, \"type\": \"carpet\"}], \"choropleth\": [{\"colorbar\": {\"outlinewidth\": 0, \"ticks\": \"\"}, \"type\": \"choropleth\"}], \"contour\": [{\"colorbar\": {\"outlinewidth\": 0, \"ticks\": \"\"}, \"colorscale\": [[0.0, \"#0d0887\"], [0.1111111111111111, \"#46039f\"], [0.2222222222222222, \"#7201a8\"], [0.3333333333333333, \"#9c179e\"], [0.4444444444444444, \"#bd3786\"], [0.5555555555555556, \"#d8576b\"], [0.6666666666666666, \"#ed7953\"], [0.7777777777777778, \"#fb9f3a\"], [0.8888888888888888, \"#fdca26\"], [1.0, \"#f0f921\"]], \"type\": \"contour\"}], \"contourcarpet\": [{\"colorbar\": {\"outlinewidth\": 0, \"ticks\": \"\"}, \"type\": \"contourcarpet\"}], \"heatmap\": [{\"colorbar\": {\"outlinewidth\": 0, \"ticks\": \"\"}, \"colorscale\": [[0.0, \"#0d0887\"], [0.1111111111111111, \"#46039f\"], [0.2222222222222222, \"#7201a8\"], [0.3333333333333333, \"#9c179e\"], [0.4444444444444444, \"#bd3786\"], [0.5555555555555556, \"#d8576b\"], [0.6666666666666666, \"#ed7953\"], [0.7777777777777778, \"#fb9f3a\"], [0.8888888888888888, \"#fdca26\"], [1.0, \"#f0f921\"]], \"type\": \"heatmap\"}], \"heatmapgl\": [{\"colorbar\": {\"outlinewidth\": 0, \"ticks\": \"\"}, \"colorscale\": [[0.0, \"#0d0887\"], [0.1111111111111111, \"#46039f\"], [0.2222222222222222, \"#7201a8\"], [0.3333333333333333, \"#9c179e\"], [0.4444444444444444, \"#bd3786\"], [0.5555555555555556, \"#d8576b\"], [0.6666666666666666, \"#ed7953\"], [0.7777777777777778, \"#fb9f3a\"], [0.8888888888888888, \"#fdca26\"], [1.0, \"#f0f921\"]], \"type\": \"heatmapgl\"}], \"histogram\": [{\"marker\": {\"colorbar\": {\"outlinewidth\": 0, \"ticks\": \"\"}}, \"type\": \"histogram\"}], \"histogram2d\": [{\"colorbar\": {\"outlinewidth\": 0, \"ticks\": \"\"}, \"colorscale\": [[0.0, \"#0d0887\"], [0.1111111111111111, \"#46039f\"], [0.2222222222222222, \"#7201a8\"], [0.3333333333333333, \"#9c179e\"], [0.4444444444444444, \"#bd3786\"], [0.5555555555555556, \"#d8576b\"], [0.6666666666666666, \"#ed7953\"], [0.7777777777777778, \"#fb9f3a\"], [0.8888888888888888, \"#fdca26\"], [1.0, \"#f0f921\"]], \"type\": \"histogram2d\"}], \"histogram2dcontour\": [{\"colorbar\": {\"outlinewidth\": 0, \"ticks\": \"\"}, \"colorscale\": [[0.0, \"#0d0887\"], [0.1111111111111111, \"#46039f\"], [0.2222222222222222, \"#7201a8\"], [0.3333333333333333, \"#9c179e\"], [0.4444444444444444, \"#bd3786\"], [0.5555555555555556, \"#d8576b\"], [0.6666666666666666, \"#ed7953\"], [0.7777777777777778, \"#fb9f3a\"], [0.8888888888888888, \"#fdca26\"], [1.0, \"#f0f921\"]], \"type\": \"histogram2dcontour\"}], \"mesh3d\": [{\"colorbar\": {\"outlinewidth\": 0, \"ticks\": \"\"}, \"type\": \"mesh3d\"}], \"parcoords\": [{\"line\": {\"colorbar\": {\"outlinewidth\": 0, \"ticks\": \"\"}}, \"type\": \"parcoords\"}], \"pie\": [{\"automargin\": true, \"type\": \"pie\"}], \"scatter\": [{\"marker\": {\"colorbar\": {\"outlinewidth\": 0, \"ticks\": \"\"}}, \"type\": \"scatter\"}], \"scatter3d\": [{\"line\": {\"colorbar\": {\"outlinewidth\": 0, \"ticks\": \"\"}}, \"marker\": {\"colorbar\": {\"outlinewidth\": 0, \"ticks\": \"\"}}, \"type\": \"scatter3d\"}], \"scattercarpet\": [{\"marker\": {\"colorbar\": {\"outlinewidth\": 0, \"ticks\": \"\"}}, \"type\": \"scattercarpet\"}], \"scattergeo\": [{\"marker\": {\"colorbar\": {\"outlinewidth\": 0, \"ticks\": \"\"}}, \"type\": \"scattergeo\"}], \"scattergl\": [{\"marker\": {\"colorbar\": {\"outlinewidth\": 0, \"ticks\": \"\"}}, \"type\": \"scattergl\"}], \"scattermapbox\": [{\"marker\": {\"colorbar\": {\"outlinewidth\": 0, \"ticks\": \"\"}}, \"type\": \"scattermapbox\"}], \"scatterpolar\": [{\"marker\": {\"colorbar\": {\"outlinewidth\": 0, \"ticks\": \"\"}}, \"type\": \"scatterpolar\"}], \"scatterpolargl\": [{\"marker\": {\"colorbar\": {\"outlinewidth\": 0, \"ticks\": \"\"}}, \"type\": \"scatterpolargl\"}], \"scatterternary\": [{\"marker\": {\"colorbar\": {\"outlinewidth\": 0, \"ticks\": \"\"}}, \"type\": \"scatterternary\"}], \"surface\": [{\"colorbar\": {\"outlinewidth\": 0, \"ticks\": \"\"}, \"colorscale\": [[0.0, \"#0d0887\"], [0.1111111111111111, \"#46039f\"], [0.2222222222222222, \"#7201a8\"], [0.3333333333333333, \"#9c179e\"], [0.4444444444444444, \"#bd3786\"], [0.5555555555555556, \"#d8576b\"], [0.6666666666666666, \"#ed7953\"], [0.7777777777777778, \"#fb9f3a\"], [0.8888888888888888, \"#fdca26\"], [1.0, \"#f0f921\"]], \"type\": \"surface\"}], \"table\": [{\"cells\": {\"fill\": {\"color\": \"#EBF0F8\"}, \"line\": {\"color\": \"white\"}}, \"header\": {\"fill\": {\"color\": \"#C8D4E3\"}, \"line\": {\"color\": \"white\"}}, \"type\": \"table\"}]}, \"layout\": {\"annotationdefaults\": {\"arrowcolor\": \"#2a3f5f\", \"arrowhead\": 0, \"arrowwidth\": 1}, \"autotypenumbers\": \"strict\", \"coloraxis\": {\"colorbar\": {\"outlinewidth\": 0, \"ticks\": \"\"}}, \"colorscale\": {\"diverging\": [[0, \"#8e0152\"], [0.1, \"#c51b7d\"], [0.2, \"#de77ae\"], [0.3, \"#f1b6da\"], [0.4, \"#fde0ef\"], [0.5, \"#f7f7f7\"], [0.6, \"#e6f5d0\"], [0.7, \"#b8e186\"], [0.8, \"#7fbc41\"], [0.9, \"#4d9221\"], [1, \"#276419\"]], \"sequential\": [[0.0, \"#0d0887\"], [0.1111111111111111, \"#46039f\"], [0.2222222222222222, \"#7201a8\"], [0.3333333333333333, \"#9c179e\"], [0.4444444444444444, \"#bd3786\"], [0.5555555555555556, \"#d8576b\"], [0.6666666666666666, \"#ed7953\"], [0.7777777777777778, \"#fb9f3a\"], [0.8888888888888888, \"#fdca26\"], [1.0, \"#f0f921\"]], \"sequentialminus\": [[0.0, \"#0d0887\"], [0.1111111111111111, \"#46039f\"], [0.2222222222222222, \"#7201a8\"], [0.3333333333333333, \"#9c179e\"], [0.4444444444444444, \"#bd3786\"], [0.5555555555555556, \"#d8576b\"], [0.6666666666666666, \"#ed7953\"], [0.7777777777777778, \"#fb9f3a\"], [0.8888888888888888, \"#fdca26\"], [1.0, \"#f0f921\"]]}, \"colorway\": [\"#636efa\", \"#EF553B\", \"#00cc96\", \"#ab63fa\", \"#FFA15A\", \"#19d3f3\", \"#FF6692\", \"#B6E880\", \"#FF97FF\", \"#FECB52\"], \"font\": {\"color\": \"#2a3f5f\"}, \"geo\": {\"bgcolor\": \"white\", \"lakecolor\": \"white\", \"landcolor\": \"#E5ECF6\", \"showlakes\": true, \"showland\": true, \"subunitcolor\": \"white\"}, \"hoverlabel\": {\"align\": \"left\"}, \"hovermode\": \"closest\", \"mapbox\": {\"style\": \"light\"}, \"paper_bgcolor\": \"white\", \"plot_bgcolor\": \"#E5ECF6\", \"polar\": {\"angularaxis\": {\"gridcolor\": \"white\", \"linecolor\": \"white\", \"ticks\": \"\"}, \"bgcolor\": \"#E5ECF6\", \"radialaxis\": {\"gridcolor\": \"white\", \"linecolor\": \"white\", \"ticks\": \"\"}}, \"scene\": {\"xaxis\": {\"backgroundcolor\": \"#E5ECF6\", \"gridcolor\": \"white\", \"gridwidth\": 2, \"linecolor\": \"white\", \"showbackground\": true, \"ticks\": \"\", \"zerolinecolor\": \"white\"}, \"yaxis\": {\"backgroundcolor\": \"#E5ECF6\", \"gridcolor\": \"white\", \"gridwidth\": 2, \"linecolor\": \"white\", \"showbackground\": true, \"ticks\": \"\", \"zerolinecolor\": \"white\"}, \"zaxis\": {\"backgroundcolor\": \"#E5ECF6\", \"gridcolor\": \"white\", \"gridwidth\": 2, \"linecolor\": \"white\", \"showbackground\": true, \"ticks\": \"\", \"zerolinecolor\": \"white\"}}, \"shapedefaults\": {\"line\": {\"color\": \"#2a3f5f\"}}, \"ternary\": {\"aaxis\": {\"gridcolor\": \"white\", \"linecolor\": \"white\", \"ticks\": \"\"}, \"baxis\": {\"gridcolor\": \"white\", \"linecolor\": \"white\", \"ticks\": \"\"}, \"bgcolor\": \"#E5ECF6\", \"caxis\": {\"gridcolor\": \"white\", \"linecolor\": \"white\", \"ticks\": \"\"}}, \"title\": {\"x\": 0.05}, \"xaxis\": {\"automargin\": true, \"gridcolor\": \"white\", \"linecolor\": \"white\", \"ticks\": \"\", \"title\": {\"standoff\": 15}, \"zerolinecolor\": \"white\", \"zerolinewidth\": 2}, \"yaxis\": {\"automargin\": true, \"gridcolor\": \"white\", \"linecolor\": \"white\", \"ticks\": \"\", \"title\": {\"standoff\": 15}, \"zerolinecolor\": \"white\", \"zerolinewidth\": 2}}}, \"title\": {\"font\": {\"color\": \"#4D5663\"}}, \"xaxis\": {\"anchor\": \"y\", \"domain\": [0.0, 0.2125], \"gridcolor\": \"#E1E5ED\", \"showgrid\": false, \"tickfont\": {\"color\": \"#4D5663\"}, \"title\": {\"font\": {\"color\": \"#4D5663\"}, \"text\": \"\"}, \"zerolinecolor\": \"#E1E5ED\"}, \"xaxis10\": {\"anchor\": \"y10\", \"domain\": [0.2625, 0.475], \"gridcolor\": \"#E1E5ED\", \"showgrid\": false, \"tickfont\": {\"color\": \"#4D5663\"}, \"title\": {\"font\": {\"color\": \"#4D5663\"}, \"text\": \"\"}, \"zerolinecolor\": \"#E1E5ED\"}, \"xaxis11\": {\"anchor\": \"y11\", \"domain\": [0.525, 0.7375], \"gridcolor\": \"#E1E5ED\", \"showgrid\": false, \"tickfont\": {\"color\": \"#4D5663\"}, \"title\": {\"font\": {\"color\": \"#4D5663\"}, \"text\": \"\"}, \"zerolinecolor\": \"#E1E5ED\"}, \"xaxis12\": {\"anchor\": \"y12\", \"domain\": [0.7875, 1.0], \"gridcolor\": \"#E1E5ED\", \"showgrid\": false, \"tickfont\": {\"color\": \"#4D5663\"}, \"title\": {\"font\": {\"color\": \"#4D5663\"}, \"text\": \"\"}, \"zerolinecolor\": \"#E1E5ED\"}, \"xaxis13\": {\"anchor\": \"y13\", \"domain\": [0.0, 0.2125], \"gridcolor\": \"#E1E5ED\", \"showgrid\": false, \"tickfont\": {\"color\": \"#4D5663\"}, \"title\": {\"font\": {\"color\": \"#4D5663\"}, \"text\": \"\"}, \"zerolinecolor\": \"#E1E5ED\"}, \"xaxis14\": {\"anchor\": \"y14\", \"domain\": [0.2625, 0.475], \"gridcolor\": \"#E1E5ED\", \"showgrid\": false, \"tickfont\": {\"color\": \"#4D5663\"}, \"title\": {\"font\": {\"color\": \"#4D5663\"}, \"text\": \"\"}, \"zerolinecolor\": \"#E1E5ED\"}, \"xaxis15\": {\"anchor\": \"y15\", \"domain\": [0.525, 0.7375], \"gridcolor\": \"#E1E5ED\", \"showgrid\": false, \"tickfont\": {\"color\": \"#4D5663\"}, \"title\": {\"font\": {\"color\": \"#4D5663\"}, \"text\": \"\"}, \"zerolinecolor\": \"#E1E5ED\"}, \"xaxis16\": {\"anchor\": \"y16\", \"domain\": [0.7875, 1.0], \"gridcolor\": \"#E1E5ED\", \"showgrid\": false, \"tickfont\": {\"color\": \"#4D5663\"}, \"title\": {\"font\": {\"color\": \"#4D5663\"}, \"text\": \"\"}, \"zerolinecolor\": \"#E1E5ED\"}, \"xaxis2\": {\"anchor\": \"y2\", \"domain\": [0.2625, 0.475], \"gridcolor\": \"#E1E5ED\", \"showgrid\": false, \"tickfont\": {\"color\": \"#4D5663\"}, \"title\": {\"font\": {\"color\": \"#4D5663\"}, \"text\": \"\"}, \"zerolinecolor\": \"#E1E5ED\"}, \"xaxis3\": {\"anchor\": \"y3\", \"domain\": [0.525, 0.7375], \"gridcolor\": \"#E1E5ED\", \"showgrid\": false, \"tickfont\": {\"color\": \"#4D5663\"}, \"title\": {\"font\": {\"color\": \"#4D5663\"}, \"text\": \"\"}, \"zerolinecolor\": \"#E1E5ED\"}, \"xaxis4\": {\"anchor\": \"y4\", \"domain\": [0.7875, 1.0], \"gridcolor\": \"#E1E5ED\", \"showgrid\": false, \"tickfont\": {\"color\": \"#4D5663\"}, \"title\": {\"font\": {\"color\": \"#4D5663\"}, \"text\": \"\"}, \"zerolinecolor\": \"#E1E5ED\"}, \"xaxis5\": {\"anchor\": \"y5\", \"domain\": [0.0, 0.2125], \"gridcolor\": \"#E1E5ED\", \"showgrid\": false, \"tickfont\": {\"color\": \"#4D5663\"}, \"title\": {\"font\": {\"color\": \"#4D5663\"}, \"text\": \"\"}, \"zerolinecolor\": \"#E1E5ED\"}, \"xaxis6\": {\"anchor\": \"y6\", \"domain\": [0.2625, 0.475], \"gridcolor\": \"#E1E5ED\", \"showgrid\": false, \"tickfont\": {\"color\": \"#4D5663\"}, \"title\": {\"font\": {\"color\": \"#4D5663\"}, \"text\": \"\"}, \"zerolinecolor\": \"#E1E5ED\"}, \"xaxis7\": {\"anchor\": \"y7\", \"domain\": [0.525, 0.7375], \"gridcolor\": \"#E1E5ED\", \"showgrid\": false, \"tickfont\": {\"color\": \"#4D5663\"}, \"title\": {\"font\": {\"color\": \"#4D5663\"}, \"text\": \"\"}, \"zerolinecolor\": \"#E1E5ED\"}, \"xaxis8\": {\"anchor\": \"y8\", \"domain\": [0.7875, 1.0], \"gridcolor\": \"#E1E5ED\", \"showgrid\": false, \"tickfont\": {\"color\": \"#4D5663\"}, \"title\": {\"font\": {\"color\": \"#4D5663\"}, \"text\": \"\"}, \"zerolinecolor\": \"#E1E5ED\"}, \"xaxis9\": {\"anchor\": \"y9\", \"domain\": [0.0, 0.2125], \"gridcolor\": \"#E1E5ED\", \"showgrid\": false, \"tickfont\": {\"color\": \"#4D5663\"}, \"title\": {\"font\": {\"color\": \"#4D5663\"}, \"text\": \"\"}, \"zerolinecolor\": \"#E1E5ED\"}, \"yaxis\": {\"anchor\": \"x\", \"domain\": [0.8025, 1.0], \"gridcolor\": \"#E1E5ED\", \"showgrid\": false, \"tickfont\": {\"color\": \"#4D5663\"}, \"title\": {\"font\": {\"color\": \"#4D5663\"}, \"text\": \"\"}, \"zerolinecolor\": \"#E1E5ED\"}, \"yaxis10\": {\"anchor\": \"x10\", \"domain\": [0.2675, 0.465], \"gridcolor\": \"#E1E5ED\", \"showgrid\": false, \"tickfont\": {\"color\": \"#4D5663\"}, \"title\": {\"font\": {\"color\": \"#4D5663\"}, \"text\": \"\"}, \"zerolinecolor\": \"#E1E5ED\"}, \"yaxis11\": {\"anchor\": \"x11\", \"domain\": [0.2675, 0.465], \"gridcolor\": \"#E1E5ED\", \"showgrid\": false, \"tickfont\": {\"color\": \"#4D5663\"}, \"title\": {\"font\": {\"color\": \"#4D5663\"}, \"text\": \"\"}, \"zerolinecolor\": \"#E1E5ED\"}, \"yaxis12\": {\"anchor\": \"x12\", \"domain\": [0.2675, 0.465], \"gridcolor\": \"#E1E5ED\", \"showgrid\": false, \"tickfont\": {\"color\": \"#4D5663\"}, \"title\": {\"font\": {\"color\": \"#4D5663\"}, \"text\": \"\"}, \"zerolinecolor\": \"#E1E5ED\"}, \"yaxis13\": {\"anchor\": \"x13\", \"domain\": [0.0, 0.1975], \"gridcolor\": \"#E1E5ED\", \"showgrid\": false, \"tickfont\": {\"color\": \"#4D5663\"}, \"title\": {\"font\": {\"color\": \"#4D5663\"}, \"text\": \"\"}, \"zerolinecolor\": \"#E1E5ED\"}, \"yaxis14\": {\"anchor\": \"x14\", \"domain\": [0.0, 0.1975], \"gridcolor\": \"#E1E5ED\", \"showgrid\": false, \"tickfont\": {\"color\": \"#4D5663\"}, \"title\": {\"font\": {\"color\": \"#4D5663\"}, \"text\": \"\"}, \"zerolinecolor\": \"#E1E5ED\"}, \"yaxis15\": {\"anchor\": \"x15\", \"domain\": [0.0, 0.1975], \"gridcolor\": \"#E1E5ED\", \"showgrid\": false, \"tickfont\": {\"color\": \"#4D5663\"}, \"title\": {\"font\": {\"color\": \"#4D5663\"}, \"text\": \"\"}, \"zerolinecolor\": \"#E1E5ED\"}, \"yaxis16\": {\"anchor\": \"x16\", \"domain\": [0.0, 0.1975], \"gridcolor\": \"#E1E5ED\", \"showgrid\": false, \"tickfont\": {\"color\": \"#4D5663\"}, \"title\": {\"font\": {\"color\": \"#4D5663\"}, \"text\": \"\"}, \"zerolinecolor\": \"#E1E5ED\"}, \"yaxis2\": {\"anchor\": \"x2\", \"domain\": [0.8025, 1.0], \"gridcolor\": \"#E1E5ED\", \"showgrid\": false, \"tickfont\": {\"color\": \"#4D5663\"}, \"title\": {\"font\": {\"color\": \"#4D5663\"}, \"text\": \"\"}, \"zerolinecolor\": \"#E1E5ED\"}, \"yaxis3\": {\"anchor\": \"x3\", \"domain\": [0.8025, 1.0], \"gridcolor\": \"#E1E5ED\", \"showgrid\": false, \"tickfont\": {\"color\": \"#4D5663\"}, \"title\": {\"font\": {\"color\": \"#4D5663\"}, \"text\": \"\"}, \"zerolinecolor\": \"#E1E5ED\"}, \"yaxis4\": {\"anchor\": \"x4\", \"domain\": [0.8025, 1.0], \"gridcolor\": \"#E1E5ED\", \"showgrid\": false, \"tickfont\": {\"color\": \"#4D5663\"}, \"title\": {\"font\": {\"color\": \"#4D5663\"}, \"text\": \"\"}, \"zerolinecolor\": \"#E1E5ED\"}, \"yaxis5\": {\"anchor\": \"x5\", \"domain\": [0.535, 0.7325], \"gridcolor\": \"#E1E5ED\", \"showgrid\": false, \"tickfont\": {\"color\": \"#4D5663\"}, \"title\": {\"font\": {\"color\": \"#4D5663\"}, \"text\": \"\"}, \"zerolinecolor\": \"#E1E5ED\"}, \"yaxis6\": {\"anchor\": \"x6\", \"domain\": [0.535, 0.7325], \"gridcolor\": \"#E1E5ED\", \"showgrid\": false, \"tickfont\": {\"color\": \"#4D5663\"}, \"title\": {\"font\": {\"color\": \"#4D5663\"}, \"text\": \"\"}, \"zerolinecolor\": \"#E1E5ED\"}, \"yaxis7\": {\"anchor\": \"x7\", \"domain\": [0.535, 0.7325], \"gridcolor\": \"#E1E5ED\", \"showgrid\": false, \"tickfont\": {\"color\": \"#4D5663\"}, \"title\": {\"font\": {\"color\": \"#4D5663\"}, \"text\": \"\"}, \"zerolinecolor\": \"#E1E5ED\"}, \"yaxis8\": {\"anchor\": \"x8\", \"domain\": [0.535, 0.7325], \"gridcolor\": \"#E1E5ED\", \"showgrid\": false, \"tickfont\": {\"color\": \"#4D5663\"}, \"title\": {\"font\": {\"color\": \"#4D5663\"}, \"text\": \"\"}, \"zerolinecolor\": \"#E1E5ED\"}, \"yaxis9\": {\"anchor\": \"x9\", \"domain\": [0.2675, 0.465], \"gridcolor\": \"#E1E5ED\", \"showgrid\": false, \"tickfont\": {\"color\": \"#4D5663\"}, \"title\": {\"font\": {\"color\": \"#4D5663\"}, \"text\": \"\"}, \"zerolinecolor\": \"#E1E5ED\"}},                        {\"showLink\": true, \"linkText\": \"Export to plot.ly\", \"plotlyServerURL\": \"https://plot.ly\", \"responsive\": true}                    ).then(function(){\n                            \nvar gd = document.getElementById('834034d7-df6f-4ca7-8ad1-d9244938db76');\nvar x = new MutationObserver(function (mutations, observer) {{\n        var display = window.getComputedStyle(gd).display;\n        if (!display || display === 'none') {{\n            console.log([gd, 'removed!']);\n            Plotly.purge(gd);\n            observer.disconnect();\n        }}\n}});\n\n// Listen for the removal of the full notebook cells\nvar notebookContainer = gd.closest('#notebook-container');\nif (notebookContainer) {{\n    x.observe(notebookContainer, {childList: true});\n}}\n\n// Listen for the clearing of the current output cell\nvar outputEl = gd.closest('.output');\nif (outputEl) {{\n    x.observe(outputEl, {childList: true});\n}}\n\n                        })                };                });            </script>        </div>"
     },
     "metadata": {}
    }
   ],
   "source": [
    "df.scatter_matrix()"
   ]
  },
  {
   "cell_type": "code",
   "execution_count": null,
   "metadata": {},
   "outputs": [],
   "source": []
  }
 ]
}